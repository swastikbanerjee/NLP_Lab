{
  "nbformat": 4,
  "nbformat_minor": 0,
  "metadata": {
    "colab": {
      "provenance": [],
      "authorship_tag": "ABX9TyMMqZ/suCjcLMACIQXP6TTm",
      "include_colab_link": true
    },
    "kernelspec": {
      "name": "python3",
      "display_name": "Python 3"
    },
    "language_info": {
      "name": "python"
    }
  },
  "cells": [
    {
      "cell_type": "markdown",
      "metadata": {
        "id": "view-in-github",
        "colab_type": "text"
      },
      "source": [
        "<a href=\"https://colab.research.google.com/github/swastikbanerjee/NLP_Lab/blob/main/nlpLab5.ipynb\" target=\"_parent\"><img src=\"https://colab.research.google.com/assets/colab-badge.svg\" alt=\"Open In Colab\"/></a>"
      ]
    },
    {
      "cell_type": "code",
      "source": [
        "nltk.download('wordnet')\n",
        "nltk.download('punkt')\n",
        "nltk.download('wordnet')\n",
        "nltk.download('words')\n",
        "nltk.download('averaged_perceptron_tagger')\n",
        "nltk.download('maxent_ne_chunker')\n",
        "nlp = spacy.load(\"en_core_web_sm\")"
      ],
      "metadata": {
        "id": "-Y_UvTsk7sBl",
        "colab": {
          "base_uri": "https://localhost:8080/"
        },
        "outputId": "08d791e8-3da7-44e6-820d-c1f4433091b7"
      },
      "execution_count": 56,
      "outputs": [
        {
          "output_type": "stream",
          "name": "stderr",
          "text": [
            "[nltk_data] Downloading package wordnet to /root/nltk_data...\n",
            "[nltk_data]   Package wordnet is already up-to-date!\n",
            "[nltk_data] Downloading package punkt to /root/nltk_data...\n",
            "[nltk_data]   Package punkt is already up-to-date!\n",
            "[nltk_data] Downloading package wordnet to /root/nltk_data...\n",
            "[nltk_data]   Package wordnet is already up-to-date!\n",
            "[nltk_data] Downloading package words to /root/nltk_data...\n",
            "[nltk_data]   Package words is already up-to-date!\n",
            "[nltk_data] Downloading package averaged_perceptron_tagger to\n",
            "[nltk_data]     /root/nltk_data...\n",
            "[nltk_data]   Package averaged_perceptron_tagger is already up-to-\n",
            "[nltk_data]       date!\n",
            "[nltk_data] Downloading package maxent_ne_chunker to\n",
            "[nltk_data]     /root/nltk_data...\n",
            "[nltk_data]   Package maxent_ne_chunker is already up-to-date!\n"
          ]
        }
      ]
    },
    {
      "cell_type": "markdown",
      "source": [
        "1. Write a program to get Antonyms from WordNet."
      ],
      "metadata": {
        "id": "1VQhWQ53NLjU"
      }
    },
    {
      "cell_type": "code",
      "execution_count": 52,
      "metadata": {
        "colab": {
          "base_uri": "https://localhost:8080/"
        },
        "id": "Wr3nCiLv4Ak6",
        "outputId": "affd8413-ea81-423f-b404-aa5f1a94fe1f"
      },
      "outputs": [
        {
          "output_type": "stream",
          "name": "stdout",
          "text": [
            "Antonyms of 'bravery': ['cowardice', 'fear']\n",
            "Antonyms of 'honest': ['dishonest']\n",
            "Antonyms of 'fast': ['slow', 'slow', 'slow']\n",
            "Antonyms of 'inevitable': ['evitable']\n",
            "Antonyms of 'speed': ['linger', 'decelerate', 'decelerate']\n"
          ]
        }
      ],
      "source": [
        "from nltk.corpus import wordnet\n",
        "\n",
        "def get_antonyms(words):\n",
        "    antonyms_results = {}\n",
        "    for word in words:\n",
        "        antonyms = []\n",
        "        for syn in wordnet.synsets(word):\n",
        "            for lemma in syn.lemmas():\n",
        "                if lemma.antonyms():\n",
        "                    antonyms.extend([ant.name() for ant in lemma.antonyms()])\n",
        "        antonyms_results[word] = antonyms\n",
        "    return antonyms_results\n",
        "words_list = [\"bravery\", \"honest\", \"fast\", \"inevitable\", \"speed\"]\n",
        "antonyms_results = get_antonyms(words_list)\n",
        "for word, antonyms in antonyms_results.items():\n",
        "    print(f\"Antonyms of '{word}': {antonyms}\")"
      ]
    },
    {
      "cell_type": "markdown",
      "source": [
        "2. Write a program for stemming non-English words."
      ],
      "metadata": {
        "id": "5dMv-b0cFEsX"
      }
    },
    {
      "cell_type": "code",
      "source": [
        "from nltk.stem import SnowballStemmer\n",
        "\n",
        "def stem_non_english_words(words, language):\n",
        "    stemmer = SnowballStemmer(language)\n",
        "    stemmed_words = [stemmer.stem(word) for word in words]\n",
        "    return stemmed_words\n",
        "words_list = [\"corriendo\", \"volando\", \"jugando\", \"bonito\", \"rapido\"]\n",
        "language = \"spanish\"\n",
        "stemmed_words = stem_non_english_words(words_list, language)\n",
        "print(f\"Stemmed words in {language}: {stemmed_words}\")"
      ],
      "metadata": {
        "colab": {
          "base_uri": "https://localhost:8080/"
        },
        "id": "hOjs0DZtCiYk",
        "outputId": "30ac3d0c-c598-4d62-91fa-07ccc4f33dda"
      },
      "execution_count": 53,
      "outputs": [
        {
          "output_type": "stream",
          "name": "stdout",
          "text": [
            "Stemmed words in spanish: ['corr', 'vol', 'jug', 'bonit', 'rap']\n"
          ]
        }
      ]
    },
    {
      "cell_type": "markdown",
      "source": [
        "3. Write a program for lemmatizing words Using WordNet (Use all type of stemmers for the\n",
        "comparison)."
      ],
      "metadata": {
        "id": "nWxIy6BiFIgn"
      }
    },
    {
      "cell_type": "code",
      "source": [
        "from nltk.stem import PorterStemmer, WordNetLemmatizer, SnowballStemmer, LancasterStemmer\n",
        "\n",
        "def comparison(words):\n",
        "    p_stemmer = PorterStemmer()\n",
        "    s_stemmer = SnowballStemmer(\"english\")\n",
        "    l_stemmer = LancasterStemmer()\n",
        "    lemmatizer = WordNetLemmatizer()\n",
        "    p_stemmed_words = [p_stemmer.stem(word) for word in words]\n",
        "    s_stemmed_words = [s_stemmer.stem(word) for word in words]\n",
        "    l_stemmed_words = [l_stemmer.stem(word) for word in words]\n",
        "    lemmatized_words = [lemmatizer.lemmatize(word) for word in words]\n",
        "    return l_stemmed_words, p_stemmed_words, s_stemmed_words, lemmatized_words\n",
        "\n",
        "words_list = [\"running\", \"flies\", \"played\", \"beautiful\", \"went\"]\n",
        "stemmed_l, stemmed_p, stemmed_s, lemmatized = comparison(words_list)\n",
        "\n",
        "print(f\"Original words: {words_list}\")\n",
        "print(f\"Stemmed words using Porter Stemmer: {stemmed_p}\")\n",
        "print(f\"Stemmed words using Snowball Stemmer: {stemmed_s}\")\n",
        "print(f\"Stemmed words using Lancaster Stemmer: {stemmed_l}\")\n",
        "print(f\"Lemmatized words: {lemmatized}\")"
      ],
      "metadata": {
        "colab": {
          "base_uri": "https://localhost:8080/"
        },
        "id": "cRi-vccTC3du",
        "outputId": "41c386d6-2d2b-45fb-f3ec-79bb7229789b"
      },
      "execution_count": 54,
      "outputs": [
        {
          "output_type": "stream",
          "name": "stdout",
          "text": [
            "Original words: ['running', 'flies', 'played', 'beautiful', 'went']\n",
            "Stemmed words using Porter Stemmer: ['run', 'fli', 'play', 'beauti', 'went']\n",
            "Stemmed words using Snowball Stemmer: ['run', 'fli', 'play', 'beauti', 'went']\n",
            "Stemmed words using Lancaster Stemmer: ['run', 'fli', 'play', 'beauty', 'went']\n",
            "Lemmatized words: ['running', 'fly', 'played', 'beautiful', 'went']\n"
          ]
        }
      ]
    },
    {
      "cell_type": "markdown",
      "source": [
        "4. Write a program to differentiate stemming and lemmatizing words."
      ],
      "metadata": {
        "id": "RSbJDro_N1qC"
      }
    },
    {
      "cell_type": "code",
      "source": [
        "import nltk\n",
        "from nltk.stem import PorterStemmer\n",
        "from nltk.stem import WordNetLemmatizer\n",
        "import spacy\n",
        "\n",
        "def stemming_example(words):\n",
        "    stemmer = PorterStemmer()\n",
        "    stemmed_words = [stemmer.stem(word) for word in words]\n",
        "    return stemmed_words\n",
        "def lemmatizing_example(words):\n",
        "    lemmatizer = WordNetLemmatizer()\n",
        "    lemmatized_words = [lemmatizer.lemmatize(word) for word in words]\n",
        "    return lemmatized_words\n",
        "def spacy_lemmatizing_example(words):\n",
        "    spacy_lemmas = [token.lemma_ for token in nlp(\" \".join(words))]\n",
        "    return spacy_lemmas\n",
        "def main():\n",
        "    words = [\"running\", \"easily\", \"jumps\", \"better\", \"cats\", \"feet\", \"universally\", \"studied\"]\n",
        "    print(\"Original Words:\", words)\n",
        "    stemmed_words = stemming_example(words)\n",
        "    print(\"Stemmed Words:\", stemmed_words)\n",
        "    lemmatized_words = lemmatizing_example(words)\n",
        "    print(\"Lemmatized Words with NLTK:\", lemmatized_words)\n",
        "    spacy_lemmas = spacy_lemmatizing_example(words)\n",
        "    print(\"Lemmatized Words with spaCy:\", spacy_lemmas)\n",
        "if __name__ == \"__main__\":\n",
        "    main()"
      ],
      "metadata": {
        "colab": {
          "base_uri": "https://localhost:8080/"
        },
        "id": "D3szDobECvIV",
        "outputId": "0c1d3c8c-74a0-4d27-9b1f-abea9d622ed5"
      },
      "execution_count": 57,
      "outputs": [
        {
          "output_type": "stream",
          "name": "stdout",
          "text": [
            "Original Words: ['running', 'easily', 'jumps', 'better', 'cats', 'feet', 'universally', 'studied']\n",
            "Stemmed Words: ['run', 'easili', 'jump', 'better', 'cat', 'feet', 'univers', 'studi']\n",
            "Lemmatized Words with NLTK: ['running', 'easily', 'jump', 'better', 'cat', 'foot', 'universally', 'studied']\n",
            "Lemmatized Words with spaCy: ['run', 'easily', 'jump', 'well', 'cat', 'foot', 'universally', 'study']\n"
          ]
        }
      ]
    },
    {
      "cell_type": "markdown",
      "source": [
        "5. Write a program for PoS Tagging and also execute any of the tool that given in class."
      ],
      "metadata": {
        "id": "gUsAFep4FKSl"
      }
    },
    {
      "cell_type": "code",
      "source": [
        "sentences = [\n",
        "    \"Hello, how are you?\",\n",
        "    \"I love reading books about science fiction.\",\n",
        "    \"Coffee is my favorite drink, especially in the morning.\"\n",
        "]\n",
        "pos_results = []\n",
        "for sentence in sentences:\n",
        "    tokens = nltk.word_tokenize(sentence)\n",
        "    pos_tags = nltk.pos_tag(tokens)\n",
        "    pos_results.append(pos_tags)\n",
        "for idx, result in enumerate(pos_results, start=1):\n",
        "    print(f\"POS Tagging for Sentence {idx}:\")\n",
        "    print(result)\n",
        "    print()"
      ],
      "metadata": {
        "colab": {
          "base_uri": "https://localhost:8080/"
        },
        "id": "AMna6P2WC_p0",
        "outputId": "a162488a-a12e-48d3-9d6a-f6dc51a8cd28"
      },
      "execution_count": 50,
      "outputs": [
        {
          "output_type": "stream",
          "name": "stdout",
          "text": [
            "POS Tagging for Sentence 1:\n",
            "[('Hello', 'NNP'), (',', ','), ('how', 'WRB'), ('are', 'VBP'), ('you', 'PRP'), ('?', '.')]\n",
            "\n",
            "POS Tagging for Sentence 2:\n",
            "[('I', 'PRP'), ('love', 'VBP'), ('reading', 'VBG'), ('books', 'NNS'), ('about', 'IN'), ('science', 'NN'), ('fiction', 'NN'), ('.', '.')]\n",
            "\n",
            "POS Tagging for Sentence 3:\n",
            "[('Coffee', 'NN'), ('is', 'VBZ'), ('my', 'PRP$'), ('favorite', 'JJ'), ('drink', 'NN'), (',', ','), ('especially', 'RB'), ('in', 'IN'), ('the', 'DT'), ('morning', 'NN'), ('.', '.')]\n",
            "\n"
          ]
        }
      ]
    },
    {
      "cell_type": "markdown",
      "source": [
        "CoreNLP tool (discussed in class)"
      ],
      "metadata": {
        "id": "FVchJIYGOfQ4"
      }
    },
    {
      "cell_type": "markdown",
      "source": [
        "![111.PNG](data:image/png;base64,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)"
      ],
      "metadata": {
        "id": "_MI11FuRFAHd"
      }
    },
    {
      "cell_type": "markdown",
      "source": [
        "6. Write a program to identify the Named Entity Recognition and also execute any of the tool\n",
        "that given in class."
      ],
      "metadata": {
        "id": "ojkzp6jNFMRp"
      }
    },
    {
      "cell_type": "code",
      "source": [
        "ner_results = []\n",
        "\n",
        "for sentence in sentences:\n",
        "    tokens = nltk.word_tokenize(sentence)\n",
        "    pos_tags = nltk.pos_tag(tokens)\n",
        "    chunks = nltk.ne_chunk(pos_tags)\n",
        "    ner_results.append(chunks)\n",
        "\n",
        "for idx, result in enumerate(ner_results, start=1):\n",
        "    print(f\"Named Entity Recognition for Sentence {idx}:\")\n",
        "    print(result)\n",
        "    print()"
      ],
      "metadata": {
        "colab": {
          "base_uri": "https://localhost:8080/"
        },
        "id": "XjUFLB2uDPds",
        "outputId": "3aae5c83-5aa0-46f8-82d8-d19b93ef89dd"
      },
      "execution_count": 51,
      "outputs": [
        {
          "output_type": "stream",
          "name": "stdout",
          "text": [
            "Named Entity Recognition for Sentence 1:\n",
            "(S (GPE Hello/NNP) ,/, how/WRB are/VBP you/PRP ?/.)\n",
            "\n",
            "Named Entity Recognition for Sentence 2:\n",
            "(S\n",
            "  I/PRP\n",
            "  love/VBP\n",
            "  reading/VBG\n",
            "  books/NNS\n",
            "  about/IN\n",
            "  science/NN\n",
            "  fiction/NN\n",
            "  ./.)\n",
            "\n",
            "Named Entity Recognition for Sentence 3:\n",
            "(S\n",
            "  (GPE Coffee/NN)\n",
            "  is/VBZ\n",
            "  my/PRP$\n",
            "  favorite/JJ\n",
            "  drink/NN\n",
            "  ,/,\n",
            "  especially/RB\n",
            "  in/IN\n",
            "  the/DT\n",
            "  morning/NN\n",
            "  ./.)\n",
            "\n"
          ]
        }
      ]
    },
    {
      "cell_type": "markdown",
      "source": [
        "7. Implement the Dependency Parsing"
      ],
      "metadata": {
        "id": "SA9fSRIjFO3O"
      }
    },
    {
      "cell_type": "code",
      "source": [
        "import spacy\n",
        "\n",
        "nlp = spacy.load(\"en_core_web_sm\")\n",
        "sentence = \"The quick brown fox jumps over the lazy dog.\"\n",
        "doc = nlp(sentence)\n",
        "print(\"Dependency Parsing:\")\n",
        "for token in doc:\n",
        "    print(token.text, token.dep_, token.head.text, token.head.pos_,\n",
        "          [child for child in token.children])"
      ],
      "metadata": {
        "colab": {
          "base_uri": "https://localhost:8080/"
        },
        "id": "3Pe0d1n7DTUc",
        "outputId": "92d811e5-b4b7-4b27-9cc1-f34d8150c30f"
      },
      "execution_count": 25,
      "outputs": [
        {
          "output_type": "stream",
          "name": "stdout",
          "text": [
            "Dependency Parsing:\n",
            "The det fox NOUN []\n",
            "quick amod fox NOUN []\n",
            "brown amod fox NOUN []\n",
            "fox nsubj jumps VERB [The, quick, brown]\n",
            "jumps ROOT jumps VERB [fox, over, .]\n",
            "over prep jumps VERB [dog]\n",
            "the det dog NOUN []\n",
            "lazy amod dog NOUN []\n",
            "dog pobj over ADP [the, lazy]\n",
            ". punct jumps VERB []\n"
          ]
        }
      ]
    },
    {
      "cell_type": "code",
      "source": [
        "!pip install svgling"
      ],
      "metadata": {
        "colab": {
          "base_uri": "https://localhost:8080/"
        },
        "id": "NOwR3TdmGMEG",
        "outputId": "dd3afb23-284b-4e54-de4d-19475561cec3"
      },
      "execution_count": 30,
      "outputs": [
        {
          "output_type": "stream",
          "name": "stdout",
          "text": [
            "Collecting svgling\n",
            "  Downloading svgling-0.4.0-py3-none-any.whl (23 kB)\n",
            "Collecting svgwrite (from svgling)\n",
            "  Downloading svgwrite-1.4.3-py3-none-any.whl (67 kB)\n",
            "\u001b[?25l     \u001b[90m━━━━━━━━━━━━━━━━━━━━━━━━━━━━━━━━━━━━━━━━\u001b[0m \u001b[32m0.0/67.1 kB\u001b[0m \u001b[31m?\u001b[0m eta \u001b[36m-:--:--\u001b[0m\r\u001b[2K     \u001b[90m━━━━━━━━━━━━━━━━━━━━━━━━━━━━━━━━━━━━━━━━\u001b[0m \u001b[32m67.1/67.1 kB\u001b[0m \u001b[31m3.1 MB/s\u001b[0m eta \u001b[36m0:00:00\u001b[0m\n",
            "\u001b[?25hInstalling collected packages: svgwrite, svgling\n",
            "Successfully installed svgling-0.4.0 svgwrite-1.4.3\n"
          ]
        }
      ]
    },
    {
      "cell_type": "code",
      "source": [
        "import nltk\n",
        "from IPython.display import display\n",
        "\n",
        "grammar = r\"\"\"\n",
        "    NP: {<DT|JJ|NN.*>+}\n",
        "    PP: {<IN><NP>}\n",
        "    VP: {<VB.*><NP|PP|CLAUSE>+$}\n",
        "    CLAUSE: {<NP><VP>}\n",
        "\"\"\"\n",
        "sentence = \"The quick brown fox jumps over the lazy dog.\"\n",
        "tokens = nltk.word_tokenize(sentence)\n",
        "tagged = nltk.pos_tag(tokens)\n",
        "parser = nltk.RegexpParser(grammar)\n",
        "tree = parser.parse(tagged)\n",
        "print(\"Constituency Parsing:\")\n",
        "display(tree)"
      ],
      "metadata": {
        "colab": {
          "base_uri": "https://localhost:8080/",
          "height": 255
        },
        "id": "1Gis27P6GIwG",
        "outputId": "1be41283-d844-445a-ecee-59f9acce4906"
      },
      "execution_count": 33,
      "outputs": [
        {
          "output_type": "stream",
          "name": "stdout",
          "text": [
            "Constituency Parsing:\n"
          ]
        },
        {
          "output_type": "display_data",
          "data": {
            "text/plain": [
              "Tree('S', [Tree('NP', [('The', 'DT'), ('quick', 'JJ'), ('brown', 'NN'), ('fox', 'NN')]), ('jumps', 'VBZ'), Tree('PP', [('over', 'IN'), Tree('NP', [('the', 'DT'), ('lazy', 'JJ'), ('dog', 'NN')])]), ('.', '.')])"
            ],
            "image/svg+xml": "<svg baseProfile=\"full\" height=\"216px\" preserveAspectRatio=\"xMidYMid meet\" style=\"font-family: times, serif; font-weight: normal; font-style: normal; font-size: 16px;\" version=\"1.1\" viewBox=\"0,0,448.0,216.0\" width=\"448px\" xmlns=\"http://www.w3.org/2000/svg\" xmlns:ev=\"http://www.w3.org/2001/xml-events\" xmlns:xlink=\"http://www.w3.org/1999/xlink\"><defs /><svg width=\"100%\" x=\"0\" y=\"0px\"><defs /><text text-anchor=\"middle\" x=\"50%\" y=\"16px\">S</text></svg><svg width=\"42.8571%\" x=\"0%\" y=\"48px\"><defs /><svg width=\"100%\" x=\"0\" y=\"0px\"><defs /><text text-anchor=\"middle\" x=\"50%\" y=\"16px\">NP</text></svg><svg width=\"20.8333%\" x=\"0%\" y=\"48px\"><defs /><svg width=\"100%\" x=\"0\" y=\"0px\"><defs /><text text-anchor=\"middle\" x=\"50%\" y=\"16px\">The</text></svg><svg width=\"100%\" x=\"0%\" y=\"48px\"><defs /><svg width=\"100%\" x=\"0\" y=\"0px\"><defs /><text text-anchor=\"middle\" x=\"50%\" y=\"16px\">DT</text></svg></svg><line stroke=\"black\" x1=\"50%\" x2=\"50%\" y1=\"19.2px\" y2=\"48px\" /></svg><line stroke=\"black\" x1=\"50%\" x2=\"10.4167%\" y1=\"19.2px\" y2=\"48px\" /><svg width=\"29.1667%\" x=\"20.8333%\" y=\"48px\"><defs /><svg width=\"100%\" x=\"0\" y=\"0px\"><defs /><text text-anchor=\"middle\" x=\"50%\" y=\"16px\">quick</text></svg><svg width=\"100%\" x=\"0%\" y=\"48px\"><defs /><svg width=\"100%\" x=\"0\" y=\"0px\"><defs /><text text-anchor=\"middle\" x=\"50%\" y=\"16px\">JJ</text></svg></svg><line stroke=\"black\" x1=\"50%\" x2=\"50%\" y1=\"19.2px\" y2=\"48px\" /></svg><line stroke=\"black\" x1=\"50%\" x2=\"35.4167%\" y1=\"19.2px\" y2=\"48px\" /><svg width=\"29.1667%\" x=\"50%\" y=\"48px\"><defs /><svg width=\"100%\" x=\"0\" y=\"0px\"><defs /><text text-anchor=\"middle\" x=\"50%\" y=\"16px\">brown</text></svg><svg width=\"100%\" x=\"0%\" y=\"48px\"><defs /><svg width=\"100%\" x=\"0\" y=\"0px\"><defs /><text text-anchor=\"middle\" x=\"50%\" y=\"16px\">NN</text></svg></svg><line stroke=\"black\" x1=\"50%\" x2=\"50%\" y1=\"19.2px\" y2=\"48px\" /></svg><line stroke=\"black\" x1=\"50%\" x2=\"64.5833%\" y1=\"19.2px\" y2=\"48px\" /><svg width=\"20.8333%\" x=\"79.1667%\" y=\"48px\"><defs /><svg width=\"100%\" x=\"0\" y=\"0px\"><defs /><text text-anchor=\"middle\" x=\"50%\" y=\"16px\">fox</text></svg><svg width=\"100%\" x=\"0%\" y=\"48px\"><defs /><svg width=\"100%\" x=\"0\" y=\"0px\"><defs /><text text-anchor=\"middle\" x=\"50%\" y=\"16px\">NN</text></svg></svg><line stroke=\"black\" x1=\"50%\" x2=\"50%\" y1=\"19.2px\" y2=\"48px\" /></svg><line stroke=\"black\" x1=\"50%\" x2=\"89.5833%\" y1=\"19.2px\" y2=\"48px\" /></svg><line stroke=\"black\" x1=\"50%\" x2=\"21.4286%\" y1=\"19.2px\" y2=\"48px\" /><svg width=\"12.5%\" x=\"42.8571%\" y=\"48px\"><defs /><svg width=\"100%\" x=\"0\" y=\"0px\"><defs /><text text-anchor=\"middle\" x=\"50%\" y=\"16px\">jumps</text></svg><svg width=\"100%\" x=\"0%\" y=\"48px\"><defs /><svg width=\"100%\" x=\"0\" y=\"0px\"><defs /><text text-anchor=\"middle\" x=\"50%\" y=\"16px\">VBZ</text></svg></svg><line stroke=\"black\" x1=\"50%\" x2=\"50%\" y1=\"19.2px\" y2=\"48px\" /></svg><line stroke=\"black\" x1=\"50%\" x2=\"49.1071%\" y1=\"19.2px\" y2=\"48px\" /><svg width=\"39.2857%\" x=\"55.3571%\" y=\"48px\"><defs /><svg width=\"100%\" x=\"0\" y=\"0px\"><defs /><text text-anchor=\"middle\" x=\"50%\" y=\"16px\">PP</text></svg><svg width=\"27.2727%\" x=\"0%\" y=\"48px\"><defs /><svg width=\"100%\" x=\"0\" y=\"0px\"><defs /><text text-anchor=\"middle\" x=\"50%\" y=\"16px\">over</text></svg><svg width=\"100%\" x=\"0%\" y=\"48px\"><defs /><svg width=\"100%\" x=\"0\" y=\"0px\"><defs /><text text-anchor=\"middle\" x=\"50%\" y=\"16px\">IN</text></svg></svg><line stroke=\"black\" x1=\"50%\" x2=\"50%\" y1=\"19.2px\" y2=\"48px\" /></svg><line stroke=\"black\" x1=\"50%\" x2=\"13.6364%\" y1=\"19.2px\" y2=\"48px\" /><svg width=\"72.7273%\" x=\"27.2727%\" y=\"48px\"><defs /><svg width=\"100%\" x=\"0\" y=\"0px\"><defs /><text text-anchor=\"middle\" x=\"50%\" y=\"16px\">NP</text></svg><svg width=\"31.25%\" x=\"0%\" y=\"48px\"><defs /><svg width=\"100%\" x=\"0\" y=\"0px\"><defs /><text text-anchor=\"middle\" x=\"50%\" y=\"16px\">the</text></svg><svg width=\"100%\" x=\"0%\" y=\"48px\"><defs /><svg width=\"100%\" x=\"0\" y=\"0px\"><defs /><text text-anchor=\"middle\" x=\"50%\" y=\"16px\">DT</text></svg></svg><line stroke=\"black\" x1=\"50%\" x2=\"50%\" y1=\"19.2px\" y2=\"48px\" /></svg><line stroke=\"black\" x1=\"50%\" x2=\"15.625%\" y1=\"19.2px\" y2=\"48px\" /><svg width=\"37.5%\" x=\"31.25%\" y=\"48px\"><defs /><svg width=\"100%\" x=\"0\" y=\"0px\"><defs /><text text-anchor=\"middle\" x=\"50%\" y=\"16px\">lazy</text></svg><svg width=\"100%\" x=\"0%\" y=\"48px\"><defs /><svg width=\"100%\" x=\"0\" y=\"0px\"><defs /><text text-anchor=\"middle\" x=\"50%\" y=\"16px\">JJ</text></svg></svg><line stroke=\"black\" x1=\"50%\" x2=\"50%\" y1=\"19.2px\" y2=\"48px\" /></svg><line stroke=\"black\" x1=\"50%\" x2=\"50%\" y1=\"19.2px\" y2=\"48px\" /><svg width=\"31.25%\" x=\"68.75%\" y=\"48px\"><defs /><svg width=\"100%\" x=\"0\" y=\"0px\"><defs /><text text-anchor=\"middle\" x=\"50%\" y=\"16px\">dog</text></svg><svg width=\"100%\" x=\"0%\" y=\"48px\"><defs /><svg width=\"100%\" x=\"0\" y=\"0px\"><defs /><text text-anchor=\"middle\" x=\"50%\" y=\"16px\">NN</text></svg></svg><line stroke=\"black\" x1=\"50%\" x2=\"50%\" y1=\"19.2px\" y2=\"48px\" /></svg><line stroke=\"black\" x1=\"50%\" x2=\"84.375%\" y1=\"19.2px\" y2=\"48px\" /></svg><line stroke=\"black\" x1=\"50%\" x2=\"63.6364%\" y1=\"19.2px\" y2=\"48px\" /></svg><line stroke=\"black\" x1=\"50%\" x2=\"75%\" y1=\"19.2px\" y2=\"48px\" /><svg width=\"5.35714%\" x=\"94.6429%\" y=\"48px\"><defs /><svg width=\"100%\" x=\"0\" y=\"0px\"><defs /><text text-anchor=\"middle\" x=\"50%\" y=\"16px\">.</text></svg><svg width=\"100%\" x=\"0%\" y=\"48px\"><defs /><svg width=\"100%\" x=\"0\" y=\"0px\"><defs /><text text-anchor=\"middle\" x=\"50%\" y=\"16px\">.</text></svg></svg><line stroke=\"black\" x1=\"50%\" x2=\"50%\" y1=\"19.2px\" y2=\"48px\" /></svg><line stroke=\"black\" x1=\"50%\" x2=\"97.3214%\" y1=\"19.2px\" y2=\"48px\" /></svg>"
          },
          "metadata": {}
        }
      ]
    }
  ]
}