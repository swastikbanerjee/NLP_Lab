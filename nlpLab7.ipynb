{
  "nbformat": 4,
  "nbformat_minor": 0,
  "metadata": {
    "colab": {
      "provenance": [],
      "gpuType": "T4",
      "include_colab_link": true
    },
    "kernelspec": {
      "name": "python3",
      "display_name": "Python 3"
    },
    "language_info": {
      "name": "python"
    },
    "accelerator": "GPU"
  },
  "cells": [
    {
      "cell_type": "markdown",
      "metadata": {
        "id": "view-in-github",
        "colab_type": "text"
      },
      "source": [
        "<a href=\"https://colab.research.google.com/github/swastikbanerjee/NLP_Lab/blob/main/nlpLab7.ipynb\" target=\"_parent\"><img src=\"https://colab.research.google.com/assets/colab-badge.svg\" alt=\"Open In Colab\"/></a>"
      ]
    },
    {
      "cell_type": "markdown",
      "source": [
        "**Importing Necessary Libraries**"
      ],
      "metadata": {
        "id": "sDZN5lxo9lkx"
      }
    },
    {
      "cell_type": "code",
      "execution_count": null,
      "metadata": {
        "colab": {
          "base_uri": "https://localhost:8080/"
        },
        "id": "jtl0IAwk9YDb",
        "outputId": "ba72c551-dc2d-4c3c-e91c-774f6e1bb733"
      },
      "outputs": [
        {
          "output_type": "stream",
          "name": "stderr",
          "text": [
            "[nltk_data] Downloading package punkt to /root/nltk_data...\n",
            "[nltk_data]   Package punkt is already up-to-date!\n",
            "[nltk_data] Downloading package stopwords to /root/nltk_data...\n",
            "[nltk_data]   Package stopwords is already up-to-date!\n"
          ]
        }
      ],
      "source": [
        "import nltk\n",
        "from nltk.corpus import stopwords\n",
        "from nltk.tokenize import word_tokenize\n",
        "from nltk.stem import WordNetLemmatizer\n",
        "from sklearn.feature_extraction.text import TfidfVectorizer\n",
        "from sklearn.metrics.pairwise import cosine_similarity\n",
        "nltk.download(\"punkt\")\n",
        "import pandas as pd\n",
        "import string\n",
        "import matplotlib.pyplot as plt\n",
        "import tensorflow as tf\n",
        "import seaborn as sns\n",
        "nltk.download('stopwords')\n",
        "from sklearn.model_selection import train_test_split\n",
        "from sklearn.naive_bayes import MultinomialNB\n",
        "from sklearn.feature_extraction.text import CountVectorizer\n",
        "from sklearn.metrics import confusion_matrix, classification_report, accuracy_score\n",
        "from sklearn.preprocessing import LabelEncoder\n",
        "from tensorflow.keras.preprocessing.text import Tokenizer\n",
        "from tensorflow.keras.preprocessing.sequence import pad_sequences\n",
        "from tensorflow.keras.models import Sequential\n",
        "from tensorflow.keras.layers import LSTM,Dense, Dropout, SpatialDropout1D, Embedding, SimpleRNN\n"
      ]
    },
    {
      "cell_type": "markdown",
      "source": [
        "**1. Find the similarity between two documents (2 corpus or two paragraphs) using any of the two similarity measures.**\n",
        "\n",
        "---\n",
        "\n"
      ],
      "metadata": {
        "id": "KUov5IHE9u59"
      }
    },
    {
      "cell_type": "code",
      "source": [
        "# Read the texts\n",
        "\n",
        "text1 = \"The Python programing language provides a wide range of tools and libraries for attacking specific NLP tasks. Many of these are found in the Natural Language Toolkit, or NLTK, an open source collection of libraries, programs, and education resources for building NLP programs.\"\n",
        "text2 = \"The NLTK includes libraries for many of the NLP tasks listed above, plus libraries for subtasks, such as sentence parsing, word segmentation, stemming and lemmatization (methods of trimming words down to their roots), and tokenization (for breaking phrases, sentences, paragraphs and passages into tokens that help the computer better understand the text).\"\n",
        "\n",
        "# Lower the texts\n",
        "text1.lower()\n",
        "text2.lower()"
      ],
      "metadata": {
        "colab": {
          "base_uri": "https://localhost:8080/",
          "height": 72
        },
        "id": "qcUgfX3W9zRo",
        "outputId": "f71b0f24-6f66-4e1f-d691-4c8f305797d6"
      },
      "execution_count": null,
      "outputs": [
        {
          "output_type": "execute_result",
          "data": {
            "text/plain": [
              "'the nltk includes libraries for many of the nlp tasks listed above, plus libraries for subtasks, such as sentence parsing, word segmentation, stemming and lemmatization (methods of trimming words down to their roots), and tokenization (for breaking phrases, sentences, paragraphs and passages into tokens that help the computer better understand the text).'"
            ],
            "application/vnd.google.colaboratory.intrinsic+json": {
              "type": "string"
            }
          },
          "metadata": {},
          "execution_count": 9
        }
      ]
    },
    {
      "cell_type": "markdown",
      "source": [
        "**Cosine Similarity**"
      ],
      "metadata": {
        "id": "O_j-qvlJ9_g3"
      }
    },
    {
      "cell_type": "code",
      "source": [
        "def text_similarity(text1, text2):\n",
        "    tokens1 = word_tokenize(text1)\n",
        "    tokens2 = word_tokenize(text2)\n",
        "    lemmatizer = WordNetLemmatizer()\n",
        "    tokens1 = [lemmatizer.lemmatize(token) for token in tokens1]\n",
        "    tokens2 = [lemmatizer.lemmatize(token) for token in tokens2]\n",
        "    stop_words = stopwords.words('english')\n",
        "    tokens1 = [token for token in tokens1 if token not in stop_words]\n",
        "    tokens2 = [token for token in tokens2 if token not in stop_words]\n",
        "    vectorizer = TfidfVectorizer()\n",
        "    vector1 = vectorizer.fit_transform(tokens1)\n",
        "    vector2 = vectorizer.transform(tokens2)\n",
        "    similarity = cosine_similarity(vector1, vector2)\n",
        "    return similarity\n",
        "\n",
        "vectorizer = TfidfVectorizer()\n",
        "vectors = vectorizer.fit_transform([text1, text2])\n",
        "similarity = cosine_similarity(vectors)\n",
        "print(similarity)"
      ],
      "metadata": {
        "colab": {
          "base_uri": "https://localhost:8080/"
        },
        "id": "BKUdKNdH-CZe",
        "outputId": "0e341ef6-76b7-483c-871c-2bfe2c276c96"
      },
      "execution_count": null,
      "outputs": [
        {
          "output_type": "stream",
          "name": "stdout",
          "text": [
            "[[1.         0.34441253]\n",
            " [0.34441253 1.        ]]\n"
          ]
        }
      ]
    },
    {
      "cell_type": "markdown",
      "source": [
        "**Jaccard Similarity**"
      ],
      "metadata": {
        "id": "VdYSFMlt-Puw"
      }
    },
    {
      "cell_type": "code",
      "source": [
        "wordtoken = word_tokenize(text1)\n",
        "wordtokens = word_tokenize(text2)\n",
        "set_a = set(wordtoken)\n",
        "set_b = set(wordtokens)\n",
        "def jaccard_distance(set1, set2):\n",
        "\t#Symmetric difference of two sets\n",
        "\tSymmetric_difference = set1.symmetric_difference(set2)\n",
        "\t# Unions of two sets\n",
        "\tunion = set1.union(set2)\n",
        "\n",
        "\treturn len(Symmetric_difference)/len(union)\n",
        "\n",
        "distance = jaccard_distance(set_a, set_b)\n",
        "print(\"Jaccard distance:\", distance)"
      ],
      "metadata": {
        "id": "E_-bc1UsyTa-",
        "colab": {
          "base_uri": "https://localhost:8080/"
        },
        "outputId": "e8ca1675-9300-47a1-c5f4-7a6e4a646c43"
      },
      "execution_count": null,
      "outputs": [
        {
          "output_type": "stream",
          "name": "stdout",
          "text": [
            "Jaccard distance: 0.8533333333333334\n"
          ]
        }
      ]
    },
    {
      "cell_type": "code",
      "source": [
        "data = pd.read_csv(\"/content/Tweets.csv\")\n",
        "data.head()"
      ],
      "metadata": {
        "colab": {
          "base_uri": "https://localhost:8080/",
          "height": 451
        },
        "id": "XlpeASZe-5TJ",
        "outputId": "dcf99eeb-d434-4590-af81-838f178e8ba8"
      },
      "execution_count": null,
      "outputs": [
        {
          "output_type": "execute_result",
          "data": {
            "text/plain": [
              "             tweet_id airline_sentiment  airline_sentiment_confidence  \\\n",
              "0  570306133677760513           neutral                        1.0000   \n",
              "1  570301130888122368          positive                        0.3486   \n",
              "2  570301083672813571           neutral                        0.6837   \n",
              "3  570301031407624196          negative                        1.0000   \n",
              "4  570300817074462722          negative                        1.0000   \n",
              "\n",
              "  negativereason  negativereason_confidence         airline  \\\n",
              "0            NaN                        NaN  Virgin America   \n",
              "1            NaN                     0.0000  Virgin America   \n",
              "2            NaN                        NaN  Virgin America   \n",
              "3     Bad Flight                     0.7033  Virgin America   \n",
              "4     Can't Tell                     1.0000  Virgin America   \n",
              "\n",
              "  airline_sentiment_gold        name negativereason_gold  retweet_count  \\\n",
              "0                    NaN     cairdin                 NaN              0   \n",
              "1                    NaN    jnardino                 NaN              0   \n",
              "2                    NaN  yvonnalynn                 NaN              0   \n",
              "3                    NaN    jnardino                 NaN              0   \n",
              "4                    NaN    jnardino                 NaN              0   \n",
              "\n",
              "                                                text tweet_coord  \\\n",
              "0                @VirginAmerica What @dhepburn said.         NaN   \n",
              "1  @VirginAmerica plus you've added commercials t...         NaN   \n",
              "2  @VirginAmerica I didn't today... Must mean I n...         NaN   \n",
              "3  @VirginAmerica it's really aggressive to blast...         NaN   \n",
              "4  @VirginAmerica and it's a really big bad thing...         NaN   \n",
              "\n",
              "               tweet_created tweet_location               user_timezone  \n",
              "0  2015-02-24 11:35:52 -0800            NaN  Eastern Time (US & Canada)  \n",
              "1  2015-02-24 11:15:59 -0800            NaN  Pacific Time (US & Canada)  \n",
              "2  2015-02-24 11:15:48 -0800      Lets Play  Central Time (US & Canada)  \n",
              "3  2015-02-24 11:15:36 -0800            NaN  Pacific Time (US & Canada)  \n",
              "4  2015-02-24 11:14:45 -0800            NaN  Pacific Time (US & Canada)  "
            ],
            "text/html": [
              "\n",
              "  <div id=\"df-2355935c-d777-45f7-ab58-adf23470494b\" class=\"colab-df-container\">\n",
              "    <div>\n",
              "<style scoped>\n",
              "    .dataframe tbody tr th:only-of-type {\n",
              "        vertical-align: middle;\n",
              "    }\n",
              "\n",
              "    .dataframe tbody tr th {\n",
              "        vertical-align: top;\n",
              "    }\n",
              "\n",
              "    .dataframe thead th {\n",
              "        text-align: right;\n",
              "    }\n",
              "</style>\n",
              "<table border=\"1\" class=\"dataframe\">\n",
              "  <thead>\n",
              "    <tr style=\"text-align: right;\">\n",
              "      <th></th>\n",
              "      <th>tweet_id</th>\n",
              "      <th>airline_sentiment</th>\n",
              "      <th>airline_sentiment_confidence</th>\n",
              "      <th>negativereason</th>\n",
              "      <th>negativereason_confidence</th>\n",
              "      <th>airline</th>\n",
              "      <th>airline_sentiment_gold</th>\n",
              "      <th>name</th>\n",
              "      <th>negativereason_gold</th>\n",
              "      <th>retweet_count</th>\n",
              "      <th>text</th>\n",
              "      <th>tweet_coord</th>\n",
              "      <th>tweet_created</th>\n",
              "      <th>tweet_location</th>\n",
              "      <th>user_timezone</th>\n",
              "    </tr>\n",
              "  </thead>\n",
              "  <tbody>\n",
              "    <tr>\n",
              "      <th>0</th>\n",
              "      <td>570306133677760513</td>\n",
              "      <td>neutral</td>\n",
              "      <td>1.0000</td>\n",
              "      <td>NaN</td>\n",
              "      <td>NaN</td>\n",
              "      <td>Virgin America</td>\n",
              "      <td>NaN</td>\n",
              "      <td>cairdin</td>\n",
              "      <td>NaN</td>\n",
              "      <td>0</td>\n",
              "      <td>@VirginAmerica What @dhepburn said.</td>\n",
              "      <td>NaN</td>\n",
              "      <td>2015-02-24 11:35:52 -0800</td>\n",
              "      <td>NaN</td>\n",
              "      <td>Eastern Time (US &amp; Canada)</td>\n",
              "    </tr>\n",
              "    <tr>\n",
              "      <th>1</th>\n",
              "      <td>570301130888122368</td>\n",
              "      <td>positive</td>\n",
              "      <td>0.3486</td>\n",
              "      <td>NaN</td>\n",
              "      <td>0.0000</td>\n",
              "      <td>Virgin America</td>\n",
              "      <td>NaN</td>\n",
              "      <td>jnardino</td>\n",
              "      <td>NaN</td>\n",
              "      <td>0</td>\n",
              "      <td>@VirginAmerica plus you've added commercials t...</td>\n",
              "      <td>NaN</td>\n",
              "      <td>2015-02-24 11:15:59 -0800</td>\n",
              "      <td>NaN</td>\n",
              "      <td>Pacific Time (US &amp; Canada)</td>\n",
              "    </tr>\n",
              "    <tr>\n",
              "      <th>2</th>\n",
              "      <td>570301083672813571</td>\n",
              "      <td>neutral</td>\n",
              "      <td>0.6837</td>\n",
              "      <td>NaN</td>\n",
              "      <td>NaN</td>\n",
              "      <td>Virgin America</td>\n",
              "      <td>NaN</td>\n",
              "      <td>yvonnalynn</td>\n",
              "      <td>NaN</td>\n",
              "      <td>0</td>\n",
              "      <td>@VirginAmerica I didn't today... Must mean I n...</td>\n",
              "      <td>NaN</td>\n",
              "      <td>2015-02-24 11:15:48 -0800</td>\n",
              "      <td>Lets Play</td>\n",
              "      <td>Central Time (US &amp; Canada)</td>\n",
              "    </tr>\n",
              "    <tr>\n",
              "      <th>3</th>\n",
              "      <td>570301031407624196</td>\n",
              "      <td>negative</td>\n",
              "      <td>1.0000</td>\n",
              "      <td>Bad Flight</td>\n",
              "      <td>0.7033</td>\n",
              "      <td>Virgin America</td>\n",
              "      <td>NaN</td>\n",
              "      <td>jnardino</td>\n",
              "      <td>NaN</td>\n",
              "      <td>0</td>\n",
              "      <td>@VirginAmerica it's really aggressive to blast...</td>\n",
              "      <td>NaN</td>\n",
              "      <td>2015-02-24 11:15:36 -0800</td>\n",
              "      <td>NaN</td>\n",
              "      <td>Pacific Time (US &amp; Canada)</td>\n",
              "    </tr>\n",
              "    <tr>\n",
              "      <th>4</th>\n",
              "      <td>570300817074462722</td>\n",
              "      <td>negative</td>\n",
              "      <td>1.0000</td>\n",
              "      <td>Can't Tell</td>\n",
              "      <td>1.0000</td>\n",
              "      <td>Virgin America</td>\n",
              "      <td>NaN</td>\n",
              "      <td>jnardino</td>\n",
              "      <td>NaN</td>\n",
              "      <td>0</td>\n",
              "      <td>@VirginAmerica and it's a really big bad thing...</td>\n",
              "      <td>NaN</td>\n",
              "      <td>2015-02-24 11:14:45 -0800</td>\n",
              "      <td>NaN</td>\n",
              "      <td>Pacific Time (US &amp; Canada)</td>\n",
              "    </tr>\n",
              "  </tbody>\n",
              "</table>\n",
              "</div>\n",
              "    <div class=\"colab-df-buttons\">\n",
              "\n",
              "  <div class=\"colab-df-container\">\n",
              "    <button class=\"colab-df-convert\" onclick=\"convertToInteractive('df-2355935c-d777-45f7-ab58-adf23470494b')\"\n",
              "            title=\"Convert this dataframe to an interactive table.\"\n",
              "            style=\"display:none;\">\n",
              "\n",
              "  <svg xmlns=\"http://www.w3.org/2000/svg\" height=\"24px\" viewBox=\"0 -960 960 960\">\n",
              "    <path d=\"M120-120v-720h720v720H120Zm60-500h600v-160H180v160Zm220 220h160v-160H400v160Zm0 220h160v-160H400v160ZM180-400h160v-160H180v160Zm440 0h160v-160H620v160ZM180-180h160v-160H180v160Zm440 0h160v-160H620v160Z\"/>\n",
              "  </svg>\n",
              "    </button>\n",
              "\n",
              "  <style>\n",
              "    .colab-df-container {\n",
              "      display:flex;\n",
              "      gap: 12px;\n",
              "    }\n",
              "\n",
              "    .colab-df-convert {\n",
              "      background-color: #E8F0FE;\n",
              "      border: none;\n",
              "      border-radius: 50%;\n",
              "      cursor: pointer;\n",
              "      display: none;\n",
              "      fill: #1967D2;\n",
              "      height: 32px;\n",
              "      padding: 0 0 0 0;\n",
              "      width: 32px;\n",
              "    }\n",
              "\n",
              "    .colab-df-convert:hover {\n",
              "      background-color: #E2EBFA;\n",
              "      box-shadow: 0px 1px 2px rgba(60, 64, 67, 0.3), 0px 1px 3px 1px rgba(60, 64, 67, 0.15);\n",
              "      fill: #174EA6;\n",
              "    }\n",
              "\n",
              "    .colab-df-buttons div {\n",
              "      margin-bottom: 4px;\n",
              "    }\n",
              "\n",
              "    [theme=dark] .colab-df-convert {\n",
              "      background-color: #3B4455;\n",
              "      fill: #D2E3FC;\n",
              "    }\n",
              "\n",
              "    [theme=dark] .colab-df-convert:hover {\n",
              "      background-color: #434B5C;\n",
              "      box-shadow: 0px 1px 3px 1px rgba(0, 0, 0, 0.15);\n",
              "      filter: drop-shadow(0px 1px 2px rgba(0, 0, 0, 0.3));\n",
              "      fill: #FFFFFF;\n",
              "    }\n",
              "  </style>\n",
              "\n",
              "    <script>\n",
              "      const buttonEl =\n",
              "        document.querySelector('#df-2355935c-d777-45f7-ab58-adf23470494b button.colab-df-convert');\n",
              "      buttonEl.style.display =\n",
              "        google.colab.kernel.accessAllowed ? 'block' : 'none';\n",
              "\n",
              "      async function convertToInteractive(key) {\n",
              "        const element = document.querySelector('#df-2355935c-d777-45f7-ab58-adf23470494b');\n",
              "        const dataTable =\n",
              "          await google.colab.kernel.invokeFunction('convertToInteractive',\n",
              "                                                    [key], {});\n",
              "        if (!dataTable) return;\n",
              "\n",
              "        const docLinkHtml = 'Like what you see? Visit the ' +\n",
              "          '<a target=\"_blank\" href=https://colab.research.google.com/notebooks/data_table.ipynb>data table notebook</a>'\n",
              "          + ' to learn more about interactive tables.';\n",
              "        element.innerHTML = '';\n",
              "        dataTable['output_type'] = 'display_data';\n",
              "        await google.colab.output.renderOutput(dataTable, element);\n",
              "        const docLink = document.createElement('div');\n",
              "        docLink.innerHTML = docLinkHtml;\n",
              "        element.appendChild(docLink);\n",
              "      }\n",
              "    </script>\n",
              "  </div>\n",
              "\n",
              "\n",
              "<div id=\"df-1e09df48-7894-474b-9407-89834f3148ec\">\n",
              "  <button class=\"colab-df-quickchart\" onclick=\"quickchart('df-1e09df48-7894-474b-9407-89834f3148ec')\"\n",
              "            title=\"Suggest charts\"\n",
              "            style=\"display:none;\">\n",
              "\n",
              "<svg xmlns=\"http://www.w3.org/2000/svg\" height=\"24px\"viewBox=\"0 0 24 24\"\n",
              "     width=\"24px\">\n",
              "    <g>\n",
              "        <path d=\"M19 3H5c-1.1 0-2 .9-2 2v14c0 1.1.9 2 2 2h14c1.1 0 2-.9 2-2V5c0-1.1-.9-2-2-2zM9 17H7v-7h2v7zm4 0h-2V7h2v10zm4 0h-2v-4h2v4z\"/>\n",
              "    </g>\n",
              "</svg>\n",
              "  </button>\n",
              "\n",
              "<style>\n",
              "  .colab-df-quickchart {\n",
              "      --bg-color: #E8F0FE;\n",
              "      --fill-color: #1967D2;\n",
              "      --hover-bg-color: #E2EBFA;\n",
              "      --hover-fill-color: #174EA6;\n",
              "      --disabled-fill-color: #AAA;\n",
              "      --disabled-bg-color: #DDD;\n",
              "  }\n",
              "\n",
              "  [theme=dark] .colab-df-quickchart {\n",
              "      --bg-color: #3B4455;\n",
              "      --fill-color: #D2E3FC;\n",
              "      --hover-bg-color: #434B5C;\n",
              "      --hover-fill-color: #FFFFFF;\n",
              "      --disabled-bg-color: #3B4455;\n",
              "      --disabled-fill-color: #666;\n",
              "  }\n",
              "\n",
              "  .colab-df-quickchart {\n",
              "    background-color: var(--bg-color);\n",
              "    border: none;\n",
              "    border-radius: 50%;\n",
              "    cursor: pointer;\n",
              "    display: none;\n",
              "    fill: var(--fill-color);\n",
              "    height: 32px;\n",
              "    padding: 0;\n",
              "    width: 32px;\n",
              "  }\n",
              "\n",
              "  .colab-df-quickchart:hover {\n",
              "    background-color: var(--hover-bg-color);\n",
              "    box-shadow: 0 1px 2px rgba(60, 64, 67, 0.3), 0 1px 3px 1px rgba(60, 64, 67, 0.15);\n",
              "    fill: var(--button-hover-fill-color);\n",
              "  }\n",
              "\n",
              "  .colab-df-quickchart-complete:disabled,\n",
              "  .colab-df-quickchart-complete:disabled:hover {\n",
              "    background-color: var(--disabled-bg-color);\n",
              "    fill: var(--disabled-fill-color);\n",
              "    box-shadow: none;\n",
              "  }\n",
              "\n",
              "  .colab-df-spinner {\n",
              "    border: 2px solid var(--fill-color);\n",
              "    border-color: transparent;\n",
              "    border-bottom-color: var(--fill-color);\n",
              "    animation:\n",
              "      spin 1s steps(1) infinite;\n",
              "  }\n",
              "\n",
              "  @keyframes spin {\n",
              "    0% {\n",
              "      border-color: transparent;\n",
              "      border-bottom-color: var(--fill-color);\n",
              "      border-left-color: var(--fill-color);\n",
              "    }\n",
              "    20% {\n",
              "      border-color: transparent;\n",
              "      border-left-color: var(--fill-color);\n",
              "      border-top-color: var(--fill-color);\n",
              "    }\n",
              "    30% {\n",
              "      border-color: transparent;\n",
              "      border-left-color: var(--fill-color);\n",
              "      border-top-color: var(--fill-color);\n",
              "      border-right-color: var(--fill-color);\n",
              "    }\n",
              "    40% {\n",
              "      border-color: transparent;\n",
              "      border-right-color: var(--fill-color);\n",
              "      border-top-color: var(--fill-color);\n",
              "    }\n",
              "    60% {\n",
              "      border-color: transparent;\n",
              "      border-right-color: var(--fill-color);\n",
              "    }\n",
              "    80% {\n",
              "      border-color: transparent;\n",
              "      border-right-color: var(--fill-color);\n",
              "      border-bottom-color: var(--fill-color);\n",
              "    }\n",
              "    90% {\n",
              "      border-color: transparent;\n",
              "      border-bottom-color: var(--fill-color);\n",
              "    }\n",
              "  }\n",
              "</style>\n",
              "\n",
              "  <script>\n",
              "    async function quickchart(key) {\n",
              "      const quickchartButtonEl =\n",
              "        document.querySelector('#' + key + ' button');\n",
              "      quickchartButtonEl.disabled = true;  // To prevent multiple clicks.\n",
              "      quickchartButtonEl.classList.add('colab-df-spinner');\n",
              "      try {\n",
              "        const charts = await google.colab.kernel.invokeFunction(\n",
              "            'suggestCharts', [key], {});\n",
              "      } catch (error) {\n",
              "        console.error('Error during call to suggestCharts:', error);\n",
              "      }\n",
              "      quickchartButtonEl.classList.remove('colab-df-spinner');\n",
              "      quickchartButtonEl.classList.add('colab-df-quickchart-complete');\n",
              "    }\n",
              "    (() => {\n",
              "      let quickchartButtonEl =\n",
              "        document.querySelector('#df-1e09df48-7894-474b-9407-89834f3148ec button');\n",
              "      quickchartButtonEl.style.display =\n",
              "        google.colab.kernel.accessAllowed ? 'block' : 'none';\n",
              "    })();\n",
              "  </script>\n",
              "</div>\n",
              "    </div>\n",
              "  </div>\n"
            ],
            "application/vnd.google.colaboratory.intrinsic+json": {
              "type": "dataframe",
              "variable_name": "data",
              "summary": "{\n  \"name\": \"data\",\n  \"rows\": 14640,\n  \"fields\": [\n    {\n      \"column\": \"tweet_id\",\n      \"properties\": {\n        \"dtype\": \"number\",\n        \"std\": 779111158481835,\n        \"min\": 567588278875213824,\n        \"max\": 570310600460525568,\n        \"num_unique_values\": 14485,\n        \"samples\": [\n          567917894144770049,\n          567813976492417024,\n          569243676594941953\n        ],\n        \"semantic_type\": \"\",\n        \"description\": \"\"\n      }\n    },\n    {\n      \"column\": \"airline_sentiment\",\n      \"properties\": {\n        \"dtype\": \"category\",\n        \"num_unique_values\": 3,\n        \"samples\": [\n          \"neutral\",\n          \"positive\",\n          \"negative\"\n        ],\n        \"semantic_type\": \"\",\n        \"description\": \"\"\n      }\n    },\n    {\n      \"column\": \"airline_sentiment_confidence\",\n      \"properties\": {\n        \"dtype\": \"number\",\n        \"std\": 0.16282995909867212,\n        \"min\": 0.335,\n        \"max\": 1.0,\n        \"num_unique_values\": 1023,\n        \"samples\": [\n          0.6723,\n          0.3551,\n          0.6498\n        ],\n        \"semantic_type\": \"\",\n        \"description\": \"\"\n      }\n    },\n    {\n      \"column\": \"negativereason\",\n      \"properties\": {\n        \"dtype\": \"category\",\n        \"num_unique_values\": 10,\n        \"samples\": [\n          \"Damaged Luggage\",\n          \"Can't Tell\",\n          \"Lost Luggage\"\n        ],\n        \"semantic_type\": \"\",\n        \"description\": \"\"\n      }\n    },\n    {\n      \"column\": \"negativereason_confidence\",\n      \"properties\": {\n        \"dtype\": \"number\",\n        \"std\": 0.3304397596377297,\n        \"min\": 0.0,\n        \"max\": 1.0,\n        \"num_unique_values\": 1410,\n        \"samples\": [\n          0.6677,\n          0.6622,\n          0.6905\n        ],\n        \"semantic_type\": \"\",\n        \"description\": \"\"\n      }\n    },\n    {\n      \"column\": \"airline\",\n      \"properties\": {\n        \"dtype\": \"category\",\n        \"num_unique_values\": 6,\n        \"samples\": [\n          \"Virgin America\",\n          \"United\",\n          \"American\"\n        ],\n        \"semantic_type\": \"\",\n        \"description\": \"\"\n      }\n    },\n    {\n      \"column\": \"airline_sentiment_gold\",\n      \"properties\": {\n        \"dtype\": \"category\",\n        \"num_unique_values\": 3,\n        \"samples\": [\n          \"negative\",\n          \"neutral\",\n          \"positive\"\n        ],\n        \"semantic_type\": \"\",\n        \"description\": \"\"\n      }\n    },\n    {\n      \"column\": \"name\",\n      \"properties\": {\n        \"dtype\": \"string\",\n        \"num_unique_values\": 7701,\n        \"samples\": [\n          \"smckenna719\",\n          \"thisAnneM\",\n          \"jmspool\"\n        ],\n        \"semantic_type\": \"\",\n        \"description\": \"\"\n      }\n    },\n    {\n      \"column\": \"negativereason_gold\",\n      \"properties\": {\n        \"dtype\": \"category\",\n        \"num_unique_values\": 13,\n        \"samples\": [\n          \"Customer Service Issue\\nLost Luggage\",\n          \"Late Flight\\nCancelled Flight\",\n          \"Late Flight\\nFlight Attendant Complaints\"\n        ],\n        \"semantic_type\": \"\",\n        \"description\": \"\"\n      }\n    },\n    {\n      \"column\": \"retweet_count\",\n      \"properties\": {\n        \"dtype\": \"number\",\n        \"std\": 0,\n        \"min\": 0,\n        \"max\": 44,\n        \"num_unique_values\": 18,\n        \"samples\": [\n          0,\n          1,\n          6\n        ],\n        \"semantic_type\": \"\",\n        \"description\": \"\"\n      }\n    },\n    {\n      \"column\": \"text\",\n      \"properties\": {\n        \"dtype\": \"string\",\n        \"num_unique_values\": 14427,\n        \"samples\": [\n          \"@JetBlue so technically I could drive to JFK now and put in. Request for tomorrow's flight?\",\n          \"@united why I won't check my carry on. Watched a handler throw this bag -- miss the conveyer belt -- sat there 10 min http://t.co/lyoocx5mSH\",\n          \"@SouthwestAir you guys are so clever \\ud83d\\ude03 http://t.co/qn5odUGFqK\"\n        ],\n        \"semantic_type\": \"\",\n        \"description\": \"\"\n      }\n    },\n    {\n      \"column\": \"tweet_coord\",\n      \"properties\": {\n        \"dtype\": \"category\",\n        \"num_unique_values\": 832,\n        \"samples\": [\n          \"[40.04915451, -75.10364317]\",\n          \"[32.97609561, -96.53349238]\",\n          \"[26.37852293, -81.78472152]\"\n        ],\n        \"semantic_type\": \"\",\n        \"description\": \"\"\n      }\n    },\n    {\n      \"column\": \"tweet_created\",\n      \"properties\": {\n        \"dtype\": \"object\",\n        \"num_unique_values\": 14247,\n        \"samples\": [\n          \"2015-02-23 07:40:55 -0800\",\n          \"2015-02-21 16:20:09 -0800\",\n          \"2015-02-21 21:33:21 -0800\"\n        ],\n        \"semantic_type\": \"\",\n        \"description\": \"\"\n      }\n    },\n    {\n      \"column\": \"tweet_location\",\n      \"properties\": {\n        \"dtype\": \"category\",\n        \"num_unique_values\": 3081,\n        \"samples\": [\n          \"Oakland, California\",\n          \"Beverly Hills, CA\",\n          \"Austin, TX/NY, NY\"\n        ],\n        \"semantic_type\": \"\",\n        \"description\": \"\"\n      }\n    },\n    {\n      \"column\": \"user_timezone\",\n      \"properties\": {\n        \"dtype\": \"category\",\n        \"num_unique_values\": 85,\n        \"samples\": [\n          \"Helsinki\",\n          \"Eastern Time (US & Canada)\",\n          \"America/Detroit\"\n        ],\n        \"semantic_type\": \"\",\n        \"description\": \"\"\n      }\n    }\n  ]\n}"
            }
          },
          "metadata": {},
          "execution_count": 12
        }
      ]
    },
    {
      "cell_type": "markdown",
      "source": [
        "**EXPLORATORY DATA ANALYSIS**"
      ],
      "metadata": {
        "id": "gIH1kU4dA7bi"
      }
    },
    {
      "source": [
        "data.groupby('airline').size().plot(kind='barh', color=sns.palettes.mpl_palette('Dark2'))\n",
        "plt.gca().spines[['top', 'right',]].set_visible(False)"
      ],
      "cell_type": "code",
      "execution_count": null,
      "outputs": [
        {
          "output_type": "display_data",
          "data": {
            "text/plain": [
              "<Figure size 640x480 with 1 Axes>"
            ],
            "image/png": "[encoded data removed]"
          },
          "metadata": {}
        }
      ],
      "metadata": {
        "colab": {
          "base_uri": "https://localhost:8080/",
          "height": 430
        },
        "id": "HPcTtZEpAvQG",
        "outputId": "d8bd30e1-87ca-46b2-d6fb-8cc36737bab5"
      }
    },
    {
      "source": [
        "data.groupby('airline_sentiment').size().plot(kind='barh', color=sns.palettes.mpl_palette('Dark2'))\n",
        "plt.gca().spines[['top', 'right',]].set_visible(False)"
      ],
      "cell_type": "code",
      "execution_count": null,
      "outputs": [
        {
          "output_type": "display_data",
          "data": {
            "text/plain": [
              "<Figure size 640x480 with 1 Axes>"
            ],
            "image/png": "[encoded data removed]"
          },
          "metadata": {}
        }
      ],
      "metadata": {
        "colab": {
          "base_uri": "https://localhost:8080/",
          "height": 430
        },
        "id": "b-cpwm9WAqp1",
        "outputId": "7e842f27-49ba-4532-9398-fcf05e14c7fa"
      }
    },
    {
      "source": [
        "data['airline_sentiment_confidence'].plot(kind='hist', bins=20, title='airline_sentiment_confidence')\n",
        "plt.gca().spines[['top', 'right',]].set_visible(False)"
      ],
      "cell_type": "code",
      "execution_count": null,
      "outputs": [
        {
          "output_type": "display_data",
          "data": {
            "text/plain": [
              "<Figure size 640x480 with 1 Axes>"
            ],
            "image/png": "[encoded data removed]"
          },
          "metadata": {}
        }
      ],
      "metadata": {
        "colab": {
          "base_uri": "https://localhost:8080/",
          "height": 452
        },
        "id": "zpnytBbWAh-J",
        "outputId": "ca55cf58-0720-4ea6-94b3-b8d241546372"
      }
    },
    {
      "cell_type": "code",
      "source": [
        "data.describe(include='all')"
      ],
      "metadata": {
        "colab": {
          "base_uri": "https://localhost:8080/",
          "height": 431
        },
        "id": "F47EeTnIAPwA",
        "outputId": "3864c39d-ac48-42fd-e2ec-e6cb390d20d4"
      },
      "execution_count": null,
      "outputs": [
        {
          "output_type": "execute_result",
          "data": {
            "text/plain": [
              "            tweet_id airline_sentiment  airline_sentiment_confidence  \\\n",
              "count   1.464000e+04             14640                  14640.000000   \n",
              "unique           NaN                 3                           NaN   \n",
              "top              NaN          negative                           NaN   \n",
              "freq             NaN              9178                           NaN   \n",
              "mean    5.692184e+17               NaN                      0.900169   \n",
              "std     7.791112e+14               NaN                      0.162830   \n",
              "min     5.675883e+17               NaN                      0.335000   \n",
              "25%     5.685592e+17               NaN                      0.692300   \n",
              "50%     5.694779e+17               NaN                      1.000000   \n",
              "75%     5.698905e+17               NaN                      1.000000   \n",
              "max     5.703106e+17               NaN                      1.000000   \n",
              "\n",
              "                negativereason  negativereason_confidence airline  \\\n",
              "count                     9178               10522.000000   14640   \n",
              "unique                      10                        NaN       6   \n",
              "top     Customer Service Issue                        NaN  United   \n",
              "freq                      2910                        NaN    3822   \n",
              "mean                       NaN                   0.638298     NaN   \n",
              "std                        NaN                   0.330440     NaN   \n",
              "min                        NaN                   0.000000     NaN   \n",
              "25%                        NaN                   0.360600     NaN   \n",
              "50%                        NaN                   0.670600     NaN   \n",
              "75%                        NaN                   1.000000     NaN   \n",
              "max                        NaN                   1.000000     NaN   \n",
              "\n",
              "       airline_sentiment_gold         name     negativereason_gold  \\\n",
              "count                      40        14640                      32   \n",
              "unique                      3         7701                      13   \n",
              "top                  negative  JetBlueNews  Customer Service Issue   \n",
              "freq                       32           63                      12   \n",
              "mean                      NaN          NaN                     NaN   \n",
              "std                       NaN          NaN                     NaN   \n",
              "min                       NaN          NaN                     NaN   \n",
              "25%                       NaN          NaN                     NaN   \n",
              "50%                       NaN          NaN                     NaN   \n",
              "75%                       NaN          NaN                     NaN   \n",
              "max                       NaN          NaN                     NaN   \n",
              "\n",
              "        retweet_count            text tweet_coord              tweet_created  \\\n",
              "count    14640.000000           14640        1019                      14640   \n",
              "unique            NaN           14427         832                      14247   \n",
              "top               NaN  @united thanks  [0.0, 0.0]  2015-02-24 09:54:34 -0800   \n",
              "freq              NaN               6         164                          5   \n",
              "mean         0.082650             NaN         NaN                        NaN   \n",
              "std          0.745778             NaN         NaN                        NaN   \n",
              "min          0.000000             NaN         NaN                        NaN   \n",
              "25%          0.000000             NaN         NaN                        NaN   \n",
              "50%          0.000000             NaN         NaN                        NaN   \n",
              "75%          0.000000             NaN         NaN                        NaN   \n",
              "max         44.000000             NaN         NaN                        NaN   \n",
              "\n",
              "       tweet_location               user_timezone  \n",
              "count            9907                        9820  \n",
              "unique           3081                          85  \n",
              "top        Boston, MA  Eastern Time (US & Canada)  \n",
              "freq              157                        3744  \n",
              "mean              NaN                         NaN  \n",
              "std               NaN                         NaN  \n",
              "min               NaN                         NaN  \n",
              "25%               NaN                         NaN  \n",
              "50%               NaN                         NaN  \n",
              "75%               NaN                         NaN  \n",
              "max               NaN                         NaN  "
            ],
            "text/html": [
              "\n",
              "  <div id=\"df-ee2d6849-ec59-4c9d-99d1-aee6872b6ba4\" class=\"colab-df-container\">\n",
              "    <div>\n",
              "<style scoped>\n",
              "    .dataframe tbody tr th:only-of-type {\n",
              "        vertical-align: middle;\n",
              "    }\n",
              "\n",
              "    .dataframe tbody tr th {\n",
              "        vertical-align: top;\n",
              "    }\n",
              "\n",
              "    .dataframe thead th {\n",
              "        text-align: right;\n",
              "    }\n",
              "</style>\n",
              "<table border=\"1\" class=\"dataframe\">\n",
              "  <thead>\n",
              "    <tr style=\"text-align: right;\">\n",
              "      <th></th>\n",
              "      <th>tweet_id</th>\n",
              "      <th>airline_sentiment</th>\n",
              "      <th>airline_sentiment_confidence</th>\n",
              "      <th>negativereason</th>\n",
              "      <th>negativereason_confidence</th>\n",
              "      <th>airline</th>\n",
              "      <th>airline_sentiment_gold</th>\n",
              "      <th>name</th>\n",
              "      <th>negativereason_gold</th>\n",
              "      <th>retweet_count</th>\n",
              "      <th>text</th>\n",
              "      <th>tweet_coord</th>\n",
              "      <th>tweet_created</th>\n",
              "      <th>tweet_location</th>\n",
              "      <th>user_timezone</th>\n",
              "    </tr>\n",
              "  </thead>\n",
              "  <tbody>\n",
              "    <tr>\n",
              "      <th>count</th>\n",
              "      <td>1.464000e+04</td>\n",
              "      <td>14640</td>\n",
              "      <td>14640.000000</td>\n",
              "      <td>9178</td>\n",
              "      <td>10522.000000</td>\n",
              "      <td>14640</td>\n",
              "      <td>40</td>\n",
              "      <td>14640</td>\n",
              "      <td>32</td>\n",
              "      <td>14640.000000</td>\n",
              "      <td>14640</td>\n",
              "      <td>1019</td>\n",
              "      <td>14640</td>\n",
              "      <td>9907</td>\n",
              "      <td>9820</td>\n",
              "    </tr>\n",
              "    <tr>\n",
              "      <th>unique</th>\n",
              "      <td>NaN</td>\n",
              "      <td>3</td>\n",
              "      <td>NaN</td>\n",
              "      <td>10</td>\n",
              "      <td>NaN</td>\n",
              "      <td>6</td>\n",
              "      <td>3</td>\n",
              "      <td>7701</td>\n",
              "      <td>13</td>\n",
              "      <td>NaN</td>\n",
              "      <td>14427</td>\n",
              "      <td>832</td>\n",
              "      <td>14247</td>\n",
              "      <td>3081</td>\n",
              "      <td>85</td>\n",
              "    </tr>\n",
              "    <tr>\n",
              "      <th>top</th>\n",
              "      <td>NaN</td>\n",
              "      <td>negative</td>\n",
              "      <td>NaN</td>\n",
              "      <td>Customer Service Issue</td>\n",
              "      <td>NaN</td>\n",
              "      <td>United</td>\n",
              "      <td>negative</td>\n",
              "      <td>JetBlueNews</td>\n",
              "      <td>Customer Service Issue</td>\n",
              "      <td>NaN</td>\n",
              "      <td>@united thanks</td>\n",
              "      <td>[0.0, 0.0]</td>\n",
              "      <td>2015-02-24 09:54:34 -0800</td>\n",
              "      <td>Boston, MA</td>\n",
              "      <td>Eastern Time (US &amp; Canada)</td>\n",
              "    </tr>\n",
              "    <tr>\n",
              "      <th>freq</th>\n",
              "      <td>NaN</td>\n",
              "      <td>9178</td>\n",
              "      <td>NaN</td>\n",
              "      <td>2910</td>\n",
              "      <td>NaN</td>\n",
              "      <td>3822</td>\n",
              "      <td>32</td>\n",
              "      <td>63</td>\n",
              "      <td>12</td>\n",
              "      <td>NaN</td>\n",
              "      <td>6</td>\n",
              "      <td>164</td>\n",
              "      <td>5</td>\n",
              "      <td>157</td>\n",
              "      <td>3744</td>\n",
              "    </tr>\n",
              "    <tr>\n",
              "      <th>mean</th>\n",
              "      <td>5.692184e+17</td>\n",
              "      <td>NaN</td>\n",
              "      <td>0.900169</td>\n",
              "      <td>NaN</td>\n",
              "      <td>0.638298</td>\n",
              "      <td>NaN</td>\n",
              "      <td>NaN</td>\n",
              "      <td>NaN</td>\n",
              "      <td>NaN</td>\n",
              "      <td>0.082650</td>\n",
              "      <td>NaN</td>\n",
              "      <td>NaN</td>\n",
              "      <td>NaN</td>\n",
              "      <td>NaN</td>\n",
              "      <td>NaN</td>\n",
              "    </tr>\n",
              "    <tr>\n",
              "      <th>std</th>\n",
              "      <td>7.791112e+14</td>\n",
              "      <td>NaN</td>\n",
              "      <td>0.162830</td>\n",
              "      <td>NaN</td>\n",
              "      <td>0.330440</td>\n",
              "      <td>NaN</td>\n",
              "      <td>NaN</td>\n",
              "      <td>NaN</td>\n",
              "      <td>NaN</td>\n",
              "      <td>0.745778</td>\n",
              "      <td>NaN</td>\n",
              "      <td>NaN</td>\n",
              "      <td>NaN</td>\n",
              "      <td>NaN</td>\n",
              "      <td>NaN</td>\n",
              "    </tr>\n",
              "    <tr>\n",
              "      <th>min</th>\n",
              "      <td>5.675883e+17</td>\n",
              "      <td>NaN</td>\n",
              "      <td>0.335000</td>\n",
              "      <td>NaN</td>\n",
              "      <td>0.000000</td>\n",
              "      <td>NaN</td>\n",
              "      <td>NaN</td>\n",
              "      <td>NaN</td>\n",
              "      <td>NaN</td>\n",
              "      <td>0.000000</td>\n",
              "      <td>NaN</td>\n",
              "      <td>NaN</td>\n",
              "      <td>NaN</td>\n",
              "      <td>NaN</td>\n",
              "      <td>NaN</td>\n",
              "    </tr>\n",
              "    <tr>\n",
              "      <th>25%</th>\n",
              "      <td>5.685592e+17</td>\n",
              "      <td>NaN</td>\n",
              "      <td>0.692300</td>\n",
              "      <td>NaN</td>\n",
              "      <td>0.360600</td>\n",
              "      <td>NaN</td>\n",
              "      <td>NaN</td>\n",
              "      <td>NaN</td>\n",
              "      <td>NaN</td>\n",
              "      <td>0.000000</td>\n",
              "      <td>NaN</td>\n",
              "      <td>NaN</td>\n",
              "      <td>NaN</td>\n",
              "      <td>NaN</td>\n",
              "      <td>NaN</td>\n",
              "    </tr>\n",
              "    <tr>\n",
              "      <th>50%</th>\n",
              "      <td>5.694779e+17</td>\n",
              "      <td>NaN</td>\n",
              "      <td>1.000000</td>\n",
              "      <td>NaN</td>\n",
              "      <td>0.670600</td>\n",
              "      <td>NaN</td>\n",
              "      <td>NaN</td>\n",
              "      <td>NaN</td>\n",
              "      <td>NaN</td>\n",
              "      <td>0.000000</td>\n",
              "      <td>NaN</td>\n",
              "      <td>NaN</td>\n",
              "      <td>NaN</td>\n",
              "      <td>NaN</td>\n",
              "      <td>NaN</td>\n",
              "    </tr>\n",
              "    <tr>\n",
              "      <th>75%</th>\n",
              "      <td>5.698905e+17</td>\n",
              "      <td>NaN</td>\n",
              "      <td>1.000000</td>\n",
              "      <td>NaN</td>\n",
              "      <td>1.000000</td>\n",
              "      <td>NaN</td>\n",
              "      <td>NaN</td>\n",
              "      <td>NaN</td>\n",
              "      <td>NaN</td>\n",
              "      <td>0.000000</td>\n",
              "      <td>NaN</td>\n",
              "      <td>NaN</td>\n",
              "      <td>NaN</td>\n",
              "      <td>NaN</td>\n",
              "      <td>NaN</td>\n",
              "    </tr>\n",
              "    <tr>\n",
              "      <th>max</th>\n",
              "      <td>5.703106e+17</td>\n",
              "      <td>NaN</td>\n",
              "      <td>1.000000</td>\n",
              "      <td>NaN</td>\n",
              "      <td>1.000000</td>\n",
              "      <td>NaN</td>\n",
              "      <td>NaN</td>\n",
              "      <td>NaN</td>\n",
              "      <td>NaN</td>\n",
              "      <td>44.000000</td>\n",
              "      <td>NaN</td>\n",
              "      <td>NaN</td>\n",
              "      <td>NaN</td>\n",
              "      <td>NaN</td>\n",
              "      <td>NaN</td>\n",
              "    </tr>\n",
              "  </tbody>\n",
              "</table>\n",
              "</div>\n",
              "    <div class=\"colab-df-buttons\">\n",
              "\n",
              "  <div class=\"colab-df-container\">\n",
              "    <button class=\"colab-df-convert\" onclick=\"convertToInteractive('df-ee2d6849-ec59-4c9d-99d1-aee6872b6ba4')\"\n",
              "            title=\"Convert this dataframe to an interactive table.\"\n",
              "            style=\"display:none;\">\n",
              "\n",
              "  <svg xmlns=\"http://www.w3.org/2000/svg\" height=\"24px\" viewBox=\"0 -960 960 960\">\n",
              "    <path d=\"M120-120v-720h720v720H120Zm60-500h600v-160H180v160Zm220 220h160v-160H400v160Zm0 220h160v-160H400v160ZM180-400h160v-160H180v160Zm440 0h160v-160H620v160ZM180-180h160v-160H180v160Zm440 0h160v-160H620v160Z\"/>\n",
              "  </svg>\n",
              "    </button>\n",
              "\n",
              "  <style>\n",
              "    .colab-df-container {\n",
              "      display:flex;\n",
              "      gap: 12px;\n",
              "    }\n",
              "\n",
              "    .colab-df-convert {\n",
              "      background-color: #E8F0FE;\n",
              "      border: none;\n",
              "      border-radius: 50%;\n",
              "      cursor: pointer;\n",
              "      display: none;\n",
              "      fill: #1967D2;\n",
              "      height: 32px;\n",
              "      padding: 0 0 0 0;\n",
              "      width: 32px;\n",
              "    }\n",
              "\n",
              "    .colab-df-convert:hover {\n",
              "      background-color: #E2EBFA;\n",
              "      box-shadow: 0px 1px 2px rgba(60, 64, 67, 0.3), 0px 1px 3px 1px rgba(60, 64, 67, 0.15);\n",
              "      fill: #174EA6;\n",
              "    }\n",
              "\n",
              "    .colab-df-buttons div {\n",
              "      margin-bottom: 4px;\n",
              "    }\n",
              "\n",
              "    [theme=dark] .colab-df-convert {\n",
              "      background-color: #3B4455;\n",
              "      fill: #D2E3FC;\n",
              "    }\n",
              "\n",
              "    [theme=dark] .colab-df-convert:hover {\n",
              "      background-color: #434B5C;\n",
              "      box-shadow: 0px 1px 3px 1px rgba(0, 0, 0, 0.15);\n",
              "      filter: drop-shadow(0px 1px 2px rgba(0, 0, 0, 0.3));\n",
              "      fill: #FFFFFF;\n",
              "    }\n",
              "  </style>\n",
              "\n",
              "    <script>\n",
              "      const buttonEl =\n",
              "        document.querySelector('#df-ee2d6849-ec59-4c9d-99d1-aee6872b6ba4 button.colab-df-convert');\n",
              "      buttonEl.style.display =\n",
              "        google.colab.kernel.accessAllowed ? 'block' : 'none';\n",
              "\n",
              "      async function convertToInteractive(key) {\n",
              "        const element = document.querySelector('#df-ee2d6849-ec59-4c9d-99d1-aee6872b6ba4');\n",
              "        const dataTable =\n",
              "          await google.colab.kernel.invokeFunction('convertToInteractive',\n",
              "                                                    [key], {});\n",
              "        if (!dataTable) return;\n",
              "\n",
              "        const docLinkHtml = 'Like what you see? Visit the ' +\n",
              "          '<a target=\"_blank\" href=https://colab.research.google.com/notebooks/data_table.ipynb>data table notebook</a>'\n",
              "          + ' to learn more about interactive tables.';\n",
              "        element.innerHTML = '';\n",
              "        dataTable['output_type'] = 'display_data';\n",
              "        await google.colab.output.renderOutput(dataTable, element);\n",
              "        const docLink = document.createElement('div');\n",
              "        docLink.innerHTML = docLinkHtml;\n",
              "        element.appendChild(docLink);\n",
              "      }\n",
              "    </script>\n",
              "  </div>\n",
              "\n",
              "\n",
              "<div id=\"df-dfa7b6cf-219e-4f9c-abd0-131f73751cf5\">\n",
              "  <button class=\"colab-df-quickchart\" onclick=\"quickchart('df-dfa7b6cf-219e-4f9c-abd0-131f73751cf5')\"\n",
              "            title=\"Suggest charts\"\n",
              "            style=\"display:none;\">\n",
              "\n",
              "<svg xmlns=\"http://www.w3.org/2000/svg\" height=\"24px\"viewBox=\"0 0 24 24\"\n",
              "     width=\"24px\">\n",
              "    <g>\n",
              "        <path d=\"M19 3H5c-1.1 0-2 .9-2 2v14c0 1.1.9 2 2 2h14c1.1 0 2-.9 2-2V5c0-1.1-.9-2-2-2zM9 17H7v-7h2v7zm4 0h-2V7h2v10zm4 0h-2v-4h2v4z\"/>\n",
              "    </g>\n",
              "</svg>\n",
              "  </button>\n",
              "\n",
              "<style>\n",
              "  .colab-df-quickchart {\n",
              "      --bg-color: #E8F0FE;\n",
              "      --fill-color: #1967D2;\n",
              "      --hover-bg-color: #E2EBFA;\n",
              "      --hover-fill-color: #174EA6;\n",
              "      --disabled-fill-color: #AAA;\n",
              "      --disabled-bg-color: #DDD;\n",
              "  }\n",
              "\n",
              "  [theme=dark] .colab-df-quickchart {\n",
              "      --bg-color: #3B4455;\n",
              "      --fill-color: #D2E3FC;\n",
              "      --hover-bg-color: #434B5C;\n",
              "      --hover-fill-color: #FFFFFF;\n",
              "      --disabled-bg-color: #3B4455;\n",
              "      --disabled-fill-color: #666;\n",
              "  }\n",
              "\n",
              "  .colab-df-quickchart {\n",
              "    background-color: var(--bg-color);\n",
              "    border: none;\n",
              "    border-radius: 50%;\n",
              "    cursor: pointer;\n",
              "    display: none;\n",
              "    fill: var(--fill-color);\n",
              "    height: 32px;\n",
              "    padding: 0;\n",
              "    width: 32px;\n",
              "  }\n",
              "\n",
              "  .colab-df-quickchart:hover {\n",
              "    background-color: var(--hover-bg-color);\n",
              "    box-shadow: 0 1px 2px rgba(60, 64, 67, 0.3), 0 1px 3px 1px rgba(60, 64, 67, 0.15);\n",
              "    fill: var(--button-hover-fill-color);\n",
              "  }\n",
              "\n",
              "  .colab-df-quickchart-complete:disabled,\n",
              "  .colab-df-quickchart-complete:disabled:hover {\n",
              "    background-color: var(--disabled-bg-color);\n",
              "    fill: var(--disabled-fill-color);\n",
              "    box-shadow: none;\n",
              "  }\n",
              "\n",
              "  .colab-df-spinner {\n",
              "    border: 2px solid var(--fill-color);\n",
              "    border-color: transparent;\n",
              "    border-bottom-color: var(--fill-color);\n",
              "    animation:\n",
              "      spin 1s steps(1) infinite;\n",
              "  }\n",
              "\n",
              "  @keyframes spin {\n",
              "    0% {\n",
              "      border-color: transparent;\n",
              "      border-bottom-color: var(--fill-color);\n",
              "      border-left-color: var(--fill-color);\n",
              "    }\n",
              "    20% {\n",
              "      border-color: transparent;\n",
              "      border-left-color: var(--fill-color);\n",
              "      border-top-color: var(--fill-color);\n",
              "    }\n",
              "    30% {\n",
              "      border-color: transparent;\n",
              "      border-left-color: var(--fill-color);\n",
              "      border-top-color: var(--fill-color);\n",
              "      border-right-color: var(--fill-color);\n",
              "    }\n",
              "    40% {\n",
              "      border-color: transparent;\n",
              "      border-right-color: var(--fill-color);\n",
              "      border-top-color: var(--fill-color);\n",
              "    }\n",
              "    60% {\n",
              "      border-color: transparent;\n",
              "      border-right-color: var(--fill-color);\n",
              "    }\n",
              "    80% {\n",
              "      border-color: transparent;\n",
              "      border-right-color: var(--fill-color);\n",
              "      border-bottom-color: var(--fill-color);\n",
              "    }\n",
              "    90% {\n",
              "      border-color: transparent;\n",
              "      border-bottom-color: var(--fill-color);\n",
              "    }\n",
              "  }\n",
              "</style>\n",
              "\n",
              "  <script>\n",
              "    async function quickchart(key) {\n",
              "      const quickchartButtonEl =\n",
              "        document.querySelector('#' + key + ' button');\n",
              "      quickchartButtonEl.disabled = true;  // To prevent multiple clicks.\n",
              "      quickchartButtonEl.classList.add('colab-df-spinner');\n",
              "      try {\n",
              "        const charts = await google.colab.kernel.invokeFunction(\n",
              "            'suggestCharts', [key], {});\n",
              "      } catch (error) {\n",
              "        console.error('Error during call to suggestCharts:', error);\n",
              "      }\n",
              "      quickchartButtonEl.classList.remove('colab-df-spinner');\n",
              "      quickchartButtonEl.classList.add('colab-df-quickchart-complete');\n",
              "    }\n",
              "    (() => {\n",
              "      let quickchartButtonEl =\n",
              "        document.querySelector('#df-dfa7b6cf-219e-4f9c-abd0-131f73751cf5 button');\n",
              "      quickchartButtonEl.style.display =\n",
              "        google.colab.kernel.accessAllowed ? 'block' : 'none';\n",
              "    })();\n",
              "  </script>\n",
              "</div>\n",
              "    </div>\n",
              "  </div>\n"
            ],
            "application/vnd.google.colaboratory.intrinsic+json": {
              "type": "dataframe",
              "summary": "{\n  \"name\": \"data\",\n  \"rows\": 11,\n  \"fields\": [\n    {\n      \"column\": \"tweet_id\",\n      \"properties\": {\n        \"dtype\": \"number\",\n        \"std\": 2.6329747500473715e+17,\n        \"min\": 14640.0,\n        \"max\": 5.703106004605256e+17,\n        \"num_unique_values\": 8,\n        \"samples\": [\n          5.692183517674992e+17,\n          5.694778579231109e+17,\n          14640.0\n        ],\n        \"semantic_type\": \"\",\n        \"description\": \"\"\n      }\n    },\n    {\n      \"column\": \"airline_sentiment\",\n      \"properties\": {\n        \"dtype\": \"category\",\n        \"num_unique_values\": 4,\n        \"samples\": [\n          3,\n          \"9178\",\n          \"14640\"\n        ],\n        \"semantic_type\": \"\",\n        \"description\": \"\"\n      }\n    },\n    {\n      \"column\": \"airline_sentiment_confidence\",\n      \"properties\": {\n        \"dtype\": \"number\",\n        \"std\": 5175.764549399977,\n        \"min\": 0.16282995909867212,\n        \"max\": 14640.0,\n        \"num_unique_values\": 6,\n        \"samples\": [\n          14640.0,\n          0.9001688524590163,\n          1.0\n        ],\n        \"semantic_type\": \"\",\n        \"description\": \"\"\n      }\n    },\n    {\n      \"column\": \"negativereason\",\n      \"properties\": {\n        \"dtype\": \"category\",\n        \"num_unique_values\": 4,\n        \"samples\": [\n          10,\n          \"2910\",\n          \"9178\"\n        ],\n        \"semantic_type\": \"\",\n        \"description\": \"\"\n      }\n    },\n    {\n      \"column\": \"negativereason_confidence\",\n      \"properties\": {\n        \"dtype\": \"number\",\n        \"std\": 3719.8867640100684,\n        \"min\": 0.0,\n        \"max\": 10522.0,\n        \"num_unique_values\": 7,\n        \"samples\": [\n          10522.0,\n          0.6382982797947159,\n          0.6706\n        ],\n        \"semantic_type\": \"\",\n        \"description\": \"\"\n      }\n    },\n    {\n      \"column\": \"airline\",\n      \"properties\": {\n        \"dtype\": \"category\",\n        \"num_unique_values\": 4,\n        \"samples\": [\n          6,\n          \"3822\",\n          \"14640\"\n        ],\n        \"semantic_type\": \"\",\n        \"description\": \"\"\n      }\n    },\n    {\n      \"column\": \"airline_sentiment_gold\",\n      \"properties\": {\n        \"dtype\": \"category\",\n        \"num_unique_values\": 4,\n        \"samples\": [\n          3,\n          \"32\",\n          \"40\"\n        ],\n        \"semantic_type\": \"\",\n        \"description\": \"\"\n      }\n    },\n    {\n      \"column\": \"name\",\n      \"properties\": {\n        \"dtype\": \"category\",\n        \"num_unique_values\": 4,\n        \"samples\": [\n          7701,\n          \"63\",\n          \"14640\"\n        ],\n        \"semantic_type\": \"\",\n        \"description\": \"\"\n      }\n    },\n    {\n      \"column\": \"negativereason_gold\",\n      \"properties\": {\n        \"dtype\": \"category\",\n        \"num_unique_values\": 4,\n        \"samples\": [\n          13,\n          \"12\",\n          \"32\"\n        ],\n        \"semantic_type\": \"\",\n        \"description\": \"\"\n      }\n    },\n    {\n      \"column\": \"retweet_count\",\n      \"properties\": {\n        \"dtype\": \"number\",\n        \"std\": 5173.780233286849,\n        \"min\": 0.0,\n        \"max\": 14640.0,\n        \"num_unique_values\": 5,\n        \"samples\": [\n          0.08265027322404371,\n          44.0,\n          0.7457781608465317\n        ],\n        \"semantic_type\": \"\",\n        \"description\": \"\"\n      }\n    },\n    {\n      \"column\": \"text\",\n      \"properties\": {\n        \"dtype\": \"category\",\n        \"num_unique_values\": 4,\n        \"samples\": [\n          14427,\n          \"6\",\n          \"14640\"\n        ],\n        \"semantic_type\": \"\",\n        \"description\": \"\"\n      }\n    },\n    {\n      \"column\": \"tweet_coord\",\n      \"properties\": {\n        \"dtype\": \"category\",\n        \"num_unique_values\": 4,\n        \"samples\": [\n          832,\n          \"164\",\n          \"1019\"\n        ],\n        \"semantic_type\": \"\",\n        \"description\": \"\"\n      }\n    },\n    {\n      \"column\": \"tweet_created\",\n      \"properties\": {\n        \"dtype\": \"date\",\n        \"min\": \"1969-12-31 16:00:00.000000005-08:00\",\n        \"max\": \"2015-02-24 09:54:34-08:00\",\n        \"num_unique_values\": 4,\n        \"samples\": [\n          14247,\n          \"5\",\n          \"14640\"\n        ],\n        \"semantic_type\": \"\",\n        \"description\": \"\"\n      }\n    },\n    {\n      \"column\": \"tweet_location\",\n      \"properties\": {\n        \"dtype\": \"category\",\n        \"num_unique_values\": 4,\n        \"samples\": [\n          3081,\n          \"157\",\n          \"9907\"\n        ],\n        \"semantic_type\": \"\",\n        \"description\": \"\"\n      }\n    },\n    {\n      \"column\": \"user_timezone\",\n      \"properties\": {\n        \"dtype\": \"category\",\n        \"num_unique_values\": 4,\n        \"samples\": [\n          85,\n          \"3744\",\n          \"9820\"\n        ],\n        \"semantic_type\": \"\",\n        \"description\": \"\"\n      }\n    }\n  ]\n}"
            }
          },
          "metadata": {},
          "execution_count": 16
        }
      ]
    },
    {
      "cell_type": "code",
      "source": [
        "data.info()"
      ],
      "metadata": {
        "colab": {
          "base_uri": "https://localhost:8080/"
        },
        "id": "Qo4zWJJMAYBR",
        "outputId": "95ba9695-5032-428b-931e-311d5e721374"
      },
      "execution_count": null,
      "outputs": [
        {
          "output_type": "stream",
          "name": "stdout",
          "text": [
            "<class 'pandas.core.frame.DataFrame'>\n",
            "RangeIndex: 14640 entries, 0 to 14639\n",
            "Data columns (total 15 columns):\n",
            " #   Column                        Non-Null Count  Dtype  \n",
            "---  ------                        --------------  -----  \n",
            " 0   tweet_id                      14640 non-null  int64  \n",
            " 1   airline_sentiment             14640 non-null  object \n",
            " 2   airline_sentiment_confidence  14640 non-null  float64\n",
            " 3   negativereason                9178 non-null   object \n",
            " 4   negativereason_confidence     10522 non-null  float64\n",
            " 5   airline                       14640 non-null  object \n",
            " 6   airline_sentiment_gold        40 non-null     object \n",
            " 7   name                          14640 non-null  object \n",
            " 8   negativereason_gold           32 non-null     object \n",
            " 9   retweet_count                 14640 non-null  int64  \n",
            " 10  text                          14640 non-null  object \n",
            " 11  tweet_coord                   1019 non-null   object \n",
            " 12  tweet_created                 14640 non-null  object \n",
            " 13  tweet_location                9907 non-null   object \n",
            " 14  user_timezone                 9820 non-null   object \n",
            "dtypes: float64(2), int64(2), object(11)\n",
            "memory usage: 1.7+ MB\n"
          ]
        }
      ]
    },
    {
      "cell_type": "code",
      "source": [
        "tweet_df = data[['text','airline_sentiment']]\n",
        "print(tweet_df.shape)\n",
        "tweet_df.head(5)"
      ],
      "metadata": {
        "colab": {
          "base_uri": "https://localhost:8080/",
          "height": 224
        },
        "id": "GbL8sVstA_Yw",
        "outputId": "7f238699-5ae4-492f-9df6-7452c2584b41"
      },
      "execution_count": null,
      "outputs": [
        {
          "output_type": "stream",
          "name": "stdout",
          "text": [
            "(14640, 2)\n"
          ]
        },
        {
          "output_type": "execute_result",
          "data": {
            "text/plain": [
              "                                                text airline_sentiment\n",
              "0                @VirginAmerica What @dhepburn said.           neutral\n",
              "1  @VirginAmerica plus you've added commercials t...          positive\n",
              "2  @VirginAmerica I didn't today... Must mean I n...           neutral\n",
              "3  @VirginAmerica it's really aggressive to blast...          negative\n",
              "4  @VirginAmerica and it's a really big bad thing...          negative"
            ],
            "text/html": [
              "\n",
              "  <div id=\"df-b0f73e15-6256-4cc2-8f9f-9df9824390d0\" class=\"colab-df-container\">\n",
              "    <div>\n",
              "<style scoped>\n",
              "    .dataframe tbody tr th:only-of-type {\n",
              "        vertical-align: middle;\n",
              "    }\n",
              "\n",
              "    .dataframe tbody tr th {\n",
              "        vertical-align: top;\n",
              "    }\n",
              "\n",
              "    .dataframe thead th {\n",
              "        text-align: right;\n",
              "    }\n",
              "</style>\n",
              "<table border=\"1\" class=\"dataframe\">\n",
              "  <thead>\n",
              "    <tr style=\"text-align: right;\">\n",
              "      <th></th>\n",
              "      <th>text</th>\n",
              "      <th>airline_sentiment</th>\n",
              "    </tr>\n",
              "  </thead>\n",
              "  <tbody>\n",
              "    <tr>\n",
              "      <th>0</th>\n",
              "      <td>@VirginAmerica What @dhepburn said.</td>\n",
              "      <td>neutral</td>\n",
              "    </tr>\n",
              "    <tr>\n",
              "      <th>1</th>\n",
              "      <td>@VirginAmerica plus you've added commercials t...</td>\n",
              "      <td>positive</td>\n",
              "    </tr>\n",
              "    <tr>\n",
              "      <th>2</th>\n",
              "      <td>@VirginAmerica I didn't today... Must mean I n...</td>\n",
              "      <td>neutral</td>\n",
              "    </tr>\n",
              "    <tr>\n",
              "      <th>3</th>\n",
              "      <td>@VirginAmerica it's really aggressive to blast...</td>\n",
              "      <td>negative</td>\n",
              "    </tr>\n",
              "    <tr>\n",
              "      <th>4</th>\n",
              "      <td>@VirginAmerica and it's a really big bad thing...</td>\n",
              "      <td>negative</td>\n",
              "    </tr>\n",
              "  </tbody>\n",
              "</table>\n",
              "</div>\n",
              "    <div class=\"colab-df-buttons\">\n",
              "\n",
              "  <div class=\"colab-df-container\">\n",
              "    <button class=\"colab-df-convert\" onclick=\"convertToInteractive('df-b0f73e15-6256-4cc2-8f9f-9df9824390d0')\"\n",
              "            title=\"Convert this dataframe to an interactive table.\"\n",
              "            style=\"display:none;\">\n",
              "\n",
              "  <svg xmlns=\"http://www.w3.org/2000/svg\" height=\"24px\" viewBox=\"0 -960 960 960\">\n",
              "    <path d=\"M120-120v-720h720v720H120Zm60-500h600v-160H180v160Zm220 220h160v-160H400v160Zm0 220h160v-160H400v160ZM180-400h160v-160H180v160Zm440 0h160v-160H620v160ZM180-180h160v-160H180v160Zm440 0h160v-160H620v160Z\"/>\n",
              "  </svg>\n",
              "    </button>\n",
              "\n",
              "  <style>\n",
              "    .colab-df-container {\n",
              "      display:flex;\n",
              "      gap: 12px;\n",
              "    }\n",
              "\n",
              "    .colab-df-convert {\n",
              "      background-color: #E8F0FE;\n",
              "      border: none;\n",
              "      border-radius: 50%;\n",
              "      cursor: pointer;\n",
              "      display: none;\n",
              "      fill: #1967D2;\n",
              "      height: 32px;\n",
              "      padding: 0 0 0 0;\n",
              "      width: 32px;\n",
              "    }\n",
              "\n",
              "    .colab-df-convert:hover {\n",
              "      background-color: #E2EBFA;\n",
              "      box-shadow: 0px 1px 2px rgba(60, 64, 67, 0.3), 0px 1px 3px 1px rgba(60, 64, 67, 0.15);\n",
              "      fill: #174EA6;\n",
              "    }\n",
              "\n",
              "    .colab-df-buttons div {\n",
              "      margin-bottom: 4px;\n",
              "    }\n",
              "\n",
              "    [theme=dark] .colab-df-convert {\n",
              "      background-color: #3B4455;\n",
              "      fill: #D2E3FC;\n",
              "    }\n",
              "\n",
              "    [theme=dark] .colab-df-convert:hover {\n",
              "      background-color: #434B5C;\n",
              "      box-shadow: 0px 1px 3px 1px rgba(0, 0, 0, 0.15);\n",
              "      filter: drop-shadow(0px 1px 2px rgba(0, 0, 0, 0.3));\n",
              "      fill: #FFFFFF;\n",
              "    }\n",
              "  </style>\n",
              "\n",
              "    <script>\n",
              "      const buttonEl =\n",
              "        document.querySelector('#df-b0f73e15-6256-4cc2-8f9f-9df9824390d0 button.colab-df-convert');\n",
              "      buttonEl.style.display =\n",
              "        google.colab.kernel.accessAllowed ? 'block' : 'none';\n",
              "\n",
              "      async function convertToInteractive(key) {\n",
              "        const element = document.querySelector('#df-b0f73e15-6256-4cc2-8f9f-9df9824390d0');\n",
              "        const dataTable =\n",
              "          await google.colab.kernel.invokeFunction('convertToInteractive',\n",
              "                                                    [key], {});\n",
              "        if (!dataTable) return;\n",
              "\n",
              "        const docLinkHtml = 'Like what you see? Visit the ' +\n",
              "          '<a target=\"_blank\" href=https://colab.research.google.com/notebooks/data_table.ipynb>data table notebook</a>'\n",
              "          + ' to learn more about interactive tables.';\n",
              "        element.innerHTML = '';\n",
              "        dataTable['output_type'] = 'display_data';\n",
              "        await google.colab.output.renderOutput(dataTable, element);\n",
              "        const docLink = document.createElement('div');\n",
              "        docLink.innerHTML = docLinkHtml;\n",
              "        element.appendChild(docLink);\n",
              "      }\n",
              "    </script>\n",
              "  </div>\n",
              "\n",
              "\n",
              "<div id=\"df-664c8a81-1fc1-4645-a599-5a74a74814f8\">\n",
              "  <button class=\"colab-df-quickchart\" onclick=\"quickchart('df-664c8a81-1fc1-4645-a599-5a74a74814f8')\"\n",
              "            title=\"Suggest charts\"\n",
              "            style=\"display:none;\">\n",
              "\n",
              "<svg xmlns=\"http://www.w3.org/2000/svg\" height=\"24px\"viewBox=\"0 0 24 24\"\n",
              "     width=\"24px\">\n",
              "    <g>\n",
              "        <path d=\"M19 3H5c-1.1 0-2 .9-2 2v14c0 1.1.9 2 2 2h14c1.1 0 2-.9 2-2V5c0-1.1-.9-2-2-2zM9 17H7v-7h2v7zm4 0h-2V7h2v10zm4 0h-2v-4h2v4z\"/>\n",
              "    </g>\n",
              "</svg>\n",
              "  </button>\n",
              "\n",
              "<style>\n",
              "  .colab-df-quickchart {\n",
              "      --bg-color: #E8F0FE;\n",
              "      --fill-color: #1967D2;\n",
              "      --hover-bg-color: #E2EBFA;\n",
              "      --hover-fill-color: #174EA6;\n",
              "      --disabled-fill-color: #AAA;\n",
              "      --disabled-bg-color: #DDD;\n",
              "  }\n",
              "\n",
              "  [theme=dark] .colab-df-quickchart {\n",
              "      --bg-color: #3B4455;\n",
              "      --fill-color: #D2E3FC;\n",
              "      --hover-bg-color: #434B5C;\n",
              "      --hover-fill-color: #FFFFFF;\n",
              "      --disabled-bg-color: #3B4455;\n",
              "      --disabled-fill-color: #666;\n",
              "  }\n",
              "\n",
              "  .colab-df-quickchart {\n",
              "    background-color: var(--bg-color);\n",
              "    border: none;\n",
              "    border-radius: 50%;\n",
              "    cursor: pointer;\n",
              "    display: none;\n",
              "    fill: var(--fill-color);\n",
              "    height: 32px;\n",
              "    padding: 0;\n",
              "    width: 32px;\n",
              "  }\n",
              "\n",
              "  .colab-df-quickchart:hover {\n",
              "    background-color: var(--hover-bg-color);\n",
              "    box-shadow: 0 1px 2px rgba(60, 64, 67, 0.3), 0 1px 3px 1px rgba(60, 64, 67, 0.15);\n",
              "    fill: var(--button-hover-fill-color);\n",
              "  }\n",
              "\n",
              "  .colab-df-quickchart-complete:disabled,\n",
              "  .colab-df-quickchart-complete:disabled:hover {\n",
              "    background-color: var(--disabled-bg-color);\n",
              "    fill: var(--disabled-fill-color);\n",
              "    box-shadow: none;\n",
              "  }\n",
              "\n",
              "  .colab-df-spinner {\n",
              "    border: 2px solid var(--fill-color);\n",
              "    border-color: transparent;\n",
              "    border-bottom-color: var(--fill-color);\n",
              "    animation:\n",
              "      spin 1s steps(1) infinite;\n",
              "  }\n",
              "\n",
              "  @keyframes spin {\n",
              "    0% {\n",
              "      border-color: transparent;\n",
              "      border-bottom-color: var(--fill-color);\n",
              "      border-left-color: var(--fill-color);\n",
              "    }\n",
              "    20% {\n",
              "      border-color: transparent;\n",
              "      border-left-color: var(--fill-color);\n",
              "      border-top-color: var(--fill-color);\n",
              "    }\n",
              "    30% {\n",
              "      border-color: transparent;\n",
              "      border-left-color: var(--fill-color);\n",
              "      border-top-color: var(--fill-color);\n",
              "      border-right-color: var(--fill-color);\n",
              "    }\n",
              "    40% {\n",
              "      border-color: transparent;\n",
              "      border-right-color: var(--fill-color);\n",
              "      border-top-color: var(--fill-color);\n",
              "    }\n",
              "    60% {\n",
              "      border-color: transparent;\n",
              "      border-right-color: var(--fill-color);\n",
              "    }\n",
              "    80% {\n",
              "      border-color: transparent;\n",
              "      border-right-color: var(--fill-color);\n",
              "      border-bottom-color: var(--fill-color);\n",
              "    }\n",
              "    90% {\n",
              "      border-color: transparent;\n",
              "      border-bottom-color: var(--fill-color);\n",
              "    }\n",
              "  }\n",
              "</style>\n",
              "\n",
              "  <script>\n",
              "    async function quickchart(key) {\n",
              "      const quickchartButtonEl =\n",
              "        document.querySelector('#' + key + ' button');\n",
              "      quickchartButtonEl.disabled = true;  // To prevent multiple clicks.\n",
              "      quickchartButtonEl.classList.add('colab-df-spinner');\n",
              "      try {\n",
              "        const charts = await google.colab.kernel.invokeFunction(\n",
              "            'suggestCharts', [key], {});\n",
              "      } catch (error) {\n",
              "        console.error('Error during call to suggestCharts:', error);\n",
              "      }\n",
              "      quickchartButtonEl.classList.remove('colab-df-spinner');\n",
              "      quickchartButtonEl.classList.add('colab-df-quickchart-complete');\n",
              "    }\n",
              "    (() => {\n",
              "      let quickchartButtonEl =\n",
              "        document.querySelector('#df-664c8a81-1fc1-4645-a599-5a74a74814f8 button');\n",
              "      quickchartButtonEl.style.display =\n",
              "        google.colab.kernel.accessAllowed ? 'block' : 'none';\n",
              "    })();\n",
              "  </script>\n",
              "</div>\n",
              "    </div>\n",
              "  </div>\n"
            ],
            "application/vnd.google.colaboratory.intrinsic+json": {
              "type": "dataframe",
              "variable_name": "tweet_df",
              "summary": "{\n  \"name\": \"tweet_df\",\n  \"rows\": 14640,\n  \"fields\": [\n    {\n      \"column\": \"text\",\n      \"properties\": {\n        \"dtype\": \"string\",\n        \"num_unique_values\": 14427,\n        \"samples\": [\n          \"@JetBlue so technically I could drive to JFK now and put in. Request for tomorrow's flight?\",\n          \"@united why I won't check my carry on. Watched a handler throw this bag -- miss the conveyer belt -- sat there 10 min http://t.co/lyoocx5mSH\",\n          \"@SouthwestAir you guys are so clever \\ud83d\\ude03 http://t.co/qn5odUGFqK\"\n        ],\n        \"semantic_type\": \"\",\n        \"description\": \"\"\n      }\n    },\n    {\n      \"column\": \"airline_sentiment\",\n      \"properties\": {\n        \"dtype\": \"category\",\n        \"num_unique_values\": 3,\n        \"samples\": [\n          \"neutral\",\n          \"positive\",\n          \"negative\"\n        ],\n        \"semantic_type\": \"\",\n        \"description\": \"\"\n      }\n    }\n  ]\n}"
            }
          },
          "metadata": {},
          "execution_count": 18
        }
      ]
    },
    {
      "cell_type": "code",
      "source": [
        "tweet_df = tweet_df[tweet_df['airline_sentiment'] != 'neutral']\n",
        "print(tweet_df.shape)\n",
        "tweet_df.head(5)"
      ],
      "metadata": {
        "colab": {
          "base_uri": "https://localhost:8080/",
          "height": 224
        },
        "id": "lbWS97mzBIYq",
        "outputId": "f54115d1-0a7b-443c-9c75-e1489c32c993"
      },
      "execution_count": null,
      "outputs": [
        {
          "output_type": "stream",
          "name": "stdout",
          "text": [
            "(11541, 2)\n"
          ]
        },
        {
          "output_type": "execute_result",
          "data": {
            "text/plain": [
              "                                                text airline_sentiment\n",
              "1  @VirginAmerica plus you've added commercials t...          positive\n",
              "3  @VirginAmerica it's really aggressive to blast...          negative\n",
              "4  @VirginAmerica and it's a really big bad thing...          negative\n",
              "5  @VirginAmerica seriously would pay $30 a fligh...          negative\n",
              "6  @VirginAmerica yes, nearly every time I fly VX...          positive"
            ],
            "text/html": [
              "\n",
              "  <div id=\"df-801dcbfe-8f50-4cb4-8274-0c2bbb0edaf0\" class=\"colab-df-container\">\n",
              "    <div>\n",
              "<style scoped>\n",
              "    .dataframe tbody tr th:only-of-type {\n",
              "        vertical-align: middle;\n",
              "    }\n",
              "\n",
              "    .dataframe tbody tr th {\n",
              "        vertical-align: top;\n",
              "    }\n",
              "\n",
              "    .dataframe thead th {\n",
              "        text-align: right;\n",
              "    }\n",
              "</style>\n",
              "<table border=\"1\" class=\"dataframe\">\n",
              "  <thead>\n",
              "    <tr style=\"text-align: right;\">\n",
              "      <th></th>\n",
              "      <th>text</th>\n",
              "      <th>airline_sentiment</th>\n",
              "    </tr>\n",
              "  </thead>\n",
              "  <tbody>\n",
              "    <tr>\n",
              "      <th>1</th>\n",
              "      <td>@VirginAmerica plus you've added commercials t...</td>\n",
              "      <td>positive</td>\n",
              "    </tr>\n",
              "    <tr>\n",
              "      <th>3</th>\n",
              "      <td>@VirginAmerica it's really aggressive to blast...</td>\n",
              "      <td>negative</td>\n",
              "    </tr>\n",
              "    <tr>\n",
              "      <th>4</th>\n",
              "      <td>@VirginAmerica and it's a really big bad thing...</td>\n",
              "      <td>negative</td>\n",
              "    </tr>\n",
              "    <tr>\n",
              "      <th>5</th>\n",
              "      <td>@VirginAmerica seriously would pay $30 a fligh...</td>\n",
              "      <td>negative</td>\n",
              "    </tr>\n",
              "    <tr>\n",
              "      <th>6</th>\n",
              "      <td>@VirginAmerica yes, nearly every time I fly VX...</td>\n",
              "      <td>positive</td>\n",
              "    </tr>\n",
              "  </tbody>\n",
              "</table>\n",
              "</div>\n",
              "    <div class=\"colab-df-buttons\">\n",
              "\n",
              "  <div class=\"colab-df-container\">\n",
              "    <button class=\"colab-df-convert\" onclick=\"convertToInteractive('df-801dcbfe-8f50-4cb4-8274-0c2bbb0edaf0')\"\n",
              "            title=\"Convert this dataframe to an interactive table.\"\n",
              "            style=\"display:none;\">\n",
              "\n",
              "  <svg xmlns=\"http://www.w3.org/2000/svg\" height=\"24px\" viewBox=\"0 -960 960 960\">\n",
              "    <path d=\"M120-120v-720h720v720H120Zm60-500h600v-160H180v160Zm220 220h160v-160H400v160Zm0 220h160v-160H400v160ZM180-400h160v-160H180v160Zm440 0h160v-160H620v160ZM180-180h160v-160H180v160Zm440 0h160v-160H620v160Z\"/>\n",
              "  </svg>\n",
              "    </button>\n",
              "\n",
              "  <style>\n",
              "    .colab-df-container {\n",
              "      display:flex;\n",
              "      gap: 12px;\n",
              "    }\n",
              "\n",
              "    .colab-df-convert {\n",
              "      background-color: #E8F0FE;\n",
              "      border: none;\n",
              "      border-radius: 50%;\n",
              "      cursor: pointer;\n",
              "      display: none;\n",
              "      fill: #1967D2;\n",
              "      height: 32px;\n",
              "      padding: 0 0 0 0;\n",
              "      width: 32px;\n",
              "    }\n",
              "\n",
              "    .colab-df-convert:hover {\n",
              "      background-color: #E2EBFA;\n",
              "      box-shadow: 0px 1px 2px rgba(60, 64, 67, 0.3), 0px 1px 3px 1px rgba(60, 64, 67, 0.15);\n",
              "      fill: #174EA6;\n",
              "    }\n",
              "\n",
              "    .colab-df-buttons div {\n",
              "      margin-bottom: 4px;\n",
              "    }\n",
              "\n",
              "    [theme=dark] .colab-df-convert {\n",
              "      background-color: #3B4455;\n",
              "      fill: #D2E3FC;\n",
              "    }\n",
              "\n",
              "    [theme=dark] .colab-df-convert:hover {\n",
              "      background-color: #434B5C;\n",
              "      box-shadow: 0px 1px 3px 1px rgba(0, 0, 0, 0.15);\n",
              "      filter: drop-shadow(0px 1px 2px rgba(0, 0, 0, 0.3));\n",
              "      fill: #FFFFFF;\n",
              "    }\n",
              "  </style>\n",
              "\n",
              "    <script>\n",
              "      const buttonEl =\n",
              "        document.querySelector('#df-801dcbfe-8f50-4cb4-8274-0c2bbb0edaf0 button.colab-df-convert');\n",
              "      buttonEl.style.display =\n",
              "        google.colab.kernel.accessAllowed ? 'block' : 'none';\n",
              "\n",
              "      async function convertToInteractive(key) {\n",
              "        const element = document.querySelector('#df-801dcbfe-8f50-4cb4-8274-0c2bbb0edaf0');\n",
              "        const dataTable =\n",
              "          await google.colab.kernel.invokeFunction('convertToInteractive',\n",
              "                                                    [key], {});\n",
              "        if (!dataTable) return;\n",
              "\n",
              "        const docLinkHtml = 'Like what you see? Visit the ' +\n",
              "          '<a target=\"_blank\" href=https://colab.research.google.com/notebooks/data_table.ipynb>data table notebook</a>'\n",
              "          + ' to learn more about interactive tables.';\n",
              "        element.innerHTML = '';\n",
              "        dataTable['output_type'] = 'display_data';\n",
              "        await google.colab.output.renderOutput(dataTable, element);\n",
              "        const docLink = document.createElement('div');\n",
              "        docLink.innerHTML = docLinkHtml;\n",
              "        element.appendChild(docLink);\n",
              "      }\n",
              "    </script>\n",
              "  </div>\n",
              "\n",
              "\n",
              "<div id=\"df-ed41b0f3-6bd5-434a-b860-64ef3551cda1\">\n",
              "  <button class=\"colab-df-quickchart\" onclick=\"quickchart('df-ed41b0f3-6bd5-434a-b860-64ef3551cda1')\"\n",
              "            title=\"Suggest charts\"\n",
              "            style=\"display:none;\">\n",
              "\n",
              "<svg xmlns=\"http://www.w3.org/2000/svg\" height=\"24px\"viewBox=\"0 0 24 24\"\n",
              "     width=\"24px\">\n",
              "    <g>\n",
              "        <path d=\"M19 3H5c-1.1 0-2 .9-2 2v14c0 1.1.9 2 2 2h14c1.1 0 2-.9 2-2V5c0-1.1-.9-2-2-2zM9 17H7v-7h2v7zm4 0h-2V7h2v10zm4 0h-2v-4h2v4z\"/>\n",
              "    </g>\n",
              "</svg>\n",
              "  </button>\n",
              "\n",
              "<style>\n",
              "  .colab-df-quickchart {\n",
              "      --bg-color: #E8F0FE;\n",
              "      --fill-color: #1967D2;\n",
              "      --hover-bg-color: #E2EBFA;\n",
              "      --hover-fill-color: #174EA6;\n",
              "      --disabled-fill-color: #AAA;\n",
              "      --disabled-bg-color: #DDD;\n",
              "  }\n",
              "\n",
              "  [theme=dark] .colab-df-quickchart {\n",
              "      --bg-color: #3B4455;\n",
              "      --fill-color: #D2E3FC;\n",
              "      --hover-bg-color: #434B5C;\n",
              "      --hover-fill-color: #FFFFFF;\n",
              "      --disabled-bg-color: #3B4455;\n",
              "      --disabled-fill-color: #666;\n",
              "  }\n",
              "\n",
              "  .colab-df-quickchart {\n",
              "    background-color: var(--bg-color);\n",
              "    border: none;\n",
              "    border-radius: 50%;\n",
              "    cursor: pointer;\n",
              "    display: none;\n",
              "    fill: var(--fill-color);\n",
              "    height: 32px;\n",
              "    padding: 0;\n",
              "    width: 32px;\n",
              "  }\n",
              "\n",
              "  .colab-df-quickchart:hover {\n",
              "    background-color: var(--hover-bg-color);\n",
              "    box-shadow: 0 1px 2px rgba(60, 64, 67, 0.3), 0 1px 3px 1px rgba(60, 64, 67, 0.15);\n",
              "    fill: var(--button-hover-fill-color);\n",
              "  }\n",
              "\n",
              "  .colab-df-quickchart-complete:disabled,\n",
              "  .colab-df-quickchart-complete:disabled:hover {\n",
              "    background-color: var(--disabled-bg-color);\n",
              "    fill: var(--disabled-fill-color);\n",
              "    box-shadow: none;\n",
              "  }\n",
              "\n",
              "  .colab-df-spinner {\n",
              "    border: 2px solid var(--fill-color);\n",
              "    border-color: transparent;\n",
              "    border-bottom-color: var(--fill-color);\n",
              "    animation:\n",
              "      spin 1s steps(1) infinite;\n",
              "  }\n",
              "\n",
              "  @keyframes spin {\n",
              "    0% {\n",
              "      border-color: transparent;\n",
              "      border-bottom-color: var(--fill-color);\n",
              "      border-left-color: var(--fill-color);\n",
              "    }\n",
              "    20% {\n",
              "      border-color: transparent;\n",
              "      border-left-color: var(--fill-color);\n",
              "      border-top-color: var(--fill-color);\n",
              "    }\n",
              "    30% {\n",
              "      border-color: transparent;\n",
              "      border-left-color: var(--fill-color);\n",
              "      border-top-color: var(--fill-color);\n",
              "      border-right-color: var(--fill-color);\n",
              "    }\n",
              "    40% {\n",
              "      border-color: transparent;\n",
              "      border-right-color: var(--fill-color);\n",
              "      border-top-color: var(--fill-color);\n",
              "    }\n",
              "    60% {\n",
              "      border-color: transparent;\n",
              "      border-right-color: var(--fill-color);\n",
              "    }\n",
              "    80% {\n",
              "      border-color: transparent;\n",
              "      border-right-color: var(--fill-color);\n",
              "      border-bottom-color: var(--fill-color);\n",
              "    }\n",
              "    90% {\n",
              "      border-color: transparent;\n",
              "      border-bottom-color: var(--fill-color);\n",
              "    }\n",
              "  }\n",
              "</style>\n",
              "\n",
              "  <script>\n",
              "    async function quickchart(key) {\n",
              "      const quickchartButtonEl =\n",
              "        document.querySelector('#' + key + ' button');\n",
              "      quickchartButtonEl.disabled = true;  // To prevent multiple clicks.\n",
              "      quickchartButtonEl.classList.add('colab-df-spinner');\n",
              "      try {\n",
              "        const charts = await google.colab.kernel.invokeFunction(\n",
              "            'suggestCharts', [key], {});\n",
              "      } catch (error) {\n",
              "        console.error('Error during call to suggestCharts:', error);\n",
              "      }\n",
              "      quickchartButtonEl.classList.remove('colab-df-spinner');\n",
              "      quickchartButtonEl.classList.add('colab-df-quickchart-complete');\n",
              "    }\n",
              "    (() => {\n",
              "      let quickchartButtonEl =\n",
              "        document.querySelector('#df-ed41b0f3-6bd5-434a-b860-64ef3551cda1 button');\n",
              "      quickchartButtonEl.style.display =\n",
              "        google.colab.kernel.accessAllowed ? 'block' : 'none';\n",
              "    })();\n",
              "  </script>\n",
              "</div>\n",
              "    </div>\n",
              "  </div>\n"
            ],
            "application/vnd.google.colaboratory.intrinsic+json": {
              "type": "dataframe",
              "variable_name": "tweet_df",
              "summary": "{\n  \"name\": \"tweet_df\",\n  \"rows\": 11541,\n  \"fields\": [\n    {\n      \"column\": \"text\",\n      \"properties\": {\n        \"dtype\": \"string\",\n        \"num_unique_values\": 11381,\n        \"samples\": [\n          \"@JetBlue are yall going bankrupt or is inflation just really bad these days? You went from $50 to $120 for overweight fees! Outrageous\",\n          \"@USAirways DeeDee and Lynn S. have been great here in PHX; Richard P. here was a jerk. Rude to us and our parents for no reason.\",\n          \"@USAirways I cant get anyone on the phone to help with award travel.Purchased extra miles and 10 minutes Late Flightr the miles needed was raised.\"\n        ],\n        \"semantic_type\": \"\",\n        \"description\": \"\"\n      }\n    },\n    {\n      \"column\": \"airline_sentiment\",\n      \"properties\": {\n        \"dtype\": \"category\",\n        \"num_unique_values\": 2,\n        \"samples\": [\n          \"negative\",\n          \"positive\"\n        ],\n        \"semantic_type\": \"\",\n        \"description\": \"\"\n      }\n    }\n  ]\n}"
            }
          },
          "metadata": {},
          "execution_count": 19
        }
      ]
    },
    {
      "cell_type": "code",
      "source": [
        "tweet_df[\"airline_sentiment\"].value_counts()"
      ],
      "metadata": {
        "colab": {
          "base_uri": "https://localhost:8080/"
        },
        "id": "3FikZAp8BNaC",
        "outputId": "94cdabec-34a6-495c-d14a-590888169457"
      },
      "execution_count": null,
      "outputs": [
        {
          "output_type": "execute_result",
          "data": {
            "text/plain": [
              "negative    9178\n",
              "positive    2363\n",
              "Name: airline_sentiment, dtype: int64"
            ]
          },
          "metadata": {},
          "execution_count": 20
        }
      ]
    },
    {
      "cell_type": "code",
      "source": [
        "sns.countplot(data=tweet_df,x='airline_sentiment',hue='airline_sentiment')\n",
        "plt.title(\"Distribution of Positive and Negative Sentiments\")\n",
        "plt.show()"
      ],
      "metadata": {
        "colab": {
          "base_uri": "https://localhost:8080/",
          "height": 472
        },
        "id": "q7xnG7Z0BQWV",
        "outputId": "4a364876-2d20-4b10-f226-815ab814d487"
      },
      "execution_count": null,
      "outputs": [
        {
          "output_type": "display_data",
          "data": {
            "text/plain": [
              "<Figure size 640x480 with 1 Axes>"
            ],
            "image/png": "[encoded data removed]"
          },
          "metadata": {}
        }
      ]
    },
    {
      "cell_type": "markdown",
      "source": [
        "**2. Implement the Sentiment Analysis using Bayesian Classification.**\n",
        "\n",
        "---\n",
        "\n"
      ],
      "metadata": {
        "id": "cyf0Zqfa-1bq"
      }
    },
    {
      "cell_type": "code",
      "source": [
        "tweet_df.head()"
      ],
      "metadata": {
        "colab": {
          "base_uri": "https://localhost:8080/",
          "height": 206
        },
        "id": "9kYZeJZ_GGcM",
        "outputId": "877a473d-3f7b-4b5d-d486-5715f0462ffe"
      },
      "execution_count": null,
      "outputs": [
        {
          "output_type": "execute_result",
          "data": {
            "text/plain": [
              "                                                text airline_sentiment\n",
              "1  @VirginAmerica plus you've added commercials t...          positive\n",
              "3  @VirginAmerica it's really aggressive to blast...          negative\n",
              "4  @VirginAmerica and it's a really big bad thing...          negative\n",
              "5  @VirginAmerica seriously would pay $30 a fligh...          negative\n",
              "6  @VirginAmerica yes, nearly every time I fly VX...          positive"
            ],
            "text/html": [
              "\n",
              "  <div id=\"df-2333c7a6-133d-4a02-982f-9100ac9a5fd9\" class=\"colab-df-container\">\n",
              "    <div>\n",
              "<style scoped>\n",
              "    .dataframe tbody tr th:only-of-type {\n",
              "        vertical-align: middle;\n",
              "    }\n",
              "\n",
              "    .dataframe tbody tr th {\n",
              "        vertical-align: top;\n",
              "    }\n",
              "\n",
              "    .dataframe thead th {\n",
              "        text-align: right;\n",
              "    }\n",
              "</style>\n",
              "<table border=\"1\" class=\"dataframe\">\n",
              "  <thead>\n",
              "    <tr style=\"text-align: right;\">\n",
              "      <th></th>\n",
              "      <th>text</th>\n",
              "      <th>airline_sentiment</th>\n",
              "    </tr>\n",
              "  </thead>\n",
              "  <tbody>\n",
              "    <tr>\n",
              "      <th>1</th>\n",
              "      <td>@VirginAmerica plus you've added commercials t...</td>\n",
              "      <td>positive</td>\n",
              "    </tr>\n",
              "    <tr>\n",
              "      <th>3</th>\n",
              "      <td>@VirginAmerica it's really aggressive to blast...</td>\n",
              "      <td>negative</td>\n",
              "    </tr>\n",
              "    <tr>\n",
              "      <th>4</th>\n",
              "      <td>@VirginAmerica and it's a really big bad thing...</td>\n",
              "      <td>negative</td>\n",
              "    </tr>\n",
              "    <tr>\n",
              "      <th>5</th>\n",
              "      <td>@VirginAmerica seriously would pay $30 a fligh...</td>\n",
              "      <td>negative</td>\n",
              "    </tr>\n",
              "    <tr>\n",
              "      <th>6</th>\n",
              "      <td>@VirginAmerica yes, nearly every time I fly VX...</td>\n",
              "      <td>positive</td>\n",
              "    </tr>\n",
              "  </tbody>\n",
              "</table>\n",
              "</div>\n",
              "    <div class=\"colab-df-buttons\">\n",
              "\n",
              "  <div class=\"colab-df-container\">\n",
              "    <button class=\"colab-df-convert\" onclick=\"convertToInteractive('df-2333c7a6-133d-4a02-982f-9100ac9a5fd9')\"\n",
              "            title=\"Convert this dataframe to an interactive table.\"\n",
              "            style=\"display:none;\">\n",
              "\n",
              "  <svg xmlns=\"http://www.w3.org/2000/svg\" height=\"24px\" viewBox=\"0 -960 960 960\">\n",
              "    <path d=\"M120-120v-720h720v720H120Zm60-500h600v-160H180v160Zm220 220h160v-160H400v160Zm0 220h160v-160H400v160ZM180-400h160v-160H180v160Zm440 0h160v-160H620v160ZM180-180h160v-160H180v160Zm440 0h160v-160H620v160Z\"/>\n",
              "  </svg>\n",
              "    </button>\n",
              "\n",
              "  <style>\n",
              "    .colab-df-container {\n",
              "      display:flex;\n",
              "      gap: 12px;\n",
              "    }\n",
              "\n",
              "    .colab-df-convert {\n",
              "      background-color: #E8F0FE;\n",
              "      border: none;\n",
              "      border-radius: 50%;\n",
              "      cursor: pointer;\n",
              "      display: none;\n",
              "      fill: #1967D2;\n",
              "      height: 32px;\n",
              "      padding: 0 0 0 0;\n",
              "      width: 32px;\n",
              "    }\n",
              "\n",
              "    .colab-df-convert:hover {\n",
              "      background-color: #E2EBFA;\n",
              "      box-shadow: 0px 1px 2px rgba(60, 64, 67, 0.3), 0px 1px 3px 1px rgba(60, 64, 67, 0.15);\n",
              "      fill: #174EA6;\n",
              "    }\n",
              "\n",
              "    .colab-df-buttons div {\n",
              "      margin-bottom: 4px;\n",
              "    }\n",
              "\n",
              "    [theme=dark] .colab-df-convert {\n",
              "      background-color: #3B4455;\n",
              "      fill: #D2E3FC;\n",
              "    }\n",
              "\n",
              "    [theme=dark] .colab-df-convert:hover {\n",
              "      background-color: #434B5C;\n",
              "      box-shadow: 0px 1px 3px 1px rgba(0, 0, 0, 0.15);\n",
              "      filter: drop-shadow(0px 1px 2px rgba(0, 0, 0, 0.3));\n",
              "      fill: #FFFFFF;\n",
              "    }\n",
              "  </style>\n",
              "\n",
              "    <script>\n",
              "      const buttonEl =\n",
              "        document.querySelector('#df-2333c7a6-133d-4a02-982f-9100ac9a5fd9 button.colab-df-convert');\n",
              "      buttonEl.style.display =\n",
              "        google.colab.kernel.accessAllowed ? 'block' : 'none';\n",
              "\n",
              "      async function convertToInteractive(key) {\n",
              "        const element = document.querySelector('#df-2333c7a6-133d-4a02-982f-9100ac9a5fd9');\n",
              "        const dataTable =\n",
              "          await google.colab.kernel.invokeFunction('convertToInteractive',\n",
              "                                                    [key], {});\n",
              "        if (!dataTable) return;\n",
              "\n",
              "        const docLinkHtml = 'Like what you see? Visit the ' +\n",
              "          '<a target=\"_blank\" href=https://colab.research.google.com/notebooks/data_table.ipynb>data table notebook</a>'\n",
              "          + ' to learn more about interactive tables.';\n",
              "        element.innerHTML = '';\n",
              "        dataTable['output_type'] = 'display_data';\n",
              "        await google.colab.output.renderOutput(dataTable, element);\n",
              "        const docLink = document.createElement('div');\n",
              "        docLink.innerHTML = docLinkHtml;\n",
              "        element.appendChild(docLink);\n",
              "      }\n",
              "    </script>\n",
              "  </div>\n",
              "\n",
              "\n",
              "<div id=\"df-2ae43363-09c2-4a2e-8aaf-fd2a39872e08\">\n",
              "  <button class=\"colab-df-quickchart\" onclick=\"quickchart('df-2ae43363-09c2-4a2e-8aaf-fd2a39872e08')\"\n",
              "            title=\"Suggest charts\"\n",
              "            style=\"display:none;\">\n",
              "\n",
              "<svg xmlns=\"http://www.w3.org/2000/svg\" height=\"24px\"viewBox=\"0 0 24 24\"\n",
              "     width=\"24px\">\n",
              "    <g>\n",
              "        <path d=\"M19 3H5c-1.1 0-2 .9-2 2v14c0 1.1.9 2 2 2h14c1.1 0 2-.9 2-2V5c0-1.1-.9-2-2-2zM9 17H7v-7h2v7zm4 0h-2V7h2v10zm4 0h-2v-4h2v4z\"/>\n",
              "    </g>\n",
              "</svg>\n",
              "  </button>\n",
              "\n",
              "<style>\n",
              "  .colab-df-quickchart {\n",
              "      --bg-color: #E8F0FE;\n",
              "      --fill-color: #1967D2;\n",
              "      --hover-bg-color: #E2EBFA;\n",
              "      --hover-fill-color: #174EA6;\n",
              "      --disabled-fill-color: #AAA;\n",
              "      --disabled-bg-color: #DDD;\n",
              "  }\n",
              "\n",
              "  [theme=dark] .colab-df-quickchart {\n",
              "      --bg-color: #3B4455;\n",
              "      --fill-color: #D2E3FC;\n",
              "      --hover-bg-color: #434B5C;\n",
              "      --hover-fill-color: #FFFFFF;\n",
              "      --disabled-bg-color: #3B4455;\n",
              "      --disabled-fill-color: #666;\n",
              "  }\n",
              "\n",
              "  .colab-df-quickchart {\n",
              "    background-color: var(--bg-color);\n",
              "    border: none;\n",
              "    border-radius: 50%;\n",
              "    cursor: pointer;\n",
              "    display: none;\n",
              "    fill: var(--fill-color);\n",
              "    height: 32px;\n",
              "    padding: 0;\n",
              "    width: 32px;\n",
              "  }\n",
              "\n",
              "  .colab-df-quickchart:hover {\n",
              "    background-color: var(--hover-bg-color);\n",
              "    box-shadow: 0 1px 2px rgba(60, 64, 67, 0.3), 0 1px 3px 1px rgba(60, 64, 67, 0.15);\n",
              "    fill: var(--button-hover-fill-color);\n",
              "  }\n",
              "\n",
              "  .colab-df-quickchart-complete:disabled,\n",
              "  .colab-df-quickchart-complete:disabled:hover {\n",
              "    background-color: var(--disabled-bg-color);\n",
              "    fill: var(--disabled-fill-color);\n",
              "    box-shadow: none;\n",
              "  }\n",
              "\n",
              "  .colab-df-spinner {\n",
              "    border: 2px solid var(--fill-color);\n",
              "    border-color: transparent;\n",
              "    border-bottom-color: var(--fill-color);\n",
              "    animation:\n",
              "      spin 1s steps(1) infinite;\n",
              "  }\n",
              "\n",
              "  @keyframes spin {\n",
              "    0% {\n",
              "      border-color: transparent;\n",
              "      border-bottom-color: var(--fill-color);\n",
              "      border-left-color: var(--fill-color);\n",
              "    }\n",
              "    20% {\n",
              "      border-color: transparent;\n",
              "      border-left-color: var(--fill-color);\n",
              "      border-top-color: var(--fill-color);\n",
              "    }\n",
              "    30% {\n",
              "      border-color: transparent;\n",
              "      border-left-color: var(--fill-color);\n",
              "      border-top-color: var(--fill-color);\n",
              "      border-right-color: var(--fill-color);\n",
              "    }\n",
              "    40% {\n",
              "      border-color: transparent;\n",
              "      border-right-color: var(--fill-color);\n",
              "      border-top-color: var(--fill-color);\n",
              "    }\n",
              "    60% {\n",
              "      border-color: transparent;\n",
              "      border-right-color: var(--fill-color);\n",
              "    }\n",
              "    80% {\n",
              "      border-color: transparent;\n",
              "      border-right-color: var(--fill-color);\n",
              "      border-bottom-color: var(--fill-color);\n",
              "    }\n",
              "    90% {\n",
              "      border-color: transparent;\n",
              "      border-bottom-color: var(--fill-color);\n",
              "    }\n",
              "  }\n",
              "</style>\n",
              "\n",
              "  <script>\n",
              "    async function quickchart(key) {\n",
              "      const quickchartButtonEl =\n",
              "        document.querySelector('#' + key + ' button');\n",
              "      quickchartButtonEl.disabled = true;  // To prevent multiple clicks.\n",
              "      quickchartButtonEl.classList.add('colab-df-spinner');\n",
              "      try {\n",
              "        const charts = await google.colab.kernel.invokeFunction(\n",
              "            'suggestCharts', [key], {});\n",
              "      } catch (error) {\n",
              "        console.error('Error during call to suggestCharts:', error);\n",
              "      }\n",
              "      quickchartButtonEl.classList.remove('colab-df-spinner');\n",
              "      quickchartButtonEl.classList.add('colab-df-quickchart-complete');\n",
              "    }\n",
              "    (() => {\n",
              "      let quickchartButtonEl =\n",
              "        document.querySelector('#df-2ae43363-09c2-4a2e-8aaf-fd2a39872e08 button');\n",
              "      quickchartButtonEl.style.display =\n",
              "        google.colab.kernel.accessAllowed ? 'block' : 'none';\n",
              "    })();\n",
              "  </script>\n",
              "</div>\n",
              "    </div>\n",
              "  </div>\n"
            ],
            "application/vnd.google.colaboratory.intrinsic+json": {
              "type": "dataframe",
              "variable_name": "tweet_df",
              "summary": "{\n  \"name\": \"tweet_df\",\n  \"rows\": 11541,\n  \"fields\": [\n    {\n      \"column\": \"text\",\n      \"properties\": {\n        \"dtype\": \"string\",\n        \"num_unique_values\": 11381,\n        \"samples\": [\n          \"@JetBlue are yall going bankrupt or is inflation just really bad these days? You went from $50 to $120 for overweight fees! Outrageous\",\n          \"@USAirways DeeDee and Lynn S. have been great here in PHX; Richard P. here was a jerk. Rude to us and our parents for no reason.\",\n          \"@USAirways I cant get anyone on the phone to help with award travel.Purchased extra miles and 10 minutes Late Flightr the miles needed was raised.\"\n        ],\n        \"semantic_type\": \"\",\n        \"description\": \"\"\n      }\n    },\n    {\n      \"column\": \"airline_sentiment\",\n      \"properties\": {\n        \"dtype\": \"category\",\n        \"num_unique_values\": 2,\n        \"samples\": [\n          \"negative\",\n          \"positive\"\n        ],\n        \"semantic_type\": \"\",\n        \"description\": \"\"\n      }\n    }\n  ]\n}"
            }
          },
          "metadata": {},
          "execution_count": 31
        }
      ]
    },
    {
      "cell_type": "code",
      "source": [
        "# Label Encoding\n",
        "\n",
        "lb = LabelEncoder()\n",
        "tweet_df['airline_sentiment'] = lb.fit_transform(tweet_df['airline_sentiment'])"
      ],
      "metadata": {
        "id": "v_2jNBb4FGwv"
      },
      "execution_count": null,
      "outputs": []
    },
    {
      "cell_type": "code",
      "source": [
        "st = stopwords.words('english')\n",
        "st.append(\"and\")"
      ],
      "metadata": {
        "id": "ZNIX3e3BGsts"
      },
      "execution_count": null,
      "outputs": []
    },
    {
      "cell_type": "code",
      "source": [
        "# Cleaning the data\n",
        "\n",
        "def message_cleaning(message):\n",
        "    test_punc_removed = [char for char in message if char not in string.punctuation]\n",
        "    test_punc_removed = ''.join(test_punc_removed)\n",
        "    test_punc_st_removed = []\n",
        "    for char in test_punc_removed.split():\n",
        "        if char.lower() not in st:\n",
        "            test_punc_st_removed.append(char)\n",
        "    test_punc_st_removed = \" \".join(test_punc_st_removed)\n",
        "    return test_punc_st_removed"
      ],
      "metadata": {
        "id": "7OGTM7ytG40G"
      },
      "execution_count": null,
      "outputs": []
    },
    {
      "cell_type": "code",
      "source": [
        "tweet_df_clean = tweet_df['text'].apply(message_cleaning)"
      ],
      "metadata": {
        "id": "gj18R04aG70z"
      },
      "execution_count": null,
      "outputs": []
    },
    {
      "cell_type": "code",
      "source": [
        "data = tweet_df_clean.tolist()"
      ],
      "metadata": {
        "id": "OVSo95DOHMGa"
      },
      "execution_count": null,
      "outputs": []
    },
    {
      "cell_type": "code",
      "source": [
        "tweets_countvectorizer = CountVectorizer().fit_transform(data).toarray()\n",
        "tweets_countvectorizer.shape"
      ],
      "metadata": {
        "colab": {
          "base_uri": "https://localhost:8080/"
        },
        "id": "I6OotzxcHOlQ",
        "outputId": "8d958078-bfbd-4439-ae5e-dfc7ea0029f2"
      },
      "execution_count": null,
      "outputs": [
        {
          "output_type": "execute_result",
          "data": {
            "text/plain": [
              "(11541, 13843)"
            ]
          },
          "metadata": {},
          "execution_count": 47
        }
      ]
    },
    {
      "cell_type": "code",
      "source": [
        "X = tweets_countvectorizer\n",
        "y = tweet_df['airline_sentiment']"
      ],
      "metadata": {
        "id": "bRWfE7N1HQzJ"
      },
      "execution_count": null,
      "outputs": []
    },
    {
      "cell_type": "code",
      "source": [
        "X_train, X_test, y_train, y_test = train_test_split(X, y, test_size = 0.2)"
      ],
      "metadata": {
        "id": "yXHrqVwYHUi9"
      },
      "execution_count": null,
      "outputs": []
    },
    {
      "cell_type": "code",
      "execution_count": null,
      "metadata": {
        "id": "oZsEY1WPgifO",
        "colab": {
          "base_uri": "https://localhost:8080/",
          "height": 74
        },
        "outputId": "5d458c1b-9ef4-45bc-839b-8f44c85923af"
      },
      "outputs": [
        {
          "output_type": "execute_result",
          "data": {
            "text/plain": [
              "MultinomialNB()"
            ],
            "text/html": [
              "<style>#sk-container-id-1 {color: black;background-color: white;}#sk-container-id-1 pre{padding: 0;}#sk-container-id-1 div.sk-toggleable {background-color: white;}#sk-container-id-1 label.sk-toggleable__label {cursor: pointer;display: block;width: 100%;margin-bottom: 0;padding: 0.3em;box-sizing: border-box;text-align: center;}#sk-container-id-1 label.sk-toggleable__label-arrow:before {content: \"▸\";float: left;margin-right: 0.25em;color: #696969;}#sk-container-id-1 label.sk-toggleable__label-arrow:hover:before {color: black;}#sk-container-id-1 div.sk-estimator:hover label.sk-toggleable__label-arrow:before {color: black;}#sk-container-id-1 div.sk-toggleable__content {max-height: 0;max-width: 0;overflow: hidden;text-align: left;background-color: #f0f8ff;}#sk-container-id-1 div.sk-toggleable__content pre {margin: 0.2em;color: black;border-radius: 0.25em;background-color: #f0f8ff;}#sk-container-id-1 input.sk-toggleable__control:checked~div.sk-toggleable__content {max-height: 200px;max-width: 100%;overflow: auto;}#sk-container-id-1 input.sk-toggleable__control:checked~label.sk-toggleable__label-arrow:before {content: \"▾\";}#sk-container-id-1 div.sk-estimator input.sk-toggleable__control:checked~label.sk-toggleable__label {background-color: #d4ebff;}#sk-container-id-1 div.sk-label input.sk-toggleable__control:checked~label.sk-toggleable__label {background-color: #d4ebff;}#sk-container-id-1 input.sk-hidden--visually {border: 0;clip: rect(1px 1px 1px 1px);clip: rect(1px, 1px, 1px, 1px);height: 1px;margin: -1px;overflow: hidden;padding: 0;position: absolute;width: 1px;}#sk-container-id-1 div.sk-estimator {font-family: monospace;background-color: #f0f8ff;border: 1px dotted black;border-radius: 0.25em;box-sizing: border-box;margin-bottom: 0.5em;}#sk-container-id-1 div.sk-estimator:hover {background-color: #d4ebff;}#sk-container-id-1 div.sk-parallel-item::after {content: \"\";width: 100%;border-bottom: 1px solid gray;flex-grow: 1;}#sk-container-id-1 div.sk-label:hover label.sk-toggleable__label {background-color: #d4ebff;}#sk-container-id-1 div.sk-serial::before {content: \"\";position: absolute;border-left: 1px solid gray;box-sizing: border-box;top: 0;bottom: 0;left: 50%;z-index: 0;}#sk-container-id-1 div.sk-serial {display: flex;flex-direction: column;align-items: center;background-color: white;padding-right: 0.2em;padding-left: 0.2em;position: relative;}#sk-container-id-1 div.sk-item {position: relative;z-index: 1;}#sk-container-id-1 div.sk-parallel {display: flex;align-items: stretch;justify-content: center;background-color: white;position: relative;}#sk-container-id-1 div.sk-item::before, #sk-container-id-1 div.sk-parallel-item::before {content: \"\";position: absolute;border-left: 1px solid gray;box-sizing: border-box;top: 0;bottom: 0;left: 50%;z-index: -1;}#sk-container-id-1 div.sk-parallel-item {display: flex;flex-direction: column;z-index: 1;position: relative;background-color: white;}#sk-container-id-1 div.sk-parallel-item:first-child::after {align-self: flex-end;width: 50%;}#sk-container-id-1 div.sk-parallel-item:last-child::after {align-self: flex-start;width: 50%;}#sk-container-id-1 div.sk-parallel-item:only-child::after {width: 0;}#sk-container-id-1 div.sk-dashed-wrapped {border: 1px dashed gray;margin: 0 0.4em 0.5em 0.4em;box-sizing: border-box;padding-bottom: 0.4em;background-color: white;}#sk-container-id-1 div.sk-label label {font-family: monospace;font-weight: bold;display: inline-block;line-height: 1.2em;}#sk-container-id-1 div.sk-label-container {text-align: center;}#sk-container-id-1 div.sk-container {/* jupyter's `normalize.less` sets `[hidden] { display: none; }` but bootstrap.min.css set `[hidden] { display: none !important; }` so we also need the `!important` here to be able to override the default hidden behavior on the sphinx rendered scikit-learn.org. See: https://github.com/scikit-learn/scikit-learn/issues/21755 */display: inline-block !important;position: relative;}#sk-container-id-1 div.sk-text-repr-fallback {display: none;}</style><div id=\"sk-container-id-1\" class=\"sk-top-container\"><div class=\"sk-text-repr-fallback\"><pre>MultinomialNB()</pre><b>In a Jupyter environment, please rerun this cell to show the HTML representation or trust the notebook. <br />On GitHub, the HTML representation is unable to render, please try loading this page with nbviewer.org.</b></div><div class=\"sk-container\" hidden><div class=\"sk-item\"><div class=\"sk-estimator sk-toggleable\"><input class=\"sk-toggleable__control sk-hidden--visually\" id=\"sk-estimator-id-1\" type=\"checkbox\" checked><label for=\"sk-estimator-id-1\" class=\"sk-toggleable__label sk-toggleable__label-arrow\">MultinomialNB</label><div class=\"sk-toggleable__content\"><pre>MultinomialNB()</pre></div></div></div></div></div>"
            ]
          },
          "metadata": {},
          "execution_count": 50
        }
      ],
      "source": [
        "NB_classifier = MultinomialNB()\n",
        "NB_classifier.fit(X_train, y_train)"
      ]
    },
    {
      "cell_type": "code",
      "execution_count": null,
      "metadata": {
        "id": "cHkGO0K1hMvf"
      },
      "outputs": [],
      "source": [
        "y_pred = NB_classifier.predict(X_test)"
      ]
    },
    {
      "cell_type": "code",
      "execution_count": null,
      "metadata": {
        "id": "a7cSXGm1huU1",
        "colab": {
          "base_uri": "https://localhost:8080/",
          "height": 448
        },
        "outputId": "6495f1a1-7b25-4baf-da32-533246dafe56"
      },
      "outputs": [
        {
          "output_type": "execute_result",
          "data": {
            "text/plain": [
              "<Axes: >"
            ]
          },
          "metadata": {},
          "execution_count": 52
        },
        {
          "output_type": "display_data",
          "data": {
            "text/plain": [
              "<Figure size 640x480 with 2 Axes>"
            ],
            "image/png": "[encoded data removed]"
          },
          "metadata": {}
        }
      ],
      "source": [
        "cm = confusion_matrix(y_test, y_pred)\n",
        "cm\n",
        "sns.heatmap(cm, annot = True)"
      ]
    },
    {
      "cell_type": "code",
      "execution_count": null,
      "metadata": {
        "id": "kvy9hpkah0z-",
        "colab": {
          "base_uri": "https://localhost:8080/"
        },
        "outputId": "159a552f-4b95-45b4-f291-820b17997c6b"
      },
      "outputs": [
        {
          "output_type": "execute_result",
          "data": {
            "text/plain": [
              "0.8982243395409268"
            ]
          },
          "metadata": {},
          "execution_count": 53
        }
      ],
      "source": [
        "ac = accuracy_score(y_test, y_pred)\n",
        "ac"
      ]
    },
    {
      "cell_type": "code",
      "execution_count": null,
      "metadata": {
        "id": "g2YMx2c1h3p4",
        "colab": {
          "base_uri": "https://localhost:8080/"
        },
        "outputId": "46a0b3e9-cb82-4fec-9339-b0707b5274b0"
      },
      "outputs": [
        {
          "output_type": "stream",
          "name": "stdout",
          "text": [
            "              precision    recall  f1-score   support\n",
            "\n",
            "           0       0.91      0.97      0.94      1832\n",
            "           1       0.83      0.64      0.72       477\n",
            "\n",
            "    accuracy                           0.90      2309\n",
            "   macro avg       0.87      0.80      0.83      2309\n",
            "weighted avg       0.89      0.90      0.89      2309\n",
            "\n"
          ]
        }
      ],
      "source": [
        "print(classification_report(y_test, y_pred))"
      ]
    },
    {
      "cell_type": "markdown",
      "source": [
        "**Data Preparation**"
      ],
      "metadata": {
        "id": "DvNNN2QdEacW"
      }
    },
    {
      "cell_type": "code",
      "source": [
        "sentiment_label = tweet_df.airline_sentiment.factorize()\n",
        "sentiment_label"
      ],
      "metadata": {
        "colab": {
          "base_uri": "https://localhost:8080/"
        },
        "id": "5uzhQ64_B4dR",
        "outputId": "02b8b2d2-e380-4ebd-de76-363b7f4b2204"
      },
      "execution_count": null,
      "outputs": [
        {
          "output_type": "execute_result",
          "data": {
            "text/plain": [
              "(array([0, 1, 1, ..., 0, 1, 1]),\n",
              " Index(['positive', 'negative'], dtype='object'))"
            ]
          },
          "metadata": {},
          "execution_count": 22
        }
      ]
    },
    {
      "cell_type": "code",
      "source": [
        "tweet = tweet_df.text.values\n",
        "tokenizer = Tokenizer(num_words=5000)\n",
        "tokenizer.fit_on_texts(tweet)\n",
        "vocab_size = len(tokenizer.word_index) + 1\n",
        "encoded_docs = tokenizer.texts_to_sequences(tweet)\n",
        "padded_sequence = pad_sequences(encoded_docs, maxlen=200)"
      ],
      "metadata": {
        "id": "zWWIs_1TB7Ab"
      },
      "execution_count": null,
      "outputs": []
    },
    {
      "cell_type": "code",
      "source": [
        "print(tokenizer.word_index)\n",
        "print(tweet[0])\n",
        "print(encoded_docs[0])"
      ],
      "metadata": {
        "colab": {
          "base_uri": "https://localhost:8080/"
        },
        "id": "RhjBF9W5CBFF",
        "outputId": "bd6cabeb-7369-49e0-be90-13d95501fbfd"
      },
      "execution_count": null,
      "outputs": [
        {
          "output_type": "stream",
          "name": "stdout",
          "text": [
            "{'to': 1, 'the': 2, 'i': 3, 'a': 4, 'united': 5, 'you': 6, 'for': 7, 'flight': 8, 'and': 9, 'on': 10, 'my': 11, 'usairways': 12, 'americanair': 13, 'is': 14, 'in': 15, 'southwestair': 16, 'of': 17, 'jetblue': 18, 'me': 19, 'your': 20, 'it': 21, 'was': 22, 'not': 23, 'no': 24, 'have': 25, 'at': 26, 'with': 27, 'that': 28, 'this': 29, 'get': 30, 'but': 31, 'be': 32, 'cancelled': 33, 'thanks': 34, 'now': 35, 'service': 36, 'are': 37, 'we': 38, 'from': 39, 'an': 40, 'been': 41, 'just': 42, '2': 43, 'so': 44, 'customer': 45, 'help': 46, 't': 47, 'can': 48, 'time': 49, 'co': 50, 'up': 51, 'hours': 52, 'http': 53, 'do': 54, 'hold': 55, 'they': 56, 'out': 57, 'amp': 58, 'plane': 59, \"i'm\": 60, 'us': 61, 'all': 62, 'will': 63, 'why': 64, 'thank': 65, 'still': 66, 'our': 67, 'delayed': 68, 'what': 69, 'when': 70, 'how': 71, 'one': 72, \"can't\": 73, 'flights': 74, 'call': 75, 'gate': 76, 'hour': 77, 'had': 78, 'flightled': 79, 'back': 80, 'bag': 81, 'if': 82, 'would': 83, 'after': 84, 'has': 85, 'about': 86, 'there': 87, \"it's\": 88, \"don't\": 89, 'as': 90, 'got': 91, 'late': 92, 'phone': 93, 'need': 94, 'please': 95, 'again': 96, '3': 97, 'airline': 98, 'over': 99, 'or': 100, 'like': 101, 'waiting': 102, 'virginamerica': 103, 'today': 104, 'more': 105, 'am': 106, 'guys': 107, 'by': 108, '4': 109, 'great': 110, 'wait': 111, 'u': 112, 'because': 113, 'fly': 114, 'never': 115, 'day': 116, 'trying': 117, \"i've\": 118, 'airport': 119, 'then': 120, 'delay': 121, 'only': 122, '1': 123, 'really': 124, 'minutes': 125, 'even': 126, 'going': 127, 'any': 128, 'should': 129, 'did': 130, '5': 131, 'last': 132, 'people': 133, 'way': 134, 'bags': 135, 'weather': 136, 'were': 137, 'good': 138, 'know': 139, 'agent': 140, 'very': 141, 'off': 142, 'home': 143, 'make': 144, 'told': 145, 'luggage': 146, 'another': 147, 'here': 148, 'worst': 149, 'go': 150, 'flying': 151, 'ever': 152, 'lost': 153, 'than': 154, 'seat': 155, 'w': 156, 'change': 157, 'check': 158, 'them': 159, 'take': 160, 'want': 161, 'hrs': 162, 'due': 163, 'crew': 164, 'getting': 165, 'first': 166, 'days': 167, 'flighted': 168, 'work': 169, 'someone': 170, 'baggage': 171, 'much': 172, 'love': 173, 'too': 174, 'tomorrow': 175, 'made': 176, 'experience': 177, \"that's\": 178, 'response': 179, 'new': 180, 'ticket': 181, 'being': 182, 'see': 183, 'yes': 184, 'could': 185, 'two': 186, 'sitting': 187, 'their': 188, 'through': 189, 'next': 190, 'other': 191, 'she': 192, 'min': 193, 'staff': 194, 'customers': 195, 'bad': 196, 'travel': 197, \"didn't\": 198, 'before': 199, 'let': 200, 'email': 201, 'who': 202, 'better': 203, 'line': 204, 'seats': 205, 'best': 206, 'trip': 207, 'number': 208, 'aa': 209, 'problems': 210, 'said': 211, 'her': 212, 'online': 213, 'right': 214, '10': 215, 'since': 216, 'stuck': 217, 'times': 218, '30': 219, 'jfk': 220, 'some': 221, 'long': 222, 'flightr': 223, \"won't\": 224, 'agents': 225, 'already': 226, 'miss': 227, \"doesn't\": 228, 'nothing': 229, 'boarding': 230, \"you're\": 231, 'where': 232, 'well': 233, 'give': 234, 'issue': 235, 'care': 236, 'system': 237, '6': 238, 'passengers': 239, 'website': 240, 'sure': 241, 'book': 242, 'connection': 243, 'booked': 244, 'tried': 245, 'hotel': 246, 'rude': 247, 'left': 248, 'find': 249, 'dm': 250, 'sent': 251, 'yet': 252, 'same': 253, 'does': 254, 'night': 255, 'delays': 256, 'called': 257, 'missed': 258, 'into': 259, 'refund': 260, 'keep': 261, 'tonight': 262, 'flt': 263, 'airlines': 264, \"i'll\": 265, 'rebooked': 266, 'says': 267, 'miles': 268, 'put': 269, 'mins': 270, 'morning': 271, 'reservation': 272, 'dfw': 273, 'he': 274, 'issues': 275, 'awesome': 276, 'info': 277, 'think': 278, 'hope': 279, 'nice': 280, 'pay': 281, 'air': 282, 'down': 283, 'working': 284, 'booking': 285, 'finally': 286, 'tell': 287, 'ago': 288, 'rebook': 289, 'use': 290, 'lax': 291, 'anything': 292, 'also': 293, 'wifi': 294, 'its': 295, '20': 296, 'every': 297, 'anyone': 298, 'until': 299, \"what's\": 300, 'appreciate': 301, 'free': 302, 'done': 303, 'missing': 304, 'week': 305, 'having': 306, 'business': 307, 'helpful': 308, 'terrible': 309, 'answer': 310, 'dca': 311, 'phl': 312, 'making': 313, 'always': 314, 'person': 315, 'say': 316, 'sfo': 317, 'able': 318, 'problem': 319, '8': 320, 'fail': 321, 'checked': 322, 'board': 323, 'team': 324, 'disappointed': 325, 'without': 326, 'fix': 327, '7': 328, 'credit': 329, 'delta': 330, 'class': 331, 'rep': 332, 'voucher': 333, 'speak': 334, 'which': 335, 'update': 336, 'amazing': 337, 'ord': 338, 'yesterday': 339, 'ridiculous': 340, 'almost': 341, 'thx': 342, 'paid': 343, 'understand': 344, 'unacceptable': 345, 'attendant': 346, 'early': 347, \"couldn't\": 348, 'come': 349, 'app': 350, 'leave': 351, 'extra': 352, 'hung': 353, 'happy': 354, 'money': 355, 'available': 356, 'sorry': 357, 'many': 358, 'claim': 359, \"isn't\": 360, '15': 361, 'look': 362, 'pilot': 363, 'poor': 364, \"haven't\": 365, 'ewr': 366, 'talk': 367, 'horrible': 368, 'stop': 369, 'full': 370, 'planes': 371, 'tarmac': 372, 'employees': 373, '45': 374, 'least': 375, 'stranded': 376, \"wasn't\": 377, 'everyone': 378, 'clt': 379, 'status': 380, 'upgrade': 381, 'tickets': 382, 'job': 383, 'took': 384, 'ok': 385, '“': 386, 'ground': 387, 'seriously': 388, \"we're\": 389, 'while': 390, 'supposed': 391, 'company': 392, 'gt': 393, 'though': 394, 'connecting': 395, 'different': 396, 'southwest': 397, 'departure': 398, 'try': 399, 'actually': 400, 'bos': 401, 'calling': 402, 'contact': 403, 'looking': 404, 'instead': 405, '1st': 406, 'site': 407, 'year': 408, '40': 409, 'family': 410, 'found': 411, 'ur': 412, 'half': 413, 'most': 414, '50': 415, 'landed': 416, 'taking': 417, 'received': 418, 'oh': 419, 'frustrated': 420, 'open': 421, 'vacation': 422, 'three': 423, 'weeks': 424, 'food': 425, 'follow': 426, 'wrong': 427, 'hr': 428, 'gave': 429, 'via': 430, 'wife': 431, 'doing': 432, 'boston': 433, 'earlier': 434, 'twitter': 435, 'something': 436, 'bc': 437, 'far': 438, 'big': 439, 'mechanical': 440, 'broken': 441, '24': 442, 'denver': 443, 'reason': 444, '11': 445, '9': 446, 'desk': 447, 'send': 448, 'twice': 449, 'away': 450, 'reply': 451, 'his': 452, 'direct': 453, 'worse': 454, 'past': 455, 'maybe': 456, 'pass': 457, 'enough': 458, 'sit': 459, 'needs': 460, 'b': 461, 'those': 462, 'point': 463, 'might': 464, 'dallas': 465, 'makes': 466, 'asked': 467, 'tweet': 468, 'name': 469, 'option': 470, 'once': 471, 'went': 472, 'charge': 473, 'old': 474, '25': 475, 'changed': 476, 'both': 477, 'less': 478, 'message': 479, 'chicago': 480, 'runway': 481, 'little': 482, 'thing': 483, 'nyc': 484, 'san': 485, '800': 486, 'stay': 487, 'waited': 488, 'lot': 489, 'saying': 490, 'leaving': 491, 'awful': 492, '200': 493, 'things': 494, 'return': 495, 'around': 496, 'seems': 497, 'fee': 498, 'lack': 499, 'american': 500, 'frustrating': 501, 'reservations': 502, 'cool': 503, 'hey': 504, 'hard': 505, 'account': 506, 'longer': 507, 'sucks': 508, \"i'd\": 509, 'telling': 510, 'real': 511, 'phx': 512, 'card': 513, 'car': 514, 'houston': 515, 'charlotte': 516, 'show': 517, 'destination': 518, 'given': 519, 'airways': 520, 'arrived': 521, 'during': 522, 'him': 523, 'together': 524, 'looks': 525, 'calls': 526, 'guess': 527, 'attendants': 528, 'these': 529, \"you've\": 530, 'feel': 531, 'sat': 532, 'minute': 533, 'snow': 534, 'coming': 535, 'cust': 536, 'own': 537, 'else': 538, 'thru': 539, 'maintenance': 540, 're': 541, 'start': 542, 'such': 543, 'vegas': 544, 'link': 545, 'pls': 546, 'joke': 547, '12': 548, \"we've\": 549, 'iah': 550, 'counting': 551, 'heard': 552, 'fll': 553, 'policy': 554, 'landing': 555, 'suck': 556, 'row': 557, 'loyal': 558, \"there's\": 559, 'den': 560, 'may': 561, 'happened': 562, 'options': 563, 'add': 564, 'member': 565, 'c': 566, 'error': 567, 'philly': 568, 'apology': 569, 'life': 570, 'spent': 571, 'reflight': 572, \"wouldn't\": 573, 'information': 574, 'plus': 575, 'human': 576, 'scheduled': 577, 'offer': 578, 'cost': 579, 'newark': 580, 'glad': 581, 'using': 582, 'soon': 583, 'believe': 584, 'hear': 585, 'communication': 586, 'reach': 587, 'busy': 588, 'iad': 589, 'end': 590, 'lga': 591, '100': 592, 'assistance': 593, 'cannot': 594, 'each': 595, 'terminal': 596, 'fleek': 597, 'everything': 598, 'im': 599, 'lose': 600, 'quick': 601, 'boarded': 602, 'ua': 603, 'arrive': 604, 'needed': 605, 'changes': 606, 'usair': 607, 'wow': 608, 'few': 609, 'room': 610, 'complaint': 611, 'jet': 612, 'expect': 613, 'swa': 614, 'flew': 615, 'las': 616, 'paying': 617, 'kids': 618, 'helping': 619, 'entire': 620, 'computer': 621, 'guy': 622, 'unitedairlines': 623, \"they're\": 624, 'counter': 625, \"aren't\": 626, 'pick': 627, 'miami': 628, \"fleet's\": 629, 'confirmation': 630, 'forward': 631, 'wanted': 632, 'whole': 633, 'used': 634, 'blue': 635, '2nd': 636, 'process': 637, 'dc': 638, 'mean': 639, 'passenger': 640, 'city': 641, 'wtf': 642, 'hoping': 643, 'empty': 644, 'non': 645, 'form': 646, 'idea': 647, 'automated': 648, 'holding': 649, 'pretty': 650, 'beyond': 651, 'checking': 652, 'run': 653, 'bwi': 654, 'situation': 655, 'sw': 656, 'fine': 657, 'respond': 658, 'pilots': 659, 'place': 660, 'years': 661, 'chance': 662, 'thought': 663, 'flighting': 664, 'rather': 665, 'sleep': 666, 'standby': 667, 'fault': 668, 'deal': 669, 'tv': 670, 'customerservice': 671, 'rt': 672, 'cant': 673, 'points': 674, 'wish': 675, 'request': 676, 'supervisor': 677, 'upset': 678, 'yeah': 679, 'taken': 680, 'friend': 681, 'mco': 682, 'moved': 683, 'completely': 684, 'buy': 685, 'offered': 686, 'handle': 687, 'confirmed': 688, 'treat': 689, 'second': 690, 'updates': 691, 'traveling': 692, 'top': 693, 'case': 694, 'disconnected': 695, 'hi': 696, 'support': 697, 'easy': 698, 'reschedule': 699, 'apparently': 700, 'monday': 701, 'group': 702, 'ask': 703, 'international': 704, 'compensation': 705, 'happen': 706, 'delivered': 707, 'employee': 708, 'hate': 709, 'lt': 710, 'mia': 711, 'either': 712, 'provide': 713, 'question': 714, 'possible': 715, 'carry': 716, 'connections': 717, 'drive': 718, 'months': 719, 'seem': 720, 'asking': 721, 'zero': 722, \"we'll\": 723, 'sunday': 724, 'lol': 725, 'appreciated': 726, 'la': 727, 'friendly': 728, 'world': 729, 'super': 730, 'sad': 731, 'checkin': 732, 'charged': 733, \"shouldn't\": 734, 'club': 735, 'helped': 736, \"y'all\": 737, 'between': 738, 'fees': 739, 'platinum': 740, 'figure': 741, 'fact': 742, 'leg': 743, 'hopefully': 744, 'gets': 745, 'flightlations': 746, 'live': 747, 'kind': 748, 'four': 749, 'bought': 750, 'month': 751, 'flightlation': 752, 'high': 753, 'price': 754, 'future': 755, 'reps': 756, 'despite': 757, 'atl': 758, 'happens': 759, 'extremely': 760, 'clothes': 761, 'means': 762, 'list': 763, 'huge': 764, 'crazy': 765, 'losing': 766, 'destinationdragons': 767, 'answering': 768, 'front': 769, 'tsa': 770, 'fun': 771, 'inconvenience': 772, 'https': 773, 'several': 774, 'shit': 775, 'answers': 776, 'gives': 777, 'sending': 778, 'seen': 779, 'media': 780, 'water': 781, 'f': 782, 'asap': 783, 'giving': 784, 'ny': 785, 'rescheduled': 786, 'came': 787, 'safety': 788, 'purchase': 789, 'spoke': 790, 'address': 791, 'luck': 792, 'details': 793, 'pm': 794, 'fixed': 795, 'unable': 796, 'phones': 797, 'sense': 798, 'multiple': 799, 'switch': 800, 'dont': 801, 'friends': 802, 'rock': 803, 'lots': 804, 'flown': 805, 'gold': 806, 'gonna': 807, 'luv': 808, '1k': 809, 'held': 810, 'kudos': 811, 'load': 812, 'arrival': 813, 'o': 814, 'treated': 815, 'hang': 816, \"hasn't\": 817, 'relations': 818, 'award': 819, 'must': 820, 'totally': 821, 'keeps': 822, 'spend': 823, 'report': 824, 'austin': 825, '”': 826, 'set': 827, 'excellent': 828, 'part': 829, 'plans': 830, 'storm': 831, 'complete': 832, 'wonderful': 833, 'aircraft': 834, 'members': 835, 'ready': 836, 'nope': 837, 'original': 838, 'priority': 839, 'ppl': 840, 'lines': 841, 'knew': 842, 'tuesday': 843, 'country': 844, 'under': 845, 'americanairlines': 846, '000': 847, 'cabin': 848, 'probably': 849, 'fare': 850, 'read': 851, 'date': 852, 'overnight': 853, 'matter': 854, 'okay': 855, 'neveragain': 856, 'responding': 857, 'dealing': 858, '1hr': 859, 'myself': 860, 'attitude': 861, 'allow': 862, 'letter': 863, 'gone': 864, 'layover': 865, \"she's\": 866, 'running': 867, 'folks': 868, 'r': 869, 'forced': 870, 'space': 871, 'word': 872, 'explain': 873, 'ice': 874, 'literally': 875, 'control': 876, 'complaints': 877, 'mess': 878, 'excited': 879, 'cause': 880, 'middle': 881, 'kept': 882, 'land': 883, 'absolutely': 884, 'small': 885, 'currently': 886, 'vouchers': 887, 'arriving': 888, 'record': 889, 'goes': 890, 'mine': 891, 'knows': 892, 'however': 893, 'usairwaysfail': 894, 'door': 895, '90': 896, 'choice': 897, 'plan': 898, 'bring': 899, 'hangs': 900, 'yall': 901, 'correct': 902, 'useless': 903, '2015': 904, 'takes': 905, '35': 906, 'closed': 907, 'access': 908, 'center': 909, 'husband': 910, 'learn': 911, 'worked': 912, 'services': 913, 'note': 914, 'lounge': 915, 'ruined': 916, 'bs': 917, 'tag': 918, 'letting': 919, 'worth': 920, 'unfortunately': 921, '75': 922, 'failed': 923, 'nashville': 924, 'none': 925, 'explanation': 926, 'orlando': 927, 'area': 928, 'bna': 929, 'haha': 930, 'cold': 931, 'birthday': 932, 'sign': 933, 'mind': 934, 'ride': 935, 'anyway': 936, 'web': 937, 'drink': 938, 'shows': 939, 'window': 940, \"let's\": 941, 'happening': 942, 'mileage': 943, 'course': 944, 'svc': 945, 'overhead': 946, 'unhelpful': 947, 'caused': 948, 'drop': 949, 'unhappy': 950, 's': 951, 'resolved': 952, 'rdu': 953, 'changing': 954, 'volume': 955, '3rd': 956, 'entertainment': 957, 'schedule': 958, 'flyer': 959, 'page': 960, 'lady': 961, 'btw': 962, 'friday': 963, 'filed': 964, 'behind': 965, 'story': 966, 'feb': 967, 'dropped': 968, 'tix': 969, 'yr': 970, 'short': 971, 'started': 972, \"weren't\": 973, 'others': 974, 'total': 975, 'anymore': 976, '22': 977, 'works': 978, 'captain': 979, 'tired': 980, 'move': 981, 'major': 982, '2hrs': 983, 'airplane': 984, 'screwed': 985, 'talked': 986, 'cover': 987, 'fucking': 988, 'except': 989, 'social': 990, 'bumped': 991, 'safe': 992, 'acceptable': 993, 'worries': 994, 'trouble': 995, 'absolute': 996, 'notification': 997, 'stuff': 998, 'route': 999, \"he's\": 1000, 'charging': 1001, 'meeting': 1002, 'nightmare': 1003, 'man': 1004, 'connect': 1005, 'pathetic': 1006, 'airports': 1007, 'keeping': 1008, 'n': 1009, 'failure': 1010, 'takeoff': 1011, 'catch': 1012, 'damn': 1013, 'single': 1014, 'cs': 1015, 'post': 1016, 'angry': 1017, 'badservice': 1018, 'showing': 1019, 'kidding': 1020, 'allowed': 1021, 'true': 1022, '60': 1023, 'meal': 1024, 'plz': 1025, 'close': 1026, 'philadelphia': 1027, 'dividend': 1028, 'select': 1029, 'mobile': 1030, 'depart': 1031, 'pre': 1032, 'dulles': 1033, 'watch': 1034, 'bit': 1035, 'round': 1036, 'bank': 1037, 'submitted': 1038, 'resolve': 1039, 'anywhere': 1040, 'moving': 1041, '19': 1042, 'talking': 1043, 'flightd': 1044, 'train': 1045, 'onto': 1046, 'share': 1047, 'tells': 1048, 'confirm': 1049, 'denied': 1050, 'feedback': 1051, 'hell': 1052, 'onboard': 1053, 'bother': 1054, 'excuse': 1055, '21': 1056, 'compensate': 1057, 'refused': 1058, 'hanging': 1059, 'evening': 1060, 'handled': 1061, 'especially': 1062, 'unbelievable': 1063, 'fantastic': 1064, 'seating': 1065, 'planned': 1066, 'video': 1067, 'fuck': 1068, 'itinerary': 1069, 'suitcase': 1070, 'emails': 1071, 'loved': 1072, 'slow': 1073, 'waste': 1074, 'experienced': 1075, 'cut': 1076, 'auto': 1077, 'transfer': 1078, 'security': 1079, 'equipment': 1080, 'standing': 1081, 'switched': 1082, 'file': 1083, 'impossible': 1084, 'updated': 1085, 'wasted': 1086, 'weekend': 1087, 'power': 1088, 'id': 1089, 'merger': 1090, 'sick': 1091, 'listening': 1092, 'daughter': 1093, 'impressed': 1094, 'answered': 1095, 'baby': 1096, 'god': 1097, 'hire': 1098, 'lies': 1099, 'hello': 1100, 'clearly': 1101, 'companion': 1102, 'virgin': 1103, 'inflight': 1104, 'disappointing': 1105, 'text': 1106, 'oscars': 1107, '14': 1108, 'notice': 1109, 'mention': 1110, 'afternoon': 1111, 'frequent': 1112, 'funny': 1113, 'lovely': 1114, 'code': 1115, 'mail': 1116, 'preferred': 1117, 'badcustomerservice': 1118, 'flightling': 1119, 'usually': 1120, 'definitely': 1121, 'followed': 1122, 'offering': 1123, 'phoenix': 1124, 'gates': 1125, 'office': 1126, 'tho': 1127, 'difference': 1128, 'cc': 1129, 'screw': 1130, '23': 1131, 'de': 1132, 'per': 1133, 'following': 1134, 'catering': 1135, 'conf': 1136, 'turned': 1137, '16': 1138, 'warm': 1139, 'funeral': 1140, 'expensive': 1141, 'news': 1142, 'traveler': 1143, 'i’m': 1144, 'saturday': 1145, 'assist': 1146, 'receive': 1147, 'smh': 1148, 'apologies': 1149, 'passbook': 1150, 'ugh': 1151, 'trust': 1152, 'promised': 1153, 'provided': 1154, 'representative': 1155, 'solution': 1156, 'trips': 1157, 'e': 1158, 'refuse': 1159, 'mom': 1160, 'wonder': 1161, 'forgot': 1162, 'delivery': 1163, 'mistake': 1164, 'above': 1165, 'dollars': 1166, 'broke': 1167, 'engine': 1168, 'gotten': 1169, 'bus': 1170, 'enjoy': 1171, 'notified': 1172, 'callback': 1173, 'prices': 1174, 'patient': 1175, 'winter': 1176, 'fl': 1177, 'imaginedragons': 1178, 'phlairport': 1179, 'internet': 1180, 'program': 1181, 'view': 1182, 'adding': 1183, 'faster': 1184, 'coffee': 1185, 'picked': 1186, 'fyi': 1187, 'y': 1188, '18': 1189, 'concern': 1190, 'outside': 1191, 'third': 1192, 'serious': 1193, 'training': 1194, 'dept': 1195, 'willing': 1196, 'ahead': 1197, 'incredibly': 1198, '17': 1199, 'turn': 1200, 'remember': 1201, 'questions': 1202, 'incompetence': 1203, 'refunded': 1204, 'inside': 1205, 'touch': 1206, 'fill': 1207, 'freezing': 1208, 'receipt': 1209, 'fast': 1210, 'forever': 1211, 'disgusting': 1212, 'important': 1213, 'incompetent': 1214, 'alone': 1215, 'choose': 1216, 'regarding': 1217, 'ruining': 1218, 'eventually': 1219, 'plenty': 1220, 'department': 1221, 'buffalo': 1222, 'systems': 1223, '728': 1224, 'd': 1225, 'match': 1226, 'emailed': 1227, 'eat': 1228, 'step': 1229, 'damaged': 1230, 'expected': 1231, 'count': 1232, 'hot': 1233, 'sort': 1234, 'resolution': 1235, 'avail': 1236, 'aus': 1237, 'headed': 1238, 'continue': 1239, 'additional': 1240, 'actual': 1241, 'truly': 1242, 'intl': 1243, 'bird': 1244, 'attempt': 1245, 'tracking': 1246, \"you'll\": 1247, 'fingers': 1248, 'crossed': 1249, 'numbers': 1250, 'nobody': 1251, 'premier': 1252, 'favorite': 1253, 'unprofessional': 1254, 'courtesy': 1255, 'diff': 1256, 'loaded': 1257, 'clue': 1258, 'final': 1259, 'exactly': 1260, 'etc': 1261, 'flyers': 1262, 'personal': 1263, 'speaking': 1264, 'b4': 1265, 'fa': 1266, 'deliver': 1267, 'pleasant': 1268, 'patience': 1269, 'act': 1270, 'five': 1271, 'fair': 1272, 'safely': 1273, 'atlanta': 1274, '👍': 1275, 'handling': 1276, 'leaves': 1277, 'tmrw': 1278, 'exit': 1279, 'crews': 1280, 'relate': 1281, 'mad': 1282, 'words': 1283, 'ended': 1284, 'straight': 1285, 'accommodate': 1286, 'added': 1287, 'cross': 1288, 'messed': 1289, 'congrats': 1290, 'fuel': 1291, 'shame': 1292, 'welcome': 1293, 'along': 1294, 'requested': 1295, 'drinks': 1296, 'child': 1297, 'likely': 1298, 'perfect': 1299, 'raise': 1300, 'travelers': 1301, 'filled': 1302, 'pull': 1303, 'saw': 1304, 'rules': 1305, 'coach': 1306, 'yep': 1307, 'passes': 1308, 'previous': 1309, 'tweeting': 1310, 'deserves': 1311, 'carousel': 1312, 'stopped': 1313, 'computers': 1314, 'delaying': 1315, 'ways': 1316, 'overbooked': 1317, 'fit': 1318, 'killing': 1319, 'simply': 1320, 'woman': 1321, '13': 1322, 'yyz': 1323, '5hrs': 1324, '30am': 1325, 'print': 1326, 'policies': 1327, 'jetway': 1328, 'fan': 1329, 'double': 1330, 'son': 1331, 'lie': 1332, 'officially': 1333, 'cmh': 1334, 'further': 1335, 'crappy': 1336, 'till': 1337, 'honest': 1338, 'cheap': 1339, 'possibly': 1340, 'suppose': 1341, 'feeling': 1342, 'wasting': 1343, 'clean': 1344, 'traffic': 1345, 'nothappy': 1346, 'special': 1347, 'nearly': 1348, '😊': 1349, 'sf': 1350, 'outstanding': 1351, 'nonstop': 1352, 'purchased': 1353, 'sounds': 1354, 'sweet': 1355, 'improve': 1356, 'expired': 1357, 'wanna': 1358, 'worry': 1359, 'spending': 1360, 'couple': 1361, 'ones': 1362, 'rental': 1363, 'crap': 1364, 'win': 1365, 'items': 1366, 'alternate': 1367, '400': 1368, 'emergency': 1369, '150': 1370, 'break': 1371, 'characters': 1372, 'order': 1373, 'funds': 1374, '70': 1375, '55': 1376, 'absurd': 1377, 'upgrades': 1378, 'disaster': 1379, 'experiences': 1380, 'shot': 1381, 'showed': 1382, 'sea': 1383, '00': 1384, 'blame': 1385, 'avoid': 1386, 'seattle': 1387, 'ceo': 1388, 'flightation': 1389, 'midnight': 1390, 'finding': 1391, 'tampa': 1392, 'main': 1393, 'annoying': 1394, 'watched': 1395, 'level': 1396, 'surprise': 1397, 'quality': 1398, 'pr': 1399, 'tweets': 1400, 'cab': 1401, 'heading': 1402, 'sleeping': 1403, 'domestic': 1404, 'professional': 1405, 'children': 1406, 'mother': 1407, 'legroom': 1408, 'rate': 1409, 'allowing': 1410, 'party': 1411, 'wednesday': 1412, 'snacks': 1413, 'prompt': 1414, 'pbi': 1415, 'nc': 1416, 'sold': 1417, 'gotta': 1418, 'informed': 1419, 'sju': 1420, 'jb': 1421, 'america': 1422, 'side': 1423, 'hands': 1424, 'dal': 1425, 'biz': 1426, 'beautiful': 1427, 'advise': 1428, \"you'd\": 1429, 'afford': 1430, 'hand': 1431, 'lame': 1432, 'premium': 1433, 'across': 1434, 'logan': 1435, 'texas': 1436, 'watching': 1437, 'music': 1438, 'current': 1439, 'errors': 1440, 'screen': 1441, 'routes': 1442, 'cheers': 1443, 'stewardess': 1444, 'uk': 1445, 'diego': 1446, 'sharing': 1447, '300': 1448, 'mechanics': 1449, 'mileageplus': 1450, 'honor': 1451, 'simple': 1452, 'st': 1453, 'difficult': 1454, 'properly': 1455, 'dead': 1456, 'inbound': 1457, 'within': 1458, 'consider': 1459, 'cle': 1460, 'feels': 1461, 'dia': 1462, 'treatment': 1463, 'clear': 1464, \"o'hare\": 1465, 'example': 1466, 'play': 1467, 'sell': 1468, 'management': 1469, 'announcement': 1470, 'frustration': 1471, 'public': 1472, 'whose': 1473, 'assigned': 1474, 'originally': 1475, '0': 1476, 'manager': 1477, 'fight': 1478, 'unreal': 1479, 'msg': 1480, 'wet': 1481, '500': 1482, 'honeymoon': 1483, 'upgraded': 1484, 'frozen': 1485, 'respect': 1486, 'felt': 1487, 'taxi': 1488, 'pissed': 1489, 'knowing': 1490, 'ive': 1491, 'pit': 1492, 'perhaps': 1493, 'corporate': 1494, 'although': 1495, 'sister': 1496, 'tpa': 1497, 'usual': 1498, 'push': 1499, 'wedding': 1500, 'type': 1501, 'insane': 1502, 'somewhere': 1503, 'reward': 1504, 'apologize': 1505, 'figured': 1506, 'mdw': 1507, 'tough': 1508, 'dfwairport': 1509, 'skies': 1510, 'pdx': 1511, '❤️': 1512, 'cities': 1513, 'tech': 1514, 'thats': 1515, 'dog': 1516, 'queue': 1517, 'imagine': 1518, 'ran': 1519, 'face': 1520, 'met': 1521, 'driving': 1522, 'arrives': 1523, 'based': 1524, 'contacted': 1525, 'easily': 1526, 'omg': 1527, 'laptop': 1528, 'paper': 1529, 'accept': 1530, 'incredible': 1531, 'thankyou': 1532, 'prior': 1533, 'global': 1534, 'economy': 1535, 'become': 1536, '3hrs': 1537, 'thnx': 1538, 'wont': 1539, '140': 1540, 'transferred': 1541, 'responded': 1542, 'hotels': 1543, 'rooms': 1544, 'cancun': 1545, 'doors': 1546, 'traveled': 1547, 'contacting': 1548, 'frm': 1549, 'directly': 1550, 'otherwise': 1551, 'quickly': 1552, 'head': 1553, 'states': 1554, 'effort': 1555, 'florida': 1556, 'returned': 1557, 'london': 1558, 'floor': 1559, 'mexico': 1560, 'reimbursed': 1561, 'shameful': 1562, 'issued': 1563, 'ual': 1564, 'starting': 1565, 'epicfail': 1566, 'aware': 1567, 'bdl': 1568, 'buf': 1569, 'surprised': 1570, 'realize': 1571, 'comp': 1572, 'obviously': 1573, '36': 1574, 'causing': 1575, 'lied': 1576, 'jan': 1577, '2x': 1578, 'known': 1579, 'shout': 1580, 'six': 1581, 'slc': 1582, 'cell': 1583, 'somebody': 1584, '😒': 1585, 'providing': 1586, '30pm': 1587, 'embarrassing': 1588, 'ripoff': 1589, 'prepared': 1590, 'nasty': 1591, 'compassion': 1592, 'located': 1593, 'rsw': 1594, 'mke': 1595, 'bringing': 1596, 'drove': 1597, 'gear': 1598, 'rocks': 1599, 'trueblue': 1600, 'mint': 1601, 'chairman': 1602, 'thinking': 1603, 'large': 1604, 'fares': 1605, 'carriers': 1606, 'brand': 1607, 'game': 1608, 'dirty': 1609, 'enter': 1610, 'infant': 1611, 'normal': 1612, \"dm'd\": 1613, 'rescheduling': 1614, 'iphone': 1615, 'feet': 1616, 'somehow': 1617, 'manage': 1618, 'ball': 1619, '😉': 1620, 'bday': 1621, 'tea': 1622, 'black': 1623, 'lhr': 1624, '32': 1625, 'timely': 1626, 'didnt': 1627, 'unavailable': 1628, 'sna': 1629, 'according': 1630, 'canned': 1631, 'hostage': 1632, 'promise': 1633, 'claims': 1634, 'pax': 1635, 'yo': 1636, 'considering': 1637, 'flightations': 1638, 'exact': 1639, 'unless': 1640, 'reimbursement': 1641, 'hundreds': 1642, '2day': 1643, 'fi': 1644, 'item': 1645, \"where's\": 1646, 'unfriendlyskies': 1647, 'disappointment': 1648, 'costs': 1649, 'departing': 1650, 'lets': 1651, 'ill': 1652, 'english': 1653, 'poorservice': 1654, 'miserable': 1655, 'opportunity': 1656, 'redeem': 1657, 'whats': 1658, 'rows': 1659, 'speed': 1660, 'workers': 1661, 'understood': 1662, 'ty': 1663, 'police': 1664, 'acct': 1665, 'write': 1666, '4th': 1667, 'poorly': 1668, 'til': 1669, 'reasons': 1670, 'save': 1671, 'log': 1672, 'honestly': 1673, 'false': 1674, 'ass': 1675, 'chi': 1676, 'sound': 1677, 'deplane': 1678, 'conference': 1679, 'faa': 1680, 'immediately': 1681, 'shitty': 1682, 'amount': 1683, 'loyalty': 1684, 'rest': 1685, 'merge': 1686, 'turns': 1687, 'conditions': 1688, 'flts': 1689, 'carrier': 1690, '26': 1691, 'cares': 1692, 'often': 1693, 'size': 1694, '24hrs': 1695, 'minor': 1696, 'res': 1697, 'ashamed': 1698, 'thursday': 1699, 'south': 1700, 'finish': 1701, 'fortunemagazine': 1702, 'flyfi': 1703, 'admirals': 1704, 'p': 1705, 'stress': 1706, '😡': 1707, '😢': 1708, 'self': 1709, 'uncomfortable': 1710, 'concerned': 1711, 'francisco': 1712, 'red': 1713, 'silver': 1714, 'reimburse': 1715, 'mon': 1716, 'palm': 1717, 'x': 1718, 'smooth': 1719, 'sooner': 1720, 'incident': 1721, 'forcing': 1722, 'sun': 1723, 'don’t': 1724, 'advance': 1725, 'pa': 1726, 'industry': 1727, \"'s\": 1728, 'existent': 1729, 'inconvenient': 1730, 'outbound': 1731, 'excuses': 1732, 'fails': 1733, 'meetings': 1734, 'charges': 1735, 'walked': 1736, \"today's\": 1737, 'apart': 1738, 'looked': 1739, 'outlets': 1740, 'discuss': 1741, 'generic': 1742, 'msy': 1743, 'announce': 1744, 'earn': 1745, 'responses': 1746, 'walk': 1747, 'consistent': 1748, 'positive': 1749, 'attention': 1750, 'placed': 1751, 'certainly': 1752, 'nor': 1753, 'complain': 1754, 'basically': 1755, 'heads': 1756, 'steps': 1757, 'boards': 1758, 'suggest': 1759, 'lesson': 1760, 'costumer': 1761, 'departed': 1762, 'reaching': 1763, 'stand': 1764, 'garbage': 1765, 'brought': 1766, 'raleigh': 1767, 'lousy': 1768, 'certain': 1769, 'interview': 1770, 'value': 1771, 'chances': 1772, 'coat': 1773, 'higher': 1774, 'mech': 1775, '8am': 1776, '7am': 1777, 'comes': 1778, 'dinner': 1779, '10pm': 1780, 'travels': 1781, 'sight': 1782, 'bathroom': 1783, 'unitedsucks': 1784, 'state': 1785, 'sky': 1786, 'disgusted': 1787, 'memphis': 1788, 'explained': 1789, 'million': 1790, 'easier': 1791, 'connected': 1792, 'age': 1793, 'sadly': 1794, 'couldnt': 1795, '27': 1796, 'legs': 1797, 'biggest': 1798, 'decision': 1799, 'history': 1800, 'msp': 1801, 'decided': 1802, 'living': 1803, 'advisory': 1804, 'east': 1805, 'accurate': 1806, 'near': 1807, 'laguardia': 1808, 'learned': 1809, 'alert': 1810, 'nuts': 1811, 'stick': 1812, 'juan': 1813, 'waive': 1814, 'estimated': 1815, 'girl': 1816, 'advantage': 1817, 'feature': 1818, 'wondering': 1819, 'elite': 1820, 'fraud': 1821, 'est': 1822, 'exec': 1823, 'disconnects': 1824, 'fabulous': 1825, 'applied': 1826, '99': 1827, 'beat': 1828, 'worried': 1829, 'whenever': 1830, 'bin': 1831, 'central': 1832, 'school': 1833, 'picture': 1834, 'springs': 1835, 'continues': 1836, 'light': 1837, 'barely': 1838, 'march': 1839, 'flightly': 1840, 'messages': 1841, 'com': 1842, 'towards': 1843, 'carryon': 1844, '777': 1845, 'i’ll': 1846, 'dad': 1847, 'seated': 1848, 'shocked': 1849, 'common': 1850, 'express': 1851, 'wants': 1852, 'partner': 1853, 'ignored': 1854, 'method': 1855, 'okc': 1856, 'military': 1857, 'throwing': 1858, 'sincerely': 1859, 'elsewhere': 1860, 'doesnt': 1861, 'private': 1862, 'recent': 1863, 'stressful': 1864, 'california': 1865, \"hadn't\": 1866, 'curious': 1867, 'seeing': 1868, 'planning': 1869, 'doubt': 1870, 'responsibility': 1871, '1000': 1872, 'valid': 1873, 'returning': 1874, 'comment': 1875, '3am': 1876, 'annoyed': 1877, 'yea': 1878, 'bullshit': 1879, '30min': 1880, 'served': 1881, 'notcool': 1882, 'spot': 1883, 'karen': 1884, 'promises': 1885, 'repair': 1886, 'notifications': 1887, 'cuz': 1888, 'correctly': 1889, 'hates': 1890, 'strand': 1891, 'whatever': 1892, 'result': 1893, 'including': 1894, 'consistently': 1895, 'track': 1896, 'piece': 1897, 'rerouted': 1898, 'epic': 1899, '42': 1900, 'icing': 1901, 'switching': 1902, 'house': 1903, '8pm': 1904, 'hit': 1905, 'managed': 1906, 'worstairlineever': 1907, 'pvd': 1908, 'dumb': 1909, '600': 1910, 'locate': 1911, 'disconnect': 1912, 'york': 1913, 'hearing': 1914, 'cleaned': 1915, 'drunk': 1916, 'shuttle': 1917, 'slept': 1918, 'handlers': 1919, 'deplaned': 1920, 'pending': 1921, 'automatically': 1922, 'limit': 1923, 'notify': 1924, 'communicate': 1925, 'm': 1926, 'it’s': 1927, 'ah': 1928, 'star': 1929, 'alliance': 1930, 'unitedfail': 1931, 'departs': 1932, 'weight': 1933, 'concerns': 1934, 'passed': 1935, 'cnn': 1936, 'assignment': 1937, 'freaking': 1938, \"here's\": 1939, 'technical': 1940, 'horrendous': 1941, 'disgrace': 1942, \"should've\": 1943, 'i’ve': 1944, 'saved': 1945, 'father': 1946, 'ticketed': 1947, 'wth': 1948, 'puerto': 1949, \"wife's\": 1950, 'suggestions': 1951, 'lower': 1952, 'pittsburgh': 1953, 'posted': 1954, 'parents': 1955, 'personnel': 1956, 'actions': 1957, 'young': 1958, 'lauderdale': 1959, 'yelled': 1960, 'wheelchair': 1961, 'replying': 1962, 'nexus': 1963, 'offers': 1964, 'yay': 1965, 'rr': 1966, 'spiritairlines': 1967, 'credits': 1968, 'lucky': 1969, 'visit': 1970, 'spoken': 1971, \"would've\": 1972, 'begin': 1973, 'nah': 1974, 'snack': 1975, 'serving': 1976, 'va': 1977, 'won’t': 1978, 'prefer': 1979, 'deals': 1980, 'interesting': 1981, 'meet': 1982, 'remove': 1983, 'exp': 1984, 'sarcasm': 1985, 'comfortable': 1986, 'kicked': 1987, 'failing': 1988, 'ipad': 1989, 'putting': 1990, '👏': 1991, 'sorted': 1992, 'salt': 1993, 'paperwork': 1994, 'recommend': 1995, 'tweeted': 1996, 'moment': 1997, 'pulling': 1998, 'stolen': 1999, 'bins': 2000, 'rough': 2001, 'luckily': 2002, 'serv': 2003, 'model': 2004, 'toward': 2005, 'movie': 2006, 'mr': 2007, 'mistakes': 2008, 'medical': 2009, \"who's\": 2010, 'disappeared': 2011, 'vs': 2012, 'whoever': 2013, 'fb': 2014, 'atrocious': 2015, 'required': 2016, '180': 2017, \"we'd\": 2018, 'low': 2019, 'device': 2020, 'wi': 2021, 'dmed': 2022, 'lands': 2023, \"they've\": 2024, 'male': 2025, 'statement': 2026, 'location': 2027, 'damage': 2028, 'unfriendly': 2029, \"united's\": 2030, 'replacement': 2031, 'cheaper': 2032, 'ton': 2033, 'deserve': 2034, 'seconds': 2035, 'hassle': 2036, 'complimentary': 2037, 'accommodations': 2038, '05': 2039, 'reserve': 2040, 'shopping': 2041, 'reasonable': 2042, 'loving': 2043, 'gross': 2044, 'earned': 2045, 'extend': 2046, \"flight's\": 2047, 'meals': 2048, 'jh': 2049, 'eta': 2050, 'cun': 2051, 'worstcustomerservice': 2052, '433': 2053, 'cx': 2054, 'picking': 2055, 'kiosks': 2056, 'usa': 2057, 'csr': 2058, 'announced': 2059, 'jump': 2060, 'bet': 2061, 'crying': 2062, 'bay': 2063, 'solve': 2064, 'bummer': 2065, 'official': 2066, '3pm': 2067, 'idiots': 2068, '5th': 2069, 'exceptional': 2070, '45min': 2071, '👎': 2072, 'inexcusable': 2073, 'availability': 2074, 'guarantee': 2075, 'mid': 2076, 'belongings': 2077, 'treating': 2078, 'humans': 2079, 'designed': 2080, 'routing': 2081, 'matters': 2082, '3x': 2083, 'mark': 2084, 'families': 2085, 'cxl': 2086, 'decent': 2087, 'stated': 2088, 'degree': 2089, 'airbus': 2090, 'disregard': 2091, 'operations': 2092, 'backup': 2093, 'jax': 2094, 'disappoint': 2095, 'roc': 2096, 'useful': 2097, '20min': 2098, 'eyes': 2099, 'tkt': 2100, 'names': 2101, 'appears': 2102, 'procedure': 2103, 'term': 2104, 'aviation': 2105, 'event': 2106, 'guitar': 2107, 'furious': 2108, 'listed': 2109, 'cart': 2110, 'rent': 2111, 'bump': 2112, 'ha': 2113, 'april': 2114, 'painful': 2115, 'belt': 2116, 'specific': 2117, 'misplaced': 2118, 'dying': 2119, 'position': 2120, 'confused': 2121, 'directed': 2122, 'rico': 2123, 'west': 2124, 'ignoring': 2125, '700': 2126, 'toddler': 2127, '😕': 2128, 'reported': 2129, '65': 2130, 'icy': 2131, 'refunds': 2132, 'fort': 2133, 'tues': 2134, 'brutal': 2135, 'heart': 2136, 'voice': 2137, 'commercial': 2138, 'shortly': 2139, 'tx': 2140, 'bunch': 2141, 'loss': 2142, 'dragons': 2143, 'ind': 2144, 'nights': 2145, 'columbus': 2146, 'resched': 2147, '51': 2148, 'receiving': 2149, 'dragonss': 2150, 'chaos': 2151, 'dealt': 2152, 'brother': 2153, 'transportation': 2154, '💙': 2155, 'beach': 2156, \"jetblue's\": 2157, 'mosaic': 2158, 't5': 2159, 'profits': 2160, '719': 2161, 'ctl': 2162, 'usairwayssucks': 2163, 'locator': 2164, 'cowboycerrone': 2165, 'understaffing': 2166, 'playing': 2167, 'fully': 2168, 'reserved': 2169, 'elevate': 2170, 'l': 2171, 'chat': 2172, 'impressive': 2173, 'interested': 2174, 'unexpected': 2175, '59': 2176, 'button': 2177, 'ps': 2178, '😁': 2179, 'reset': 2180, 'nicely': 2181, 'ca': 2182, 'bug': 2183, 'purpose': 2184, 'fav': 2185, 'virginatlantic': 2186, 'understanding': 2187, 'gift': 2188, 'constant': 2189, 'destinations': 2190, 'jack': 2191, 'malfunction': 2192, '39': 2193, 'affected': 2194, 'prevent': 2195, 'pair': 2196, 'beginning': 2197, 'manner': 2198, 'weak': 2199, 'ya': 2200, 'thankfully': 2201, 'certificate': 2202, 'besides': 2203, 'continued': 2204, '4hrs': 2205, 'crashed': 2206, 'quite': 2207, 'scheduling': 2208, 'enjoyed': 2209, 'zone': 2210, 'causes': 2211, 'appear': 2212, 'ref': 2213, 'grounded': 2214, 'client': 2215, 'heat': 2216, 'hence': 2217, 'operational': 2218, 'washington': 2219, 'esp': 2220, '6am': 2221, 'ourselves': 2222, 'blaming': 2223, 'hou': 2224, 'pos': 2225, \"they'd\": 2226, 'stellar': 2227, 'ripped': 2228, 'claimed': 2229, 'death': 2230, 'bar': 2231, 'period': 2232, 'fleet': 2233, 'j': 2234, 'a320': 2235, 'software': 2236, 'ogg': 2237, 'unnecessary': 2238, 'diverted': 2239, 'pic': 2240, 'stood': 2241, 'abt': 2242, 'yrs': 2243, 'partners': 2244, 'fucked': 2245, 'refuses': 2246, 'typical': 2247, 'pleased': 2248, 'lit': 2249, 'aspen': 2250, 'agree': 2251, 'mile': 2252, 'article': 2253, 'deep': 2254, 'holder': 2255, 'cleveland': 2256, \"people's\": 2257, 'terribly': 2258, 'loading': 2259, 'pts': 2260, 'ten': 2261, 'released': 2262, 'aircanada': 2263, 'fixing': 2264, '😭': 2265, 'worthless': 2266, 'transaction': 2267, 'cry': 2268, 'reagan': 2269, 'breakfast': 2270, 'irritated': 2271, 'pleasure': 2272, 'ba': 2273, 'tiny': 2274, 'prob': 2275, 'clients': 2276, 'lazy': 2277, 'grand': 2278, 'truck': 2279, 'parked': 2280, 'retrieve': 2281, 'reliable': 2282, 'capt': 2283, 'suit': 2284, 'accountability': 2285, 'expecting': 2286, 'bush': 2287, 'trapped': 2288, 'updating': 2289, 'everytime': 2290, 'green': 2291, 'named': 2292, 'staralliance': 2293, 'pushing': 2294, '✈️': 2295, 'hungry': 2296, 'reroute': 2297, 'continuing': 2298, '47': 2299, '40pm': 2300, 'uh': 2301, 'dming': 2302, 'payment': 2303, 'ahold': 2304, 'cvg': 2305, 'photo': 2306, 'stinks': 2307, 'pulled': 2308, 'tire': 2309, 'accepting': 2310, 'albany': 2311, 'peanuts': 2312, 'loses': 2313, 'standard': 2314, 'addressed': 2315, 'abysmal': 2316, 'submit': 2317, 'cutting': 2318, 'badly': 2319, 'created': 2320, 'fire': 2321, 'beer': 2322, 'directtv': 2323, 'meant': 2324, 'commitment': 2325, 'boyfriend': 2326, 'operating': 2327, 'roads': 2328, 'pushed': 2329, 'against': 2330, 'expedia': 2331, 'teach': 2332, 'isnt': 2333, 'cup': 2334, 'yours': 2335, 'rapid': 2336, 'chicken': 2337, 'basic': 2338, 'responsible': 2339, 'listen': 2340, 'troubles': 2341, 'turning': 2342, 'lying': 2343, 'costing': 2344, '130': 2345, 'maint': 2346, 'wheels': 2347, 'firstclass': 2348, 'practice': 2349, 'massive': 2350, 'exchange': 2351, 'gg8929': 2352, 'cont': 2353, 'yup': 2354, 'courteous': 2355, 'driver': 2356, 'compensated': 2357, 'estimate': 2358, 'desks': 2359, 'forgetting': 2360, 'wrote': 2361, 'crash': 2362, 'suggested': 2363, 'camera': 2364, 'didn’t': 2365, 'harder': 2366, 'youre': 2367, 'understandable': 2368, 'blah': 2369, 'en': 2370, 'forget': 2371, 'ft': 2372, 'earth': 2373, 'accepted': 2374, 'lives': 2375, 'announcements': 2376, 'success': 2377, '48': 2378, 'pricing': 2379, 'thankful': 2380, 'dropping': 2381, 'rewards': 2382, 'southwestairlines': 2383, 'charleston': 2384, 'unreliable': 2385, 'fam': 2386, 'insult': 2387, 'terry': 2388, 'fired': 2389, 'sjc': 2390, '250': 2391, 'heck': 2392, 'mci': 2393, 'sale': 2394, '3056': 2395, 'stupid': 2396, 'extended': 2397, 'accommodating': 2398, 'aww': 2399, 'places': 2400, 'noon': 2401, 'jacksonville': 2402, 'snowing': 2403, 'stole': 2404, '28': 2405, 'goodwill': 2406, '136': 2407, 'dissatisfied': 2408, 'hpn': 2409, 'sxm': 2410, 'wsj': 2411, 'cash': 2412, 'plat': 2413, 'decide': 2414, '7300': 2415, 'commercials': 2416, 'recourse': 2417, 'vx': 2418, 'awaiting': 2419, 'hawaii': 2420, '2014': 2421, 'shown': 2422, '50pm': 2423, 'bill': 2424, 'shared': 2425, 'desktop': 2426, 'design': 2427, 'secure': 2428, 'hiring': 2429, 'cake': 2430, 'white': 2431, 'ability': 2432, 'song': 2433, 'dancing': 2434, 'crisis': 2435, 'scared': 2436, 'password': 2437, 'assaulted': 2438, 'turbulence': 2439, 'sos': 2440, 'facing': 2441, 'lap': 2442, 'haven’t': 2443, 'needing': 2444, 'cards': 2445, 'kinda': 2446, 'sucked': 2447, 'classy': 2448, '1pm': 2449, 'hooked': 2450, 'fc': 2451, 'emailing': 2452, 'h': 2453, 'search': 2454, 'gf': 2455, 'v': 2456, 'unfortunate': 2457, 'bothered': 2458, 'shocking': 2459, 'disrespect': 2460, 'july': 2461, 'copy': 2462, 'coupon': 2463, 'louis': 2464, 'horrid': 2465, 'tel': 2466, 'aviv': 2467, 'action': 2468, 'pocket': 2469, 'split': 2470, 'appropriate': 2471, 'highly': 2472, 'helps': 2473, 'falling': 2474, 'rectify': 2475, 'scan': 2476, 'thinks': 2477, 'assume': 2478, 'efforts': 2479, 'finest': 2480, 'reference': 2481, 'pacific': 2482, 'ensure': 2483, \"it'll\": 2484, 'membership': 2485, 'canadian': 2486, 'reserv': 2487, 'proper': 2488, 'inadequate': 2489, 'signed': 2490, 'opened': 2491, 'nonsense': 2492, 'prove': 2493, 'fits': 2494, 'poorcustomerservice': 2495, 'forth': 2496, 'driven': 2497, 'choosing': 2498, 'overweight': 2499, 'doesn’t': 2500, 'kindness': 2501, 'flightst': 2502, 'brilliant': 2503, 'mex': 2504, 'outsource': 2505, 'bridge': 2506, 'abq': 2507, 'advertise': 2508, 'written': 2509, 'moms': 2510, 'chair': 2511, 'understaffed': 2512, 'dry': 2513, 'btv': 2514, 'solved': 2515, 'notes': 2516, 'limited': 2517, 'dr': 2518, \"they'll\": 2519, '737': 2520, 'hilarious': 2521, 'yourself': 2522, 'stl': 2523, 'facebook': 2524, \"plane's\": 2525, '10am': 2526, 'ads': 2527, 'dozen': 2528, 'disgraceful': 2529, 'reconsider': 2530, 'ph': 2531, 'valuable': 2532, 'pretzels': 2533, 'advertising': 2534, 'spanish': 2535, 'sincere': 2536, 'programs': 2537, 'won': 2538, 'memories': 2539, 'ski': 2540, 'circumstances': 2541, 'organization': 2542, 'flightaware': 2543, 'efficiency': 2544, 'huh': 2545, 'worstairline': 2546, 'bhm': 2547, 'abc': 2548, 'marketing': 2549, 'hdn': 2550, 'concourse': 2551, 'daughters': 2552, 'breaking': 2553, 'stt': 2554, '44': 2555, 'texts': 2556, 'cluster': 2557, '6pm': 2558, '2pm': 2559, 'dream': 2560, 'appalled': 2561, 'journey': 2562, 'upon': 2563, 'notch': 2564, 'logged': 2565, 'occurred': 2566, 'screwing': 2567, 'below': 2568, 'enjoying': 2569, 'starts': 2570, '38': 2571, 'layovers': 2572, 'wed': 2573, 'unknown': 2574, 'ramp': 2575, 'cranky': 2576, '4am': 2577, 'alright': 2578, 'serve': 2579, 'hardly': 2580, 'operator': 2581, 'fiasco': 2582, 'ff': 2583, 'wasnt': 2584, 'proud': 2585, 'weird': 2586, 'define': 2587, 'extreme': 2588, 'pain': 2589, 'airfare': 2590, \"everyone's\": 2591, 'belize': 2592, 'blamed': 2593, 'performance': 2594, 'plastic': 2595, 'roundtrip': 2596, 'alive': 2597, 'north': 2598, 'travelling': 2599, 'smile': 2600, 'survey': 2601, 'overall': 2602, 'fliers': 2603, 'accounts': 2604, '02': 2605, 'thoughts': 2606, 'expires': 2607, 'consideration': 2608, 'race': 2609, 'walking': 2610, 'sigh': 2611, 'fall': 2612, 'john': 2613, 'bankrupt': 2614, 'dear': 2615, 'golf': 2616, 'armrest': 2617, 'warning': 2618, 'transport': 2619, 'recording': 2620, 'repeat': 2621, 'lavatory': 2622, 'apply': 2623, 'expire': 2624, '2days': 2625, 'necessary': 2626, 'degrees': 2627, 'box': 2628, 'heathrow': 2629, 'die': 2630, 'anniversary': 2631, 'progress': 2632, '9pm': 2633, 'magic': 2634, 'selling': 2635, 'customerservicefail': 2636, 'woo': 2637, 'smiling': 2638, 'admit': 2639, 'boss': 2640, '80': 2641, 'owe': 2642, 'messaged': 2643, 'timed': 2644, '1800': 2645, 'gj': 2646, 'review': 2647, 'communications': 2648, 'scale': 2649, 'february': 2650, 'yourselves': 2651, 'tablet': 2652, 'em': 2653, 'departures': 2654, 'hartford': 2655, 'neither': 2656, 'closer': 2657, 'screens': 2658, 'odd': 2659, 'initial': 2660, 'alerts': 2661, 'feed': 2662, 'lifetime': 2663, 'greatservice': 2664, 'advice': 2665, 'thousands': 2666, 'speedy': 2667, '4567': 2668, 'boat': 2669, 'gogo': 2670, 'dime': 2671, 'wanting': 2672, \"could've\": 2673, 'unused': 2674, 'midway': 2675, 'ivr': 2676, 'dtw': 2677, 'cabo': 2678, 'fell': 2679, '😀': 2680, 'hunt': 2681, 'injury': 2682, 'click': 2683, 'parking': 2684, 'personally': 2685, 'hopeful': 2686, 'stroller': 2687, 'dollar': 2688, 'offices': 2689, '79': 2690, 'cali': 2691, 'conflicting': 2692, 'baltimore': 2693, 'indy': 2694, 'kid': 2695, \"c'mon\": 2696, 'opening': 2697, 'hv': 2698, 'ticketing': 2699, 'anxious': 2700, '630': 2701, 'sunny': 2702, 'ktn': 2703, '😃': 2704, 'lauren': 2705, 'costa': 2706, 'rica': 2707, 'wide': 2708, \"ya'll\": 2709, 'involved': 2710, 'dsm': 2711, 'vieques': 2712, 'chairs': 2713, 'regular': 2714, 'getittogether': 2715, 'inform': 2716, 'wall': 2717, 'kill': 2718, '475': 2719, 'bluemanity': 2720, 'van': 2721, 'paris': 2722, 'sympathy': 2723, 'gas': 2724, 'flydelta': 2725, 'women': 2726, 'backs': 2727, 'local': 2728, '699': 2729, 'asleep': 2730, 'key': 2731, 'merged': 2732, 'vile': 2733, 'logistics': 2734, 'neptune': 2735, 'perks': 2736, 'assult': 2737, 'vegan': 2738, 'ladygaga': 2739, 'carrieunderwood': 2740, 'loads': 2741, 'stat': 2742, 'g': 2743, 'user': 2744, \"how's\": 2745, 'plain': 2746, 'getaway': 2747, 'representatives': 2748, 'browser': 2749, 'bucks': 2750, 'destroyed': 2751, 'wine': 2752, '9am': 2753, 'psp': 2754, 'field': 2755, '404': 2756, 'can’t': 2757, 'safari': 2758, 'sec': 2759, 'todays': 2760, 'blasting': 2761, 'iced': 2762, 'severely': 2763, 'wheel': 2764, 'exhausted': 2765, 'flier': 2766, 'boo': 2767, 'refunding': 2768, 'benefits': 2769, 'ordered': 2770, 'ct': 2771, 'inappropriate': 2772, 'promo': 2773, 'flies': 2774, 'standards': 2775, 'fat': 2776, 'deserved': 2777, 'exist': 2778, 'requirement': 2779, 'channels': 2780, 'spread': 2781, 'thurs': 2782, 'strong': 2783, 'haul': 2784, 'europe': 2785, 'umm': 2786, 'popular': 2787, 'shoes': 2788, 'cousin': 2789, 'debacle': 2790, 'silverairways': 2791, 'touched': 2792, 'removal': 2793, \"cessna's\": 2794, \"747's\": 2795, 'addition': 2796, 'carrying': 2797, 'surgery': 2798, 'handed': 2799, 'coincidence': 2800, 'apps': 2801, '30th': 2802, 'negligence': 2803, 'bogota': 2804, 'scam': 2805, 'ours': 2806, 'december': 2807, 'paste': 2808, 'skis': 2809, 'faith': 2810, 'continually': 2811, 'severe': 2812, 'confident': 2813, 'lostluggage': 2814, '5am': 2815, 'portland': 2816, 'assured': 2817, 'strange': 2818, 'lbs': 2819, 'writing': 2820, 'machine': 2821, 'continental': 2822, 'fran': 2823, 'regret': 2824, 'encountered': 2825, 'delhi': 2826, 'thin': 2827, 'constantly': 2828, 'strangers': 2829, 'overbook': 2830, 'sched': 2831, 'friendlyskies': 2832, 'impact': 2833, 'bed': 2834, 'ends': 2835, 'devices': 2836, 'failures': 2837, 'norm': 2838, 'terrific': 2839, 'requesting': 2840, 'confusion': 2841, 'reports': 2842, 'clothing': 2843, '746': 2844, '1230': 2845, 'carseat': 2846, 'illegal': 2847, 'caught': 2848, 'ey”': 2849, 'yelling': 2850, 'accident': 2851, 'wallet': 2852, 'incur': 2853, 'pqd': 2854, 'rarely': 2855, '703': 2856, 'claiming': 2857, 'lake': 2858, 'glitch': 2859, 'truth': 2860, 'theworst': 2861, 'orf': 2862, 'understatement': 2863, 'blog': 2864, 'president': 2865, 'ac': 2866, 'partial': 2867, 'dates': 2868, 'retrain': 2869, 'puts': 2870, '5hr': 2871, '2hr': 2872, 'foot': 2873, '😔': 2874, 'forces': 2875, 'oops': 2876, 'shut': 2877, 'assign': 2878, 'rights': 2879, 'lisa': 2880, 'humor': 2881, 'hanger': 2882, 'sdf': 2883, 'servicefail': 2884, 'acknowledge': 2885, 'dot': 2886, 'preboard': 2887, 'efficient': 2888, 'definition': 2889, 'wake': 2890, '11th': 2891, 'solutions': 2892, 'catching': 2893, 'jacked': 2894, 'tone': 2895, '00pm': 2896, 'pat': 2897, 'restore': 2898, 'desperately': 2899, 'intentionally': 2900, 'contract': 2901, 'singapore': 2902, 'attempting': 2903, 'worker': 2904, 'toronto': 2905, 'strategy': 2906, 'probs': 2907, 'aisle': 2908, 'strikes': 2909, 'nowhere': 2910, 'planet': 2911, 'steamboat': 2912, 'numerous': 2913, 'holders': 2914, 'relationship': 2915, 'itself': 2916, 'shv': 2917, 'sometime': 2918, 'atc': 2919, 'smallest': 2920, 'ad': 2921, 'continuous': 2922, 'toilets': 2923, 'outrageous': 2924, '24h': 2925, 'proof': 2926, '1600': 2927, 'operated': 2928, 'reading': 2929, 'crashing': 2930, 'stranding': 2931, 'itineraries': 2932, '403': 2933, 'notifying': 2934, 'passport': 2935, 'redeemed': 2936, 'cae': 2937, 'staffed': 2938, 'hospitality': 2939, 'anthony': 2940, 'honolulu': 2941, 'miler': 2942, 'bumping': 2943, 'shouldnt': 2944, 'quicker': 2945, 'sits': 2946, 'mths': 2947, 'nj': 2948, '4x': 2949, 'goal': 2950, 'hnl': 2951, 'nature': 2952, 'yvr': 2953, 'ladies': 2954, 'cookies': 2955, \"'\": 2956, 'operators': 2957, 'student': 2958, 'approve': 2959, 'ship': 2960, 'halfway': 2961, 'texted': 2962, 'remind': 2963, 'reminded': 2964, 'responds': 2965, 'formal': 2966, 'spam': 2967, 'hmmm': 2968, 'fra': 2969, 'trash': 2970, 'executive': 2971, 'map': 2972, 'threatened': 2973, 'messing': 2974, 'comcast': 2975, 'skills': 2976, 'login': 2977, 'cruise': 2978, 'nola': 2979, 'inefficient': 2980, '13th': 2981, 'promising': 2982, 'cramped': 2983, 'awkward': 2984, 'general': 2985, 'forgive': 2986, 'newyork': 2987, 'smoothly': 2988, 'brothers': 2989, 'thomas': 2990, 'locations': 2991, \"else's\": 2992, 'ignore': 2993, 'existing': 2994, 'idiot': 2995, 'remote': 2996, 'insulting': 2997, 'twelve': 2998, \"mom's\": 2999, 'therefore': 3000, 'approach': 3001, 'notimpressed': 3002, 'visa': 3003, 'checkout': 3004, 'themselves': 3005, 'functioning': 3006, 'misleading': 3007, 'pile': 3008, 'kit': 3009, 'wind': 3010, 'particularly': 3011, 'tray': 3012, 'table': 3013, 'rented': 3014, '55pm': 3015, 'galley': 3016, 'alternatives': 3017, 'nocustomerservice': 3018, 'law': 3019, 'duty': 3020, 'dest': 3021, 'problemss': 3022, 'dpt': 3023, 'average': 3024, '😞': 3025, 'kp': 3026, 'jose': 3027, 'hide': 3028, 'force': 3029, 'sept': 3030, 'falls': 3031, 'oversold': 3032, 'admiral': 3033, 'experiencing': 3034, 'considered': 3035, 'heavy': 3036, 'rant': 3037, 'alot': 3038, 'ups': 3039, 'menu': 3040, 'incorrect': 3041, 'coast': 3042, 'storms': 3043, 'dobetter': 3044, \"yesterday's\": 3045, 'dep': 3046, 'equally': 3047, 'jt': 3048, 'linked': 3049, 'rushed': 3050, 'treats': 3051, 'selection': 3052, 'unaware': 3053, 'realized': 3054, 'follows': 3055, 'mission': 3056, 'subpar': 3057, 'ric': 3058, 'august': 3059, 'boys': 3060, 'headache': 3061, 'thirty': 3062, 'rudest': 3063, \"int'l\": 3064, 'toilet': 3065, 'packed': 3066, 'embarrassed': 3067, 'cats': 3068, 'movies': 3069, 'separate': 3070, 'bitch': 3071, '72': 3072, 'hoped': 3073, 'died': 3074, 'locked': 3075, 'shannon': 3076, 'provider': 3077, 'honored': 3078, 'federal': 3079, 'we’re': 3080, 'flyunited': 3081, 'staying': 3082, 'rudeness': 3083, 'indeed': 3084, 'el': 3085, 'highlight': 3086, 'theres': 3087, 'entirely': 3088, 'njairports': 3089, 'interest': 3090, 'disorganized': 3091, 'nicer': 3092, '1am': 3093, '34': 3094, 'packages': 3095, 'throughout': 3096, 'clever': 3097, 'corp': 3098, 'rule': 3099, 'hitting': 3100, 'bae': 3101, 'contest': 3102, 'scavenger': 3103, 'streaming': 3104, 'sites': 3105, 'signal': 3106, 'competition': 3107, 'integration': 3108, 'invalid': 3109, 'interaction': 3110, 'conversation': 3111, 'signs': 3112, 'a1': 3113, 'inspired': 3114, 'telephone': 3115, '😄': 3116, 'elderly': 3117, 'officer': 3118, 'promotion': 3119, 'jamaica': 3120, 'battery': 3121, '4pm': 3122, 'holdup': 3123, 'greenville': 3124, 'coupons': 3125, 'spirit': 3126, 'cmon': 3127, 'loose': 3128, 'servicing': 3129, 'disrespectful': 3130, 'pref': 3131, 'complicated': 3132, 'cxld': 3133, 'louisville': 3134, 'gr8': 3135, '5pm': 3136, 'happily': 3137, 'stories': 3138, 'inclement': 3139, 'steal': 3140, 'responsive': 3141, 'paypal': 3142, 'trained': 3143, '11am': 3144, 'videos': 3145, 'noticed': 3146, 'pwm': 3147, 'suggestion': 3148, 'bestairline': 3149, 'precheck': 3150, 'velourlive': 3151, 'airplanes': 3152, '4251': 3153, 'bloody': 3154, 'david': 3155, 'ing': 3156, 'unlike': 3157, 'tryin': 3158, 'aka': 3159, 'film': 3160, 'txt': 3161, 'disney': 3162, 'k': 3163, 'fastest': 3164, 'create': 3165, 'buying': 3166, 'property': 3167, 'deplorable': 3168, 'companies': 3169, 'nytimes': 3170, 'sc': 3171, 'barbados': 3172, 'jetbae': 3173, 'college': 3174, 'bonus': 3175, 'gladly': 3176, '37': 3177, '3yr': 3178, 'gmail': 3179, 'yest': 3180, 'gorgeous': 3181, '30a': 3182, 'circle': 3183, 'havent': 3184, 'lead': 3185, 'loosing': 3186, 'dl': 3187, 'anticipate': 3188, 'appease': 3189, 'div': 3190, '669': 3191, 'seven': 3192, '424': 3193, 'lovejetblue': 3194, 'bottles': 3195, 'hub': 3196, 'unwilling': 3197, 'choices': 3198, 'comm': 3199, 'nvr': 3200, '😩': 3201, '645': 3202, 'shoutout': 3203, 'anybody': 3204, 'style': 3205, 'kylejudah': 3206, 'jvmchat': 3207, 'lunch': 3208, 'evaluate': 3209, 'utterly': 3210, 'picks': 3211, 'credited': 3212, 'frustrations': 3213, 'agency': 3214, 'birmingham': 3215, 'gma': 3216, 'rno': 3217, 'inconvenienced': 3218, 'cincy': 3219, 'drunks': 3220, 'sabre': 3221, 'phil': 3222, 'dividends': 3223, 'lodging': 3224, 'fear': 3225, 'meaning': 3226, '428': 3227, 'usairsucks': 3228, 'dozens': 3229, 'crackers': 3230, 'cherry': 3231, 'srvc': 3232, 'chose': 3233, 'cr': 3234, 'aadvantage': 3235, 'jeanine': 3236, 'yousuck': 3237, 'meds': 3238, 'yuma': 3239, '🙏🙏🙏✌️✌️✌️🙏🙏🙏': 3240, 'aa2444': 3241, 'andrew': 3242, 'thenewamerican': 3243, '386': 3244, 'photos': 3245, 'rampers': 3246, 'sexual': 3247, 'md80': 3248, 'detroit': 3249, 'ep': 3250, 'filmcrew': 3251, 'goodbye': 3252, '5350': 3253, '03': 3254, 'aggressive': 3255, 'innovation': 3256, 'worstflightever': 3257, 'entered': 3258, 'headphones': 3259, '89': 3260, 'rain': 3261, 'blew': 3262, 'winning': 3263, 'neverflyvirginforbusiness': 3264, 'scanned': 3265, 'appointments': 3266, 'peeps': 3267, 'apt': 3268, 'butt': 3269, 'reputation': 3270, '120': 3271, 'hotline': 3272, 'register': 3273, 'redcarpet': 3274, 'oscars2015': 3275, 'indicates': 3276, 'dude': 3277, 'spoiled': 3278, 'comfort': 3279, 'globe': 3280, 'refreshed': 3281, 'browsers': 3282, '😎': 3283, 'eye': 3284, 'dance': 3285, 'wing': 3286, 'pressure': 3287, 'recline': 3288, 'pros': 3289, 'precipitation': 3290, 'refusing': 3291, '413': 3292, '😂': 3293, 'unusable': 3294, '910': 3295, 'faanews': 3296, 'painless': 3297, 'atlantic': 3298, 'soooo': 3299, 'dislike': 3300, 'mostly': 3301, 'chrome': 3302, 'views': 3303, '😥': 3304, 'mentioned': 3305, 'celebrating': 3306, 'grandma': 3307, 'eastern': 3308, 'atx': 3309, 'gesture': 3310, 'heaven': 3311, 'wings': 3312, 'consumers': 3313, 'cheese': 3314, 'opens': 3315, 'mood': 3316, 'waived': 3317, 'deicing': 3318, 'eri': 3319, 'hugely': 3320, 'awards': 3321, 'september': 3322, 'repeatedly': 3323, 'terminals': 3324, 'instructed': 3325, 'austrian': 3326, 'ua1116': 3327, 'username': 3328, 'expenses': 3329, 'flex': 3330, 'plague': 3331, 'active': 3332, 'brain': 3333, 'complained': 3334, 'roger': 3335, 'silly': 3336, 'buddies': 3337, 'guide': 3338, 'worst2unitedflightsever': 3339, '236': 3340, 'coats': 3341, '08': 3342, 'repeated': 3343, 'neglect': 3344, 'legitimate': 3345, 'unrelate': 3346, 'nervous': 3347, 'indication': 3348, 'remembered': 3349, 'convenient': 3350, 'completed': 3351, 'compliment': 3352, 'thanx': 3353, 'pays': 3354, 'skiing': 3355, 'bright': 3356, 'b1': 3357, 'centers': 3358, 'stressed': 3359, 'addtl': 3360, 'stall': 3361, 'rearrange': 3362, 'jp': 3363, '0016': 3364, 'ftw': 3365, 'manually': 3366, 'tags': 3367, 'spare': 3368, 'frigid': 3369, 'unscheduled': 3370, 'sandwich': 3371, 'quiet': 3372, 'reminder': 3373, 'suspect': 3374, 'randomly': 3375, 'jp”': 3376, \"daughter's\": 3377, 'reinstated': 3378, 'secured': 3379, 'eagle': 3380, 'tool': 3381, 'assuming': 3382, 'voided': 3383, 'argument': 3384, 'hubby': 3385, 'discrimination': 3386, 'shaking': 3387, \"someone's\": 3388, 'blocked': 3389, 'assisting': 3390, 'tom': 3391, 'musicians': 3392, 'tuned': 3393, 'deaf': 3394, 'expectations': 3395, 'robin': 3396, 'premiere': 3397, 'confidence': 3398, 'woke': 3399, 'beauty': 3400, '56': 3401, 'replies': 3402, 'settled': 3403, 'preboarding': 3404, 'kick': 3405, 'nrt': 3406, 'compared': 3407, 'daily': 3408, 'jms2802': 3409, 'handler': 3410, 'pointless': 3411, 'stunning': 3412, 'piss': 3413, 'confusing': 3414, 'deplaning': 3415, 'pray': 3416, 'consecutive': 3417, '30mins': 3418, 'cleaning': 3419, 'slightly': 3420, 'searching': 3421, 'nite': 3422, 'among': 3423, '683': 3424, '634': 3425, 'robotic': 3426, 'deck': 3427, 'terribleservice': 3428, 'freq': 3429, 'blatant': 3430, 'eu': 3431, 'frankfurt': 3432, 'wreck': 3433, 'deltaassist': 3434, 'hopeless': 3435, 'attempted': 3436, '…': 3437, '80s': 3438, 'snowstorm': 3439, 'peace': 3440, 'filling': 3441, 'metal': 3442, 'jobs': 3443, 'inept': 3444, 'fucken': 3445, 'girlfriend': 3446, 'frontrunner': 3447, 'oscars2016': 3448, 'charm': 3449, 'ranked': 3450, 'century': 3451, 'stayed': 3452, '31': 3453, 'regards': 3454, 'upcoming': 3455, 'revenue': 3456, 'hurt': 3457, 'bull': 3458, 'boy': 3459, 'dreams': 3460, 'segments': 3461, 'happycustomer': 3462, 'oma': 3463, 'timing': 3464, 'otis': 3465, 'describe': 3466, 'tail': 3467, 'irresponsible': 3468, 'sympathetic': 3469, 'paulo': 3470, 'exception': 3471, 'comedy': 3472, 'discover': 3473, 'voicemail': 3474, 'inaccurate': 3475, 'resolving': 3476, 'gnv': 3477, 'intention': 3478, 'practices': 3479, 'hayden': 3480, 'wearing': 3481, 'arrogant': 3482, 'ana': 3483, 'flylaxairport': 3484, 'replace': 3485, 'thus': 3486, 'fewer': 3487, 'present': 3488, 'overflight': 3489, 'seg': 3490, 'siting': 3491, 'boise': 3492, 'separated': 3493, 'kiosk': 3494, 'dunno': 3495, 'disgruntled': 3496, 'screaming': 3497, 'competitor': 3498, 'tvs': 3499, 'carryons': 3500, '15mins': 3501, 'strongly': 3502, 'norfolk': 3503, 'renting': 3504, 'canada': 3505, \"tomorrow's\": 3506, 'tucson': 3507, 'tick': 3508, 'approaching': 3509, 'pants': 3510, 'empathy': 3511, '😡😡': 3512, 'profit': 3513, 'ntrustopen': 3514, 'ios': 3515, 'priceless': 3516, 'thread': 3517, 'deleted': 3518, 'shoulder': 3519, 'def': 3520, 'pressurization': 3521, 'checkpoint': 3522, 'pricey': 3523, 'throw': 3524, 'immediate': 3525, 'visible': 3526, 'clarify': 3527, 'conversations': 3528, 'operate': 3529, 'ins': 3530, 'bk': 3531, 'easiest': 3532, 'trvl': 3533, 'con': 3534, 'providence': 3535, 'duh': 3536, 'finds': 3537, '6232': 3538, 'appreciation': 3539, 'flysfo': 3540, 'perk': 3541, 'solo': 3542, 'prime': 3543, \"100's\": 3544, 'exclusively': 3545, '919': 3546, 'cruel': 3547, 'flattering': 3548, 'zurich': 3549, 'pillows': 3550, 'ua936': 3551, 'orig': 3552, '6hrs': 3553, 'speaks': 3554, 'hook': 3555, 'regardless': 3556, 'similar': 3557, 'inch': 3558, 'strike': 3559, 'transit': 3560, 'congratulations': 3561, 'culture': 3562, 'livid': 3563, \"son's\": 3564, 'remains': 3565, 'turnaround': 3566, 'concept': 3567, 'econ': 3568, 'submitting': 3569, 'decisions': 3570, 'normally': 3571, 'robbed': 3572, '15min': 3573, 'competent': 3574, 'aboard': 3575, 'stock': 3576, 'snowy': 3577, 'orleans': 3578, 'insulted': 3579, 'sales': 3580, 'vital': 3581, 'guessing': 3582, 'hole': 3583, '8hrs': 3584, 'nothin': 3585, 'recently': 3586, 'backlog': 3587, 'document': 3588, 'difficulties': 3589, 'upgrading': 3590, 'advised': 3591, 'downhill': 3592, 'bahamas': 3593, 'favor': 3594, 'inevitable': 3595, 'greedy': 3596, 'inches': 3597, 'hundred': 3598, 'columbia': 3599, 'rotten': 3600, 'monitor': 3601, 'wks': 3602, 'seemed': 3603, 'situations': 3604, 'explanations': 3605, 'owner': 3606, 'ordeal': 3607, 'notgoodenough': 3608, 'pound': 3609, '05pm': 3610, 'blankets': 3611, 'improved': 3612, 'y’all': 3613, 'google': 3614, 'bye': 3615, 'former': 3616, 'pia': 3617, 'quit': 3618, 'refuel': 3619, 'bro': 3620, 'blowing': 3621, 'transfers': 3622, 'booze': 3623, 'cute': 3624, '👏👏': 3625, 'beware': 3626, '—': 3627, 'tight': 3628, 'base': 3629, 'beg': 3630, 'isn’t': 3631, 'letsgo': 3632, 'harsh': 3633, 'included': 3634, 'kp”': 3635, 'entitled': 3636, 'reeks': 3637, 'vomit': 3638, 'june': 3639, 'enjoyable': 3640, 'sentiment': 3641, 'regional': 3642, 'friendliest': 3643, '750': 3644, 'played': 3645, '2hours': 3646, 'darn': 3647, 'patiently': 3648, 'clarifying': 3649, 'chocolate': 3650, 'stow': 3651, 'pnr': 3652, 'shirt': 3653, 'aw': 3654, 'mouse': 3655, 'rubber': 3656, 'hangar': 3657, 'operation': 3658, 'janet': 3659, '1701': 3660, 'jeff': 3661, 'lights': 3662, 'resulting': 3663, 'stepping': 3664, 'dial': 3665, 'accordingly': 3666, 'uncaring': 3667, 'pro': 3668, 'shots': 3669, 'nxt': 3670, 'evry': 3671, 'expedited': 3672, '4840': 3673, 'praying': 3674, 'random': 3675, 'silence': 3676, '1007': 3677, 'downgrade': 3678, 'clarification': 3679, 'incoming': 3680, 'moon': 3681, 'annricord': 3682, 'hoo': 3683, 'pet': 3684, 'entering': 3685, 'pleasantly': 3686, 'replied': 3687, 'flexibility': 3688, 'awake': 3689, 'shipped': 3690, 'nothanks': 3691, '1583': 3692, 'pretend': 3693, 'incorrectly': 3694, '1200': 3695, '4hr': 3696, 'irritating': 3697, 'ua1740': 3698, 'err': 3699, 'loc': 3700, 'ruth': 3701, 'stillwaiting': 3702, 'slip': 3703, 'registered': 3704, 'stopping': 3705, 'accomplished': 3706, 'batting': 3707, 'corrected': 3708, 'procedures': 3709, '7pm': 3710, 'slapintheface': 3711, 'hardworking': 3712, 'capital': 3713, 'reinstate': 3714, 'recieved': 3715, 'guaranteed': 3716, 'metro': 3717, 'laugh': 3718, 'insufficient': 3719, 'sub': 3720, 'par': 3721, '10a': 3722, 'tears': 3723, 'ontime': 3724, 'westjet': 3725, 'apparent': 3726, 'approved': 3727, 'avgeek': 3728, 'blown': 3729, 'custserv': 3730, 'nicest': 3731, 'cert': 3732, 'omaha': 3733, '72rmpkogwu': 3734, 'knees': 3735, 'windows': 3736, 'precious': 3737, '👌': 3738, 'jacket': 3739, 'lowest': 3740, 'forms': 3741, '7th': 3742, 'hashtag': 3743, 'previously': 3744, 'priced': 3745, 'dang': 3746, '45mins': 3747, 'headaches': 3748, 'regulation': 3749, 'passing': 3750, 'clubs': 3751, 'magazine': 3752, 'fresh': 3753, 'dining': 3754, 'hometown': 3755, 'hypocrisy': 3756, 'cheated': 3757, 'captive': 3758, 'jane': 3759, 'hidden': 3760, 'penalty': 3761, 'decency': 3762, 'holy': 3763, 'everywhere': 3764, 'asks': 3765, 'supposedly': 3766, 'discount': 3767, 'ferry': 3768, 'whether': 3769, 'honoring': 3770, 'functionality': 3771, 'outdated': 3772, 'stays': 3773, 'proactive': 3774, 'apple': 3775, 'saving': 3776, 'grr': 3777, 'processing': 3778, 'cocktail': 3779, 'checks': 3780, 'data': 3781, 'allows': 3782, 'principle': 3783, 'larger': 3784, 'husbands': 3785, 'texting': 3786, 'temp': 3787, 'closes': 3788, 'hosting': 3789, 'entertain': 3790, 'results': 3791, 'proving': 3792, 'tonite': 3793, 'apologizing': 3794, 'waits': 3795, 'hero': 3796, 'cellphone': 3797, '85832': 3798, 'grateful': 3799, 'rudely': 3800, 'flgt': 3801, 'antonio': 3802, 'scene': 3803, '653': 3804, 'folder': 3805, 'heavily': 3806, 'series': 3807, 'arizona': 3808, 'triple': 3809, 'rethinking': 3810, 'robot': 3811, 'knowledge': 3812, 'mem': 3813, 'miracle': 3814, 'sons': 3815, '15th': 3816, 'amazed': 3817, 'homeless': 3818, 'unpleasant': 3819, 'sometimes': 3820, 'props': 3821, 'nolove': 3822, 'soaked': 3823, 'comped': 3824, 'harbor': 3825, 'aarp': 3826, 'arrangements': 3827, 'goin': 3828, 'seatac': 3829, 'photography': 3830, 'northeast': 3831, 'sudden': 3832, 'paso': 3833, 'replacing': 3834, 'application': 3835, 'kc': 3836, 'manchester': 3837, 'craziness': 3838, 'insist': 3839, 'winterweather': 3840, 'sop': 3841, 'jumped': 3842, 'gun': 3843, 'horror': 3844, 'extension': 3845, '68': 3846, 'condition': 3847, 'divert': 3848, 'oakland': 3849, 'az': 3850, 'gary': 3851, 'rip': 3852, 'buyer': 3853, 'jacquie': 3854, 'plitt': 3855, \"friend's\": 3856, 'unhappycustomer': 3857, 'printed': 3858, 'srsly': 3859, 'gosh': 3860, 'xx': 3861, 'band': 3862, 'redirected': 3863, 'vaca': 3864, 'android': 3865, 'summer': 3866, 'gng': 3867, '2b': 3868, '👍👍': 3869, 'carolina': 3870, 'gotcha': 3871, 'protocol': 3872, 'scott': 3873, 'bottom': 3874, 'park': 3875, '830': 3876, 'download': 3877, 'agt': 3878, '1027': 3879, 'mvp': 3880, 'understands': 3881, 'wknd': 3882, 'filing': 3883, 'whoa': 3884, 'giant': 3885, 'guest': 3886, 'require': 3887, 'stewardesses': 3888, 'display': 3889, 'flysouthwest': 3890, 'behavior': 3891, 'babies': 3892, '🙏': 3893, 'communicated': 3894, 'imo': 3895, 'rocked': 3896, 'ring': 3897, 'gsp': 3898, 'starving': 3899, 'bummed': 3900, 'caller': 3901, 'oct': 3902, 'attitudes': 3903, 'hangup': 3904, 'staffing': 3905, 'balls': 3906, 'jetbluesofly': 3907, 'color': 3908, 'pooling': 3909, 'join': 3910, 'redirect': 3911, 'discovered': 3912, 'stealing': 3913, 'e190': 3914, 'blank': 3915, 'rates': 3916, 'joanna': 3917, 'opposite': 3918, 'idk': 3919, 'odds': 3920, 'amybruni': 3921, '125': 3922, 'terms': 3923, 'disorganization': 3924, 'apologizes': 3925, 'syracuse': 3926, 'endless': 3927, 'srq': 3928, 'brandmance': 3929, 'b6': 3930, '45am': 3931, 'jetbluerocks': 3932, 'any1': 3933, 'brandloveaffair': 3934, 'int': 3935, 'deny': 3936, 'praise': 3937, 'recovery': 3938, 'c26': 3939, 'glasses': 3940, 'annual': 3941, 'mercy': 3942, 'jumping': 3943, 'marathon': 3944, 'ping': 3945, 'mt': 3946, 'reality': 3947, 'dare': 3948, 'battles': 3949, 'street': 3950, 'classes': 3951, 'waiver': 3952, 'crewmember': 3953, 'sounded': 3954, 'temperature': 3955, '10hrs': 3956, 'angel': 3957, 'confirming': 3958, 'technically': 3959, '69': 3960, 'zkatcher': 3961, 'convo': 3962, 'loves': 3963, 'vacations': 3964, '597': 3965, '58': 3966, 'sensitive': 3967, 'greatest': 3968, '40min': 3969, 'exists': 3970, 'awe': 3971, 'safetyfirst': 3972, 'crewmembers': 3973, '654': 3974, 'jayvig': 3975, 'practical': 3976, 'challenging': 3977, 'beamske': 3978, 'fortunately': 3979, 'grace': 3980, 'basket': 3981, 'argued': 3982, 'detailed': 3983, 'shock': 3984, 'derrick': 3985, 'bussey': 3986, 'letters': 3987, 'eyw': 3988, 'kim': 3989, 'cargo': 3990, 'oneworld': 3991, 'merging': 3992, 'gloves': 3993, 'pst': 3994, 'sauce': 3995, '799': 3996, 'onholdwith': 3997, 'goingforgreatnessfail': 3998, '759': 3999, '837': 4000, 'gso': 4001, 'fed': 4002, 'unload': 4003, 'kphl': 4004, 'marie': 4005, 'housing': 4006, '4435': 4007, '1898': 4008, 'british': 4009, 'contingency': 4010, 'unusual': 4011, 'b16': 4012, 'colleagues': 4013, 'laws': 4014, '4322': 4015, 'jtrexsocial': 4016, 'xna': 4017, 'surely': 4018, 'faulty': 4019, 'cleared': 4020, 'horriblecustomerservice': 4021, 'joined': 4022, 'diversion': 4023, 'callers': 4024, 'sweetingr': 4025, '29': 4026, 'sticking': 4027, 'onhold': 4028, 'nearby': 4029, 'fresno': 4030, '35x': 4031, 'bout': 4032, 'appreciates': 4033, 'faithful': 4034, 'askpaypal': 4035, '4420': 4036, 'inferior': 4037, '556': 4038, '1917': 4039, 'yell': 4040, 'hopes': 4041, 'provides': 4042, 'waivethefee': 4043, 'notmyfault': 4044, 'deadhead': 4045, 'kairys': 4046, 'senseless': 4047, 'cot': 4048, 'manners': 4049, 'dialing': 4050, 'wichita': 4051, \"aa's\": 4052, '350': 4053, 'worstcustomerserviceever': 4054, 'ohare': 4055, 'fourth': 4056, 'americanview': 4057, 'students': 4058, 'pounds': 4059, 'cue': 4060, 'kicking': 4061, 'revs': 4062, 'derekc21': 4063, 'cnnbrk': 4064, '1081': 4065, 'alternative': 4066, 'mtg': 4067, 'dawn': 4068, '2222': 4069, 'cll': 4070, 'centre': 4071, 'billions': 4072, 'flight293': 4073, 'badmgmt': 4074, 'hoops': 4075, 'blast': 4076, 'obnoxious': 4077, 'faces': 4078, 'gentleman': 4079, 'amazingly': 4080, '2a': 4081, 'moodlighting': 4082, 'downtown': 4083, 'los': 4084, 'angeles': 4085, 'mountains': 4086, 'spotify': 4087, 'tables': 4088, 'floors': 4089, 'sneaky': 4090, 'version': 4091, 'cheapflights': 4092, 'farecompare': 4093, 'represents': 4094, 'beautifully': 4095, 'entertaining': 4096, 'delighted': 4097, 'xoxo': 4098, 'anxiety': 4099, '769': 4100, 'princesshalf': 4101, 'include': 4102, 'css': 4103, 'you’ve': 4104, 'thrown': 4105, \"rec'd\": 4106, 'goodness': 4107, 'killed': 4108, 'subsequent': 4109, 'hahaha': 4110, 'sanfrancisco': 4111, '7d': 4112, 'shift': 4113, 'luxuries': 4114, '883': 4115, 'female': 4116, 'seatbelt': 4117, 'gopro': 4118, '50am': 4119, 'sorrynotsorry': 4120, 'section': 4121, 'comps': 4122, 'assets': 4123, 'stunned': 4124, '550': 4125, 'adore': 4126, 'mere': 4127, 'product': 4128, 'badges': 4129, 'superior': 4130, 'vx399': 4131, 'squared': 4132, 'avis': 4133, '80th': 4134, 'greeting': 4135, 'yummy': 4136, 'hair': 4137, '4c': 4138, 'bounce': 4139, 'donkey': 4140, 'caffeine': 4141, 'returns': 4142, 'refreshing': 4143, 'lock': 4144, 'steel': 4145, 'richard': 4146, 'grouping': 4147, 'exposed': 4148, 'cus': 4149, 'lighting': 4150, 'reclining': 4151, 'hop': 4152, 'nonrefundable': 4153, 'flawed': 4154, 'logic': 4155, 'dan': 4156, 'ase': 4157, 'married': 4158, 'awhile': 4159, 'expense': 4160, \"time'\": 4161, 'codeshare': 4162, 'breaks': 4163, 'guitars': 4164, 'colo': 4165, 'disabled': 4166, 'avoided': 4167, 'grp': 4168, 'considerable': 4169, 'improvement': 4170, 'sp': 4171, 'construction': 4172, '441': 4173, 'wc': 4174, 'surly': 4175, 'folk': 4176, 'hmm': 4177, 'informative': 4178, '768': 4179, 'booted': 4180, 'bench': 4181, 'remorse': 4182, 'obvious': 4183, 'intact': 4184, 'systemwide': 4185, 'sd': 4186, 'fiancée': 4187, 'panic': 4188, 'quoted': 4189, 'politely': 4190, 'dms': 4191, 'recommended': 4192, 'various': 4193, 'lusaka': 4194, 'sti': 4195, 'holiday': 4196, 'defines': 4197, 'runaround': 4198, 'kn”': 4199, 'taxis': 4200, 'solving': 4201, 'bergstrom': 4202, 'pack': 4203, 'screws': 4204, 'consolation': 4205, '917': 4206, 'challenges': 4207, 'phn': 4208, 'mammoth': 4209, 'reviewed': 4210, 'impress': 4211, 'holidays': 4212, \"team's\": 4213, 'flyyow': 4214, '2am': 4215, 'ua938': 4216, 'beverage': 4217, 'refueling': 4218, 'sked': 4219, 'resulted': 4220, 'prevented': 4221, 'advising': 4222, 'mass': 4223, 'projects': 4224, 'hj5kq82chn': 4225, 'displayed': 4226, 'regulations': 4227, '24th': 4228, 'wastedtime': 4229, 'ua1516': 4230, 'behalf': 4231, 'laughed': 4232, 'goodenoughmother': 4233, 'cared': 4234, 'agnt': 4235, 'threatens': 4236, 'permission': 4237, 'ph6rps': 4238, 'overwhelmed': 4239, '1657': 4240, 'connector': 4241, 'vice': 4242, 'searched': 4243, 'flysaa': 4244, 'rookie': 4245, 'bio': 4246, 'placing': 4247, 'kevin': 4248, 'investigated': 4249, 'enuf': 4250, 'raising': 4251, '1472': 4252, 'committed': 4253, 'communicationfail': 4254, 'reaches': 4255, 'etihad': 4256, 'lufthansa': 4257, 'art': 4258, 'campilley': 4259, 'reuniting': 4260, '2000': 4261, 'jh”': 4262, 'recovering': 4263, 'measure': 4264, 'men': 4265, 'max': 4266, 'epicfailunited': 4267, 'ms': 4268, 'winston': 4269, '1254': 4270, 'wiped': 4271, '30k': 4272, '1491': 4273, 'thrilled': 4274, 'slowly': 4275, '👿': 4276, 'jimmy': 4277, 'samartzis': 4278, 'surf': 4279, 'desert': 4280, 'remedy': 4281, 'dublin': 4282, 'stillnobags': 4283, 'pt': 4284, 'stndby': 4285, 'conveniently': 4286, 'duped': 4287, 'extent': 4288, 'coworker': 4289, 'urgency': 4290, 'focused': 4291, 'bulkhead': 4292, '1b': 4293, 'medal': 4294, 'saga': 4295, 'reunion': 4296, 'unnecessarily': 4297, 'overselling': 4298, 'compliant': 4299, 'yyj': 4300, 'senior': 4301, 'supporting': 4302, 'timco': 4303, 'formally': 4304, '1589': 4305, 'shoe': 4306, 'unsafe': 4307, 'fake': 4308, 'shanghai': 4309, 'fritz': 4310, 'verbal': 4311, 'confirmations': 4312, 'complains': 4313, 'l8r': 4314, 'averted': 4315, 'beers': 4316, '3750': 4317, 'x2': 4318, 'injured': 4319, 'roadwarrior': 4320, '174': 4321, 'intended': 4322, 'flierfriendly': 4323, 'brussels': 4324, 'joking': 4325, 'noservice': 4326, \"company's\": 4327, 'reissued': 4328, 'timeliness': 4329, '1m': 4330, 'ons': 4331, 'condescending': 4332, 'chk': 4333, 'groups': 4334, '20mins': 4335, 'downgraded': 4336, 'savings': 4337, 'freaked': 4338, 'inefficiency': 4339, 'ua992': 4340, 'interior': 4341, '1580': 4342, 'cking': 4343, 'rollers': 4344, 'removed': 4345, 'king': 4346, 'welldone': 4347, 'goodflight': 4348, 'lowered': 4349, 'caned': 4350, 'performing': 4351, 'legal': 4352, 'bait': 4353, 'mnl': 4354, '1051': 4355, 'resources': 4356, 'bounced': 4357, '472': 4358, 'sunglasses': 4359, 'tryna': 4360, 'seriousness': 4361, 'liars': 4362, 'maui': 4363, 'flightfail': 4364, 'shits': 4365, 'spotty': 4366, 'quote': 4367, 'trace': 4368, 'san68059m': 4369, 'ua6259': 4370, 'ua5525': 4371, 'excellence': 4372, 'kci': 4373, 'são': 4374, 'relative': 4375, 'intent': 4376, 'misses': 4377, 'horrific': 4378, 'ideas': 4379, \"ain't\": 4380, 'contents': 4381, 'shirts': 4382, 'fueled': 4383, 'attentiveness': 4384, 'cos': 4385, 'mechanic': 4386, 'fax': 4387, 'mike': 4388, 'packing': 4389, 'retain': 4390, 'dark': 4391, 'sjo': 4392, 'cdg': 4393, 'ensuring': 4394, 'gettin': 4395, 'anytime': 4396, 'ers': 4397, 'rikrik': 4398, 'inconvience': 4399, 'alwayslate': 4400, '1071': 4401, 'bots': 4402, 'centricity': 4403, 'astounding': 4404, 'sisters': 4405, 'ua469': 4406, 'unsure': 4407, 'ua1481': 4408, 'premier1k': 4409, 'ap': 4410, 'santa': 4411, 'ashley': 4412, 'jackson': 4413, 'misfortune': 4414, 'copilot': 4415, 'ouch': 4416, 'rubbish': 4417, 'meaningful': 4418, 'processed': 4419, 'defend': 4420, 'ua3774': 4421, 'smoothest': 4422, 'affect': 4423, 'violation': 4424, 'maintained': 4425, 'flightledflight': 4426, '3494': 4427, 'ywg': 4428, 'volunteers': 4429, 'recovered': 4430, 'tock': 4431, '45pm': 4432, 'consistency': 4433, 'citing': 4434, 'calendar': 4435, 'occur': 4436, 'should’ve': 4437, 'delete': 4438, 'hep': 4439, '38e': 4440, 'skilled': 4441, 'belong': 4442, '1109': 4443, 'cnx': 4444, 'earliest': 4445, 'radio': 4446, 'leadership': 4447, 'flat': 4448, 'pin': 4449, '360': 4450, 'noticing': 4451, 'edinburgh': 4452, 'shouldhaveflowndelta': 4453, 'caring': 4454, 'disappears': 4455, 'courier': 4456, '3883': 4457, 'ramps': 4458, 'danger': 4459, 'korea': 4460, '787': 4461, 'nt': 4462, '1531': 4463, 'alerted': 4464, 'ua922': 4465, 'build': 4466, 'ottawa': 4467, 'ruin': 4468, 'unitedairlinessucks': 4469, 'tour': 4470, 'feces': 4471, 'sprinkled': 4472, 'tremendous': 4473, 'gee': 4474, 'monitoring': 4475, 'unbelievably': 4476, 'deciding': 4477, \"tonight's\": 4478, 'accommodation': 4479, 'acknowledgment': 4480, 'foreign': 4481, 'hacks': 4482, 'jokers': 4483, 'mis': 4484, 'hah': 4485, '435': 4486, 'qantas': 4487, 'rage': 4488, 'relaxing': 4489, '1750': 4490, 'parachuteguy': 4491, 'tagged': 4492, 'hurry': 4493, 'stepped': 4494, 'stream': 4495, 'travelocity': 4496, 'suffering': 4497, 'offensive': 4498, 'legally': 4499, '95': 4500, 'approx': 4501, 'buddy': 4502, 'rated': 4503, 'msnbc': 4504, '1171': 4505, 'horribleservice': 4506, 'firstworldproblems': 4507, 'b12': 4508, 'cnxn': 4509, 'unimpressed': 4510, 'unlikely': 4511, 'overheating': 4512, 'preflight': 4513, 'arranged': 4514, 'c4': 4515, 'events': 4516, 'millions': 4517, 'somewhat': 4518, 'draft': 4519, 'explaining': 4520, 'ua1750': 4521, 'connects': 4522, 'irrops': 4523, 'ages': 4524, 'raised': 4525, 'led': 4526, 'blocking': 4527, 'wheelchairs': 4528, 'mgr': 4529, 'counted': 4530, 'individual': 4531, 'observe': 4532, 'compensating': 4533, 'deodorant': 4534, 'shampoo': 4535, '715': 4536, '27l': 4537, '494': 4538, '20l': 4539, 'flyerfriendly': 4540, 'looong': 4541, 'rhonda': 4542, 'movement': 4543, 'filthy': 4544, 'disinfectant': 4545, 'cldnt': 4546, 'happier': 4547, 'huston': 4548, 'troubling': 4549, 'phenomenal': 4550, 'royally': 4551, 'doubtful': 4552, \"he'll\": 4553, 'humour': 4554, 'pedro': 4555, 'assure': 4556, 'vp': 4557, 'custexp': 4558, 'rcvd': 4559, 'ops': 4560, 'festivities': 4561, '17th': 4562, 'difficulty': 4563, 'makeup': 4564, '21st': 4565, 'celebrate': 4566, '2nite': 4567, 'plate': 4568, 'selected': 4569, 'outsourcing': 4570, 'incentive': 4571, 'afraid': 4572, 'yuck': 4573, 'inspected': 4574, 'pita': 4575, 'herman': 4576, 'relayed': 4577, 'chief': 4578, 'lh': 4579, 'noted': 4580, 'curbside': 4581, 'detail': 4582, 'smells': 4583, 'satisfied': 4584, '495': 4585, 'bgm': 4586, '1706': 4587, 'typically': 4588, 'gluten': 4589, 'supervisors': 4590, 'gfc': 4591, 'danahajek': 4592, 'panamerican': 4593, 'teams': 4594, 'vicky': 4595, 'pjs': 4596, 'liable': 4597, 'arguing': 4598, 'luggages': 4599, 'wayne': 4600, 'misinformation': 4601, 'damages': 4602, 'fwiw': 4603, 'recognition': 4604, 'flipped': 4605, 'significantly': 4606, 'mix': 4607, 'marks': 4608, \"week's\": 4609, 'clockwork': 4610, 'battierccipuppy': 4611, '1997': 4612, '0600': 4613, 'town': 4614, 'conection': 4615, 'waivers': 4616, 'awesomeness': 4617, 'conveyer': 4618, 'unanticipated': 4619, 'indicated': 4620, '304': 4621, 'partly': 4622, 'del': 4623, 'reminding': 4624, 'expiring': 4625, 'reassign': 4626, 'increased': 4627, 'sir': 4628, 'contd': 4629, 'relief': 4630, 'unhappytraveler': 4631, 'tokyo': 4632, 'motel': 4633, 'lo': 4634, 'cream': 4635, 'jets': 4636, 'standbye': 4637, 'potential': 4638, 'kn': 4639, 'chill': 4640, 'fo': 4641, 'upgrd': 4642, 'ticked': 4643, 'businessfirst': 4644, '11pm': 4645, 'ua688': 4646, 'shrug': 4647, 'education': 4648, 'jam': 4649, \"agents'\": 4650, 'spite': 4651, 'believing': 4652, 'papers': 4653, 'craft': 4654, 'unsympathetic': 4655, 'unitedappeals': 4656, 'queues': 4657, 'swapping': 4658, 'ont': 4659, 'jenniferwalshpr': 4660, 'dissatisfaction': 4661, 'flow': 4662, 'fave': 4663, 'betting': 4664, 'mht': 4665, 'c25': 4666, '619': 4667, 'ua3728': 4668, 'shall': 4669, 'cloud': 4670, 'ru': 4671, 'slower': 4672, 'overcharged': 4673, '1712': 4674, 'argentina': 4675, '🎉🎉🎉': 4676, 'complaining': 4677, '10p': 4678, 'downgrading': 4679, 'selections': 4680, 'typo': 4681, 'perfectomobile': 4682, 'grouchy': 4683, 'nap': 4684, '12pm': 4685, 'reminds': 4686, 'network': 4687, 'youareonyourown': 4688, 'logging': 4689, 'burbank': 4690, 'promptly': 4691, 'crashes': 4692, 'abused': 4693, 'inquire': 4694, 'busiest': 4695, 'you’re': 4696, 'trick': 4697, 'verify': 4698, 'ramada': 4699, '50lbs': 4700, 'angrycustomer': 4701, 'beating': 4702, 'stranger': 4703, 'wht': 4704, 'appeared': 4705, 'travellers': 4706, 'punta': 4707, 'cana': 4708, 'rez': 4709, 'recap': 4710, 'overseas': 4711, 'goods': 4712, '8h': 4713, 'specifically': 4714, '4348': 4715, 'sue': 4716, 'couldn’t': 4717, 'jerk': 4718, 'hoot': 4719, 'ua507': 4720, 'breach': 4721, '738': 4722, '1242': 4723, 'fu': 4724, 'despicable': 4725, 'sydney': 4726, 'negative': 4727, 'cushions': 4728, '53': 4729, 'remotely': 4730, '1535': 4731, 'anchorage': 4732, 'protected': 4733, '165': 4734, 'sorta': 4735, 'origin': 4736, 'energy': 4737, 'hats': 4738, 'tkts': 4739, 'nonexistent': 4740, 'began': 4741, 'tks': 4742, 'determined': 4743, 'overpriced': 4744, 'overflowed': 4745, 'luxurious': 4746, 'explains': 4747, 'trains': 4748, 'motto': 4749, 'staffer': 4750, 'grown': 4751, 'yards': 4752, 'reduced': 4753, 'certificates': 4754, 'amateurish': 4755, \"'the\": 4756, 'customerexperience': 4757, 'increasing': 4758, 'communicating': 4759, 'scratching': 4760, 'loud': 4761, 'boeing': 4762, 'finals': 4763, 'shuffle': 4764, '101': 4765, 'content': 4766, 'technology': 4767, 'mailing': 4768, 'coworkers': 4769, 'package': 4770, 'atleast': 4771, 'helpless': 4772, 'shades': 4773, 'wrap': 4774, 'comments': 4775, 'upgd': 4776, 'appalling': 4777, 'montego': 4778, 'troubleshoot': 4779, 'masters': 4780, 'smf': 4781, 'shoddy': 4782, 'laurasbrown5': 4783, 'stone': 4784, 'pgatour': 4785, 'court': 4786, 'consumer': 4787, 'associated': 4788, 'identical': 4789, 'hits': 4790, 'fields': 4791, 'flashlight': 4792, 'neighbors': 4793, 'smoking': 4794, 'fella': 4795, 'humiliating': 4796, 'serves': 4797, 'benefit': 4798, 'guests': 4799, 'moments': 4800, 'beats': 4801, 'ooh': 4802, 'presented': 4803, 'nofun': 4804, 'alaskaair': 4805, 'sacramento': 4806, 'convinced': 4807, 'input': 4808, '40mins': 4809, 'posting': 4810, 'surrounding': 4811, 'debating': 4812, 'protect': 4813, 'speeds': 4814, '4487': 4815, 'oc': 4816, 'toiletries': 4817, 'wandered': 4818, 'pointing': 4819, 'outage': 4820, 'bandwidth': 4821, 'hubs': 4822, 'fab': 4823, 'myers': 4824, \"mother's\": 4825, 'delight': 4826, 'shoulders': 4827, 'cld': 4828, 'incl': 4829, 'overheard': 4830, 'torture': 4831, 'heartbroken': 4832, 'loooooong': 4833, 'prev': 4834, 'pregnant': 4835, 'meantime': 4836, 'sweetheart': 4837, '4649': 4838, '5hours': 4839, 'perfectly': 4840, 'vacay': 4841, 'expiration': 4842, 'magically': 4843, 'bf': 4844, 'vallarta': 4845, 'solid': 4846, 'length': 4847, 'finger': 4848, '210': 4849, 'proceed': 4850, 'anamarketers': 4851, '1625': 4852, 'marriott': 4853, 'vineyard': 4854, 'affordable': 4855, 'ella': 4856, 'shifts': 4857, 'tip': 4858, '1700': 4859, 'lynn': 4860, 'hail': 4861, 'lindsey': 4862, 'badpolicy': 4863, 'theft': 4864, 'uncool': 4865, 'filmjobnoequipment': 4866, 'tus': 4867, '👏👏👏': 4868, 'peanut': 4869, 'combination': 4870, 'luvswa': 4871, 'ann': 4872, 'sweepstakes': 4873, 'sass': 4874, 'taylor': 4875, 'professionals': 4876, '1687': 4877, 'strip': 4878, 'kelsey': 4879, 'locals': 4880, 'bellagio': 4881, 'earlybird': 4882, 'television': 4883, 'prioritize': 4884, 'dice': 4885, 'payed': 4886, 'stops': 4887, 'resume': 4888, 'station': 4889, 'chg': 4890, 'genius': 4891, '617': 4892, '3040': 4893, 'fri': 4894, 'pleaseeee': 4895, 'allergic': 4896, 'ignores': 4897, 'oil': 4898, 'websites': 4899, 'soaking': 4900, 'existence': 4901, 'passive': 4902, 'workaround': 4903, 'athletes': 4904, 'athlete': 4905, 'it’ll': 4906, 'memory': 4907, 'fly2midway': 4908, 'tue': 4909, 'youve': 4910, 'alt': 4911, 'inconsistent': 4912, 'mates': 4913, 'cb': 4914, 'runs': 4915, 'huntsville': 4916, 'lasairport': 4917, 'canx': 4918, 'carpet': 4919, '10th': 4920, 'cp': 4921, 'stars': 4922, 'slowing': 4923, 'pink': 4924, 'c11': 4925, 'chaotic': 4926, '4ojrsdwpkk': 4927, 'smashed': 4928, 'zoom': 4929, 'msgs': 4930, 'boooo': 4931, 'gent': 4932, 'flyswa': 4933, 'denverairport': 4934, '52': 4935, 'tfw1': 4936, 'jimcramer': 4937, 'holds': 4938, '636': 4939, 'b8': 4940, 'alex': 4941, 'fr': 4942, 'asshole': 4943, 'blames': 4944, 'suitcases': 4945, 'priorities': 4946, '96': 4947, 'laughing': 4948, 'valentines': 4949, 'diabetic': 4950, 'maiden': 4951, 'poteettj': 4952, 'tmadcle': 4953, 'concert': 4954, 'restroom': 4955, 'blackhistorymonth': 4956, 'musician': 4957, 'bravo': 4958, 'leinenkugels': 4959, 'letdown': 4960, 'receipts': 4961, 'wounded': 4962, 'sooooo': 4963, 'unorganized': 4964, 'stations': 4965, 'corner': 4966, 'pleasehelp': 4967, 'colleague': 4968, 'tld': 4969, 'talks': 4970, 'mouth': 4971, 'kay': 4972, '15minutes': 4973, \"one's\": 4974, 'nogood': 4975, 'que': 4976, 'orangecounty': 4977, 'invited': 4978, 'cockpit': 4979, 'backroads': 4980, 'competitors': 4981, '😏': 4982, 'batteries': 4983, 'dale': 4984, 'portcolumbuscmh': 4985, 'waitin': 4986, '1h': 4987, 'sally': 4988, 'handing': 4989, 'clarence': 4990, 'sanitized': 4991, \"all's\": 4992, '330': 4993, 'purely': 4994, 'dultch97': 4995, 'horse': 4996, 'kelly': 4997, 'corporation': 4998, 'rn': 4999, 'arrivals': 5000, 'acknowledgement': 5001, 'kciairport': 5002, 'bestairlineever': 5003, 'triflight': 5004, 'enforcing': 5005, 'forfeited': 5006, 'amex': 5007, 'isp': 5008, '4386': 5009, 'repeating': 5010, 'tarmack': 5011, 'gracias': 5012, '😜': 5013, 'accommodated': 5014, 'betsy': 5015, 'besty': 5016, 'memo': 5017, \"it'd\": 5018, 'nascar': 5019, 'cattle': 5020, 'jason': 5021, 'michaelbcoleman': 5022, 'eb': 5023, 'av': 5024, 'bostonlogan': 5025, 'wheelsup': 5026, 'weekends': 5027, 'nvm': 5028, 'rid': 5029, 'bathrooms': 5030, 'fairly': 5031, 'setting': 5032, 'disappear': 5033, 'hrl': 5034, 'singing': 5035, 'reviewing': 5036, 'oversize': 5037, 'instruments': 5038, 'budget': 5039, '😑': 5040, 'oak': 5041, 'malfunctioning': 5042, 'market': 5043, 'dialup': 5044, 'b15': 5045, 'childish': 5046, 'remain': 5047, 'raving': 5048, 'glitches': 5049, 'ragandisney': 5050, 'utah': 5051, 'boycott': 5052, '1137': 5053, 'daytona': 5054, 'logo': 5055, 'thaw': 5056, 'touchdown': 5057, '👊': 5058, 'aside': 5059, 'knoxville': 5060, '952': 5061, 'woohoo': 5062, 'beatsmusic': 5063, 'personalized': 5064, 'closest': 5065, 'curb': 5066, '1a': 5067, 'ahhhh': 5068, '10mins': 5069, 'replaced': 5070, '8wbzorrn3c': 5071, 'happiness': 5072, 'warnings': 5073, 'jackass': 5074, 'caribbean': 5075, '😭😭': 5076, 'cried': 5077, \"customer's\": 5078, \"hour's\": 5079, 'displeased': 5080, 'bike': 5081, 'unloaded': 5082, 'emp': 5083, 'phi': 5084, 'reddit': 5085, 'bigger': 5086, 'dick': 5087, 'covered': 5088, 'shorts': 5089, 'interviews': 5090, 'wasn’t': 5091, 'pieces': 5092, 'reopens': 5093, '☺️': 5094, '1613': 5095, 'separately': 5096, 'store': 5097, 'tulsa': 5098, 'runways': 5099, 'spilled': 5100, 'grades': 5101, 'lodge': 5102, 'routed': 5103, 'callbacks': 5104, 'unspecified': 5105, 'ta': 5106, 'valentine': 5107, 'improvements': 5108, '57': 5109, 'alleviate': 5110, 'modifications': 5111, '😠': 5112, 'leading': 5113, 'answerthephone': 5114, 'jetbluebos': 5115, '1170': 5116, '117': 5117, 'sooo': 5118, '1856': 5119, 'uvf': 5120, 'setup': 5121, 'capacity': 5122, 'syr': 5123, 'comfortably': 5124, 'lag': 5125, 'infants': 5126, 'rebooks': 5127, 'cuba': 5128, \"airline's\": 5129, 'staring': 5130, 'noooo': 5131, 'fustrated': 5132, 'brands': 5133, 'madness': 5134, 'tatianaking': 5135, 'martysg': 5136, '123': 5137, 'reconsidering': 5138, 'multi': 5139, 'environment': 5140, 'maddening': 5141, '2324': 5142, 'robert': 5143, 'attended': 5144, '1557': 5145, 'pure': 5146, '915': 5147, 'measured': 5148, 'maimi': 5149, 'younger': 5150, 'abcnetwork': 5151, '0510': 5152, 'reactions': 5153, 'dissapointed': 5154, '9hrs': 5155, 'forecast': 5156, 'costumers': 5157, '1106': 5158, \"'preciate\": 5159, 'essentially': 5160, 'stairs': 5161, 'jetbluefail': 5162, 'criminal': 5163, 'oscar': 5164, 'bluecarpet': 5165, 'hayes': 5166, 'perspective': 5167, 'expressed': 5168, '118': 5169, 'justify': 5170, '1562': 5171, '2littlebirds': 5172, 'newburgh': 5173, '12am': 5174, 'alcohol': 5175, 'league': 5176, '1533': 5177, '226': 5178, 'gracious': 5179, 'umosaicmecrazy': 5180, 'autoresponse': 5181, '489': 5182, 'ideal': 5183, 'wat': 5184, 'direction': 5185, '152': 5186, '502': 5187, 'woulda': 5188, 'upstate': 5189, 'nine': 5190, 'scheme': 5191, 'bumper': 5192, 'risk': 5193, 'controllers': 5194, 'minimum': 5195, 'rum': 5196, 'coke': 5197, 'nhlonnbcsports': 5198, '454': 5199, 'flite': 5200, '790': 5201, 'chs': 5202, 'goodcustomerservice': 5203, 'charles': 5204, 'national': 5205, 'sleet': 5206, 'pig': 5207, 'westchester': 5208, 'physically': 5209, 'paulgordonbrown': 5210, 'hug': 5211, 'foolish': 5212, 'beverages': 5213, 'dbcvepn5qc': 5214, 'corevalues': 5215, 'passion': 5216, 'aerojobmarket': 5217, '672': 5218, 'nov': 5219, 'refundable': 5220, '6f': 5221, 'bein': 5222, 'burger': 5223, 'diverting': 5224, '51pm': 5225, 'indianapolis': 5226, '1572': 5227, 'joe': 5228, '1729': 5229, 'trading': 5230, 'lay': 5231, 'smart': 5232, 'we’ve': 5233, 'selfie': 5234, 'likelihood': 5235, 'nephew': 5236, 'taxiing': 5237, 'slide': 5238, 'truebluelove': 5239, 'slowest': 5240, 'scenario': 5241, 'camp': 5242, 'attend': 5243, 'carsl': 5244, 'jetblueblues': 5245, 'anku': 5246, \"tv's\": 5247, '415': 5248, 'awww': 5249, 'ninadavuluri': 5250, 'patronizing': 5251, 'gangway': 5252, 'savannah': 5253, \"that'd\": 5254, 'portion': 5255, 'disappoints': 5256, 'pages': 5257, 'ruins': 5258, 'physical': 5259, 'telephones': 5260, 'equal': 5261, 'fiancé': 5262, 'geez': 5263, 'needcoffee': 5264, 'january': 5265, 'transferable': 5266, 'bretharold': 5267, '1318': 5268, 'managers': 5269, 'protection': 5270, 'diversions': 5271, 'sunshine': 5272, 'livery': 5273, 'closepwcs': 5274, 'significant': 5275, '105': 5276, 'testing': 5277, 'skytrax': 5278, 'dads': 5279, 'postpone': 5280, 'lil': 5281, 'community': 5282, 'engaging': 5283, 'eight': 5284, 'beatz247': 5285, 'susan': 5286, 'islands': 5287, 'brushing': 5288, 'glass': 5289, 'c19': 5290, 'kate': 5291, 'delicious': 5292, 'accused': 5293, 'warehouse': 5294, 'targeting': 5295, 'books': 5296, '382': 5297, 'delivering': 5298, 'backpack': 5299, 'professorpaul15': 5300, 'ellahenderson': 5301, 'rings': 5302, 'oui': 5303, 'quoting': 5304, 'generated': 5305, 'learning': 5306, 'asset': 5307, 'phd': 5308, 'mama': 5309, 'roxydigital': 5310, 'pho': 5311, 'iowa': 5312, 'b11': 5313, 'breast': 5314, 'referred': 5315, 'impressions': 5316, 'reverse': 5317, '167': 5318, 'spelling': 5319, '05am': 5320, 'employ': 5321, 'flaw': 5322, 'insanity': 5323, 'flexible': 5324, '40am': 5325, '33': 5326, 'army': 5327, 'coverage': 5328, 'shortcomings': 5329, 'wrongfully': 5330, 'weary': 5331, 'bougth': 5332, '50k': 5333, 'dividendrewards': 5334, 'urgently': 5335, 'dividendmiles': 5336, 'cardholder': 5337, 'established': 5338, \"chairman's\": 5339, 'argue': 5340, '1500': 5341, 'rachel': 5342, 'airway': 5343, 'road': 5344, 'owes': 5345, 'tammy': 5346, \"planet's\": 5347, 'mel': 5348, 'sticker': 5349, 'endlessly': 5350, '545': 5351, 'publicity': 5352, 'wd40': 5353, '445': 5354, 'involve': 5355, 'lists': 5356, 'volumes': 5357, 'plot': 5358, '362': 5359, 'vm': 5360, 'proactively': 5361, 'thanku': 5362, 'chosen': 5363, 'us1562': 5364, 'ric2dfw': 5365, 'italy': 5366, \"ma'am\": 5367, 'elaborate': 5368, 'wannagohome': 5369, 'differently': 5370, 'gainesville': 5371, 'clown': 5372, 'likes': 5373, 'inconsiderate': 5374, 'managing': 5375, 'offload': 5376, 'instructions': 5377, 'phxskyharbor': 5378, 'poorplanning': 5379, 'southern': 5380, 'sav': 5381, 'transported': 5382, 'compliments': 5383, 'customs': 5384, '✈': 5385, 'brokenpromises': 5386, 'inability': 5387, 'elm': 5388, 'grounds': 5389, 'rumors': 5390, 'release': 5391, 'winterstorm': 5392, 'shameonyou': 5393, 'breath': 5394, 'bgr': 5395, '695': 5396, 'baggages': 5397, 'soul': 5398, 'nh': 5399, 'nocrew': 5400, 'claudoakeshott': 5401, 'us5235': 5402, 'cha': 5403, 'rivets': 5404, 'service✌️': 5405, 'na': 5406, 'overhaul': 5407, 'josephtreis': 5408, 'brush': 5409, 'chairmans': 5410, 'assholes': 5411, 'f623': 5412, 'havoc': 5413, '623': 5414, 'aggravating': 5415, 'overwhelming': 5416, 'nburnside26': 5417, 'sb5551': 5418, '3739': 5419, '4663': 5420, 'exercise': 5421, 'miserably': 5422, 'cots': 5423, '00am': 5424, 'processes': 5425, 'jabevan221': 5426, 'midght': 5427, 'des': 5428, 'moines': 5429, 'abandoned': 5430, 'bound': 5431, 'emerald': 5432, '680': 5433, 'dumped': 5434, 'twins': 5435, 'sys': 5436, 'mi': 5437, '40th': 5438, 'hve': 5439, 'flght': 5440, '1776': 5441, 'un': 5442, '2692': 5443, 'recorded': 5444, '17pm': 5445, \"husband's\": 5446, 'usairwayssuck': 5447, '275': 5448, '4532': 5449, 'tamara': 5450, 'dedicated': 5451, 'sapphire': 5452, '900': 5453, '440': 5454, 'prof': 5455, 'represent': 5456, 'sean': 5457, 'quarter': 5458, 'franchise02': 5459, 'modify': 5460, 'prepare': 5461, 'profile': 5462, 'billing': 5463, 'wasteoftime': 5464, 'lawsuit': 5465, '49': 5466, 'jammed': 5467, 'cho': 5468, 'nrhodes85': 5469, 'ex': 5470, 'bttr': 5471, 'sync': 5472, 'comms': 5473, 'weds': 5474, '“we': 5475, 'flightedflight': 5476, 'yvonne': 5477, 'burning': 5478, 'manch': 5479, 'dismissive': 5480, 'thks': 5481, 'scotch': 5482, 'worstflight': 5483, 'catered': 5484, 'balance': 5485, 'spring': 5486, 'embarrassment': 5487, 'occupied': 5488, 'baggagelost': 5489, 'fuk': 5490, 'alan': 5491, 'backwards': 5492, 'h2o': 5493, 'a9': 5494, '4438': 5495, '5015': 5496, '48hrs': 5497, 'evenlate': 5498, 'eliz': 5499, 'amateur': 5500, 'myrtle': 5501, 'transactions': 5502, 'prompts': 5503, 'desired': 5504, 'pity': 5505, 'ignorant': 5506, 'parker': 5507, 'blizzard': 5508, 'upsetting': 5509, 'q': 5510, 'requiring': 5511, 'parent': 5512, 'refer': 5513, '😤': 5514, '5534': 5515, 'disruptions': 5516, 'leads': 5517, 'fate': 5518, 'shld': 5519, 'negotiate': 5520, '4524': 5521, 'versus': 5522, 'uncalled': 5523, '1808': 5524, '1855': 5525, '4443': 5526, 'sm': 5527, 'reactivate': 5528, 'patrick': 5529, 'casimir': 5530, '2955': 5531, 'nocareforcustomers': 5532, 'mold': 5533, 'us3825': 5534, 'filthyplane': 5535, 'hopeidonotgetsick': 5536, 'zik2uoxgnw': 5537, '46': 5538, '788': 5539, '188': 5540, 'nexttimeiwillflysouthwest': 5541, 'xt': 5542, '1571aus': 5543, 'prolonged': 5544, 'prds': 5545, '304min': 5546, 'ohio': 5547, 'dnmsblzumr': 5548, 'wasila': 5549, 'sma': 5550, 'rollercoaster': 5551, 'killeen': 5552, 'droped': 5553, 'rwrd': 5554, 'aadv': 5555, 'narrowly': 5556, 'snags': 5557, '9hour': 5558, 'choppiest': 5559, 'whiplash': 5560, 'americanairlinesfail': 5561, 'iwantmymoneyback': 5562, '580815': 5563, '“inconvenient”': 5564, 'stuckinmemphis': 5565, 'texasisclosed': 5566, '22ipgeicsm': 5567, 'faves': 5568, 'sheesh': 5569, 'crated': 5570, 'pets': 5571, 'painfully': 5572, 'inexperienced': 5573, 'paged': 5574, 'spaced': 5575, 'acebo6elpa': 5576, 'itunesmusic': 5577, 'spagnuolo': 5578, 'coached': 5579, 'rams': 5580, '1181': 5581, 'whammie': 5582, 'oumc1lrxdn': 5583, 'rely': 5584, 'robocalls': 5585, 'china': 5586, 'arbitrary': 5587, 'pafe': 5588, 'trv': 5589, 'swivel': 5590, 'dietcoke': 5591, 'happyflier': 5592, 'b40': 5593, 'marshaled': 5594, 'there’s': 5595, 'resoled': 5596, 'beantownmatty': 5597, 'execplat': 5598, 'grievance': 5599, 'misunderstood': 5600, 'maria': 5601, 'beanie': 5602, 'aneqxzr4bp': 5603, 'lpalumbo': 5604, 'laguardiaair': 5605, 'diapers': 5606, 'stilling': 5607, 'souljacoy': 5608, 'obscene': 5609, 'acquisition': 5610, '1843': 5611, 'nitrogen': 5612, 'alaska': 5613, 'mce': 5614, 'aa4285': 5615, 'tyr': 5616, 'outta': 5617, 'aa3186': 5618, '2990176298': 5619, '3001885409': 5620, 'bot': 5621, 'platitudes': 5622, 'tcf': 5623, 'apologise': 5624, 'swear': 5625, 'dialogue': 5626, 'veers': 5627, 'q3': 5628, 'clueless': 5629, 'react': 5630, 'chicagotribune': 5631, 'gunna': 5632, 'latimes': 5633, '1644': 5634, 'nrosenb1': 5635, 'aafail': 5636, 'buses': 5637, 'rizzilient': 5638, 'loop': 5639, 'maryella': 5640, 'shafted': 5641, 'lima': 5642, 'buenos': 5643, 'btr': 5644, 'envoy': 5645, 'wudda': 5646, 'rescue': 5647, '195': 5648, 'meelan': 5649, 'attached': 5650, 'shawn': 5651, 'aa1675': 5652, 'orange': 5653, 'reflect': 5654, 'opinion': 5655, 'lacked': 5656, 'goingforgreat': 5657, 'shortage': 5658, '1300': 5659, 'milan': 5660, 'forgotten': 5661, '104': 5662, 'justynmoro': 5663, 'automatic': 5664, 'iberia': 5665, 'oaaret': 5666, 'witnessed': 5667, 'tisk': 5668, '3days': 5669, '7700': 5670, 'aa106': 5671, '953': 5672, 'ggreenwald': 5673, 'france': 5674, 'th': 5675, 'robinreda': 5676, '1080': 5677, 'arent': 5678, 'txfd': 5679, 'ticks': 5680, 'mentions': 5681, 'sizer': 5682, 'breeze': 5683, 'aa45': 5684, 'cincinnati': 5685, 'aa2402': 5686, 'spectacular': 5687, '2470': 5688, 'aa919': 5689, 'manuel': 5690, \"everything's\": 5691, 'nd': 5692, 'mary': 5693, 'taste': 5694, 'teco': 5695, 'sa': 5696, 'craig': 5697, '12b': 5698, '41g': 5699, 'aa953': 5700, 'travisamex': 5701, 'toledo': 5702, '7403607771': 5703, 'refsd': 5704, 'deane': 5705, 'norma': 5706, 'sedholm': 5707, 'neglected': 5708, 'tacky': 5709, \"guests'\": 5710, '“ear': 5711, 'worm”': 5712, \"didn't…but\": 5713, 'graphics': 5714, 'minimal': 5715, 'iconography': 5716, 'australia': 5717, 'virginmedia': 5718, 'seductive': 5719, 'ahlxhhkiyn': 5720, '29daystogo': 5721, '☺️👍': 5722, 'graphic': 5723, 'ut5grrwaaa': 5724, 'hipster': 5725, 'vents': 5726, 'vx358': 5727, 'noair': 5728, 'roasted': 5729, 'sfotobos': 5730, 'bked': 5731, 'r8p2zy3fe4': 5732, 'pacificbiznews': 5733, 'calming': 5734, '💜✈': 5735, 'moodlitmonday': 5736, 'freddieawards': 5737, 'vhp2gtdwpk': 5738, 'hollywood': 5739, 'dw5nf0ibtr': 5740, 'elevategold': 5741, 'julie': 5742, 'andrews': 5743, 'guiltypleasures': 5744, 'gaga': 5745, 'classics': 5746, 'heyyyy': 5747, 'guyyyys': 5748, 'travelzoo': 5749, 'kj1iljaebv': 5750, 'loft': 5751, 'hy0vrfhjht': 5752, 'supp': 5753, 'flightattendant': 5754, 'dreampath': 5755, 'begrudgingly': 5756, 'neverflyvirgin': 5757, 'px8hqoks3r': 5758, 'nomorevirgin': 5759, 'redesign': 5760, 'avyqdmpi1y': 5761, 'sfo2lax': 5762, '💕💕': 5763, 'raeann': 5764, 'tripping': 5765, 'reluctant': 5766, 'tzzjhuibch': 5767, 'b2xi4yg5t8': 5768, '🌞✈': 5769, 'pleasecomeback': 5770, 'glxfwp6nqh': 5771, 'naelah': 5772, 'e9': 5773, 'built': 5774, 'compatible': 5775, 'va370': 5776, 'intern': 5777, 'vabeatsjblue': 5778, 'fidifamilies': 5779, 'chrysichrysic': 5780, 'likingyoulessandless': 5781, 'creates': 5782, 'irmafromdallas': 5783, 'waltdisneyworld': 5784, 'jessicajaymes': 5785, 'sunset': 5786, \"in'\": 5787, 'backtowinter': 5788, 'vx9vbctdlf': 5789, 'greyed': 5790, 'rang': 5791, 'vendor': 5792, 'pairings': 5793, 'redwineisbetter': 5794, 'wonked': 5795, '8qsqmm7kf2': 5796, 'designated': 5797, 'pasengers': 5798, 'baggageissues': 5799, 'fl1289': 5800, 'clincher': 5801, 'cudtomers': 5802, 'inquired': 5803, 'restr': 5804, 'rhkamx9vf5': 5805, 'pyalebgkjt': 5806, 'persisting': 5807, 'stink': 5808, \"guy's\": 5809, 'revue': 5810, '5b2agfd8c4': 5811, '❤️from': 5812, 'beatstheothers': 5813, 'soreback': 5814, 'tossed': 5815, '❄️❄️❄️': 5816, 'mac': 5817, 'header': 5818, 'elevateuser': 5819, 'numofpointsavailable': 5820, \"'0'\": 5821, 'diehardvirgin': 5822, 'vx413': 5823, 'eniqg0buzj': 5824, 'vpqem31xuq': 5825, 'pxdel1nq3l': 5826, 'nominated': 5827, 'films': 5828, 'meetthefleet': 5829, 'dnstitrzwy': 5830, 'silicon': 5831, 'valley': 5832, 'disruption': 5833, 'fcmostinnovative': 5834, 'incubator': 5835, \"fastcompany's\": 5836, 'wu3lbcncr9': 5837, 'bubbly': 5838, '💗': 5839, 'classiq': 5840, 'greetingz': 5841, 'rockies': 5842, 'airplanemodewason': 5843, '90s': 5844, '338': 5845, 'banned': 5846, '‘select': 5847, 'city’': 5848, 'selecting': 5849, 'sllyibe2vq': 5850, 'dented': 5851, 'miranda': 5852, 'impending': 5853, 'vodkatonics': 5854, 'flight🍸': 5855, 'aesthetics': 5856, 'member😒': 5857, 'cutest': 5858, 'pepper': 5859, 'shaker': 5860, 'vc6keulg2j': 5861, 'selected👎': 5862, 'renttherunway': 5863, 'dress': 5864, 'javascript': 5865, 'stylesheets': 5866, 'tmm': 5867, 'caching': 5868, 'links': 5869, '2npxb6obmr': 5870, \"monday's\": 5871, '112': 5872, 'oardjjgrrd': 5873, '2pujvcelng': 5874, 'kacy2awdbw': 5875, 'ukdjjijrow': 5876, 'ssal': 5877, 'suuperg': 5878, 'rockstars': 5879, 'soft': 5880, 'cnctl7g1ef': 5881, 'challenge': 5882, 'styling': 5883, 'transformative': 5884, 'ws': 5885, 'wjere': 5886, 'deeply': 5887, 'dontdothistome': 5888, 'promoting': 5889, 'noneother': 5890, 'tfanxbh1cf': 5891, 'obsessed': 5892, '2d': 5893, '3d': 5894, 'embossed': 5895, 'patches': 5896, '3fq3xelbon': 5897, 'dirtiest': 5898, 'to10': 5899, 'karinslee': 5900, 'chinese': 5901, 'comenity': 5902, \"ella's\": 5903, 'transactional': 5904, 'accelerate': 5905, 'cqmm7nue9m': 5906, 'livewelltraveled': 5907, 'sytycd': 5908, 'omg😍😍': 5909, 'virgin✨😱✈️': 5910, '150202': 5911, '000419': 5912, 'n3bvzty3zi': 5913, 'dicks': 5914, 'giants': 5915, 'nwk': 5916, 'boom': 5917, 'apostrophe': 5918, 'surname': 5919, 'apostrophefail': 5920, 'slots': 5921, 'herbal': 5922, 'drinker': 5923, 'expansion': 5924, 'dreaming': 5925, 'earphone': 5926, 'xcvqxykg49': 5927, 'backyard': 5928, 'competes': 5929, '\\u200b': 5930, '✈️🎉': 5931, 'extortion': 5932, 'worrying': 5933, 'artisanal': 5934, 'pairing': 5935, '747': 5936, '513mph': 5937, 'tailwind': 5938, 'minus': 5939, 'freeneversucks': 5940, '😃👍': 5941, 'jezziegoldz': 5942, 'visors': 5943, '–': 5944, 'sciencebehindtheexperience': 5945, 'fgrbpazsix': 5946, 'beans': 5947, 'frequency': 5948, 'tsvibtvt8h': 5949, 'segway': 5950, 'infographic': 5951, 'defiantly': 5952, 'scolding': 5953, 'myvxexperience': 5954, \"virgin's\": 5955, 'apathy': 5956, 'definitive': 5957, '…tried': 5958, 'wervirgin': 5959, 'fargo': 5960, 'fargoairport': 5961, 'amazings': 5962, 'point🙌': 5963, 'kickin': 5964, 'feet💤': 5965, '6000': 5966, 'letsgohome': 5967, 'lineup': 5968, \"assistant's\": 5969, 'au1066': 5970, 'selects': 5971, 'cheertymedad': 5972, 'unrealistic': 5973, 'beautifull': 5974, '♥': 5975, 'necessity': 5976, 'highbuddyyy': 5977, 'rosetta': 5978, '6457': 5979, 'wasappreciated': 5980, 'tiredofwaiting': 5981, 'executives': 5982, '👋': 5983, 'aegeanairlines': 5984, 'availab': 5985, 'defibrillator': 5986, 'newarkliberty': 5987, 'indicate': 5988, 'flyingainteasy': 5989, 'newly': 5990, 'preexisting': 5991, 'reissue': 5992, 'shattered': 5993, 'oaflfr7wxb': 5994, 'ladan': 5995, 'latrice': 5996, 'inappropriately': 5997, 'uctraveladvisor': 5998, \"'on\": 5999, 'tiredofthis': 6000, '9v8tmusjvu': 6001, 'measly': 6002, 'interim': 6003, 'incls': 6004, 'unitedbreaksguitars': 6005, 'wantmymoneyback': 6006, 'telaviv': 6007, 'impolite': 6008, 'unfamiliar': 6009, 'outcome': 6010, 'neurosurgery': 6011, 'icu': 6012, 'zcc82u': 6013, '16h': 6014, 'disability': 6015, 'accompany': 6016, 'getmeontop': 6017, 'starbucks': 6018, 'mclarren': 6019, 'os': 6020, 'category': 6021, 'pesky': 6022, 'screening': 6023, 'rozana': 6024, 'choosekind': 6025, 'eager': 6026, 'vision': 6027, 'ccicanine': 6028, 'servicedog': 6029, 'wtfodds': 6030, 'ua1429': 6031, 'gong': 6032, 'enforcement': 6033, 'blackmailed': 6034, '£130': 6035, 'nullified': 6036, '✌️out': 6037, 'ua1673': 6038, 'umpteen': 6039, 'simonroesner': 6040, 'concrete': 6041, 'hollow': 6042, 'pattern': 6043, 'october': 6044, 'localized': 6045, 'accountable': 6046, 'bbbne': 6047, 'ks': 6048, 'ia': 6049, 'listens': 6050, 'insta': 6051, 'produce': 6052, 'limits': 6053, 'negligent': 6054, 'resent': 6055, 'ridiculousness': 6056, 'learncustomerservice': 6057, 'literate': 6058, '18hrs': 6059, '8441639': 6060, 'travelbank': 6061, 'recouping': 6062, '1585': 6063, 'choosechicago': 6064, 'montreal': 6065, 'ua3659': 6066, 'ua3417': 6067, 'prepares': 6068, 'reduce': 6069, 'distress': 6070, 'seeking': 6071, 'unrivalled': 6072, '3466': 6073, 'pennypincher': 6074, 'youcouldntmakethis': 6075, 'brokenwheel': 6076, 'mjkpgvxmpc': 6077, '559': 6078, '1584': 6079, 'steve': 6080, 'connolly': 6081, 'efficiently': 6082, 'disputed': 6083, 'saipan': 6084, 'guam': 6085, 'adventure': 6086, \"capeair's\": 6087, 'owed': 6088, 'remembering': 6089, 'iceland': 6090, 'platter': 6091, 'abundance': 6092, 'disrupted': 6093, '1001': 6094, 'getmartyhome': 6095, 'requests': 6096, 'transatlantic': 6097, 'shower': 6098, 'season': 6099, '35a': 6100, 'frankly': 6101, 'unforeseeable': 6102, 'lindaswc': 6103, 'hisc4ndmgz': 6104, 'flightn': 6105, 'fend': 6106, 'ase24766m': 6107, 'melaniespring': 6108, '4124': 6109, 'inquiries': 6110, \"737's\": 6111, 'equals': 6112, 'connectns': 6113, 'hotl': 6114, 'zfqmpgxvs6': 6115, 'waking': 6116, 'darquenloveli': 6117, 'briefings': 6118, 'ua3576': 6119, 'ray': 6120, '736': 6121, 'tumitravel': 6122, 'xmas': 6123, 'razor': 6124, 'inconveniently': 6125, 'dvt': 6126, 'xc6jq70r7b': 6127, 'sarcastically': 6128, '2wks': 6129, '1146': 6130, 'nada': 6131, 'fly2ohare': 6132, 'flypdx': 6133, 'helpimstuck': 6134, 'mismanagement': 6135, \"'call\": 6136, \"corp'\": 6137, 'sabe': 6138, '1249': 6139, '964012': 6140, '964077': 6141, '964078': 6142, 'decorum': 6143, 'revisiting': 6144, \"certificate'\": 6145, 'cih1qnllcm': 6146, 'html5': 6147, 'effing': 6148, 'finishes': 6149, 'walks': 6150, 'encouraged': 6151, 'cpap': 6152, '1ker': 6153, 'zambia': 6154, 'ua6076': 6155, 'balancing': 6156, 'cyberattack': 6157, '4ward': 6158, 'pb': 6159, 'ua276': 6160, '🙌': 6161, 'statusmatchpaidoff': 6162, 'atfrkp6goy': 6163, 'ppva4rch9f': 6164, 'vancouver': 6165, 'investigated—my': 6166, '8477733': 6167, \"correct—i've\": 6168, 'clicking': 6169, '1032': 6170, 'ua63': 6171, 'madrid': 6172, 'fro': 6173, 'maryjo': 6174, 'trend': 6175, 'shaky': 6176, 'control—the': 6177, 'comically': 6178, 'adjacent': 6179, 'grk13575m': 6180, 'rim': 6181, 'repeatably': 6182, '0162424965446': 6183, 'loner': 6184, 'thehipmunk': 6185, \"site—it's\": 6186, 'correctness': 6187, '25th': 6188, 'mllovelace': 6189, 'u6duw27mde': 6190, 'salisbury': 6191, '20minutes': 6192, '💜“': 6193, 'whitterbug': 6194, 'funnycaptain': 6195, 'christmas': 6196, 'vacatinn': 6197, 'devalue': 6198, 'dorns': 6199, 'thanked': 6200, 'apollochplayers': 6201, 'delyd': 6202, 'gjt': 6203, 'vail': 6204, '5hpsqvrjk8': 6205, 'businesstravel': 6206, 'inline': 6207, 'disgutedindenver': 6208, 'reebok': 6209, 'rockinwellness': 6210, 'tkvmhbkec3': 6211, 'dustyob': 6212, 'zcbjyo6lsn': 6213, 'quzvmk2rtr': 6214, 'empathizes': 6215, '1stclass': 6216, 'nonworking': 6217, 'entertainmnt': 6218, 'loeco4gmvd': 6219, 'bom': 6220, 'saver': 6221, \"bag's\": 6222, 'baggage…': 6223, 'qdebyahqfm': 6224, 'mysterious': 6225, 'larkc8vc4s': 6226, 'svcs': 6227, \"baggage's\": 6228, 'onhxhco6bk': 6229, 'demoted': 6230, 'golds': 6231, 'spousal': 6232, 'vgn2x1ckg0': 6233, 'reveal': 6234, 'droppeditoffyet': 6235, 'ceases': 6236, 'amaze': 6237, 'icloud': 6238, 'albanyairport': 6239, 'spaces': 6240, 'dfpietra': 6241, 'tsk': 6242, 'waives': 6243, 'jana': 6244, 'acosta': 6245, 'alwaysdelayedonunited': 6246, 'branson': 6247, 'continentalairlines': 6248, 'notfair': 6249, 'unaccounted': 6250, 'possessions': 6251, 'levels': 6252, 'realistically': 6253, 'unpleased': 6254, 'isis': 6255, 'panicked': 6256, 'clearing': 6257, 'rollerboards': 6258, 'iove': 6259, '1212': 6260, '😃😃😃': 6261, 'miscalculation': 6262, 'aging': 6263, 'aspenbaggagefail': 6264, 'truu': 6265, 'tall': 6266, 'condo': 6267, 'noanswer': 6268, '1other': 6269, 'dedication': 6270, 'mos': 6271, \"dm'ing\": 6272, 'forum': 6273, '779': 6274, '389': 6275, 'pedophile': 6276, 'gains': 6277, 'bass': 6278, 'flyeia': 6279, '1161': 6280, 'vdfdodqvgx': 6281, 'pairs': 6282, '2086': 6283, 'cnxns': 6284, 'dplq3mhqgd': 6285, 'drone': 6286, 'keambleam': 6287, '4972': 6288, 'integrate': 6289, 'activate': 6290, 'mojave': 6291, 'pressurecooker': 6292, 'heattrap': 6293, 'ua1270': 6294, 'descending': 6295, 'farce': 6296, 'ua23': 6297, 'shambles': 6298, 'nfaqhhr09j': 6299, 'missedwork': 6300, 'clientnothappy': 6301, 'suprlfoi8t': 6302, 'justifiable': 6303, 'mvyoizrpde': 6304, 'tmccexyaaq': 6305, 'suffer': 6306, 'ua246': 6307, 'refresh': 6308, 'mandatory': 6309, 'greatly': 6310, 'melissaafrancis': 6311, '211': 6312, 'ua381': 6313, 'classed': 6314, '5396': 6315, 'ua5396': 6316, 'tbd': 6317, 'usd': 6318, 'quotations': 6319, 'bkk': 6320, 'fwa': 6321, 'nowhereland': 6322, 'noooooooooooooooooooooope': 6323, 'occurs': 6324, 'outsourced': 6325, 'knack': 6326, 'substandard': 6327, 'misconnected': 6328, 'temps': 6329, '3763': 6330, 'outdoor': 6331, \"'unwind'\": 6332, 'linesforever': 6333, 'sock': 6334, '755vpym4mv': 6335, '3709': 6336, 'plundering': 6337, 'ua1589': 6338, 'jurassic': 6339, 'dinosaur': 6340, '0162389030167': 6341, '16866853': 6342, '8465981': 6343, 'farelock': 6344, '858': 6345, 'shes': 6346, 'laissez': 6347, 'faire': 6348, '381': 6349, 'flight911': 6350, 'peopleon': 6351, 'hfof33iyhi': 6352, 'electronic': 6353, 'precioustime': 6354, '6kqlhvap7g': 6355, 'ua871': 6356, 'fyvrfn': 6357, 'tickt': 6358, '4yr': 6359, 'taiwan': 6360, 'sukhdeep': 6361, '6th': 6362, 'prize': 6363, 'sba': 6364, 'waitingonapilot': 6365, 'siouxfalls': 6366, 'whyairtravelsucks': 6367, 'discomfort': 6368, '5000': 6369, 'ua5282': 6370, 'frustratingly': 6371, 'b44': 6372, 'mpagent': 6373, 'seanmfmadden': 6374, 'peterstraubmma': 6375, 'jmercadomma': 6376, 'tonysimsmma': 6377, 'ua3426': 6378, 'stretching': 6379, 'exhausting': 6380, 'ha…': 6381, 'robbing': 6382, 'ua4646': 6383, 'megzezzo': 6384, 'will1531': 6385, 'ua1532': 6386, 'travelled': 6387, 'scl': 6388, 'iha': 6389, '21l': 6390, '3866': 6391, '25mins': 6392, 'invoice': 6393, 'altitude': 6394, 'sharp': 6395, 'drops': 6396, 'pqms': 6397, 'pqds': 6398, \"doctors'\": 6399, 'supplies': 6400, 'ua1130': 6401, 'bad4business': 6402, 'rachelle': 6403, 'jj': 6404, '605': 6405, '1153': 6406, 'ua862': 6407, 'dismissed': 6408, 'bounces': 6409, 'worstservice': 6410, 'clowns': 6411, 'recognize': 6412, 'terri': 6413, 'intentional': 6414, 'jersey': 6415, 'jx4s2t': 6416, 'damper': 6417, 'iy': 6418, 'dajwzhlvyu': 6419, 'building': 6420, '3511': 6421, 'agreement': 6422, 'hahahahaha': 6423, '1086': 6424, 'begging': 6425, 'stamp': 6426, '0prgysvurm': 6427, 'displaced': 6428, 'bouncer': 6429, 'showexpert': 6430, 'fraction': 6431, 'ua3388': 6432, 'affiliate': 6433, 'victoria': 6434, 'sombrons': 6435, 'michelle': 6436, 't1': 6437, 'pssngrs': 6438, 'notcomingback': 6439, 'fuckinlame': 6440, 'naia': 6441, 'miaa': 6442, 'befor': 6443, 'lastflightwithyouever': 6444, 'layout': 6445, 'barbara': 6446, 'you😊': 6447, 'kmquly9g5e': 6448, 'ciscojimfrench': 6449, 'cobedien': 6450, 'encourage': 6451, 'sole': 6452, '6166': 6453, 'blatantly': 6454, 'stable': 6455, 'cgjase': 6456, '4603': 6457, 'mktg': 6458, 'branding': 6459, 'cxp': 6460, '430am': 6461, 'dca48810m': 6462, 'limbo': 6463, '70min': 6464, \"'error'\": 6465, '49pv3kchnr': 6466, '992': 6467, 'salvaged': 6468, 'lifevests': 6469, 'rebecca': 6470, 'levi': 6471, 'aaaand': 6472, 'delongerry': 6473, 'uggh': 6474, 'wmass': 6475, 'ua1568': 6476, 'ua1543': 6477, 'uplink': 6478, 'cousins': 6479, 'h3k3owohd1': 6480, 'jbdkxd6efz': 6481, 'language': 6482, 'walkway': 6483, 'airlinesecurity': 6484, 'qf0oc2hqez': 6485, 'expects': 6486, 'nogate': 6487, 'belabor': 6488, 'maybemange': 6489, 'alittlebetter': 6490, 'howisthatpossible': 6491, 'woeful': 6492, 'sponsor': 6493, 'friendlysky': 6494, 'frauds': 6495, 'gottogetbetter': 6496, '1130': 6497, 'tactic': 6498, 'advertised': 6499, '1038': 6500, 'bookable': 6501, 'clicked': 6502, 'n7osjz8a59': 6503, 'ratings': 6504, '8th': 6505, 'dewithpew2': 6506, 'dqjl8vz2h2': 6507, 'ua1731': 6508, '6600': 6509, 'courrier': 6510, 'avalible': 6511, 'hotelliving': 6512, 'prolly': 6513, 'fulfill': 6514, 'thailand': 6515, 'dis': 6516, 'hour20delay': 6517, \"'ya\": 6518, \"service'\": 6519, 'doorstep': 6520, 'stressors': 6521, 'gguig3t28z”': 6522, 'vague': 6523, 'strandusindenver': 6524, 'hourandtenminutedelay': 6525, 'bagage': 6526, 'hourdelay': 6527, 'multipledooropeningandclosing': 6528, 'dangerofgettingsnowedin': 6529, 'dissapointment': 6530, 'thanking': 6531, '4461': 6532, 'braving': 6533, 'amongst': 6534, 'xatoxbnsfa': 6535, '1758': 6536, 'vacate': 6537, 'findanothergate': 6538, 'acc': 6539, 'ua6318': 6540, 'xltv5z6st1': 6541, 'kansas': 6542, 'ua1758': 6543, 'fedup': 6544, 'disastrous': 6545, 'unanswered': 6546, 'ua978': 6547, '1180': 6548, 'ua484': 6549, 'i9s86kihge': 6550, 'ua1510': 6551, 'cooker': 6552, 'sundays': 6553, 'ua3785': 6554, 'mtgs': 6555, 'riot': 6556, 'reboot': 6557, 'fernheinig18': 6558, '2ny5tuxfqf': 6559, '4232': 6560, 'sardine': 6561, 'belief': 6562, 'safer': 6563, 'jeanette': 6564, 'ua1118': 6565, 'uncle': 6566, 'cdzhtyd0ak': 6567, 'fsd': 6568, 'ktm': 6569, 'oscarnight': 6570, 'maintenece': 6571, 'pales': 6572, 'comparison': 6573, 'wages': 6574, 'ua647': 6575, 'improper': 6576, 'gills': 6577, 'deceptive': 6578, 'granting': 6579, 'neverflyunited': 6580, '1534': 6581, 'ua1534': 6582, 'tries': 6583, 'claudia': 6584, 'ua1565': 6585, 'explore': 6586, 'ongoing': 6587, 'flythefriendlyskies': 6588, 'unitedworstever': 6589, 'trappedhouston': 6590, 'ntuix5dbyr': 6591, 'winterstorm2015': 6592, 'whichisworsedenordfw': 6593, 'describing': 6594, 'decline': 6595, 'lungs': 6596, '3870': 6597, 'welcomed': 6598, 'grumpykim': 6599, 'unbalanced': 6600, 'avrtowtyzk': 6601, 'curtesy': 6602, 'inpolite': 6603, '🙅🙅🙅': 6604, 'nippon': 6605, 'subtlety': 6606, '15yr': 6607, 'spots': 6608, 'awfulness': 6609, 'lpdstock': 6610, 'pgh': 6611, \"'more\": 6612, \"fixes'\": 6613, 'attitudy': 6614, 'viable': 6615, 'uygew2nosr': 6616, 'pqm': 6617, '5639': 6618, 'ns1acfqcdq': 6619, 'snobby': 6620, 'remarks': 6621, 'poker': 6622, 'ua1266': 6623, 'erieairport': 6624, 'logs': 6625, 'nomorecheckedbags': 6626, 'united\\u200b': 6627, '23rd': 6628, 'ua5168': 6629, 'ua795': 6630, 'givethoseladiesraise': 6631, 'extraordinaire': 6632, 'seau': 6633, 'fong': 6634, 'b737': 6635, '800w': 6636, 'disspointed': 6637, 'b91': 6638, 'fe': 6639, 'americanisbetter': 6640, 'volkswagen': 6641, 'whatacluster': 6642, 'toddlers': 6643, 'fransico': 6644, 'evacuated': 6645, '4994': 6646, 'wyoming': 6647, '2ndary': 6648, 'countries': 6649, '1142': 6650, '6hour': 6651, 'flydeltanexttime': 6652, 'govt': 6653, 'unitedairlinessux': 6654, 'ans': 6655, '806': 6656, 'synonymous': 6657, 'unfair': 6658, 'stingiest': 6659, 'ptfo': 6660, 'bastards': 6661, 'stingy': 6662, 'fete': 6663, 'barrel': 6664, '600mph': 6665, 'outfitted': 6666, 'vbfieo2qjc': 6667, 'miscounting': 6668, 'ua5097': 6669, '6kpyhcka9l': 6670, 'rayja9': 6671, 'ua230': 6672, 'oversized': 6673, 'enforce': 6674, 'mqxc64': 6675, 'mpwnc2': 6676, '5721': 6677, 'worded': 6678, 'funited': 6679, 'historically': 6680, 'lifeline': 6681, 'moderate': 6682, 'maine': 6683, 'geography': 6684, 'flyingwithus': 6685, 'lostacustomer': 6686, \"'passenger\": 6687, \"comfort'\": 6688, 'kcvubuyexc': 6689, 'yxe': 6690, 'ua6136': 6691, '4jdvk8tcqx': 6692, \"travelers'\": 6693, 'aerocivilcol': 6694, 'aircrafts': 6695, 'ml”': 6696, '5491': 6697, '5644': 6698, 'connex': 6699, 'reseated': 6700, \"'missing\": 6701, \"screw'\": 6702, '3345': 6703, 'bringbackrealstaff': 6704, 'earnings': 6705, 'dishonoring': 6706, 'gay': 6707, 'smoothie': 6708, 'tfjfmsha2k': 6709, 'rapidly': 6710, 'fantasy': 6711, 'hiccups': 6712, 'smelled': 6713, 'japan': 6714, 'swipe': 6715, 'improvetheprocess': 6716, 'time2switch': 6717, 'inquiry': 6718, 'universally': 6719, 'adopted': 6720, '26pm': 6721, '416': 6722, '514': 6723, 'retook': 6724, 'ua649': 6725, 'czamkoff': 6726, 'greed': 6727, '479': 6728, 'characterize': 6729, 'tiffanyandco': 6730, '5903': 6731, 'ths10ldy2a': 6732, 'twtr': 6733, 'eco': 6734, 'ua6016053916': 6735, 'honalulu': 6736, 'delayua53': 6737, 'kauai': 6738, 'theairhelper': 6739, 'norway': 6740, 'shrugging': 6741, 'dependable': 6742, 'western': 6743, 'hemisphere': 6744, 'skyteam': 6745, 'helpfulness': 6746, 'lastella': 6747, '👏👏👏✈️': 6748, 'buzzkill': 6749, '8vnckgzxl1': 6750, 'emptied': 6751, '4geiger': 6752, 'burst': 6753, 'ua3882': 6754, 'crewe': 6755, '🆖': 6756, 'authors': 6757, 'fiction': 6758, 'ua5037': 6759, 't78k7abtwf': 6760, 'realise': 6761, 'counts': 6762, 'faceless': 6763, '2ikbp8gxwi': 6764, 'phantom': 6765, 'apeared': 6766, 'wouldnt': 6767, 'mbr': 6768, 'assurance': 6769, '3ubcoasyws': 6770, 'induce': 6771, 'involuntarily': 6772, 'guidelines': 6773, 'newest': 6774, '96ftlzwtvo': 6775, 'badbadbad': 6776, 'nicole': 6777, 'quito': 6778, 'united1k': 6779, \"'trained'\": 6780, 'arose': 6781, '1689': 6782, 'beqotlnugc': 6783, 'washingtondc': 6784, '7z3gqebfk2': 6785, 'auciello': 6786, 'transpired': 6787, 'unitedhatesusall': 6788, 'hdndl11785': 6789, 'trashy': 6790, 'mislead': 6791, 'sends': 6792, 'outrage': 6793, 'kkwiwi97a4': 6794, '💩': 6795, 'ots': 6796, 'ua1764': 6797, 'enertainment': 6798, 'hi76boavxy': 6799, '6491': 6800, 'wamo66': 6801, 'fifty': 6802, 'ea': 6803, 'asia': 6804, 'engineer': 6805, 'frame': 6806, '27a': 6807, 'unitedagainstunited': 6808, 'g00saozgtv': 6809, 'mb3bjwgoap': 6810, 'consequence': 6811, 'tlpbaupik5': 6812, 'ua761': 6813, 'socket': 6814, 'restriction': 6815, \"'we'll\": 6816, \"plane'\": 6817, 'bish': 6818, 'begins': 6819, 'scream': 6820, 'ind43728m': 6821, 'suntoshi': 6822, '2100': 6823, '12h': 6824, 'chkout': 6825, 'aircrft': 6826, 'ending': 6827, '863': 6828, 'trqlpeinzw': 6829, 'whereabouts': 6830, 'greeeaat': 6831, 'maxabrahms': 6832, 'scooby': 6833, 'doo': 6834, 'manilla': 6835, 'unconscionable': 6836, 'hepl': 6837, 'thisiscoach': 6838, 'robotweeting': 6839, 'disrespectfully': 6840, 'strive': 6841, 'actively': 6842, 'averaging': 6843, '240minute': 6844, 'published': 6845, 'ua1550': 6846, 'redeye': 6847, '443min': 6848, 'avoidable': 6849, 'goldentickets': 6850, 'xzbajmiekx': 6851, '✔️': 6852, 'bangkok': 6853, 'edge': 6854, 'routinely': 6855, 'traveller': 6856, 'scary': 6857, 'airborne': 6858, 'impacts': 6859, 'ua252': 6860, 'weasel': 6861, 'flcnnn2usd': 6862, 'jac': 6863, '6kp4m0r1f7': 6864, '354': 6865, 'nit': 6866, 'tryn': 6867, 'comping': 6868, 'o1u96xc3bo': 6869, 'freakin': 6870, 'abc11': 6871, 'wtvd': 6872, 'fl1289sfo': 6873, 'getmeoffrhisfuckinplane': 6874, 'progressed': 6875, '675': 6876, '0985': 6877, 'outward': 6878, 'syd': 6879, 'connectfor': 6880, 'nolo': 6881, 'explorer': 6882, 'j4cj0lrf2d': 6883, 'dtlguq1kak': 6884, 'investigate': 6885, 'ua90': 6886, '350pm': 6887, 'virtually': 6888, 'rentals': 6889, '7br5t5qcxk': 6890, 'denairport': 6891, 'costumerservice': 6892, 'legit': 6893, 'jk': 6894, 'increase': 6895, 'compare': 6896, 'diufep8n2q': 6897, 'cnnmoney': 6898, 'segs': 6899, '6377': 6900, 'closet': 6901, 'unitedlies': 6902, 'threw': 6903, 'refueled': 6904, 'retards': 6905, 'snit': 6906, 'compensates': 6907, '96apr35qan': 6908, 'ua57': 6909, 'swapped': 6910, 'zrh': 6911, '45hrs': 6912, 'gpu': 6913, \"cases'\": 6914, 'ua1616': 6915, 'lagging': 6916, 'ua1459': 6917, 'threehourslate': 6918, 'prescreen': 6919, 'makessense': 6920, 'immensely': 6921, 'airlinegave': 6922, 'pounding': 6923, 'sandra': 6924, 'commented': 6925, '25yrs': 6926, 'blind': 6927, 'handedly': 6928, 'zhxok07aqa': 6929, 'invoices': 6930, 'unitedsucksdick': 6931, 'calgary': 6932, 'sides': 6933, '732': 6934, 'unplanned': 6935, 'foxnews': 6936, 'skin': 6937, 'teeth': 6938, 'peer': 6939, 'lulgnweffh': 6940, 'restrm': 6941, 'row7': 6942, 'additionally': 6943, 'needtobehonest': 6944, 'ua3782': 6945, '4595': 6946, 'electrical': 6947, 'interiors': 6948, 'whyjeff': 6949, 'dreamliner': 6950, 'witness': 6951, 'mental': 6952, 'breakdown': 6953, 'walls': 6954, 'activities': 6955, 'fred': 6956, 'flintstone': 6957, 'gkgkzlawpr': 6958, 'diligent': 6959, '9xbo5dakak': 6960, '930pm': 6961, '6500': 6962, 'egregious': 6963, 'sam': 6964, 'adams': 6965, 'usurious': 6966, 'capabilities': 6967, 'context': 6968, 'stevelord212': 6969, 'prison': 6970, '6delays': 6971, 'arvls': 6972, 'custs': 6973, 'americanone': 6974, '4016688561': 6975, 'mga': 6976, 'uncontrollably': 6977, 'ua1470': 6978, 'p3n2w8jfps': 6979, 'kurt': 6980, 'ua1745': 6981, 'ua1002': 6982, 'mild': 6983, 'poisoning': 6984, 'ua5': 6985, '10voucherwhatajoke': 6986, 'junk': 6987, 'case—nothing': 6988, 'sloppy': 6989, 'tagging': 6990, 'backing': 6991, 'offenders': 6992, 'conversational': 6993, 'exiting': 6994, 'block': 6995, 'tsvgbrl15f': 6996, 'toothpaste': 6997, '70oz': 6998, 'rollaboard': 6999, '5xvnnmltiw': 7000, 'zones': 7001, 'prom': 7002, 'loudspeaker': 7003, 'yep—used': 7004, '“thank': 7005, 'request”': 7006, 'satisfactory': 7007, 'ua1150': 7008, 'plowing': 7009, 'straightened': 7010, 'gig': 7011, 'rivals': 7012, 'wipe': 7013, 'wipes': 7014, 'stains': 7015, 'pins': 7016, 'cbv7f3kbkx': 7017, 'invest': 7018, 'buybacks': 7019, 'substitutes': 7020, \"o'head\": 7021, 'munich': 7022, 'nathankillam': 7023, 'cowardly': 7024, 'preference': 7025, '1427': 7026, '333': 7027, 'nmbhngnmki': 7028, '1632': 7029, '8000': 7030, 'hops': 7031, 'agpb45v8wt': 7032, 'values': 7033, 'lostmybusiness': 7034, 'disrespected': 7035, 'appropriately': 7036, 'fakesincerity': 7037, 'angriest': 7038, 'angst': 7039, 'iest': 7040, 'tasha': 7041, 'covering': 7042, 'jnqnbk7hut': 7043, 'tropic': 7044, 'elected': 7045, 'appointed': 7046, 'kkedjnrtwo”': 7047, '3618': 7048, 'otfz7cyguq': 7049, 'overcharging': 7050, 'oktukjy92o': 7051, 'interviewed': 7052, 'recruiter': 7053, '4h2m': 7054, '5h2m': 7055, 'timezones': 7056, 'accuratetraveltimes': 7057, '3rdtimethishashappened': 7058, 'e0c9bi09cf': 7059, 'bums': 7060, 'xfinity': 7061, 'cable': 7062, '✅': 7063, '❌': 7064, 'qp6aw3nlip': 7065, 'meanwhile': 7066, 'swing': 7067, 'fairway': 7068, 'overlooking': 7069, 'purchasing': 7070, 'ripoffs': 7071, 'pricediscrimination': 7072, 'cracker': 7073, 'bullying': 7074, 'workforce': 7075, 'hilo': 7076, '2hr30min': 7077, 'b36a': 7078, 'bnflhpxtmw': 7079, 'xaizw2isml': 7080, '6475': 7081, 'geneva': 7082, 'spaghetti': 7083, 'flt803': 7084, 'nonupgrade': 7085, 'argueing': 7086, 'continentalair1': 7087, 'wakes': 7088, 'supply': 7089, 'images': 7090, 'astounds': 7091, 'flight6831': 7092, 'pssgrs': 7093, 'psngrs': 7094, 'scqujbvsta': 7095, 'router': 7096, 'fuselage': 7097, 'ua343': 7098, 'is9jx1': 7099, 'mite': 7100, 'bites': 7101, 'mites': 7102, 'reopen': 7103, '1285': 7104, 'growing': 7105, '16hr': 7106, '55mins': 7107, 'digging': 7108, 'earning': 7109, \"vacation's\": 7110, 'ua1523': 7111, '1514': 7112, 'puj': 7113, 'baldordash': 7114, 'errored': 7115, \"a'dam\": 7116, 'sms': 7117, 'jimtrotter': 7118, 'nfl': 7119, 'listened': 7120, 'diverged': 7121, 'burlington': 7122, 'vermont': 7123, 'bd': 7124, 'proj': 7125, 'cond': 7126, 'ua1665': 7127, 'conversed': 7128, 'wireless': 7129, 'piggy': 7130, 'routine': 7131, 'nyt': 7132, 'bngpli8jt6': 7133, 'airserv': 7134, 'contractors': 7135, 'ua1566': 7136, 'calamity': 7137, 'lostsuitcase': 7138, 'noreimbursement': 7139, '132': 7140, 'comeonpeople': 7141, '1665': 7142, 'coupled': 7143, 'exacerbates': 7144, 'bootbag': 7145, 'generally': 7146, 'unhelpfulness': 7147, 'illogical': 7148, '9tbsjquw41': 7149, 'elp': 7150, 'emb145': 7151, 'elpaso': 7152, '9meozbo4xl': 7153, 'teamusa': 7154, 'ua6': 7155, 'earnedmybusiness': 7156, 'cleanliness': 7157, '4651': 7158, 'pek': 7159, 'zv6cfpohl5': 7160, 'nvlnglnmgn': 7161, 'sobbed': 7162, '1136': 7163, 'geg4nghmie': 7164, 'worn': 7165, 'enoughisenough': 7166, 'irreplaceable': 7167, 'milestone': 7168, 'repaid': 7169, 'copa': 7170, '635': 7171, 'competing': 7172, 'bringyourown': 7173, 'kleankanteen': 7174, 'daaa0rqbxw': 7175, 'championship': 7176, 'exasperating': 7177, 'undergoing': 7178, 'touching': 7179, 'lax29108m': 7180, 'royal': 7181, 'commission': 7182, 'standbys': 7183, 'connectin': 7184, \"pj's\": 7185, 'nyfw': 7186, 'brian': 7187, 'cheer': 7188, '50m': 7189, '1tix': 7190, 'youretheworst': 7191, 'mentioning': 7192, 'mortified': 7193, 'acted': 7194, 'lea': 7195, 'facts': 7196, 'keepingit100': 7197, 'weaktea': 7198, 'internationally': 7199, 'leigh': 7200, 'emery': 7201, 'ua7985': 7202, 'coshared': 7203, 'weblink': 7204, 'avoiding': 7205, 'vo61lme5ja': 7206, 'underweight': 7207, 'everglades': 7208, 'faint': 7209, 'sunburn': 7210, '3367': 7211, 'wheresthepilot': 7212, 'flt1088': 7213, '157': 7214, 'ua3462': 7215, 'ua1088': 7216, 'straighten': 7217, 'u1vieuidf5': 7218, 'terriblecustomerservice': 7219, 'fec4i3vwq7': 7220, 'credibility': 7221, 'ravioli': 7222, 'attendents': 7223, 'ua1022': 7224, 'platinummember': 7225, 'ig2dgctt2m': 7226, 'marcus': 7227, 'unsmiling': 7228, 'breezy': 7229, '14hrs': 7230, 'ua863': 7231, 'sydneyairport': 7232, 'ua1157': 7233, 'int’l': 7234, 'dtv': 7235, '10yr': 7236, 'spin': 7237, 'opaque': 7238, 'ted': 7239, 'behaves': 7240, 'amy': 7241, 'lloyd': 7242, 'bosnia': 7243, 'm9nywr5kbs': 7244, 'proportion': 7245, 'goddamn': 7246, 'resend': 7247, 'resting': 7248, 'elbows': 7249, 'seatmate': 7250, 'alavera': 7251, 'wins': 7252, 'soda': 7253, 'xhlc30mtff': 7254, 'tucking': 7255, 'h6hn33jjje': 7256, 'moneynotspentonunited': 7257, 'disunited': 7258, 'ua5184': 7259, 'wpg': 7260, 'keepit100': 7261, 'bach': 7262, 'untd': 7263, 'ua415': 7264, 'ua4636': 7265, 'ua82': 7266, 'puppy': 7267, 'maintain': 7268, '0638': 7269, '5’': 7270, '6”': 7271, 'iflyalot': 7272, 'iflyoakland': 7273, 'nws': 7274, 'skywest': 7275, 'honululu': 7276, '4016': 7277, '529557': 7278, 'volunteer': 7279, 'montana': 7280, 'refreshments': 7281, '0ewj7oklji': 7282, 'friendlyfriday': 7283, 'paws': 7284, 'litter': 7285, 'resell': 7286, 'lyoocx5msh': 7287, 'goodspeed': 7288, 'grossed': 7289, 'qkquraggoo': 7290, 'inconveniences': 7291, '791': 7292, '384': 7293, '😄😄😄': 7294, '3589': 7295, '😡😡😡': 7296, 'beingsuckontarmacsucks': 7297, 'ua1023': 7298, 'visibly': 7299, 'mainline': 7300, 'sato': 7301, 'unnerving': 7302, 'qdxft9qqt9': 7303, 'refreshes': 7304, '358': 7305, 'dounotwantmybusiness': 7306, 'jedediahbila': 7307, 'voted': 7308, 'title': 7309, 'jedediah': 7310, 'whatstheholdup': 7311, 'chitocle': 7312, 'teeming': 7313, 'morons': 7314, 'bobwesson': 7315, 'everybody': 7316, 'slight': 7317, '307': 7318, 'ethics': 7319, 'splitting': 7320, 'quadruples': 7321, 'trials': 7322, 'transcontinental': 7323, '72h': 7324, 'lining': 7325, '337': 7326, 'accruing': 7327, 'familiar': 7328, 'hopethegearmakesitintact': 7329, '417': 7330, '539': 7331, '395': 7332, 'rolling': 7333, 'narita': 7334, 'ua475': 7335, 'gently': 7336, 'whipped': 7337, 'canadaair': 7338, 'abuse': 7339, 'overcharge': 7340, 'privilege': 7341, 'sdylukr7pt': 7342, 'robthecameraman': 7343, 'tripitpro': 7344, '6373': 7345, 'transparency': 7346, '44stocker': 7347, 'sarah': 7348, 'stocker': 7349, 'victim': 7350, '1219': 7351, 'boiled': 7352, 'preventative': 7353, 'unresolved': 7354, 'ph8qjzapkx': 7355, 'narrower': 7356, 'bloated': 7357, 'mn': 7358, '5559': 7359, 'yyc': 7360, 'lightbulb': 7361, 'handshake': 7362, 'problemsolvers': 7363, 'tpallini': 7364, 'odlall5edh': 7365, '5187': 7366, 'hurricane': 7367, 'checkers': 7368, 'overkill': 7369, 'kathryn': 7370, 'sotelo': 7371, '1449': 7372, 'aggravation': 7373, 'pd3nbaakxh': 7374, 'a3zz0f': 7375, 'waitlisted': 7376, 'insurance': 7377, '3444': 7378, 'gsa': 7379, 'ithica': 7380, 'burn': 7381, 'warmth': 7382, 'keepingtraditionsalive': 7383, 'thanksunited': 7384, 'kat': 7385, 'tasty': 7386, 'pad': 7387, '1558': 7388, 'fy6f9rzb9k': 7389, 'kathrynsotelo': 7390, '5957': 7391, '9c': 7392, '9skrlyrz1o': 7393, 'acts': 7394, 'amarillo': 7395, 'hn': 7396, 'sucking': 7397, 'jpd7nsgrt7': 7398, 'intro': 7399, '27aitzl6nd': 7400, 'screensand': 7401, '1612': 7402, 'guilty': 7403, '5012': 7404, '4781': 7405, '5102newflight': 7406, 'airnzusa': 7407, '5001': 7408, 'vegetarian': 7409, 'irene': 7410, 'paxex': 7411, 'mysteriously': 7412, 'yow': 7413, 'sjqemdtqma': 7414, 'smaller': 7415, 'thinner': 7416, 'concentrate': 7417, 'asses': 7418, 'chocked': 7419, 'unmet': 7420, 'abigailedge': 7421, 'whatgives': 7422, 'dullessucks': 7423, '4465': 7424, 'slew': 7425, 'rad': 7426, 'hemispheresmag': 7427, '8thtime5monthsold': 7428, 'kcqnwixucm': 7429, 'ua49': 7430, 'londonfashionweek': 7431, 'lfw15': 7432, '👠🇬🇧👠🇬🇧👠🇬🇧': 7433, '20k': 7434, 'cement': 7435, 'ua1724': 7436, 'ndtlj15zpu': 7437, '6212': 7438, 'needtocatchmynextflight': 7439, 'alreadyrebookedonce': 7440, \"sunday's\": 7441, '1623': 7442, 'traditions': 7443, 'flightdelay': 7444, 'nocompensation': 7445, 'despise': 7446, 'thee': 7447, '912': 7448, 'ambassador': 7449, 'tiredandwanttogohome': 7450, 'entry': 7451, 'confrontational': 7452, 'mails': 7453, 'wating': 7454, 'smisek': 7455, 'senses': 7456, '46n9kdcsxu': 7457, 'stickingtodelta': 7458, 'roam': 7459, 'mn”': 7460, 'loudly': 7461, 'throug': 7462, 'dimmed': 7463, 'pointed': 7464, 'oreos': 7465, 'reclaim': 7466, 'aunts': 7467, '€600': 7468, 'onlyinamerica': 7469, 'customerservices': 7470, 'transparent': 7471, 'char': 7472, 'rick': 7473, 'clifton': 7474, 'handbag': 7475, 'escorted': 7476, 'prebooked': 7477, 'und': 7478, 'lagos': 7479, 'nigeria': 7480, 'ou': 7481, 'keepitclassy': 7482, '359': 7483, 'bragged': 7484, 'robbogart': 7485, 'fib': 7486, 'vanished': 7487, 'idaho': 7488, 'anna': 7489, 'showsomerespect': 7490, '8473573': 7491, 'nawww': 7492, 'formed': 7493, '€202': 7494, '88': 7495, 'ipaamzt7z2': 7496, '3hourdelay': 7497, 'settle': 7498, 'perth': 7499, 'ua4904': 7500, 'tolerable': 7501, 'lastflightofthenight': 7502, 'breakup': 7503, 'dn1if2cgwe': 7504, 'us3645': 7505, '59pm': 7506, 'dpted': 7507, 'ua3645': 7508, '54pm': 7509, 'whatstatus': 7510, 'us651621': 7511, 'aweful': 7512, 'waitingforbags': 7513, 'tiredcustomer': 7514, 'dmb41shows': 7515, 'zouowgv3q6': 7516, '689': 7517, 'kindle': 7518, 'alb': 7519, 'hbsj2sf17h': 7520, 'lugging': 7521, 'justgetmehome': 7522, 'seek': 7523, 'sbn': 7524, 'vftuyjh45x': 7525, 'vtqe8m1l3i': 7526, '€67': 7527, 'u69fafqhsf': 7528, 'g6455c': 7529, 'roanoke': 7530, 'sous': 7531, 'doumented': 7532, 'crucial': 7533, 'youragentshavenoclue': 7534, 'a37n3ohokl': 7535, '78': 7536, '5lb': 7537, 'lon': 7538, '4841': 7539, '3zpjr7kwbk': 7540, 'gcwvfuopl2': 7541, 'illiterate': 7542, 't4gcks2bh5': 7543, 'cyprhe5gok': 7544, 'msn': 7545, 'rx': 7546, 'eyeglasses': 7547, 'thick': 7548, 'robcnyc': 7549, 'gbiw9ugfnm': 7550, 'substantial': 7551, 'demonstration': 7552, 'corny': 7553, 'a…': 7554, 'lwotkiekgu': 7555, '2daysofunitedfailures': 7556, '1thingafteranother': 7557, 'labyrinth': 7558, 'swindle': 7559, 'ymftw1uyhr': 7560, 'cont…': 7561, 'accomidating': 7562, '5979': 7563, 'qro': 7564, 'alwaysdelayed': 7565, 'capable': 7566, 'amt': 7567, 'impatience': 7568, 'untruthful': 7569, 'underserved': 7570, 'sonyasloanmd': 7571, '2trgemtebz': 7572, 'comedian': 7573, 'stage': 7574, 'reboard': 7575, 'eerekdf9fq': 7576, 'duecto': 7577, 'willl': 7578, 'it😊': 7579, 'snowforce': 7580, 'grow': 7581, '15p': 7582, 'bwood': 7583, 'surveying': 7584, 'vocab': 7585, 'donna': 7586, 'thatisall': 7587, 'xijyrpslzk': 7588, 'installed': 7589, '20hrs': 7590, 'mkpognntyc': 7591, 'func': 7592, 'fedex': 7593, 'bm9o2k5x5j': 7594, 'egkvfokogj': 7595, 'byod': 7596, 'worksnicely': 7597, 'caf2cx3gfi': 7598, 'qd2lyuxazg': 7599, 'hsmpbsf4uf': 7600, 'subsequently': 7601, 'cantlogoutofunitedwifi': 7602, 'logout': 7603, 'saddened': 7604, 'ua5631': 7605, 'extravaganza': 7606, 'v8pvphmtzc': 7607, '335': 7608, '2247': 7609, 'weighed': 7610, 'hime': 7611, 'syastem': 7612, '8544484': 7613, 'suite': 7614, 'keepusguessing': 7615, 'isthisyourfirsttry': 7616, '240': 7617, 'kms': 7618, '12h30am': 7619, 'cabine': 7620, 'sao': 7621, 'therealaviation': 7622, 'instagram': 7623, 'they’re': 7624, 'heartless': 7625, 'lacking': 7626, 'interrupted': 7627, 'whom': 7628, 'joni': 7629, '5653': 7630, 'orthodoc': 7631, 'publicly': 7632, 'regains': 7633, 'karma': 7634, 'sweaty': 7635, 'ua4935': 7636, 'sitters': 7637, 'wellplayed': 7638, 'jokesonus': 7639, 'rechecked': 7640, 'uncvsduke': 7641, 'relevant': 7642, 'ritz': 7643, 'kidnapped': 7644, 'sellout': 7645, 'obsolete': 7646, '285': 7647, 'unitedairlinessuck': 7648, 'customary': 7649, 'uniform': 7650, '1020': 7651, 'spends': 7652, 'randomactsofcorporategreed': 7653, 'segment': 7654, '630a': 7655, 'idnumber8569822': 7656, 'hopetogetanswersoon': 7657, 'hotelstonight': 7658, 'startingbloc': 7659, 'monica': 7660, 'unitedfails': 7661, 'worsttripofmylife': 7662, '1101': 7663, 'anotherdisappointment': 7664, 'ralph': 7665, \"nader's\": 7666, \"ual's\": 7667, 'o0745apiau': 7668, 'discouraging': 7669, '37d': 7670, 'u😻😻😻': 7671, '2of2': 7672, 'thier': 7673, 'in1st': 7674, 'threat': 7675, 'belligerent': 7676, 'ranting': 7677, 'aaron': 7678, 'ua5029': 7679, 'ua423': 7680, 'blacked': 7681, 'twin': 7682, 'olds': 7683, 'lifesaver': 7684, 'preparations': 7685, '2mm': 7686, 'beought': 7687, 'unexpactable': 7688, 'conflict': 7689, 'erased': 7690, 'christinebpc': 7691, 'versions': 7692, 'shin': 7693, 'splits': 7694, 'sprinting': 7695, 'income': 7696, 'exams': 7697, 'missin': 7698, '820pm': 7699, 'ua1416': 7700, 'failagain': 7701, 'unite': 7702, \"usa's\": 7703, 'fashion': 7704, 'unitedvusa': 7705, 'rbn7stuij1': 7706, 'quantas': 7707, 'auckland': 7708, 'professor': 7709, 'skiplagged': 7710, 'startups': 7711, 'amateurs': 7712, 'vibrant': 7713, 'habitrails': 7714, 'simplify': 7715, 'lhrt2': 7716, 'yyzua70435': 7717, 'shenanigans': 7718, 'ua4727': 7719, 'turrible': 7720, 'unaccomidating': 7721, 'careyon': 7722, 'leah': 7723, 'kerry': 7724, 'ua768': 7725, '574': 7726, 'math': 7727, 'fairbanks': 7728, 'fjkvqmbmas': 7729, 'ua1641': 7730, 'aren’t': 7731, 'overheads': 7732, 'aquadilla': 7733, '547': 7734, '8fmzzoltv9': 7735, 'parryaftab': 7736, 'withheld': 7737, 'kvfwajvvid': 7738, 'punished': 7739, 'accrue': 7740, 'cosmetic': 7741, 'weigh': 7742, 'conveyor': 7743, 'istanbul': 7744, '12th': 7745, 'lly144': 7746, 'stacey': 7747, 'potus': 7748, 'dvr': 7749, 'motion': 7750, 'm81rv0blxs': 7751, 'loluwfci11': 7752, 'plumber': 7753, '07': 7754, 'albuquerque': 7755, 'string': 7756, 'reads': 7757, 'ypu': 7758, 'qlyss8': 7759, 'jt”': 7760, 'ua304': 7761, '10f': 7762, 'creative': 7763, 'noodles': 7764, 'peas': 7765, 'zukes': 7766, 'yogurt': 7767, 'stillmakingmepoorthough': 7768, \"hughes'\": 7769, 'automobiles': 7770, 'beneficial': 7771, 'longstanding': 7772, 'shoulda': 7773, 'burningman': 7774, 'thor': 7775, 'midland': 7776, 'idonotcare': 7777, 'doc': 7778, 'ua3466': 7779, 'ua22': 7780, 'pressed': 7781, '9year': 7782, 'cabins': 7783, 'church': 7784, 'sailed': 7785, 'ua6002': 7786, 'mli': 7787, 'ua3530': 7788, 'yeg': 7789, 'fay': 7790, \"dm's\": 7791, 'retracted': 7792, 'silverairwsys': 7793, 'affiliated': 7794, 'lh7631': 7795, 'margo': 7796, \"houston's\": 7797, 'intercontinental': 7798, \"'we've\": 7799, \"over'\": 7800, \"changed'\": 7801, 'reduction': 7802, '900s': 7803, 'exhorbitantfees': 7804, 'outpost': 7805, '1547': 7806, 'ua1297': 7807, 'ftlauderdalesun': 7808, 'orlandosentinel': 7809, '1ateafnc6r': 7810, 'pleasent': 7811, 'dj': 7812, '3586': 7813, '70s': 7814, 'inner': 7815, 'lowstandards': 7816, 'm67wnbglxq': 7817, 'heathrowairport': 7818, 'winters': 7819, 'owmaxoyehz': 7820, 'jorescfb4x': 7821, 'annnnddddd': 7822, 'rapids': 7823, 'bypass': 7824, 'cju102xp2k': 7825, 'confuses': 7826, '6in': 7827, 'surliness': 7828, 'speechless': 7829, 'monopoly': 7830, 'doesntfeellikestatusyet': 7831, 'inflexible': 7832, 'le2v9d': 7833, 'numbered': 7834, 'iatanbul': 7835, 'suggests': 7836, 'structure': 7837, 'dramatically': 7838, 'diminishes': 7839, 'certs': 7840, 'profitability': 7841, 'deter': 7842, 'storage': 7843, 'latter': 7844, 'lug4mfvwsa': 7845, 'preferences': 7846, 'ridic': 7847, 'ilc0hp': 7848, 'paycheck': 7849, '2daysofhell': 7850, 'cbcallinaday': 7851, 'cbcnews': 7852, 'rj': 7853, '145s': 7854, 'aoeaeszdlx': 7855, 'amounts': 7856, 'apologized': 7857, 'sobbing': 7858, \"ua's\": 7859, '901hlngbtx': 7860, 'answerthis': 7861, 'dreadful': 7862, 'whacked': 7863, 'verifies': 7864, 'harris': 7865, 'circulation': 7866, 'premiers': 7867, 'mkwlkr': 7868, 'regard': 7869, 'expressing': 7870, 'cushion': 7871, 'ua6465': 7872, 'consoled': 7873, 'waspaid': 7874, 'miriam': 7875, 'ua6255': 7876, 'winnipeg': 7877, 'ua1059': 7878, 'tightconnection': 7879, '9148445695': 7880, 'coltsmissingbags': 7881, 'lightyears': 7882, 'frightening': 7883, '1627': 7884, '1person': 7885, 'breathe': 7886, 'borderline': 7887, 'letsworktogether': 7888, 'dope': 7889, '299': 7890, '711': 7891, 'unempathetic': 7892, '4411': 7893, 'bcn': 7894, 'whatsoever': 7895, 'unitedairline': 7896, 'correspondence': 7897, 'tablets': 7898, 'anti': 7899, 'respects': 7900, \"'cuz\": 7901, 'pretending': 7902, 'welfare': 7903, 'tracing': 7904, 'turquoise': 7905, 'duffle': 7906, 'upc': 7907, 'swimsuits': 7908, 'competitively': 7909, '179': 7910, '324': 7911, '44zhmfdiw6': 7912, 'unitedwithivy': 7913, 'falseadvertising': 7914, 'ua1127': 7915, 'tons': 7916, 'addr': 7917, 'signin': 7918, 'hearts': 7919, '512': 7920, 'sime': 7921, 'noapology': 7922, 'restructured': 7923, 'brotha': 7924, 'teleportation': 7925, 'ua514': 7926, 't3gnk2n7ld': 7927, 'rtb': 7928, 'cigarettes': 7929, 'prohibits': 7930, 'stonewalled': 7931, 'ua3710': 7932, '3710': 7933, 'colliding': 7934, '644': 7935, 'wontflyagainwithyou': 7936, 'staffers': 7937, 'faults': 7938, '1114': 7939, 'isolate': 7940, 'mtn': 7941, 'hemispheres': 7942, 'vrqdpqepfw': 7943, 'ritacomo': 7944, 'understandably': 7945, 'edgy': 7946, 'chipper': 7947, 'ser': 7948, 'chatting': 7949, 'stdby': 7950, 'sivi': 7951, 'stewart': 7952, 'amid': 7953, '13ewr': 7954, 'ua1151': 7955, 'go…': 7956, 'dadboner': 7957, 'boldflavors': 7958, 'bourbon': 7959, 'bold': 7960, 'flavors': 7961, 'ingredients': 7962, 'csfail': 7963, 'shady': 7964, 'undetermined': 7965, \"chicago's\": 7966, 'savethediagonals': 7967, 'flyquiet': 7968, 'ordnoise': 7969, '856': 7970, '81': 7971, 'cyndi': 7972, 'troy': 7973, 'superben': 7974, '3875': 7975, '2yr': 7976, '757': 7977, 'unitedfirst': 7978, 'zgoqoxjbqy': 7979, 'connectors': 7980, 'considerably': 7981, 'wise': 7982, 'cheeze': 7983, 'jilted': 7984, 'moneyelsewhere': 7985, 'tryagain': 7986, 'tvk0pyxqv5': 7987, 'ua3787': 7988, 'amnt': 7989, '0162431184663': 7990, '3thparty': 7991, 'fuchzrzjg5': 7992, 'igiveup': 7993, 'signup': 7994, 'nyvv1x3d67': 7995, 'azltjhf7lv': 7996, 'vary': 7997, '👎👎': 7998, 'ingeniero': 7999, 'ito': 8000, 'firing': 8001, 'loaned': 8002, 'bt37kyrbyj': 8003, 'classic': 8004, 'elizabeth': 8005, 'ua3364': 8006, 'retweet': 8007, 'doublestandards': 8008, '253': 8009, 'jetbridge': 8010, 'passenegers': 8011, 'ua1159': 8012, 'rmoug15': 8013, 'cheduled': 8014, 'closings': 8015, '😈': 8016, 'firm': 8017, 'batman': 8018, 'insanely': 8019, 'upsell': 8020, 'laden': 8021, 'albeit': 8022, '86': 8023, 'tissues': 8024, '9h': 8025, '3359': 8026, 'zzps5ywve2': 8027, 'nonetheless': 8028, 'ivgpzsjtkw': 8029, '8273993': 8030, '6tz6imqzlg': 8031, 'audition': 8032, 'quiche': 8033, 'tandoori': 8034, 'entrees': 8035, 'accompaniments': 8036, 'equipped': 8037, \"she'd\": 8038, 'txting': 8039, 'pittsburg': 8040, 'untrained': 8041, 'crossing': 8042, 'whispering': 8043, 'bitty': 8044, '5imdckodfx': 8045, '1591': 8046, '1618': 8047, 'perceived': 8048, 'flightncy': 8049, 'blegh': 8050, 'braved': 8051, 'shipping': 8052, 'gents': 8053, 'brandi': 8054, 'zabsonre': 8055, 'tk3aopdtsq': 8056, 'rear': 8057, 'ua5025': 8058, 'erj145': 8059, '5237': 8060, 'feck': 8061, 'flyana': 8062, 'transpacific': 8063, 'survive': 8064, 'casleah': 8065, 'jsumiyasu': 8066, 'gist': 8067, 'indicating': 8068, 'aback': 8069, 'squarely': 8070, \"passenger's\": 8071, 'cockup': 8072, 'oh7cfv7dhr': 8073, 'proficient': 8074, 'reactive': 8075, 'juice': 8076, 'getphilz': 8077, 'sg7iqqfvso': 8078, 'mot': 8079, 'clusterfucks': 8080, 'moar': 8081, 'bully': 8082, 'mentality': 8083, 'fostering': 8084, 'inspiration': 8085, 'greater': 8086, 'employeerelations': 8087, '757s': 8088, 'btwn': 8089, 'ports': 8090, 'dispatch': 8091, 'crâpe': 8092, 'ua1207': 8093, 'biscuits': 8094, 'gz9gqdt7jj': 8095, 'sentimental': 8096, 'mp': 8097, 'connetion': 8098, '2053': 8099, 'fr1': 8100, 'sr': 8101, '256746438028': 8102, 'prompted': 8103, 'leverage': 8104, 'meagan': 8105, 'fouty': 8106, 'brancato': 8107, '2771': 8108, 'logically': 8109, 'altonbrownlive': 8110, 'sohappy': 8111, '😡😡😡😡😤😤😤': 8112, '85': 8113, '210pm': 8114, 'flyfrontier': 8115, 'scramble': 8116, 'auction': 8117, 'invitational': 8118, 'mrfbjtepef': 8119, '1999': 8120, '2011': 8121, \"women's\": 8122, 'throwback': 8123, 'bestflightever': 8124, 'heavenlychc9': 8125, '9news': 8126, '9newsbusiness': 8127, 'o3wlainimy': 8128, '218': 8129, 'facepalm': 8130, '7pofsxojsy': 8131, 'approvals': 8132, 'fml': 8133, 'playa': 8134, 'carmen': 8135, 'smiles1307': 8136, 'christine': 8137, '1xzrk66wvq': 8138, 'dignity': 8139, '01': 8140, 'baitandswitch': 8141, 'ids': 8142, '2373': 8143, 'rapidrewards': 8144, 'lasttweetaboutthis': 8145, 'groupa': 8146, 'honey': 8147, 'portal': 8148, 'huclxluv5h': 8149, 'o4zr27qpcr': 8150, 'reverted': 8151, 'role': 8152, 'vacationfail': 8153, 'frozenwater': 8154, 'gettingimpatient': 8155, 'theycouldatleastofferfreebooze': 8156, 'venetia': 8157, 'crook': 8158, '1614': 8159, 'oyu': 8160, 'strives': 8161, \"'customer\": 8162, \"centric'\": 8163, 'smalls': 8164, 'vipliveinthevieyard': 8165, 'intuit': 8166, 'jhamilton2007': 8167, 'careers': 8168, 'intuitlife': 8169, 'leanin': 8170, '2qjbcv5jzq': 8171, 'reboarding': 8172, 'a49': 8173, 'kta': 8174, 'vip': 8175, 'happycamper': 8176, 'mae': 8177, 'als': 8178, 'm1yywafkfi': 8179, 'kevinswan': 8180, 'alstdi': 8181, 'smoooothest': 8182, 'southwestsmoothie': 8183, 'vr9k180lai': 8184, 'aau9mka6zy': 8185, 'sol': 8186, 'raps': 8187, 'evolved': 8188, 'fornpf69ky': 8189, 'aimed': 8190, 'satisfy': 8191, 'nano': 8192, 'smattering': 8193, 'etd': 8194, 'swa1004': 8195, 'birth': 8196, 'born': 8197, '4471': 8198, 'sauna': 8199, 'buisness': 8200, 'schoolgirl': 8201, 'typing': 8202, 'bagsflyfree': 8203, 'cheatcustomers': 8204, 'mugged': 8205, 'wrongiswrong': 8206, 'badbussiness': 8207, '63zaq2lt8f': 8208, 'h44uj63cjg': 8209, 'attempts': 8210, 'kl9baimes6': 8211, 'nowarmclothes': 8212, 'lostbags': 8213, 'istudios': 8214, 'youdidit': 8215, 'higgs': 8216, 'boson': 8217, 'thebachelor': 8218, 'wah': 8219, 'smoothflight': 8220, 'frequentflyer': 8221, 'flutter': 8222, 'fullprice': 8223, 'bethonors': 8224, 'honorable': 8225, 'economic': 8226, \"child's\": 8227, 'allergy': 8228, '👍😊': 8229, 'lovedflyingwiththem': 8230, 'notanymore': 8231, 'tmobile': 8232, 'crooked': 8233, 'shouldwearmasks': 8234, 'f8neqm': 8235, \"'service'\": 8236, 'ync2zut4zz': 8237, 'elhxuv0uj1': 8238, 'lou': 8239, 'ourguest': 8240, 'katie': 8241, 'c47': 8242, '5txu5tsfkj': 8243, '206': 8244, 'canthurtasking': 8245, 'nutsaboutsouthwest': 8246, '👍👌': 8247, 'satisfactorily': 8248, 'justsayin': 8249, 'genuinely': 8250, 'comparable': 8251, 'shittydeal': 8252, 'taylorlumsden': 8253, 'responsiveness': 8254, 'escaping': 8255, 'mean…it': 8256, 'improving': 8257, 'h46ht1oz40': 8258, 'evennotified': 8259, 'theflight': 8260, 'isdelayed': 8261, 'wererunning': 8262, 'tests': 8263, 'chemistry': 8264, 'melissa': 8265, 'albums': 8266, 'accidents': 8267, 'fistfights': 8268, 'darrel': 8269, 'lifting': 8270, 'spirits': 8271, 'c9': 8272, 'stoked': 8273, 'topqmvqnjp': 8274, 'mkt': 8275, 'whathappend': 8276, 'devalued': 8277, 'mdbdyomrs7': 8278, 'detective': 8279, 'sadie4406': 8280, 'mraw3qdw4d': 8281, 'vinyl': 8282, 'sports': 8283, 'x4tdy84dbh': 8284, 'destinationdragon': 8285, '3138': 8286, 'givethemraises': 8287, 'crabby': 8288, 'feltthelove': 8289, 'netneutrality': 8290, 'paradise': 8291, 'kdzqczlpyr': 8292, 'flight2149': 8293, 'entertained': 8294, 'gin': 8295, 'tonic': 8296, 'toyingwithouremotions': 8297, 'fox8news': 8298, 'kristi': 8299, 'capel': 8300, 'toughtomakeplans': 8301, 'gettingthirsty': 8302, '46mins': 8303, 'hooking': 8304, 'businesstrip': 8305, 'hdsportsguy': 8306, 'dos': 8307, \"don'ts\": 8308, 'announcer': 8309, '651': 8310, 'sba0aricyq': 8311, '823': 8312, '3075': 8313, 'broad': 8314, 'notsatisfied': 8315, 'georgia': 8316, \"don's\": 8317, 'motions': 8318, 'becoming': 8319, 'remaining': 8320, 'n366sw': 8321, 'wqzztiemx0': 8322, '99999999': 8323, 'allgood': 8324, 'rncahill': 8325, 'ideserveareward': 8326, 'l7hsnlgie2': 8327, 'partnering': 8328, 'hilton': 8329, 'marriage': 8330, \"'flight'\": 8331, 'lukewyckoff': 8332, 'matthewebel': 8333, 'coachgs': 8334, 'cheap1': 8335, 'sellmypointssoon': 8336, 'body': 8337, 'downs': 8338, 'meat': 8339, 'punishedforflying': 8340, '1028': 8341, 'possession': 8342, 'vudwjm1lyb': 8343, 'airtran': 8344, 'q4vnmb': 8345, '😩😫😢': 8346, 'nakedmeetings': 8347, 'banning': 8348, 'nut': 8349, 'dust': 8350, 'sighed': 8351, 'nelsjeff': 8352, \"'ing\": 8353, '1156': 8354, 'kkwhb': 8355, 'b46': 8356, '184': 8357, 'finq5fh6ue': 8358, 'directional': 8359, 'dislexia': 8360, 'looped': 8361, 'gis2015': 8362, \"what'd\": 8363, 'ewk': 8364, 'pseudo': 8365, 'daysinn': 8366, 'lease': 8367, 'empathetic': 8368, 'monika': 8369, 'mwa': 8370, 'ambivalence': 8371, 'jparkermastin': 8372, '💔😪': 8373, 'nbd': 8374, 'muchas': 8375, 'grassy': 8376, 'dissaponted': 8377, 'wn3946': 8378, 'rita': 8379, 'specialolympics': 8380, 'olympic': 8381, 'akron': 8382, 'wretched': 8383, 'suspended': 8384, 'allegiantair': 8385, '1050': 8386, 'momma': 8387, '8uxzj2': 8388, 'ar': 8389, 'eom': 8390, '😣': 8391, 'tru': 8392, 'thatthis': 8393, 'contingencies': 8394, 'mighty': 8395, 'sxvagbrtli': 8396, 'c22': 8397, 'weatherless': 8398, 'sweeps': 8399, 'nofg0tqhyn': 8400, 'precludes': 8401, 'southwestluv': 8402, '9unxqotzik': 8403, 'destroy': 8404, '50th': 8405, 'sweethearts': 8406, 'companions': 8407, '3130': 8408, 'functionally': 8409, 'combat': 8410, 'dontmakemebeg': 8411, 'everyones': 8412, 'qjkl4abprg”': 8413, 'brighter': 8414, 'combined': 8415, 'qualified': 8416, 'hollymais': 8417, 'investment': 8418, '4179': 8419, 'fasten': 8420, 'xmz3tf9ix8': 8421, 'bur': 8422, 'gettingbetter': 8423, 'get2': 8424, '436': 8425, 'angering': 8426, 'slowness': 8427, 'ack': 8428, 'qrxvzfrd1z': 8429, 'wentook3': 8430, 'shouldhaveflownjetblue': 8431, 'opposed': 8432, 'crappiest': 8433, 'enemy': 8434, 'handicapped': 8435, 'ohk': 8436, 'inexpensive': 8437, 'airfares': 8438, '209': 8439, 'notmadeofmoney': 8440, 'curse': 8441, 'deed': 8442, '😂💁': 8443, 'essentials': 8444, 'galaxy': 8445, 's4': 8446, 'scroll': 8447, 'theacademy': 8448, 'peanutsonaplatter': 8449, '380': 8450, '1708': 8451, 'danihampton': 8452, 'dani': 8453, 'whagpknnlf': 8454, '310': 8455, 'defective': 8456, 'chalk': 8457, '😋': 8458, 'coldly': 8459, 'neveryamind': 8460, '450': 8461, 'vn3jjia53o': 8462, 'tear': 8463, 'seam': 8464, 'busted': 8465, 'zippers': 8466, 'lhwfbkfyni': 8467, 'uninformed': 8468, 'unapologetic': 8469, 'quietly': 8470, 'irate': 8471, 'justsaying': 8472, 'expeditious': 8473, 'onechildfourbags': 8474, 'redirects': 8475, '75yo': 8476, 'audience': 8477, 'complimentarybeveragesneeded': 8478, 'earlybirdmeansnothing': 8479, 'yday': 8480, '90min': 8481, 'drenched': 8482, '1629': 8483, \"cx'ed\": 8484, 'nev': 8485, 'x1eqyahfvz': 8486, 'alison': 8487, 'bobbi': 8488, 'unprecedented': 8489, 'nustgpelsf': 8490, 'be0b4k1xbt': 8491, '🙌😏': 8492, 'getmeouttahere': 8493, 'southwestsucks': 8494, 'noluv': 8495, '6zj6l2ztua': 8496, 'orl': 8497, 'happend': 8498, '668': 8499, 'adam': 8500, 'tracks': 8501, 'mashing': 8502, 'tones': 8503, 'swell': 8504, 'delacy': 8505, 'compassionate': 8506, '🌟🌟': 8507, '3999': 8508, '1800iflyswa': 8509, '170': 8510, 'laps': 8511, 'dilemma': 8512, \"bf's\": 8513, 'insulin': 8514, '3913': 8515, '4199': 8516, '3825': 8517, 'grandcanyon': 8518, 'd7pqouatdf': 8519, 'baggagefail': 8520, 'bagsflyfreebutnotwithme': 8521, '50min': 8522, 'epitimeoffail': 8523, 'jamie': 8524, 'mckinnie': 8525, 'owning': 8526, 'trees': 8527, 'optout': 8528, 'cxrzhcdtvz': 8529, 'sayin': 8530, 'furnish': 8531, 'talents': 8532, 'meh': 8533, '3336': 8534, \"swa's\": 8535, '3104': 8536, 'wld': 8537, 'getmeoutofhere': 8538, 'g9b6e0a2sz': 8539, 'rating': 8540, 'intlcheckin': 8541, 'sink': 8542, 'sanitizer': 8543, 'homegirl': 8544, 'out✈️📱': 8545, 'stuckintampa': 8546, 'chicagomidway': 8547, 'mgmt': 8548, 'cavalli': 8549, 'calves': 8550, 'interfering': 8551, 'mccarran': 8552, 'c16': 8553, 'southwestfail': 8554, 'rx8z53m7yy': 8555, '8q6mfd': 8556, 'coordinate': 8557, 'wills': 8558, '2hr30': 8559, 'loser': 8560, '2464': 8561, 'insubstantial': 8562, 'singer': 8563, 'blacklivesmatter': 8564, 'vitaminwater': 8565, '🍻🍻': 8566, 'dosequis': 8567, 'fattire': 8568, 'fehqne': 8569, '21feb15': 8570, '2646': 8571, 'fwwe7f': 8572, 'ant': 8573, 'tn': 8574, '3076': 8575, 'brag': 8576, 'snowboard': 8577, 'totalfail': 8578, '😞😡': 8579, '4229': 8580, 'presidential': 8581, '899': 8582, 'fsz4yo': 8583, '6mos': 8584, 'las2buf': 8585, '4040': 8586, '3113': 8587, 'sev': 8588, '2k': 8589, 'getyourlife': 8590, 'vets': 8591, '3252': 8592, 'vet': 8593, 'healing': 8594, 'idols': 8595, 'amazing💖': 8596, 'callmestanley7': 8597, 'discontinued': 8598, 'flysw': 8599, 'particular': 8600, 'forty': 8601, '45minflight': 8602, 'been3hours': 8603, 'celebration': 8604, '408': 8605, 'unmanned': 8606, '4158': 8607, 'after2': 8608, 'winners': 8609, 'whenitsnowsitpours': 8610, 'tgcyalate': 8611, 'library': 8612, 'ory89eegek': 8613, 'grandmothers': 8614, 'anhour': 8615, '😅': 8616, 'mha3xxaed5': 8617, 'bgr1061': 8618, 'werenot': 8619, '2chng': 8620, 'going2': 8621, 'whch': 8622, 'advsry': 8623, 'removes': 8624, 'readily': 8625, 'imjustsaying': 8626, '😔😔😔': 8627, 't6fyybhjhl': 8628, 'ucvnilmb4x': 8629, 'ryand2285': 8630, 'happybirthday': 8631, '3nsusfsbpv': 8632, 'profitable': 8633, 'venture': 8634, 'isitthegarykellyway': 8635, '0bjnz4eix5': 8636, 'cutoff': 8637, 'counting…just': 8638, '5siczx1oez': 8639, 'chapman': 8640, 'designs': 8641, 'fxnv618b1a': 8642, '3970': 8643, 'getmorehands': 8644, 'indian': 8645, 'aunties': 8646, 'aruna': 8647, 'aypyaduy6a': 8648, 'southwestoliver': 8649, 'tremendously': 8650, 'theellenshow': 8651, 'kdepetro313': 8652, 'n3lrfo4uay': 8653, '4053': 8654, 'pgwukrpmox': 8655, '3867': 8656, 'getmeoffthisbird': 8657, 'crutches': 8658, 'a3ycflalxv': 8659, 'tmw': 8660, 'ne': 8661, 'ngg3n0wiar': 8662, 'olive201': 8663, 'customerloyalty': 8664, 'pulse': 8665, 'aufm4xdaj2': 8666, 'iwoigrlhxb': 8667, 'launder': 8668, 'hiremorepeople': 8669, 'approximate': 8670, \"keepitmovin'\": 8671, 'supvsr': 8672, 'implement': 8673, 'liqwoblfbt': 8674, 'hyperlinked': 8675, 'ih5w9nfkz2': 8676, '800iflyswa': 8677, 'frank': 8678, '😜😂': 8679, 'purifier': 8680, '😷😱': 8681, \"we'e\": 8682, 'baking': 8683, '3415': 8684, 'sourhwest': 8685, 'eczhcmm5vi': 8686, '⭐️': 8687, 'sac': 8688, 'betch': 8689, 'nationwide': 8690, '1140': 8691, 'bone': 8692, '1aavvoreph': 8693, 'kmdw': 8694, 'b738': 8695, '6cpypgfnd6': 8696, 'jasonwhitely': 8697, '947': 8698, 'emer': 8699, 'albuquer': 8700, 'maverick': 8701, 'adjusting': 8702, 'snowstorms': 8703, 'airpt': 8704, 'zfroinpszi': 8705, 'luved': 8706, '372': 8707, 'applauded': 8708, 'takemeback': 8709, 'oqz7wc4lla': 8710, 'stl2atl': 8711, \"when's\": 8712, 'fwhei6': 8713, 'alist': 8714, 'wifiless': 8715, 'buzz': 8716, '300s': 8717, 'ahah😃💕🎵': 8718, 'sw✈❗': 8719, '❤': 8720, 'annamarie': 8721, 'norris': 8722, 'recognized': 8723, 'scumbag': 8724, 'sacintlairport': 8725, 'bestinclass': 8726, '30000ft': 8727, 'takemehome': 8728, '2672': 8729, 'radish': 8730, '😤🐴': 8731, 'intend': 8732, 'julgood1': 8733, 'miscommunicated': 8734, 'blatimore': 8735, 'ttxrsynlxr': 8736, 'o3srl1hfho': 8737, 'weathered': 8738, 'stacy': 8739, 'himself': 8740, 'wernicke': 8741, 'noone': 8742, 'thetroubadour': 8743, 'ripme': 8744, 'disneyland': 8745, 'nkafbjyari': 8746, 'heyo': 8747, '1836': 8748, 'headlines': 8749, 'liveonfox17': 8750, 'februaryfreezefox17': 8751, 'tgsb1dfps3': 8752, '1zt2kee8up': 8753, 'okaaaaay': 8754, 'gal': 8755, 'vbuxfpckfa': 8756, \"old's\": 8757, \"cap'n\": 8758, 'c8mqezxvdh': 8759, 'qxww1p09a0': 8760, 'manana': 8761, 'stlouis': 8762, 'rcdh183q1j': 8763, 'spvsr': 8764, 'blows': 8765, '7ujt8vtcpa': 8766, 'ysqbvq6mgb': 8767, 'rock😎': 8768, 'padresst': 8769, '😂😂': 8770, 'iqu0ppvq2s': 8771, 'teamspirit': 8772, 'x5jena7nye': 8773, 'samoore10': 8774, 'southwestrocks': 8775, 'includes': 8776, 'keyrpflhil”': 8777, 'neverchange': 8778, 'mytimeismoney': 8779, '4569': 8780, 'deficiency': 8781, 'luvagent': 8782, 'assuring': 8783, 'guessweflyingdelta': 8784, 'needtogethome': 8785, 'buck': 8786, \"'b'\": 8787, 'carryonbagssloweverybodydown': 8788, 'volleyball': 8789, 'tn5cxcld6m': 8790, 'manufactured': 8791, 'quirkiness': 8792, 'mmm': 8793, 'captiveaudience': 8794, 'ashevilleair': 8795, 'functional': 8796, '20th': 8797, 'mightmismybrosgraduation': 8798, 'flight…': 8799, '☺': 8800, 'shhhh': 8801, 'deal😉': 8802, 'deborah': 8803, 'me💁': 8804, 'wantcharge': 8805, 'extending': 8806, 'notahappytraveler': 8807, 'obey': 8808, 'relay': 8809, 'allowabl': 8810, 'kats': 8811, 'moveaboutthecountry': 8812, 'fjbfsc': 8813, '776': 8814, '656': 8815, 'frigidfriday': 8816, 'bfpfw6eyku': 8817, 'q8vsffrd1u': 8818, 'ahhhhh': 8819, 'jackpot': 8820, 'zo2iceg4li': 8821, 'devaluation': 8822, '2bestfriends': 8823, 'retire': 8824, 'excruciatingly': 8825, 'hover': 8826, 'intrusive': 8827, 'jim': 8828, 'pockets': 8829, \"'thanks'\": 8830, 'getconnected': 8831, 'achieving': 8832, 'luxury': 8833, 'missedflight': 8834, 'releasing': 8835, 'lbb': 8836, 'tripofalifetime': 8837, 'sinuses': 8838, 'contend': 8839, 'landings': 8840, 'preregistration': 8841, 'eould': 8842, 'flipping': 8843, '♥️': 8844, 'whiny': 8845, 'lo6lghpcdu': 8846, \"gettin'\": 8847, 'homewardbound': 8848, 'bringin': 8849, 'mor': 8850, 'parhetic': 8851, 'bagawim': 8852, 'ngxal9oml6': 8853, '😊🌴': 8854, '9trvfncedl': 8855, 'useable': 8856, '8x7xvm': 8857, '❤️you': 8858, 'tos': 8859, 'bebetter': 8860, 'mrn': 8861, 'disupdates': 8862, 'budweiserduels': 8863, 'lined': 8864, '108639': 8865, 'stellarservice': 8866, 'byebyeusairline': 8867, '4028': 8868, 'bless': 8869, 'medically': 8870, '4007': 8871, '8b': 8872, 'xw': 8873, 'brd': 8874, 'cng': 8875, 'overbk': 8876, 'chiberia': 8877, 'miracles': 8878, '2851': 8879, 'bec': 8880, 'amiltx3': 8881, 'forgiven': 8882, 'll”': 8883, 'resort': 8884, '😖': 8885, '✈️✈️': 8886, 'wilco': 8887, '4200': 8888, 'subterfuge': 8889, 'aug': 8890, '8hh4p2': 8891, '317': 8892, \"6'4\": 8893, 'loveeee': 8894, 'empathize': 8895, 'capitalized': 8896, 'lowercase': 8897, '✈️😃👍': 8898, '702': 8899, 'excitement': 8900, 'sammi': 8901, 'jon3s': 8902, '❤️❤️❤️': 8903, \"america's\": 8904, 'southwestrally': 8905, 'bestemployees': 8906, 'swaculture': 8907, 'swapic': 8908, 'dresparkles': 8909, 'luvin': 8910, 'sandiego': 8911, 'uno': 8912, 'baseball': 8913, 'luvintheair': 8914, 'joy': 8915, 'heartlanta': 8916, 'fist': 8917, '2009': 8918, 'hardcase': 8919, 'golfbags': 8920, 'saianel': 8921, 'saturdays': 8922, 'permanent': 8923, 'ineligible': 8924, \"fiancee'\": 8925, '411': 8926, 'evrytime': 8927, '955': 8928, 'rolled': 8929, 'airliner': 8930, 'cache': 8931, '73': 8932, '159': 8933, 'exclusive': 8934, 'sjd': 8935, 'seasonal': 8936, 'heart💕': 8937, 'hayleymad': 8938, 'daydreaming': 8939, 'ohioprobz': 8940, 'origami': 8941, 'oldpolicieswaybetter': 8942, 'yeehaw': 8943, 'vent': 8944, 'ensured': 8945, '455': 8946, 'brittanyobx11': 8947, 'quirky': 8948, 'archaic': 8949, 'accommodates': 8950, 'onelove': 8951, '578': 8952, 'favoriteairline': 8953, 'luvforsw': 8954, \"columbus'\": 8955, 'unserved': 8956, '🐩': 8957, 'vqtyza6mzu': 8958, 'flight7': 8959, 'a60': 8960, 'constructive': 8961, 'criticism': 8962, 'bringbacktheluvtordu': 8963, 'directflights': 8964, 'wholly': 8965, 'forever😃💕😍⤴⤴': 8966, 'consultant': 8967, 'superb': 8968, 'jlittle100': 8969, 'nonstops': 8970, '21mbps': 8971, '😒👎': 8972, 'presenting': 8973, '5znmwxdi9u': 8974, 'integrating': 8975, 'supporter': 8976, 'jesus': 8977, 'portrayed': 8978, 'homosexual': 8979, 'judas': 8980, 'performs': 8981, '“gay': 8982, 'wedding”': 8983, 'whoot': 8984, 'lasted': 8985, 'redeeming': 8986, '423': 8987, '☀️': 8988, 'races': 8989, 'luxclark': 8990, 'laura': 8991, 'onlywaytofly': 8992, 'leathery': 8993, 'faaaannntastic': 8994, 'jm8gq1kgrf': 8995, 'horribleattitudes': 8996, 'players': 8997, 'chgd': 8998, 'acoustic': 8999, 'disneyprincesshalfmarathon': 9000, 'girlsweekend': 9001, 'bffs': 9002, '463': 9003, 'rich': 9004, 'westagard': 9005, 'att': 9006, 'nancy': 9007, 'customersfirst': 9008, 'bridesmaid': 9009, 'unpredictable': 9010, 'tiks': 9011, '😱❤️im': 9012, 'herb': 9013, '1172': 9014, 'timieyancey': 9015, 'tkvcmhbpim': 9016, 'qn5odugfqk': 9017, 'a30': 9018, 'a68d5fulmh': 9019, 'sporadically': 9020, 'uncharacteristic': 9021, 'txhyj40llg': 9022, 'aired': 9023, \"bet's\": 9024, 'bookofnegroes': 9025, '77': 9026, 'sests': 9027, \"sen't\": 9028, '18th': 9029, 'sweatshirt': 9030, 'craftbeer': 9031, 'norfolk…': 9032, 'tgsljjn6g0': 9033, 'nbz45jcd1r': 9034, 'cyoonzftdc': 9035, 'whyyy': 9036, '4223': 9037, 'damion': 9038, 'damionflight4223': 9039, 'kaneshow': 9040, 'internjohnradio': 9041, 'mrerickv': 9042, '16c9ex79rk': 9043, 'leeannhealey': 9044, 'snapchat': 9045, 'demolish': 9046, '3933': 9047, 'alas': 9048, 'witty': 9049, 'repartee': 9050, 'bso': 9051, 'attentive': 9052, 'bicycles': 9053, '62': 9054, 'criteria': 9055, 'bikes': 9056, 'faq': 9057, 'lanes': 9058, 'luvsw': 9059, 'ey': 9060, 'bingo': 9061, 'noah': 9062, 'mr”': 9063, 'sets': 9064, 'skkewqhssg': 9065, 'taylormdowns': 9066, 'karajusto': 9067, 'worstthingever': 9068, 'fedexed': 9069, 'courtney': 9070, 'anni': 9071, 'bape6rumne': 9072, 'jamesasworth': 9073, 'brent': 9074, '70plus': 9075, 'cantblametheweather': 9076, 'brendanpshannon': 9077, 'brendan': 9078, 'rs”': 9079, 'subscribe': 9080, 'kindly': 9081, 'mardigras2015': 9082, 'straying': 9083, 'collection': 9084, 'lednocdqee': 9085, 'craving': 9086, 'cfi1e3kxa9': 9087, 'swadiversity': 9088, 's3esw5agum': 9089, 'pastmypatienceexpirationdate': 9090, 'popping': 9091, 'kirkwoodtiger': 9092, 'aay5avg99b': 9093, 'ld”': 9094, 'customerservicewin': 9095, 'itravelalot': 9096, 'z5znfwkkwp': 9097, 'compete': 9098, 'fuckinf': 9099, '0kn7pjelzl': 9100, 'lovesouthwest': 9101, 'mybday': 9102, 'sagerooski': 9103, 'undignified': 9104, 'freedrinkcoupons': 9105, 'mltple': 9106, 'jax2bna': 9107, 'notokay': 9108, 'lastly': 9109, '2078': 9110, 'balt': 9111, 'vomited': 9112, 'caroline': 9113, 'superhero': 9114, '1703': 9115, 'astounded': 9116, 'contempt': 9117, 'purse': 9118, 'wendell': 9119, 'holton': 9120, 'secondly': 9121, \"on's\": 9122, 'packingayak': 9123, 'brianregancomic': 9124, 'cockroaches': 9125, 'crawling': 9126, 'traps': 9127, 'ryxbplgmnk': 9128, 'fs4ve7': 9129, 'deltapoints': 9130, 'devotedyyours': 9131, 'nl': 9132, 'disappointments': 9133, 'lounges': 9134, '4110': 9135, '2boh2mh3cb': 9136, 'downnnnn': 9137, 'bicycle': 9138, 'fla': 9139, 'tinaisback': 9140, 'sw”': 9141, 'neveind': 9142, 'johnwayneair': 9143, 'divadapouch': 9144, 'thepoopqueen': 9145, 'xxy2d2imnp': 9146, 'wonderfully': 9147, 'reload': 9148, '4146': 9149, 'freecomedyshow': 9150, 'newlifetimecustomer': 9151, 'engadget': 9152, 'theverge': 9153, 'wired': 9154, 'iusedtoloveu': 9155, 'tefhpuwmdj': 9156, 'emerg': 9157, '1831': 9158, 'erw': 9159, '442998': 9160, 'commit': 9161, 'intercom': 9162, 'kisses': 9163, 'nklozcntto': 9164, 'disheartening': 9165, 'shotwest': 9166, '\\xa0fvf9yw': 9167, 'swrr': 9168, '\\xa0298033455': 9169, '154': 9170, 'acting': 9171, '💯': 9172, 'reachable': 9173, 'uneventful': 9174, 'snag': 9175, 'nas': 9176, 'pumped': 9177, 'essential': 9178, 'attire': 9179, 'grant': 9180, 'majority': 9181, 'feelingtheluv': 9182, 'profitbeforepeople': 9183, '2020': 9184, 'rubs': 9185, 'wigs': 9186, 'michele': 9187, \"nature's\": 9188, \"southwestair's\": 9189, 'humored': 9190, '4968': 9191, 'n8325d': 9192, 'enroute': 9193, 'fd4snvkiem': 9194, 'poisonpill76': 9195, 'promos': 9196, '✈️anywhere': 9197, '💩💩💩💩': 9198, '😠😠': 9199, 'flights😔': 9200, 'may❤❤❤😍🌏': 9201, 'undefined': 9202, 'cgroup': 9203, '4125': 9204, 'comeon': 9205, 'matt': 9206, 'pivxean3jy': 9207, '1802': 9208, 'costarica': 9209, 'pennies': 9210, 'vacatime': 9211, '✈️💺': 9212, 'fattuesday': 9213, 'mardigras': 9214, 'awwweesssooomee': 9215, 'prchase': 9216, 'retailer': 9217, 'l8': 9218, 'keepmy': 9219, 'instrument': 9220, 'bushleague': 9221, 'weakservice': 9222, 'nochill': 9223, 'esd3xd5v1r': 9224, 'becuz': 9225, 'swfan': 9226, '7min': 9227, 'necessities': 9228, '5yrs': 9229, 'southwestluvsweeps': 9230, '211pilot': 9231, 'elevator': 9232, 'southworst': 9233, 'girlfriend’s': 9234, '55am': 9235, \"reso's\": 9236, '3397': 9237, 'cbssoxfan': 9238, 'phonedied': 9239, 'alistpreferred': 9240, '1tzz0vbmbs': 9241, '87': 9242, '43rd': 9243, 'soured': 9244, 'thu': 9245, 'screencap': 9246, 'paytontaylor129': 9247, 'payton': 9248, 'swair': 9249, 'tortured': 9250, '1971': 9251, 'assisted': 9252, '1079871763': 9253, 'incidents': 9254, 'guidance': 9255, 'bham': 9256, '648': 9257, 'fgkxv5': 9258, '587701925count': 9259, 'bernhardtjh': 9260, 'adjustment': 9261, 'ding': 9262, 'bruh': 9263, 'bool': 9264, 'niggaz': 9265, 'imma': 9266, 'loyalrrmember': 9267, 'sing': 9268, 'lovesouthwestair': 9269, 'dontchangeathing': 9270, 'measles': 9271, 'outbreak': 9272, 'challemann': 9273, 'jvstatus': 9274, 'intelligent': 9275, 'streamline': 9276, 'commute': 9277, '😊☕📲✈': 9278, 'condescension': 9279, 'octaviannightmare': 9280, 'chart': 9281, 'graded': 9282, 'eqp': 9283, 'contains': 9284, 'fusturated': 9285, 'iyuzm2puvs': 9286, '464': 9287, '3574': 9288, '1814': 9289, '4720': 9290, 'daycare': 9291, 'n5o43svl8i': 9292, 'harass': 9293, 'mistakefurious': 9294, '6yo': 9295, '9xkiy0kq2j': 9296, '1sywlmtzek': 9297, 'aisles': 9298, 'evermoreroom': 9299, '’s': 9300, 'marty': 9301, 'george': 9302, 'nobaggagefees': 9303, 'tjdzamhpew': 9304, 'pgfryz': 9305, 'more👺': 9306, 'rejecting': 9307, 'opt': 9308, 'verified': 9309, 'sxsw': 9310, 'overchging': 9311, 'bg': 9312, 'herded': 9313, 'cattle2slaughter': 9314, 'rainy': 9315, 'poop': 9316, 'signing': 9317, 'credentials': 9318, 'napkins': 9319, 'oxy1jnpjm3': 9320, 'slobodin': 9321, 'justdoit': 9322, 'youknowyouwantto': 9323, '💘': 9324, 'longing': 9325, 'firstlove': 9326, 'ondemand': 9327, 'leatherseats': 9328, 'hipunis': 9329, 'eatgregeat': 9330, 'greg': 9331, 'sobewff': 9332, 'teamnkh': 9333, 'annnndddd': 9334, 'glowing': 9335, 'sparkled': 9336, 'nokidhungry': 9337, 'partnership': 9338, 'sunrises': 9339, 'jgdu5us8dz': 9340, 'jetbluehatesbtv': 9341, 'trublue': 9342, 'num': 9343, 'veterans': 9344, '👏👏👏👏': 9345, 'jannasaurusrex': 9346, 'janna': 9347, 'weappreciateyou': 9348, 'trueblue”': 9349, 'jetbluefame': 9350, 'sosmart': 9351, 'frequentflyerappreciates': 9352, 'alsoyayforsnacks': 9353, 'prbound': 9354, 'n598jb': 9355, 'weekday': 9356, 'iimtjxcvlg': 9357, 'lane': 9358, 'marinadomine': 9359, 'suffered': 9360, 'fifth': 9361, 'persistence': 9362, 'invite': 9363, 'pid': 9364, 'dim': 9365, 'blushing': 9366, 'jetbluecheeps': 9367, '1680': 9368, 'flight108': 9369, 'cameras': 9370, 'hitch': 9371, 'hike': 9372, 'passengersarepeople': 9373, 'relax': 9374, 'adv': 9375, '616': 9376, 'civilized': 9377, 'datingrev': 9378, 'atd2sm8hf4': 9379, 'navigating': 9380, 'flu': 9381, 'pricy': 9382, '1274': 9383, 'zombie': 9384, 'eul6sdurbu': 9385, 'transferring': 9386, 'contribution': 9387, 'pool': 9388, 'lessening': 9389, \"part's\": 9390, 'agencies': 9391, 'qrxz0bgbtq': 9392, '7im9rhivyr”': 9393, 'mrjustyn': 9394, 'studying': 9395, 'lingo': 9396, 'depressing': 9397, '1316': 9398, 'tails': 9399, 'relieved': 9400, 'neighboring': 9401, 'g12sn5qsqz”': 9402, 'chats': 9403, 'rkorhvr9z1': 9404, 'contentmarketing': 9405, 'g4wwr6vbrq': 9406, 'mag': 9407, '😩rt': 9408, 'lsxji0ouvr”': 9409, 'unfollowing': 9410, 'preciation': 9411, '✈️tampa': 9412, '🔵🔵🔵': 9413, 'larry': 9414, 'fedora': 9415, 'qqlzk2jkzr': 9416, 'lolol': 9417, 'myc88': 9418, 'tongue': 9419, 'cheek': 9420, 'etiquette': 9421, 'gguaa1jvdf': 9422, 'g4o6yx7tmj': 9423, 'fights': 9424, 'jetblue…': 9425, 'just…': 9426, 'mb3ipgs8zq”': 9427, 'skebqktxvx': 9428, 'peq90pqmpp': 9429, 'a7nvbj8ipx”': 9430, 'yzxfe7au22': 9431, 'utdfqf5wpa': 9432, 'moves': 9433, 't9s68korsn': 9434, 'f5ixyw8xyb': 9435, 'ac6zwmuoon”': 9436, 'q5a7jtki5k”': 9437, 'lmfaooo': 9438, '1g9rnmyuqe”': 9439, 'thewayoftheid': 9440, 'assuage': 9441, 'indignation': 9442, 'lycarltfhl”': 9443, 'cultural': 9444, 'appropriation': 9445, 'cpzb285o71': 9446, 'bostongarden': 9447, 'welcoming': 9448, '704': 9449, 'vw2v8gvngq”': 9450, '😐😑': 9451, 'toss': 9452, 'wit': 9453, '👀👀': 9454, '3kvkd8yrxa”': 9455, 'fleet’s': 9456, 'hi6fl1ax9e': 9457, '5xgnyhgafz”': 9458, 'nfjauw16vz': 9459, '🍅🍅🍅🍅': 9460, '0wbjawx7xd': 9461, 'bops': 9462, 'newspaper': 9463, 'maatkare67': 9464, 'thewayoftheid”': 9465, '62godfaknb”': 9466, '413gial0yl': 9467, 'multimedia': 9468, 'too😊😊': 9469, 'ncguzdgdaq': 9470, '8o3scr5efw”': 9471, 'tlgoihqkvs”': 9472, '😐': 9473, '💙💙💙💙': 9474, 'fd2tnyctrb': 9475, 'jmnkj6bmc2”': 9476, 'blizzue': 9477, 'hizouse': 9478, 'lv9hwqdk9a”': 9479, '✌️': 9480, 'yzh4zrqm0i”': 9481, '😂😂😂': 9482, 'petty': 9483, 'hahah': 9484, '😂👌👌👌': 9485, '7vee44macm': 9486, 'vouufrn4js”': 9487, 'yasss': 9488, 'lmfao': 9489, 'i7ut2zvhco': 9490, 'wgyztnjcxm': 9491, '9shhtvioti': 9492, 'lmao': 9493, 'aiyc9wv5oq”': 9494, 'brandssayingbae': 9495, 'kmanldqbh4”': 9496, 'kvxs1lcqlp”': 9497, 'alynewton': 9498, 'donut': 9499, 'designer': 9500, 'duct': 9501, 'taped': 9502, 'ohboy': 9503, 'shouldigetoutandpush': 9504, 'flying…': 9505, 'r9zsvzurlw': 9506, 'tlc': 9507, 'universalorl': 9508, 'tny9uipha5': 9509, 'fairs': 9510, 'alternatively': 9511, 'charter': 9512, 'pitt': 9513, 'irina': 9514, 'flip': 9515, 'eatup': 9516, 'cafe': 9517, '1914': 9518, 'buggy': 9519, 'abassinet': 9520, 'vmsg': 9521, 'hofmann': 9522, 'denisejtaylor': 9523, 'laurieameacham': 9524, 'strollers': 9525, 'ems': 9526, 'geraghty': 9527, 'nyjets': 9528, 'gopatriots': 9529, '25m': 9530, 'westpalmbeach': 9531, 'flybetter': 9532, 'chasing': 9533, 'redsox': 9534, '❤️ny': 9535, 'catsanddogslivingtogether': 9536, 'kfuyyokufv': 9537, '460': 9538, 'complex': 9539, 'waldorf': 9540, 'astoria': 9541, 'outfit': 9542, 'shocker': 9543, 'daniel': 9544, 'webpage': 9545, 'fl382': 9546, \"sittin'\": 9547, 'birder': 9548, 'trap': 9549, 'rats': 9550, 'sloooooow': 9551, 'tim': 9552, '1918': 9553, 't1rypzebc8': 9554, 'emaleesugano': 9555, 'reunited': 9556, 'delinquent': 9557, 'homeward': 9558, 'monsoon': 9559, 'devastated': 9560, 'bridges': 9561, 'jetblues': 9562, 'ncb2oncs9i': 9563, 'extralight': 9564, '611': 9565, 'maimi😭': 9566, 'cosmopolitan': 9567, 'blacklist': 9568, 'siblings': 9569, 'potentially': 9570, 'diffused': 9571, \"'perks'\": 9572, '5lbs': 9573, 'inflation': 9574, 'nexttime': 9575, 'andthewinneris': 9576, 'guys😍😍😍': 9577, '3x9nruovts': 9578, 'thousand': 9579, 'ji2pg4gom9': 9580, 'permissions': 9581, 'whyabcwhy': 9582, 'informs': 9583, 'exceed': 9584, 'the16': 9585, 'julesdameron': 9586, 'accessibility': 9587, 'equality': 9588, 'missingtheoscars': 9589, 'ooookay': 9590, 'tap': 9591, 'readers': 9592, 'emv': 9593, 'sdq': 9594, '7gb0hgw51t': 9595, 'ffl': 9596, 'paseengers': 9597, 'santo': 9598, 'domingo': 9599, \"9'8\": 9600, 'surfboard': 9601, 'bqn': 9602, 'gif': 9603, 'thng': 9604, 'ml1jacpmch': 9605, '98': 9606, 'prechk': 9607, 'medium': 9608, 'tanked': 9609, 'justwrong': 9610, 'sj': 9611, 'alamo': 9612, 'tatiana': 9613, 'ali': 9614, 'aha': 9615, '2070': 9616, 'accurately': 9617, 'finleybklyncfs': 9618, 'bff': 9619, '2601': 9620, 'bizarre': 9621, 'focus': 9622, 'psgrs': 9623, 'kfkjf1ztgi': 9624, 'exper': 9625, 'undrstnd': 9626, 'wlcm': 9627, 'onbrd': 9628, 'bulb': 9629, 'byebyejetblue': 9630, 'token': 9631, 'distances': 9632, 'v8sb0rbicx': 9633, 'vpdrplxj5a': 9634, 'snowbound': 9635, 'laiggef9kj': 9636, 'deli': 9637, 'customerservicenot': 9638, 'prefference': 9639, 'x6syw3mdvu': 9640, '1117': 9641, 'hdoxim6nz2': 9642, 'clvlhfguzw': 9643, 'qgtcao1j2u': 9644, 'lkfh9hyhw8': 9645, 'mzzfgqfhu2': 9646, 'inconceivable': 9647, 'q9n6nzyspk': 9648, 'ishouldhavedriven': 9649, '2hxsdp0ha4': 9650, '49flbgzzkd': 9651, 'increments': 9652, 'pics': 9653, '000ft': 9654, 'sea✈️bos': 9655, 'linking': 9656, \"month's\": 9657, 'uschamber': 9658, 'summit': 9659, 'ought': 9660, 'communicationiskey': 9661, '599': 9662, '1970': 9663, '175': 9664, 'ventilation': 9665, '🙌✈️': 9666, 'hunky': 9667, 'dory': 9668, '1159': 9669, '1384': 9670, 'garage': 9671, '☺️✈️': 9672, '☺👍👍': 9673, '584': 9674, 'luggagegate': 9675, 'yoga': 9676, '1415': 9677, 'pto': 9678, 'mintyfresh': 9679, 'selfies': 9680, '620': 9681, '1691': 9682, 'captured': 9683, 'brittany': 9684, 'clouds': 9685, '795': 9686, 'loweredexpectations': 9687, 'directing': 9688, 'grabbed': 9689, '2016': 9690, 'bevies': 9691, 'cookjaycook123': 9692, 'amagrino': 9693, 'wiyh': 9694, 'newborns': 9695, 'inebriated': 9696, 'closure': 9697, 'ufbdr5axeo': 9698, 'quickie': 9699, 'cartagena': 9700, 'praises': 9701, 'pact': 9702, 'organizational': 9703, 'chartering': 9704, \"open's\": 9705, 'sugar': 9706, 'idlovetoask': 9707, 'dpx3yogtej': 9708, 'startled': 9709, 'description': 9710, 'expanded': 9711, 'bonnie': 9712, '5db9esbnzg': 9713, 'obqiro1buj': 9714, 'newburg': 9715, 'rly': 9716, '9a': 9717, '11a': 9718, 'applying': 9719, 'investigation': 9720, 'tux': 9721, 'hap4gbostu': 9722, 'cannedtweet': 9723, 'demanded': 9724, 'handles': 9725, 'waved': 9726, '589': 9727, 'inserted': 9728, 'truebluecolors': 9729, 'circling': 9730, 'qualifies': 9731, 'updateyourwebsite': 9732, 'dobetterjetblue': 9733, 'sittin': 9734, 'flt1533': 9735, 'carta': 9736, 'btvpxtzju0': 9737, 'glenn': 9738, 'coles': 9739, 'niagara': 9740, 'unlucky': 9741, 'haning': 9742, 'mosaicmecrazy': 9743, 'sunrise': 9744, 'nofilterneeded': 9745, 'flyfi…': 9746, 'ny6cs7jruv': 9747, 'miraculously': 9748, '😭😭😭😭': 9749, 'soulandinspiration': 9750, 'igkogywksr': 9751, 'acy': 9752, 'takr': 9753, '906': 9754, 'zvfmxnuelj': 9755, '904am': 9756, 'ieg2obcepp': 9757, '2301': 9758, 'erie': 9759, 'fllairport': 9760, 'port': 9761, 'authority': 9762, 'badairline': 9763, 'mde': 9764, 'tf': 9765, 'tfgreenairport': 9766, 'sylvie75015': 9767, 'sylvie': 9768, 'yourock”': 9769, 'mxo42': 9770, 'henrikwagner73': 9771, 'eternity': 9772, '5ammisery': 9773, 'animal': 9774, 'hella': 9775, 'misbehavior': 9776, 'dubai': 9777, 'equalizer': 9778, 'dgruber1700': 9779, 'shucks': 9780, 'engagements': 9781, 'tar': 9782, 'mat': 9783, \"pandora's\": 9784, 'backhome': 9785, 'noplacelikehome': 9786, 'maddie': 9787, 'flood': 9788, 'hesitant': 9789, 'sized': 9790, 'stuckonaplane': 9791, 'babyfood': 9792, 'cushy': 9793, 'rethink': 9794, 'hatch': 9795, 'interupt': 9796, 'staduim': 9797, 'ijustwanttobeinboston': 9798, 'thanksdc': 9799, 'burley11': 9800, 'concerning': 9801, 'ada': 9802, '2202': 9803, '2morrow': 9804, \"comp'd\": 9805, 'cory': 9806, 'greatcustomerservice✈☺': 9807, 'incase': 9808, 'cave': 9809, 'neworleans': 9810, 'heinekenusacorp': 9811, 'distributor': 9812, 'livethelegend': 9813, 'playlist': 9814, 'instant': 9815, 'lipstick': 9816, 'toolong': 9817, 'restless': 9818, 'maarten': 9819, 'exciting': 9820, '😁🎉': 9821, 'tempting': 9822, 'sodone': 9823, 'treacherous': 9824, '989': 9825, 'e0r0nto4tr': 9826, \"space's\": 9827, 'nrpwmgyv3e': 9828, 'allowances': 9829, '🆘🆘🆘🆘🆘🆘🆘🆘🆘🆘🆘🆘🆘🆘': 9830, 'lizaapproved': 9831, 'pgashow': 9832, 'weathers': 9833, 'warmer': 9834, 'pricewise': 9835, 'cough': 9836, 'redo': 9837, 'thismosaicnothappy': 9838, '1002': 9839, 'k7ubotmr1r': 9840, 'bestdressed': 9841, 'giggled': 9842, 'goodgenes': 9843, 'ilookyoung': 9844, 'lb': 9845, '😘': 9846, 'itslaloca': 9847, 'condolences': 9848, 'alicia': 9849, 'exceptionalservice': 9850, 'bogotá': 9851, 'colombian': 9852, 'disapptment': 9853, 'bdng': 9854, 'tad': 9855, 'chatted': 9856, 'lowdown': 9857, 'lt1pykfvrq': 9858, 'session': 9859, 'beloved': 9860, 'vv8cfyhkvb': 9861, 'itenary': 9862, 'foreverrrrrr': 9863, 'charity': 9864, 'nixchangefees': 9865, 'benjaminokeefe': 9866, '”unfortunately': 9867, '❄️⛄️': 9868, 'werenotincalianymore': 9869, 'happytweet': 9870, 'tuftsenergyconf': 9871, 'barriers': 9872, 'lifeisgood': 9873, 'incidentals': 9874, '162': 9875, 'flywhonotblue': 9876, 'wailing': 9877, 'kin': 9878, 'flt348': 9879, 'upload': 9880, 'ferrissalameh': 9881, '1225': 9882, 'delayforwhat': 9883, '348': 9884, 'sittingonthetarmac': 9885, 'nix': 9886, '2034': 9887, '834': 9888, 'thre': 9889, 'abcletjetbluestreamfeed': 9890, '1818': 9891, 'cavs': 9892, 'nooooo': 9893, 'disturb': 9894, 'nh2i9zlzmk': 9895, 'pura': 9896, 'vida': 9897, 'prem': 9898, 'toplay': 9899, 'vainglorygame': 9900, 'cmjriwop7o': 9901, 'makingthingseasy': 9902, 'feelbetter': 9903, 'terra': 9904, 'chips': 9905, 'mommy': 9906, 'daddy': 9907, 'hgeronemus': 9908, 'completing': 9909, 'installation': 9910, \"a320's\": 9911, 'sgckbopata”': 9912, 'sooooooo': 9913, 'ridiculously': 9914, '2168': 9915, 'blackish': 9916, '445pm': 9917, 'mthm9waobu': 9918, '122': 9919, 'nasdaq': 9920, 'jblu': 9921, 'range': 9922, 'streetwise': 9923, 'c7tpdkqulm': 9924, 'underway': 9925, 'query': 9926, 'scrum': 9927, 'learnt': 9928, 'exceptionally': 9929, 'uncourteous': 9930, 'butnot': 9931, 'grumpy': 9932, 'flight1407': 9933, 'inflatable': 9934, 'savethoseseats': 9935, 'tpzhjx7hbt': 9936, '💔': 9937, '691': 9938, 'grasshopper': 9939, 'twitterz': 9940, 'kung': 9941, 'geeks': 9942, '8mwitri9kf': 9943, 'discontinue': 9944, '471': 9945, 'negroni': 9946, 'bitcoin': 9947, 'natural': 9948, 'beefjerky': 9949, 'snacks😉': 9950, 'jdhadp': 9951, '633': 9952, 'howhardcanthatreallybe': 9953, 'chase': 9954, 'nogearnotraining': 9955, 'jwl26g6lrw': 9956, 'steward': 9957, 'dontflythem': 9958, 'alarm': 9959, 'older': 9960, 'misread': 9961, 'colder': 9962, 'bedofroses': 9963, 'colored': 9964, '3qyezhjgsb': 9965, 'partnered': 9966, 'digital': 9967, '0liwecasoe': 9968, 'miamore': 9969, 'iadore': 9970, 'fwzclbvug4': 9971, 'lovesongfriday': 9972, 'stevie': 9973, 'jetgreen': 9974, 'jetred': 9975, 'stacycrossb6': 9976, 'saharasams': 9977, 'flawless': 9978, 'blueheros”': 9979, 'disabledtraveler': 9980, 'waterbury': 9981, 'republican': 9982, 'ur60un86gy': 9983, 'wikipearl': 9984, 'natprodexpo': 9985, 'expowest': 9986, 'evenmorespace': 9987, 'evenmoreview': 9988, 'dxux6dbfd3': 9989, '16mo': 9990, '2nt': 9991, 'internship': 9992, '277': 9993, 'tke': 9994, 'sis': 9995, 'mega': 9996, \"evening's\": 9997, 'thanksjetblue': 9998, 'princess': 9999, 'makingloveoutofnothingatall': 10000, 'kdhruf54sw': 10001, 'patienceiswearingthin': 10002, 'woof': 10003, \"boston'\": 10004, \"americanair's\": 10005, '290': 10006, 'itscostingmeincome': 10007, 'mintalicious': 10008, 'shelleyandmarcrock': 10009, 'xdjzkc34gb': 10010, 'lostinlove': 10011, 'bzwgp7adve': 10012, 'wemosaictogether': 10013, 'la397zaoay': 10014, \"who'd\": 10015, 'bearable': 10016, 'notwheelsup': 10017, 'steamed': 10018, 'conjunction': 10019, 'complainer': 10020, 'yxn00pnoav': 10021, 'holdon': 10022, 'everythingsgonnabealright': 10023, '64kn6geep8': 10024, 'serviced': 10025, 'ccndjp': 10026, 'path': 10027, 'cling': 10028, '3hrdelay': 10029, 'countless': 10030, 'strips': 10031, '994': 10032, '493': 10033, 'crumbs': 10034, '1at': 10035, '1sttimeflyer': 10036, 'contain': 10037, 'herself': 10038, 'ricardo': 10039, 'olavarria': 10040, 'walls29': 10041, 'erring': 10042, 'suuuuper': 10043, '😒👺': 10044, 'schedules': 10045, 'toolittletoolate': 10046, '😘🙌': 10047, '670': 10048, 'predictable': 10049, '1503': 10050, 'icyflight': 10051, 'poorcommunication': 10052, 'waitingsince': 10053, 'flight424': 10054, 'comedic': 10055, 'othr': 10056, 'incomprehensible': 10057, 'fromthefrontseat': 10058, 'yaffasolin': 10059, '2302': 10060, 'channel': 10061, 'kgonzales89': 10062, 'scandal': 10063, 'tower': 10064, 'inoperable': 10065, 'loyalmosaicmember': 10066, 'gettingoffplane': 10067, 'buffaloairport': 10068, '💙💙': 10069, '606': 10070, '2maro': 10071, 'currentlysittingontarmac': 10072, 'mosiacfail': 10073, '833': 10074, 'helene': 10075, 'reevaluate': 10076, 'peuc0bmij9': 10077, '😃cool': 10078, '😊✈️': 10079, 'lopezlaymari': 10080, 'massages': 10081, 'hurts': 10082, 'static': 10083, '❤️✨': 10084, 'bugging': 10085, 'expand': 10086, '2007': 10087, '1684': 10088, 'disclose': 10089, 'p6ucbvlv5e': 10090, '2416': 10091, 'notbabysitters': 10092, 'whrsthecoach': 10093, '☕✈👍': 10094, 'semantics': 10095, 'dictionary': 10096, 'rack': 10097, 'latte': 10098, '1553': 10099, 'wvgpp3ymz1': 10100, 'lick': 10101, 'tab': 10102, 'ahoy': 10103, 'allyoucanjetpass': 10104, 'havana': 10105, 'okie': 10106, 'doke': 10107, '“only”': 10108, 'oveur': 10109, 'murdock': 10110, '1099': 10111, 'julian': 10112, 'substitute': 10113, \"disney's\": 10114, 'magical': 10115, 'reassigned': 10116, 'jetscrew': 10117, 'awfulcustomerservice': 10118, 'gifting': 10119, '375': 10120, 'wendi': 10121, '127': 10122, 'noting': 10123, 'dealings': 10124, 'stubborn': 10125, 'demanding': 10126, 'border': 10127, '😊😊😊✈️✈️✈️': 10128, 'dunkin': 10129, 'donuts': 10130, 'hazard': 10131, 'thingsyoucantmakeup': 10132, 'switch2sbux': 10133, 'remembers': 10134, 'coffeeneeded': 10135, 'relying': 10136, 'ineedcoffee': 10137, '533': 10138, 'onlyblue': 10139, 'jetblueforever': 10140, 'descent': 10141, 'truebluemember4life': 10142, 'themed': 10143, 'tsanightmare': 10144, 'acquired': 10145, 'kravitz': 10146, \"3x's\": 10147, '😂😂😂😂😂omg': 10148, 'bored': 10149, 'fixthis': 10150, 'isthisreal': 10151, 'nevertoldus': 10152, 'lile': 10153, 'fancy': 10154, 'lieflat': 10155, 'saxonandparole': 10156, 'lobstermac': 10157, 'bloodymary': 10158, 'jetsetter': 10159, 'zf5wjgtxzt': 10160, 'impression': 10161, 'telleveryone': 10162, 'justifythissupport': 10163, 'lostrevenue': 10164, 'angryandsober': 10165, 'bachelorpartymishap': 10166, 'sham': 10167, 'vyuanh4iqr': 10168, 'nottrue': 10169, '3oq1t4ohjl': 10170, '566': 10171, 'nosupport': 10172, 'c7kzbvf8h8': 10173, 'infuriated': 10174, 'ionlyflyblue': 10175, 'thelodge': 10176, 'yeniettelswood': 10177, 'andrewbiga': 10178, 'codycleverly': 10179, 'heidimacey': 10180, 'motherpollock': 10181, 'staticy': 10182, 'ithelpsabit': 10183, 'disneyworld': 10184, 'rundisney': 10185, 'stqy9v8256': 10186, 'airlineadviser': 10187, 'peter': 10188, 'rqstd': 10189, 'bcz': 10190, 'dfmvmibh4x': 10191, '577': 10192, 'pillow': 10193, 'tailfinthursday': 10194, 'nc0es6e4lf': 10195, 'thevdt': 10196, 'h6ce3mwcqj': 10197, 'reveals': 10198, \"'bluemanity'\": 10199, 'travelpulse': 10200, 'fttfyfmvco': 10201, 'jetblue👌☺️': 10202, 'ozs': 10203, 'sexy': 10204, 'tattoo': 10205, 'ox4w6ktsgi': 10206, '1951': 10207, 'stbernard': 10208, 'gnight': 10209, 'jua': 10210, \"'just\": 10211, \"ask'\": 10212, 'jorge': 10213, 'this🙏🙏❤️': 10214, 'btw😏': 10215, 'samantha': 10216, 'evasive': 10217, \"martha's\": 10218, 'african': 10219, 'festival': 10220, 'attendees': 10221, 'mv': 10222, 'gripeo': 10223, 'f6copx1fvj': 10224, 't5sparrow': 10225, 'swift': 10226, 'programming': 10227, 'teamtreehouse': 10228, 'finder': 10229, 'fridge…that': 10230, 'dorm': 10231, 'reliability': 10232, 'esuu0hiajm': 10233, 'warriors': 10234, 'waters': 10235, 'annnnnd': 10236, 'hall': 10237, 'signage': 10238, 'headphone': 10239, 'corpgreed': 10240, 'nevertakeno': 10241, '6mbvjflpbm': 10242, 'wrestle': 10243, 'ath': 10244, 'airlinequality': 10245, 'tu9jx2jazn': 10246, 'cty': 10247, 'ji7xks2jkk': 10248, 'jetbluesucks': 10249, 'gears': 10250, 'grinding': 10251, 'highest': 10252, 'xzy7phkfgr': 10253, 'flyingitforward': 10254, 'affects': 10255, 'entrusted': 10256, 'flyitforward': 10257, 'cometoaustin': 10258, '🌴': 10259, 'addressing': 10260, 'expedient': 10261, '2012': 10262, 'incidentally': 10263, 'sheila': 10264, 'swooped': 10265, 'restored': 10266, 'applicable': 10267, 'foodallergy': 10268, 'insensitive': 10269, 'foodallergies': 10270, 'threatening': 10271, 'unsolicited': 10272, 'uneducated': 10273, 'opinions': 10274, 'reckless': 10275, 'dangerous': 10276, \"6'2\": 10277, 'personable': 10278, 'tore': 10279, 'hid': 10280, 'badge': 10281, 'dre': 10282, 'valued': 10283, 'lisapal': 10284, 'steered': 10285, 'university': 10286, 'consult': 10287, 'sentinel': 10288, 'sjveelween': 10289, '👍👍👍': 10290, '67k4n9eq6e': 10291, '💕✈️💺': 10292, 'truebluepoints': 10293, 'jetbluemember': 10294, 'sliced': 10295, 'bread': 10296, 'beatriz': 10297, \"0xjared's\": 10298, 'ais': 10299, 'ftl': 10300, 'pizza': 10301, 'easter': 10302, 'udub': 10303, 'cameron': 10304, 'roe': 10305, 'kbhym5gkap': 10306, 'cayman': 10307, '4helped': 10308, 'seattlebound': 10309, 'controller': 10310, 'agian': 10311, '😔😓😤': 10312, 'cinnabon': 10313, 'cinnabons': 10314, 'bonsinthesky': 10315, '8jcediky9u': 10316, 'hotter': 10317, '103': 10318, '04': 10319, '10min': 10320, 'smitten': 10321, '1401': 10322, '25a': 10323, 'slog': 10324, '1348': 10325, 'lift': 10326, 'hotspot': 10327, 'itsthelittlethings': 10328, 'compounded': 10329, 'jetbluemess': 10330, 'nsjwvttjgo': 10331, 'philpete': 10332, 'suddenly': 10333, 'argh': 10334, '730': 10335, '1408': 10336, 'career': 10337, 'italian': 10338, 'sk6w9xqaqb': 10339, 'valentinesday': 10340, 'loveisintheair': 10341, 'docmvotwti': 10342, 'geraldine': 10343, 'jetbluejfk': 10344, 'fluid': 10345, '2017': 10346, '486': 10347, 'applepay': 10348, 'hacked': 10349, 'spade': 10350, 'bottle': 10351, 'spiced': 10352, 'leopolds': 10353, 'ic': 10354, 'phillip': 10355, 'heller': 10356, 'ifc': 10357, 'gum': 10358, 'n9hmcrjchb': 10359, 'chillycvz': 10360, 'thankgoodness': 10361, 'mypompanobeach': 10362, 'fitz': 10363, '1326': 10364, 'humiliated': 10365, 'uncompromising': 10366, 'blindsided': 10367, '2275': 10368, 'pp': 10369, 'flatiron': 10370, 'sil': 10371, 'declined': 10372, 'activity': 10373, 'dispatcher': 10374, 'ohno': 10375, 'bundleup': 10376, 'leastthebeverageswillbecold': 10377, 'analystdoc': 10378, 'fashioned': 10379, 'accessing': 10380, 'structures': 10381, 'hated': 10382, 'vulnerable': 10383, 'thieves': 10384, 'citi': 10385, '203': 10386, '3312': 10387, 'towed': 10388, 'corrupt': 10389, 'whilst': 10390, 'tweeter': 10391, 'tinman2ironman': 10392, 'meggersrocks': 10393, 'penalized': 10394, 'lightly': 10395, 'unloading': 10396, 'writes': 10397, '135': 10398, 'satellite': 10399, '9ragncw2bk': 10400, 'cramming': 10401, '☀️🌴✈️🍸🎲': 10402, 'delayedl': 10403, 'treenut': 10404, 'allergies': 10405, 'freeconcert': 10406, '894': 10407, 'uy28d1uegx': 10408, 'vjfv7ksgcq': 10409, 'hp': 10410, 'printers': 10411, 'mfps': 10412, 'vincenzolandino': 10413, 'cbarrows': 10414, 'lucia': 10415, 'enraging': 10416, '305': 10417, 'mailbox': 10418, 'forwarding': 10419, 'awesomeee': 10420, 'ment': 10421, 'effective': 10422, 'upgrade😉': 10423, 'keepitup': 10424, 'bkmfey7qol': 10425, 'cinziannap': 10426, 'bluetiful': 10427, 'lifeneedsfrosting': 10428, '1601': 10429, 'hint': 10430, 'slash': 10431, 'engagement': 10432, 'cooler': 10433, '👏👍': 10434, 'ch0nmjymgh': 10435, 'pamgrout': 10436, 'backtodelta': 10437, 'tighter': 10438, 'embody': 10439, 'thanksdave': 10440, 'innp0kkyby': 10441, 'famous': 10442, 'sxu': 10443, \"jetblue'\": 10444, 'inspiring': 10445, 'realtime': 10446, 'rockingthetweets': 10447, 'no2jetblue': 10448, 'things…': 10449, 'wouldve': 10450, 'liked': 10451, 'perform': 10452, 'simultaneously': 10453, 'wishmyflightwaslonger': 10454, 'squished': 10455, 'peggy': 10456, '⭐️⭐️⭐️⭐️⭐️': 10457, 'lft5': 10458, 'rudeservice': 10459, '918': 10460, 'duhbj41jhx': 10461, 'oversleeping': 10462, 'uncontrollable': 10463, 'irregularity': 10464, 'eligible': 10465, 'stocking': 10466, 'vt': 10467, 'nerves': 10468, 'badwebsite': 10469, 'deboards': 10470, 'crummyservice': 10471, 'whydidntiflysouthwest': 10472, 'goodluckamericanair': 10473, 'impossibly': 10474, '1lesscustomer': 10475, 'cheesy': 10476, 'deedee': 10477, 'cheapoairchat': 10478, 'xtra': 10479, 'donotflyusair': 10480, \"life's\": 10481, 'srv': 10482, 'alsonodrinkcartcomingaround': 10483, 'ashleykatherton': 10484, 'dmoukdarath': 10485, 'leaking': 10486, '43': 10487, 'chgy5yrvka': 10488, 'diamond': 10489, '1925': 10490, 'friendlyteam': 10491, 'pump': 10492, 'disciplined': 10493, 'pumps': 10494, '17a': 10495, 'presentation': 10496, 'pandu': 10497, '740': 10498, 'you…i': 10499, 'spain': 10500, 'whining': 10501, 'openskies': 10502, 'wrecked': 10503, 'yorkshire2002': 10504, 'lengthy': 10505, 'retweeted': 10506, 'mystery': 10507, \"i'v\": 10508, \"cx'd\": 10509, '4011': 10510, 'maneuver': 10511, 'ux': 10512, '300rt': 10513, 'impaired': 10514, 'jetblueanyone': 10515, 'weather…': 10516, 'outofbusiness': 10517, 'ruiningmy': 10518, 'cap': 10519, '1801': 10520, 'revision': 10521, 'casual': 10522, 'jieycat1ek': 10523, '2139': 10524, 'thete': 10525, \"q'd\": 10526, '3837': 10527, 'sarita': 10528, 'vuxf4r4unu': 10529, '5203': 10530, '581': 10531, 'semester': 10532, 'chkd': 10533, 'mbltalr4bs': 10534, 'asgmnt': 10535, '15am': 10536, 'wouldt': 10537, 'yellow': 10538, '2063': 10539, '18feb': 10540, 'herba': 10541, '41min': 10542, '504': 10543, 'forgets': 10544, 'ricky': 10545, 'us624': 10546, 'md': 10547, '1820': 10548, '2rsw': 10549, 'courtsey': 10550, '2min': 10551, '01pm': 10552, 'collect': 10553, 'illness': 10554, 'forfeits': 10555, \"doctor's\": 10556, 'swallowed': 10557, 'solves': 10558, \"wont'\": 10559, '748': 10560, 'forfeit': 10561, 'inactivity': 10562, 'csm': 10563, 'daryl': 10564, 'uld0hwfkfo': 10565, 'louder': 10566, 'privileges': 10567, 'sine': 10568, 'initiated': 10569, 'glitchy': 10570, 'noexcuses': 10571, 'rwg': 10572, 'powers': 10573, 'charac': 10574, '639': 10575, '730a': 10576, 'socialtantrum': 10577, 'mccaren': 10578, 'us1799': 10579, 'what’s': 10580, 'transf': 10581, 'supv': 10582, 'skyscanner': 10583, '2046': 10584, 'narrow': 10585, 'wsgyckciio': 10586, 'joyadventuremom': 10587, 'breastfeeding': 10588, \"momma's\": 10589, 'fulfilled': 10590, 'reqs': 10591, 'mediocre': 10592, 'combo': 10593, 'switchingboth': 10594, 'fligths': 10595, 'steering': 10596, 'disconnecting': 10597, 'schooler': 10598, 'develop': 10599, 'flyknoxville': 10600, 'noclothesnoinfo': 10601, 'failingyourcustomer': 10602, 'philacarservice': 10603, '223': 10604, 'usairwaysfailscustomers': 10605, 'guinea': 10606, 'pigs': 10607, '5612': 10608, '1798': 10609, 'missedupgrades': 10610, 'hopkins': 10611, 'intel': 10612, 'durango': 10613, 'mitchsunderland': 10614, 'mitchell': 10615, '5545': 10616, 'b18': 10617, 'tailwind…': 10618, 'convey': 10619, 'emailmailto': 10620, 'unmonitored': 10621, 'itfits': 10622, 'aurn07pwd4': 10623, 'toes': 10624, 'candy': 10625, '449': 10626, '686': 10627, 'winds': 10628, '521': 10629, 'gregm528': 10630, 'scenes': 10631, 'noaccountability': 10632, 'hg7veqhghy': 10633, 'goes…': 10634, 'tailwinds': 10635, '“it': 10636, 'welcomes': 10637, '9za6xb1h89': 10638, 'moveup': 10639, 'queries': 10640, 'hhagerty': 10641, 'cbsnews': 10642, 'shined': 10643, 'thur': 10644, 'tlh': 10645, 'lostandforgotten': 10646, '1xdlbibclp': 10647, 'nailed': 10648, 'shadier': 10649, 'nines': 10650, 'flyjetblue': 10651, 'theyareallbetter': 10652, 'exhaustion': 10653, 'runnin': 10654, '2rent': 10655, 'killin': 10656, 'reiterate': 10657, 'unreasonable': 10658, 'citizen': 10659, 'offended': 10660, 'notourfaultyoudontuseyourgatesright': 10661, 'salem': 10662, 'logistically': 10663, 'desition': 10664, 'nade': 10665, 'goodgriefpeople': 10666, 'parizad': 10667, 'manifests': 10668, 'wedontcarebecauseyoupaidalready': 10669, 'cltdouglas': 10670, 'takeresponsibility': 10671, 'diane': 10672, 'enters': 10673, 'deteriorating': 10674, 'assurances': 10675, 'marvinatorsb': 10676, 'thnk': 10677, 'german': 10678, 'deplanes': 10679, 'jealous': 10680, 'auf': 10681, 'wiedersehen': 10682, 'applaud': 10683, 'announcing': 10684, 'gatwick': 10685, 'periods': 10686, '8d': 10687, 'dividendsmember': 10688, 'nuhplnxriq': 10689, '1715': 10690, 'hqhdad7fvk': 10691, 'resorting': 10692, 'afterward': 10693, 'us5268': 10694, '4050': 10695, 'us728': 10696, '5268': 10697, 'duffy': 10698, \"i'vebeen\": 10699, 'nbr': 10700, 'waa': 10701, \"father's\": 10702, 'specifics': 10703, 'depot': 10704, 'a319': 10705, 'geg': 10706, 'squeaks': 10707, 'restrooms': 10708, '456': 10709, 'faced': 10710, 'inputted': 10711, 'sittingontheplane': 10712, 'readded': 10713, 'asha': 10714, 'wilmington': 10715, 'removing': 10716, 'initiative': 10717, 'minefits': 10718, '1mnth': 10719, 'bcs': 10720, 'ownership': 10721, 'breathing': 10722, 'aye': 10723, 'requires': 10724, 'buys': 10725, 'bracket': 10726, 'jhughes1025': 10727, 'grrrrrrrr': 10728, '5077': 10729, 'twist': 10730, 'unsecured': 10731, '2119': 10732, 'ed': 10733, 'stare': 10734, '610': 10735, '7498': 10736, 'chillpill': 10737, '6170': 10738, '603': 10739, '2705': 10740, '1899': 10741, 'await': 10742, 'height': 10743, 'prompting': 10744, 'stepitup': 10745, 'carol': 10746, 'lightning': 10747, 'struggling': 10748, 'pleads': 10749, '1937': 10750, 'grrrr': 10751, '2102': 10752, 'dominick': 10753, 'guardia': 10754, 'offline': 10755, 'rodeo': 10756, 'acnewsguy': 10757, 'acarl4': 10758, 'hotmail': 10759, '1826': 10760, 'wk': 10761, '8tjuum22dd': 10762, '5097': 10763, 'unaccompanied': 10764, 'minors': 10765, '4klfywwmq1': 10766, 'finnair': 10767, 'documentation': 10768, 'fend4urself': 10769, 'tonnes': 10770, '4914': 10771, 'laughter': 10772, '41am': 10773, '57am': 10774, 'recordings': 10775, 'burned': 10776, 'contagious': 10777, 'virus': 10778, 'americanairlnes': 10779, '0316': 10780, 'health': 10781, 'sport': 10782, 'bashing': 10783, 'unproductive': 10784, 'pumping': 10785, 'parts': 10786, 'freeflight': 10787, 'relied': 10788, 'weighing': 10789, 'affecting': 10790, 'pamper': 10791, 'abroad': 10792, 'fend4yourself': 10793, 'pw1eudlczg': 10794, 'hegshmeg': 10795, 'o”': 10796, '3841': 10797, 'jail': 10798, 'sections': 10799, 'bailed': 10800, \"out'\": 10801, '419': 10802, 'negatively': 10803, 'integrity': 10804, '🙏🙏🙏': 10805, '457': 10806, 'tallahassee': 10807, 'long😒': 10808, 'reflection': 10809, 'extinct': 10810, 'ringling': 10811, 'barnum': 10812, 'bailey': 10813, 'peeled': 10814, 'trivialize': 10815, 'communist': 10816, 'russia': 10817, 'reno': 10818, 'ben': 10819, 'legitimately': 10820, 'mundane': 10821, 'qs': 10822, 'landonschott': 10823, 'pride': 10824, '5cdx2roae6': 10825, 'upholding': 10826, 'alwayshappensthere': 10827, 'angrytraveler': 10828, '138': 10829, 'ps9q9rpsil': 10830, 'theworstairline': 10831, 'ultimately': 10832, 'time😡😡😡': 10833, '5163': 10834, '3751': 10835, 'rescued': 10836, 'c29': 10837, 'a18': 10838, 'carts': 10839, 'handicap': 10840, '20years': 10841, 'eventprof': 10842, 'undelayed': 10843, 'bwahahaha': 10844, 'notafanofyourmerger': 10845, 'wewanttoknow': 10846, '44pm': 10847, 'clarion': 10848, 'renhotels': 10849, 'marriottrewards': 10850, 'peterpiatetsky': 10851, 'ummmm': 10852, \"air's\": 10853, 'hindered': 10854, 'snapped': 10855, 'fudgin': 10856, 'justwantmybed': 10857, 'billed': 10858, 'synch': 10859, 'fudgers': 10860, 'pattonoswalt': 10861, 'longbeachairport': 10862, 'v24qnp3doi': 10863, '6x': 10864, 'assignments': 10865, 'flightd…incompetence': 10866, \"abcnetwork's\": 10867, 'whatcustomerservice': 10868, '518': 10869, '758': 10870, 'oylgeao7y8': 10871, 'teen': 10872, 'flight5182': 10873, 'stupidity': 10874, \"world's\": 10875, '4500': 10876, 'xfwxsrwkha': 10877, 'waaaaaaiting': 10878, '5182': 10879, 'roll': 10880, 'eqepkkpsxm': 10881, '4047': 10882, 'efficencies': 10883, 'sexually': 10884, 'elmira': 10885, 'detectors': 10886, 'specialist': 10887, 'plains': 10888, 'csrs': 10889, '2120': 10890, 'k0mhzrjf6e': 10891, 'charlote': 10892, 'lexington': 10893, 'istead': 10894, 'funflightattendants': 10895, 'flt635': 10896, 'sundayfunday': 10897, 'solate': 10898, '4278': 10899, 'bozos': 10900, 'smarter': 10901, 'mooks': 10902, 'godelta': 10903, '614': 10904, 'jetways': 10905, 'pisspoor': 10906, '2118': 10907, 'pissing': 10908, '10m': 10909, '1h40m': 10910, 'nofood': 10911, 'nodrinks': 10912, 'nohelp': 10913, '729': 10914, '⌚️': 10915, '4827': 10916, '878': 10917, 'f6': 10918, 'failover': 10919, 'truthh4': 10920, 'locating': 10921, 'unansweredquestions': 10922, 'off😂😂😂': 10923, '4609': 10924, 'lgb': 10925, 'aflame': 10926, 'island': 10927, 'printer': 10928, 'aurorabiz': 10929, 'improves': 10930, 'angryairtravel': 10931, 'usairwayscenter': 10932, '639p': 10933, 'danbury': 10934, '713': 10935, 'emily': 10936, 'account…': 10937, 'drunkpilots': 10938, 'zira2z3udc': 10939, 'stuckintheloop': 10940, '214i0rtih4': 10941, 'flight2031': 10942, 'valuables': 10943, 'us2146': 10944, 'aa2924': 10945, '2031': 10946, 'regretting': 10947, 'hotterandlongerthanhell': 10948, '45minutes': 10949, 'ams': 10950, 'downright': 10951, 'hostile': 10952, 'bgtjfmneot': 10953, 'cbsphilly': 10954, 'manual': 10955, 'ystrdy': 10956, 'tryng': 10957, 'rsrv': 10958, '8hr': 10959, 'unsuitable': 10960, 'preventing': 10961, '601': 10962, 'rett': 10963, 'cavan': 10964, 'gofundme': 10965, 'rare': 10966, 'cancer': 10967, 'deferring': 10968, 'at😳': 10969, 'behave': 10970, 'offensively': 10971, 'particulars': 10972, '55min': 10973, 'us755': 10974, 'aa2595': 10975, 'realistic': 10976, '2595': 10977, '9rx5homm25': 10978, 'gs': 10979, 'cstsvc': 10980, 'honors': 10981, 'rcd': 10982, 'usaireays': 10983, 'vu5lbzxtrx': 10984, 'eating': 10985, 'interpreting': 10986, 'sarcastic': 10987, 'excellentcustomerservice': 10988, 'waitinginphilly': 10989, 'flight838': 10990, 'usdelay': 10991, \"'paperwork'\": 10992, 'letsgoalready': 10993, '2022': 10994, '4454': 10995, '3818': 10996, 'whyisusairalwaysdelayed': 10997, 'emotional': 10998, 'financial': 10999, 'incurred': 11000, 'approximately': 11001, 'barclaycardus': 11002, 'appealing': 11003, '4565': 11004, 'influx': 11005, 'tyxaztmq1u': 11006, 'sum1': 11007, 'utilize': 11008, 'donation': 11009, 'uso': 11010, 'nocommunication': 11011, 'hfjyn2vtvj': 11012, 'dispute': 11013, 'giennyqn22': 11014, 'dr5octp1dy': 11015, '10x': 11016, 'nigga': 11017, 'sympathize': 11018, 'clob5qwmxr': 11019, '8je1h3666w': 11020, 'wtop': 11021, '4210': 11022, 'bradley': 11023, '838': 11024, 'firevan': 11025, 'development': 11026, 'effortless': 11027, 'tory': 11028, 'churn': 11029, 'wdaktmr7mj': 11030, 'takingthistothetop': 11031, 'employees✌️': 11032, 'brcsjbxg2s': 11033, 'stuffing': 11034, 'sweat': 11035, 'mrrenevendez': 11036, 'gn30p75kqb': 11037, 'accomplish': 11038, 'corybronze': 11039, 'thehaileytate': 11040, 'aboout': 11041, 'mhtt': 11042, '2hrs35minonhold': 11043, 'lastnight': 11044, 'careless': 11045, 'jn3v3k3qgv': 11046, 'overloads': 11047, 'execution': 11048, 'sorude': 11049, 'bze': 11050, 'awgjkjiiac': 11051, '54': 11052, 'vskxyamnom': 11053, '3lpvfhky2f': 11054, 'nose': 11055, 'flightglobal': 11056, 'yf9nhmwyff': 11057, 'reinforcements': 11058, '2go': 11059, '1735': 11060, 'conditioning': 11061, 'phoneeeee': 11062, '4097': 11063, '4478': 11064, '1848': 11065, 'malcome': 11066, 'replicate': 11067, 'monthly': 11068, 'empl': 11069, 'greatjob': 11070, 'boggling': 11071, 'tense': 11072, 'attndt': 11073, 'wrecking': 11074, 'smugsmirk': 11075, 'norush': 11076, 'alfamilyoffour': 11077, 'exhibited': 11078, 'newamericanairline': 11079, 'cheapslogannotmotto': 11080, 'attdt': 11081, 'decides': 11082, 'flt1727': 11083, 'w3xs6tvpzg': 11084, 'msscottwg': 11085, 'mellani': 11086, 'superstars': 11087, 'mellie': 11088, 'vouchers…any': 11089, 'um': 11090, 'collectively': 11091, 'liza': 11092, 'idiotic': 11093, 'a4': 11094, 'suggesting': 11095, 'podium': 11096, '1773': 11097, '1903': 11098, 'tiffany': 11099, 'hhoxqpsuba': 11100, 'nanceebing': 11101, 'infrastructure': 11102, 'massivefail': 11103, 'failphone': 11104, 'skip': 11105, 'flgjt': 11106, 'pops': 11107, 'brizzyberg27': 11108, 'nehnsdckty': 11109, 'grief': 11110, '0400': 11111, 'loans': 11112, 'flowers': 11113, 'smfh': 11114, 'abounds': 11115, '3960': 11116, 'missedconnection': 11117, 'forcedovernight': 11118, 'worstflightexperienceever': 11119, 'getmehome': 11120, '3hr': 11121, '26min': 11122, 'loaner': 11123, 'loanr': 11124, '5084773604': 11125, '6cgfv02gzb': 11126, '320': 11127, 'lapse': 11128, '4473': 11129, 'poorlyhandled': 11130, 'usairheads': 11131, '18fmr06mn6': 11132, 'gifts': 11133, 'revers': 11134, 'vacationing': 11135, 'platinumeventually': 11136, 'tabitha': 11137, 'hd': 11138, '3min': 11139, '50minssss': 11140, 'anotherfail': 11141, 'hanged': 11142, '41cgqueen': 11143, 'vows': 11144, 'smoothtransition': 11145, 'secs': 11146, 'g3uy6w28qh': 11147, 'fkn': 11148, 'unbelieavle': 11149, 'unaccpetable': 11150, 'failback': 11151, 'actualy': 11152, 'hostel': 11153, 'fwd': 11154, 'stillbagless': 11155, 'commitments': 11156, 'excusable': 11157, '622': 11158, 'dkzl57upqi': 11159, 'noexcusesaccepted': 11160, '755': 11161, 'kieranmahan': 11162, '1way': 11163, 'usuck': 11164, 'pd7r1ll6re': 11165, 'pleading': 11166, 'grt': 11167, 'taxing': 11168, 'uppp': 11169, 'imtired': 11170, 'saveface': 11171, 'showup': 11172, 'professors': 11173, 'midterm': 11174, 'hooray': 11175, 'ebhset': 11176, 'caterobbie': 11177, 'pleasehurryup': 11178, 'answerphone': 11179, 'reschedulemyflight': 11180, 'fiousairways': 11181, '💁': 11182, 'tools': 11183, 'prayer': 11184, 'mishaps': 11185, 'lotttttttt': 11186, '74': 11187, 'ch': 11188, '734': 11189, 'nm4agoodlife': 11190, 'synergy': 11191, 'robprice': 11192, 'p8xfhq4kps': 11193, 'idontwanttocallback': 11194, 'becuase': 11195, 'disappearing': 11196, 'allready': 11197, 'traveloneworld': 11198, 'amend': 11199, 'ow': 11200, '2h30m': 11201, 'needlessly': 11202, 'wronganswer': 11203, 'unnoticed': 11204, '1796': 11205, 'chl': 11206, 'worstairlineinamerica': 11207, '3hr30min': 11208, 'hosp': 11209, 'trys': 11210, 'cuts': 11211, 'hlp': 11212, '496': 11213, 'kitchen': 11214, '558': 11215, 'amsterdam': 11216, 'hasty': 11217, 'unwise': 11218, 'pushback': 11219, 'plows': 11220, 'pullin': 11221, 'sh': 11222, 'obj': 11223, 'av2rffhmcv': 11224, 'trbl': 11225, 'terriblecommunication': 11226, 'essence': 11227, '5283': 11228, 'wx': 11229, 'reschedules': 11230, '2hr15min': 11231, '880': 11232, 'e36': 11233, 'truthful': 11234, 'ontarmac': 11235, '1881': 11236, 'donaldaroberts1': 11237, '1030pm': 11238, '94': 11239, 'workforces': 11240, 'house👋': 11241, 'eyyyy': 11242, 'drift': 11243, 'i1sfmi7zat': 11244, \"g'ma's\": 11245, 'memorial': 11246, 'af': 11247, '2023': 11248, '60th': 11249, 'cabinfever': 11250, 'nw': 11251, 'insight': 11252, '717': 11253, 'd1mqf5': 11254, 'respectful': 11255, '5hourwait': 11256, 'cesspool': 11257, 'germs': 11258, 'rylietolbert15': 11259, 'tequila': 11260, 'us643': 11261, 'flustered': 11262, 'kristy': 11263, 'kristie': 11264, 'gate4': 11265, 'rockstar': 11266, 'promotethatgirl': 11267, 'tomrw': 11268, 'us733': 11269, '1world': 11270, 'notion': 11271, 'versace': 11272, 'biceps': 11273, 'toll': 11274, 'nght': 11275, 'cls': 11276, 'sche': 11277, 'genious': 11278, 'aa1061': 11279, 'preggo': 11280, 'hormones': 11281, 'emrubu4wzd': 11282, 'curvygirltravels': 11283, '1875': 11284, 'stats': 11285, 'nick': 11286, '742': 11287, 'comin': 11288, 'clutch': 11289, 'h8': 11290, 'thankjesus': 11291, 'thankme': 11292, 'fupf0uayir': 11293, 'eaten': 11294, 'lemme': 11295, 'ute': 11296, 'effin': 11297, 'shitting': 11298, '150000': 11299, 'i❤usair': 11300, 'differ': 11301, 'timbennettg3': 11302, 'sch': 11303, 'assed': 11304, 'ua6doua34l': 11305, 'dmv': 11306, 'noshadetothedmv': 11307, 'pregame': 11308, 'kentuckymbb': 11309, 'amtrak': 11310, 'rkvczbpdce': 11311, 'badcustomersrvice': 11312, 'whereismybag': 11313, 'itis': 11314, 'poorcustumerservice': 11315, 'veg': 11316, 'brazil': 11317, 'utfdhxa8pu': 11318, 'ew': 11319, 'b4xhirugzv': 11320, 'undermines': 11321, 'intelligence': 11322, 'template': 11323, '😑😩': 11324, 'cm4roiypc2': 11325, 'enormous': 11326, 'ffanixjhwh': 11327, 'flight850': 11328, '667': 11329, '24hr': 11330, 'inaccessibility': 11331, 'marccopely': 11332, 'discourteous': 11333, 'frequentflyers': 11334, 'chuckhole': 11335, '850': 11336, 'aal': 11337, '04sdytt7zd': 11338, 'retweets': 11339, 'aligned': 11340, '80°': 11341, 'mobay': 11342, 'seanvrose': 11343, 'owen': 11344, 'usairwaysfflyer': 11345, 'f6dk04': 11346, 'xzmscw': 11347, 'basketball': 11348, 'wheresmyrefund': 11349, 'jerks': 11350, '🐳': 11351, 'leak': 11352, 'getmeoffthisplane': 11353, 'ineedabeer': 11354, '813': 11355, '826': 11356, 'mbj': 11357, '816': 11358, 'mc': 11359, 'flt5127': 11360, 'greatcustomerservice': 11361, 'selves': 11362, 'reativation': 11363, 'backed': 11364, 'hospice': 11365, 'followers': 11366, 'soc': 11367, 'dontflyusairways': 11368, 'shitshow': 11369, 'weights': 11370, 'jobfail': 11371, 'guesstimate': 11372, 'incapable': 11373, '2yo': 11374, 'airbus321seat14fproblems': 11375, 'zkoe6clgiu': 11376, \"athlete's\": 11377, 'scareways': 11378, 'neverfails': 11379, 'aumilo1': 11380, '705': 11381, 'cat': 11382, 'zig': 11383, 'zagging': 11384, 'movements': 11385, '4297': 11386, \"'extra\": 11387, \"849's\": 11388, 'havin': 11389, 'authorize': 11390, '250k': 11391, 'dadeland': 11392, 'misery': 11393, 'lawyerup': 11394, 'disbelief': 11395, 'zip': 11396, '730pm': 11397, '150am': 11398, 'stephenrodrick': 11399, '30timesenough': 11400, 'dumping': 11401, 'theworstairlineever': 11402, 'miles😡': 11403, 'yqhk8ljabn': 11404, 'delightful': 11405, 'professionalism': 11406, 'pulls': 11407, 'pleeeeeeeease': 11408, '3797': 11409, 'sailor': 11410, 'keithlaw': 11411, 'propositioned': 11412, 'creditcardsales': 11413, 'naval': 11414, 'commands': 11415, 'slogan': 11416, 'recharging': 11417, 'anyhelp': 11418, 'dontmakemegooutside': 11419, 'wjiigztiwg': 11420, 'worstever': 11421, 'mynzitcovn': 11422, 'daddyshome': 11423, 'notnice': 11424, 'tellyourstory': 11425, 'terrifyingly': 11426, 'jwa': 11427, 'shade': 11428, 'reachingnewlows': 11429, 'smelly': 11430, 'aruba': 11431, 'waitingagain': 11432, 'misjudging': 11433, 'deliberate': 11434, 'expens': 11435, '1851': 11436, '1769': 11437, 'burroughs': 11438, 'yourairlinesucks': 11439, 'triage': 11440, 'personality': 11441, \"'promotions'\": 11442, 'regularly': 11443, 'travelfail': 11444, \"'missing'\": 11445, 'nightmarish': 11446, 'patiencerunningout': 11447, 'findurgrip': 11448, 'advis': 11449, 'wo': 11450, 'pen': 11451, 'stollen': 11452, \"anyone's\": 11453, 'mobil': 11454, 'wishing': 11455, 'prn': 11456, 'planebroken': 11457, 'neverontime': 11458, 'paymytab': 11459, '3khgjofgpx': 11460, 'shavon': 11461, 'evn': 11462, 'squashed': 11463, 'ocqk0jfxua': 11464, 'achieve': 11465, 'yield': 11466, 'navigate': 11467, '2066': 11468, '5238': 11469, 'congratulation': 11470, '4009': 11471, 'nationalairpor': 11472, 'ghettofab': 11473, 'maqw2nlniu': 11474, 'z1': 11475, 'proceeded': 11476, 'awe1701': 11477, 'c38': 11478, 'us626': 11479, 'boyfriends': 11480, 'iwas': 11481, '25min': 11482, '676': 11483, 'emphasize': 11484, 'vape': 11485, 'opportunities': 11486, 'saddens': 11487, 'upinairclaire': 11488, 'melinda': 11489, 'greensboro': 11490, 'jewel': 11491, 'workng': 11492, 'et': 11493, 'pushy': 11494, 'gagent': 11495, 'danny': 11496, 'us628': 11497, 'sarahpompei': 11498, '35pm': 11499, 'lunchtime': 11500, 'by3vdiosua': 11501, 'andrewfallis': 11502, 'stillnotonmyflight': 11503, '2133': 11504, 'mimosa': 11505, 'kinder': 11506, '1707': 11507, 'replane': 11508, 'youcandobetter': 11509, 'groan': 11510, \"mary's\": 11511, 'curt': 11512, 'eternal': 11513, 'mergerdisaster': 11514, 'crowded': 11515, 'jaskyplwt5': 11516, '835': 11517, 'api': 11518, 'happyfriday': 11519, 'tier': 11520, 'qjlzrywfj2': 11521, 'complainers': 11522, 'robyn': 11523, 'sprawled': 11524, 'grossedout': 11525, 'recycle': 11526, 'bagtag': 11527, '1786': 11528, 'pky7zhnnrh': 11529, 'crosswords': 11530, 'oldseatnocushion': 11531, 'nohelponboard': 11532, 'coathanging': 11533, 'obama': 11534, 'frozentoilet': 11535, 'medicalissue': 11536, 'mechanicalissue': 11537, 'dispatchissue': 11538, 'gassing': 11539, '1839': 11540, '3ddqq0gqni': 11541, '1838': 11542, '1907': 11543, 'offloading': 11544, 'jdbwaffles': 11545, 'dishonest': 11546, 'exicted': 11547, 'convince': 11548, 'psychological': 11549, 'tricks': 11550, 'colors': 11551, 'worldwide': 11552, 'guys…see': 11553, 'circles': 11554, '21p': 11555, '3935': 11556, 'takers': 11557, 'mvmt': 11558, '890': 11559, '5136': 11560, 'connection…': 11561, '1857': 11562, 'unemployment': 11563, 'affairs': 11564, '4553': 11565, '1f': 11566, 'ffstatusdontmatter': 11567, 'thenewaa': 11568, 'grandbabies': 11569, 'births': 11570, '46min': 11571, 'geeeeezzzzz': 11572, 'phltolas': 11573, 'cinci': 11574, 'zfv': 11575, 'kigfkvxxdq': 11576, '5137': 11577, '5547': 11578, '1777': 11579, 'clearance': 11580, 'marked': 11581, \"paypal's\": 11582, 'tedious': 11583, 'vote': 11584, 'overfilled': 11585, '000lbs': 11586, 'lavoratories': 11587, '437': 11588, 'ab': 11589, 'anarchy': 11590, '555': 11591, 'arms': 11592, 'hockey': 11593, 'sticks': 11594, 'kcqebeej7s': 11595, 'ihatemergers': 11596, 'veggies': 11597, 'olives': 11598, 'velcro': 11599, \"'footrest'\": 11600, \"shelf'\": 11601, 'a330': 11602, 'zl4bvexmcj': 11603, 'realizing': 11604, 'mask': 11605, 'polite': 11606, 'habitually': 11607, 'cases': 11608, 'salad': 11609, 'fuking': 11610, 'uncertainty': 11611, 'undue': 11612, \"req'ing\": 11613, 'wewantcomps': 11614, 'strandedattheairport': 11615, 'garywerk': 11616, 'sandwiches': 11617, '2702': 11618, '2696': 11619, 'montereyregionalairport': 11620, 'bledsoe': 11621, 'lve': 11622, 'fm': 11623, 'mergers': 11624, 'irony': 11625, 'barking': 11626, '666': 11627, 'chathes': 11628, '297': 11629, 'destroying': 11630, 'gastoncounty': 11631, 'lively': 11632, 'scattered': 11633, \"bene's\": 11634, 'flight1797': 11635, 'dreading': 11636, 'lilly': 11637, 'badcustomerexperience': 11638, 'onion': 11639, 'tbt': 11640, 'b13': 11641, 'ethan': 11642, 'revive': 11643, 'laundry': 11644, 'tabs': 11645, '1217': 11646, 'pipes': 11647, 'imagined': 11648, 'stubbornly': 11649, 'phf': 11650, 'too👍': 11651, 'flyus': 11652, 'accts': 11653, 'holz': 11654, 'labeled': 11655, 'occupy': 11656, 'musical': 11657, 'correlate': 11658, 'hirasmusbidragi': 11659, '561': 11660, 'sl6bdrxfn8': 11661, 'tys': 11662, '810': 11663, 'gth239': 11664, 'coded': 11665, 'trumping': 11666, 'booster': 11667, '7f': 11668, '130am': 11669, '3860': 11670, 'notevenjv': 11671, 'recvd': 11672, '40k': 11673, 'tckt': 11674, 'greetings': 11675, 'pointy': 11676, 'anyone40min': 11677, 'flight4592': 11678, '00p': 11679, '07p': 11680, 'smoothoperation': 11681, 'misplace': 11682, '1pm10': 11683, 'n7psuejdc8': 11684, 'freaky': 11685, 'm7mmq2f5fa': 11686, 'ckin': 11687, 'allegianttravel': 11688, 'rectified': 11689, 'thereisafirstforeverything': 11690, \"'tough\": 11691, \"is'\": 11692, '673': 11693, 'crosswinds': 11694, 'developers': 11695, 'barclays': 11696, \"'please\": 11697, \"wait'\": 11698, 'devs': 11699, 'sill': 11700, 'usexpress': 11701, 'psa': 11702, 'annettenaif': 11703, 'roberto': 11704, 'reopened': 11705, 'wd': 11706, 'secondary': 11707, 'screenings': 11708, 'disconnection': 11709, 'menus': 11710, '5141': 11711, 'marciaveronicaa': 11712, \"uncle's\": 11713, 'considerate': 11714, 'marsha': 11715, 'thankyouforeverything': 11716, 'awol': 11717, 'lite': 11718, 'mt8splm02v': 11719, 'misguided': 11720, 'nothings': 11721, 'creating': 11722, '3880': 11723, 'fallen': 11724, 'doug': 11725, 'us4485': 11726, '💺✈️': 11727, 'portlandjetport': 11728, 'kdmq0jps02': 11729, 'us2118': 11730, 'pple': 11731, 'r7ibqr4cyd': 11732, '2218': 11733, 'us2218': 11734, '36min': 11735, 'betty': 11736, 'ilm': 11737, 'drvrugby': 11738, 'surprisingly': 11739, 'strandedinnashville': 11740, 'livepersonplease': 11741, 'occasions': 11742, 'encounter': 11743, 'outright': 11744, 'flt1999': 11745, 'disguised': 11746, 'uh6uwuosc0': 11747, 'coffeemaker': 11748, 'ft1892': 11749, 'be4': 11750, 'coma': 11751, 'in…': 11752, 'mins…': 11753, 'installing': 11754, 'muzak': 11755, 'tsaprecheck': 11756, 'samsonite': 11757, 'totaled': 11758, 'baked': 11759, \"reply's\": 11760, 'usairwaysssuck': 11761, 'comforting': 11762, 'stationary': 11763, '214': 11764, '725': 11765, '1966': 11766, 'lucycat': 11767, 'scm1133': 11768, '7stktjxan1': 11769, 'timbit': 11770, 'reassess': 11771, \"'y'\": 11772, '41': 11773, 'rejected': 11774, 'fendforyourself': 11775, '2k424j0': 11776, 'dnx58v': 11777, 'flailing': 11778, 'jhxwmutx4g': 11779, 'severally': 11780, 'chairmanlove': 11781, 'meoalcipdd': 11782, 'monetary': 11783, 'overloaded': 11784, 'emergencies': 11785, 'whatajoke': 11786, '⤵': 11787, 'q5sb0davuy': 11788, 'isabelle': 11789, 'gramp': 11790, '🙏🙏🙏🙏🙏🙏🙏🙏🙏🙏🙏🙏🙏🙏🙏🙏🙏🙏': 11791, 'divident': 11792, '⤵for': 11793, 'ef4p0hishb': 11794, '1748': 11795, 'makeovertime': 11796, 'customerserviceplease': 11797, 'donthavehighhopes': 11798, 'spf': 11799, 'noreply': 11800, 'usairwaysmobile': 11801, 'filters': 11802, 'dns': 11803, 'admin': 11804, '19b': 11805, '1943': 11806, 'haj5lkqjw4': 11807, 'antitrust': 11808, 'unprofessionalism': 11809, 'jhau4k48yv': 11810, 'buwjtvuwkm': 11811, 'secret': 11812, 'holdtime': 11813, 'upp41abxrq': 11814, '5080': 11815, 'bohnjai': 11816, '👎✈️': 11817, '👎😬': 11818, '👎😡': 11819, '😊👏': 11820, 'verbally': 11821, 'cussed': 11822, 'sdfairport': 11823, 'peeved': 11824, 'pascucci': 11825, 'yiwlhqhzgp': 11826, 'reaccommodation': 11827, 'mumbled': 11828, 'uses': 11829, '2edgc6tbls': 11830, 'svllindia': 11831, 'india': 11832, 'mumbai': 11833, 'surat': 11834, 'navimumbai': 11835, 'forsyth': 11836, 'factor': 11837, 'passengerslose': 11838, 'dsearls': 11839, 'gooutofbusiness': 11840, 'fispahani': 11841, '325': 11842, 'e09kej9bv1': 11843, 'worsttraveldayever': 11844, 'unexplained': 11845, 'pkaxunyfn2': 11846, 'tweetin': 11847, 'doin': 11848, 'anythin': 11849, 'wiser': 11850, 'folding': 11851, 'us558': 11852, 'al': 11853, 'neverflyusairways': 11854, '👠👠👠': 11855, 'heel': 11856, 'clicks': 11857, '4439': 11858, '3389': 11859, 'thislinehasntmovedforanhour': 11860, 'shaquille': 11861, 'tysvm': 11862, '3121': 11863, '1874get': 11864, 'tyvm': 11865, 'hectic': 11866, 'husainhaqqani': 11867, 'husain': 11868, 'protest': 11869, 'rehman': 11870, 'malik': 11871, '1hour': 11872, 'l7lwjazioa': 11873, 'noltnancy': 11874, 'dh2rfuijyp': 11875, 'dphqrgkdoa': 11876, 'spreadtheword': 11877, 'borrow': 11878, 'f38ish': 11879, 'praised': 11880, 'barklays': 11881, \"'out\": 11882, 'throne': 11883, '470': 11884, 'conn': 11885, '763': 11886, 'executiveplatinummeansnothing': 11887, 'iwantcoffee': 11888, 'powered': 11889, 'longday': 11890, 'reposting': 11891, 'imateacher': 11892, \"cont'd\": 11893, 'c68ld9': 11894, 'c14': 11895, '1791': 11896, '5302': 11897, 'snaps': 11898, 'cups': 11899, 'steaming': 11900, 'lord': 11901, 'wheresthecustomerserviceat': 11902, 'phi2ifnjit': 11903, '893': 11904, 'emilylyonss': 11905, 'hungary': 11906, '0372389047497': 11907, 'usairway': 11908, '8hh0c63tie': 11909, '604': 11910, 'theend': 11911, 'goodday': 11912, 'ernie': 11913, 'vigil': 11914, \"f'd\": 11915, 'sickcrew': 11916, '🙏🙏🙏🙏🙏🙏🙏🙏🙏🙏🙏😢😢😢😢😢😢😢😢🙏🙏🙏🙏🙏🙏🙏🙏🙏🙏🙏🙏🙏🙏🙏🙏🙏🙏🙏🙏🙏': 11917, 'bostonbbb': 11918, '🙏🙏🙏😢😢😢🙏🙏🙏': 11919, 'tanpa': 11920, 'tic': 11921, '200fee': 11922, '🙏🙏🙏🙏🙏🙏🙏🙏🙏🙏🙏🙏🙏🙏🙏🙏🙏🙏🙏🙏🙏🙏🙏🙏🙏🙏🙏': 11923, 'unprofessionally': 11924, '🙏🙏🙏✌️😉': 11925, '9º': 11926, 'anticipation': 11927, 'freddie': 11928, 'sibling': 11929, 'wether': 11930, 'approproately': 11931, 'tooooo': 11932, 'chain': 11933, 'command': 11934, 'absorb': 11935, 'deceiving': 11936, 'reprehensible': 11937, '50hrs': 11938, 'winkwink': 11939, 'intimate': 11940, '5202': 11941, 'firefox': 11942, 'gray': 11943, 'submits': 11944, 'internal': 11945, '2check': 11946, 'hlzahxkdsn': 11947, 'travis': 11948, 'boots': 11949, 'rush': 11950, 'jetway—why': 11951, 'apx': 11952, '✈️🌞': 11953, 'nobackup': 11954, 'begun': 11955, 'accessible': 11956, 'preparedness': 11957, 'snowballed': 11958, '1923': 11959, 'aforementioned': 11960, 'patron': 11961, 'hoodlums': 11962, 'c24cefa9pl': 11963, 'cycles': 11964, 'speciifc': 11965, 'character': 11966, 'adopting': 11967, 'hogs': 11968, 'impediment': 11969, 'tips': 11970, 'registering': 11971, 'a0yosjhzmc': 11972, 'wave': 11973, 'contaced': 11974, 'eyewitness': 11975, 'unheard': 11976, 'manned': 11977, '2069': 11978, 'hsv': 11979, 'crickets': 11980, 'yearly': 11981, 'ubetter': 11982, 'smth': 11983, 'seet': 11984, 'dating': 11985, 'edreams': 11986, 'optimistic': 11987, 'oy': 11988, 'tara': 11989, 'gem': 11990, 'coin': 11991, 'onehouronhold': 11992, 'robertdwyer': 11993, 'll': 11994, 'dwell': 11995, 'encouragement': 11996, '1565': 11997, 'espinosa': 11998, '0hxlnvzknp': 11999, 'clarkey': 12000, 'biggie': 12001, 'aa76': 12002, 'gems': 12003, 'kax': 12004, 'tnx': 12005, 'logical': 12006, 'vastly': 12007, 'voxcghciji': 12008, 'bundle': 12009, 'applause': 12010, 'freezes': 12011, 'inflating': 12012, '1636': 12013, 'dc10': 12014, '2888155964': 12015, '1463': 12016, 'probls': 12017, 'rtrn': 12018, 'nickeled': 12019, '2559': 12020, 'tt': 12021, '3322': 12022, 'planb': 12023, 'upgrademe': 12024, '9gx5mmmubb': 12025, 'wdyekvb1ze': 12026, 'arkansas': 12027, 'ib8kyjbcjm': 12028, 'animals': 12029, 'americandairlinessucks': 12030, 'aa3688': 12031, 'preventable': 12032, 'aqjn4hwnac': 12033, 'foru': 12034, 'allowable': 12035, 'admitted': 12036, 'equip': 12037, '2495': 12038, '1229': 12039, '1120am': 12040, 'aa3490': 12041, 'hormonal': 12042, 'teenager': 12043, 'wastedeffort': 12044, 'undone': 12045, 'bragging': 12046, 'js': 12047, 'donedeal': 12048, 'talktoahuman': 12049, 'strength': 12050, 'mauererpower': 12051, 'reached': 12052, 'struts': 12053, 'nozzle': 12054, 'calibrated': 12055, 'us1937': 12056, 'absorber': 12057, 'enhance': 12058, 'cycle': 12059, '4285': 12060, 'yucki': 12061, '9r9omzqavi': 12062, 'prerecorded': 12063, 'smiles': 12064, 'refundprocedurenottoopainful': 12065, 'tmr': 12066, 'leather': 12067, 'ay': 12068, 'seams': 12069, 'refurbish': 12070, 'drain': 12071, 'fearing': 12072, 'potable': 12073, 'recommendation': 12074, 'overzealous': 12075, 'ireland': 12076, '1220': 12077, 'dzkc3auzu9': 12078, 'wiggle': 12079, 'aa1119': 12080, 'aa157': 12081, 'sliver': 12082, 'announces': 12083, 'dumas2ttg': 12084, 'noxtralegroom': 12085, 'nocoatcloset': 12086, 'faail': 12087, 'yayayay': 12088, 'wack': 12089, 'bueno': 12090, 'cheque': 12091, 'unknowledgeable': 12092, 'potatoes': 12093, 'm2phoavrxc': 12094, 'ifespcbztm': 12095, 'ballbag': 12096, 'worrisome': 12097, 'preoccupied': 12098, 'flagging': 12099, 'observer': 12100, 'counterparts': 12101, '1278': 12102, 'bsuxlu': 12103, 'aa3465': 12104, '3200': 12105, 'mikes': 12106, 'tk': 12107, 'spk': 12108, 'sufficiently': 12109, 'presumably': 12110, 'reproach': 12111, 'reform': 12112, 'bitchy': 12113, 'youd': 12114, 'cater': 12115, 'superyan': 12116, \"'thank\": 12117, \"you'\": 12118, 'aa2401': 12119, 'usxlon': 12120, 'us84': 12121, 'weekly': 12122, '5hs': 12123, '20yr': 12124, 'nofunatall': 12125, \"uwon't\": 12126, 'me2make': 12127, 'me2sit': 12128, 'excess': 12129, 'loganairports': 12130, 'that’s': 12131, 'clunky': 12132, '2160': 12133, 'rising': 12134, 'natca': 12135, 'vahdekvoke': 12136, 'awheelchair': 12137, 'nonewplanes': 12138, 'twetpxuppn': 12139, 'scoot': 12140, 'aa1103': 12141, 'miserablemorning': 12142, 'commence': 12143, 'regina': 12144, 'argg': 12145, 'trite': 12146, 'iata': 12147, 'thefaaonline': 12148, 'embassy': 12149, 'suites': 12150, 'herndon': 12151, 'machines': 12152, '1130pm': 12153, 'pouting': 12154, 'attitudeissues': 12155, '4mqfmxebxt': 12156, 'extenuating': 12157, 'downstairs': 12158, 'elise': 12159, 'ees': 12160, 'k20': 12161, '430': 12162, 'chking': 12163, 'schd': 12164, 'plainly': 12165, 'makers': 12166, 'mindset': 12167, 'dqnn0rf1v8': 12168, 'medication': 12169, '4days': 12170, \"skipper's\": 12171, 'ife': 12172, '6hr': 12173, 'suprise': 12174, 'vanity': 12175, 'fa7nygn1ux': 12176, 'gah': 12177, 'disorganised': 12178, 'abc7newsbayarea': 12179, 'inhumane': 12180, 'humanity': 12181, 'terror': 12182, 'bills': 12183, 'subscription': 12184, 'arrange': 12185, 'tollfree': 12186, 'emxlyy': 12187, 'earrings': 12188, 'winks': 12189, 'auh': 12190, 'commutation': 12191, 'drives': 12192, '2284': 12193, 'flightrs': 12194, 'curfew': 12195, 'aa1237': 12196, '👎😡✈️': 12197, 'notahappycustomer': 12198, 'leavingtomm': 12199, 'bleh': 12200, 'crjs': 12201, 'airstairs': 12202, 'valet': 12203, '20pm': 12204, 'brave': 12205, '1568': 12206, 'spiritairpr': 12207, 'fioretti2ndward': 12208, 'chicagosmayor': 12209, 'garcia4chicago': 12210, 'noise': 12211, 'norahm': 12212, 'cfzdjmn0ui': 12213, 'distance': 12214, 'populate': 12215, 'sure👌': 12216, 'djevolutionhd': 12217, '125k': 12218, 'lawyer': 12219, 'wrath': 12220, 'boeingairplanes': 12221, 'drag': 12222, 'gerri': 12223, 'elliott': 12224, 'chronological': 12225, 'footage': 12226, '2298': 12227, '2339': 12228, 'q37pown6uv': 12229, 'figures': 12230, 'megentripodi': 12231, 'jordnnicole7': 12232, 'retaining': 12233, 'q2': 12234, 'pictures': 12235, '4me': 12236, 'midnite': 12237, 'whisper': 12238, 'atwyifh6zy': 12239, 'joanne': 12240, 'flightnightmare': 12241, 'redemption': 12242, 'dart': 12243, 'dartmedia': 12244, '2348': 12245, '3499': 12246, 'suntimes': 12247, 'cameragear': 12248, '1m36ntptr8': 12249, 'dub': 12250, 'injuries': 12251, 'periolodicly': 12252, '25mn': 12253, 'sna2ord': 12254, 'flt2417': 12255, 'unserviceable': 12256, '2417': 12257, 'aa5411': 12258, 'i7vdi9wqsf': 12259, 'thanksm': 12260, 'louprice13': 12261, 'aacustomerservice': 12262, 'cabs': 12263, '1074': 12264, 'outoftouchwithreality': 12265, 'appointment': 12266, 'deactivated': 12267, 'deactivate': 12268, 'itin': 12269, 'inv': 12270, 'aa1679': 12271, 'successful': 12272, '4369': 12273, 'ridicules': 12274, 'xggcntco8m': 12275, 'infinite': 12276, 'pregnantwithtwins': 12277, 'imrlau77ih': 12278, 'thecandacesmith': 12279, 'candace': 12280, 'krescate': 12281, 'momsgoodeats': 12282, 'mandarinjourney': 12283, 'contactcej': 12284, 'bqonpa': 12285, '1641': 12286, '2214': 12287, 'displeasure': 12288, '3487': 12289, 'bbb': 12290, 'donotflywiththem': 12291, 'fidencio': 12292, '👌👌👌': 12293, 'gabriela': 12294, '402': 12295, '530': 12296, 'lip': 12297, '3611': 12298, '34pm': 12299, 'abandon': 12300, 'cuzco': 12301, 'saidi': 12302, \"employee's\": 12303, 'ares': 12304, 'sre': 12305, 'thy': 12306, 'multibillion': 12307, 'multimillion': 12308, 'barrettkarabis': 12309, '66nxzhbbmt': 12310, 'agts': 12311, 'unamericanairlines': 12312, 'southwestairwasthere': 12313, \"envoy's\": 12314, '5347': 12315, 'of40': 12316, 'unfold': 12317, '😩😭💔': 12318, '14am': 12319, '19pm': 12320, '1389': 12321, 'wrench': 12322, '👀': 12323, 'apron': 12324, \"lookin'\": 12325, 'suree': 12326, 'grnd': 12327, 'fron': 12328, 'fwkj49b1le': 12329, 'rec': 12330, 'funerals': 12331, 'capability': 12332, '3349': 12333, 'hitawall': 12334, 'newplanesmell': 12335, 'djjjn9slht': 12336, 'evil': 12337, '6wks': 12338, 'oldplanes': 12339, 'damageluggage': 12340, 'nbc': 12341, 'uq2oopjpwg': 12342, 'chge': 12343, '4sfpcbyy9m': 12344, '160': 12345, '1510': 12346, 'ud': 12347, 'chnge': 12348, 'retrn': 12349, 'pickng': 12350, 'preparation': 12351, 'depending': 12352, 'us4623': 12353, 'commend': 12354, 'rubbed': 12355, 'airportcardio': 12356, '1152': 12357, 'tul': 12358, 'travelproblems': 12359, '1642': 12360, 'entree': 12361, 'nosedived': 12362, 'newamerican': 12363, '56essfoowt': 12364, 'delaney': 12365, 'kanne822': 12366, 'aa291': 12367, 'aateam': 12368, 'rigorous': 12369, 'nonprofit': 12370, 'brownsville': 12371, 'hardtodo': 12372, 'hahahah': 12373, 'liar': 12374, 'pacify': 12375, 'fool': 12376, 'span': 12377, 'believable': 12378, 'elwoodblues77': 12379, 'counters': 12380, 'americant': 12381, 'reuse': 12382, 'hm': 12383, 'le4h2gtzxz': 12384, 'aaadvantage': 12385, 'balloons': 12386, 'need2know': 12387, 'maf': 12388, 'gvgkhbx1rb': 12389, 'hardest': 12390, '6a': 12391, '1620': 12392, 'x4rsvagijn': 12393, '1338': 12394, 'providenciales': 12395, '1651': 12396, '31cfhtk60r': 12397, '1672': 12398, '5sdlyn9mss': 12399, 'becky': 12400, 'piela': 12401, 'county': 12402, 'cehroeurc5': 12403, '89ish': 12404, 'bankruptcies': 12405, '👍👍👍👍👍': 12406, 'dog’s': 12407, 'helpline': 12408, 'holler': 12409, 'gtsvyb': 12410, 'unprepared': 12411, 'ho': 12412, \"right's\": 12413, 'booklet': 12414, 'ystday': 12415, 'angrybird': 12416, \"where'smybag\": 12417, 'gain': 12418, 'gang': 12419, '77min': 12420, 'pats': 12421, 'doyourjob': 12422, 'extraordinary': 12423, 'exceptions': 12424, 'acpt': 12425, 'trickling': 12426, '4kbtzvju3b': 12427, 'wakinginmemphis': 12428, 'maxfitgirl29': 12429, 'specially': 12430, 'carlton': 12431, '767': 12432, 'inbox': 12433, 'up…': 12434, 'r1oqaveo7i': 12435, \"admiral's\": 12436, 'gladys': 12437, 'es': 12438, 'amiga': 12439, 'bussines': 12440, 'genuine': 12441, 'natt': 12442, 'panam': 12443, '249': 12444, 'neverflyaaagain': 12445, 'fluctuated': 12446, 'woase2015': 12447, 'helsinkiairport': 12448, 'winterops': 12449, 'midoexhibition': 12450, 'expedite': 12451, 'nastiest': 12452, 'slime': 12453, 'fas': 12454, 'congested': 12455, 'dissapointing': 12456, 'edplotts': 12457, 'thanksamericanairlines': 12458, 'talent': 12459, 'bdsm': 12460, 'porn': 12461, 'uqgw6qsffu': 12462, 'dungeon': 12463, 'pl9sop5ihu': 12464, '1337': 12465, 'escape': 12466, 'raft': 12467, 'dtheyofxrb': 12468, 'botched': 12469, 'absurdity': 12470, 'tug': 12471, 'outraged😡😡': 12472, '49min': 12473, 'memorize': 12474, 'phrase': 12475, 'numerical': 12476, 'shortcuts': 12477, 'tywinter': 12478, 'itover': 12479, 'someones': 12480, 'nbsnewsr': 12481, '106': 12482, 'protocols': 12483, 'mikehertz7': 12484, 'phrased': 12485, '2334': 12486, 'fakeawards': 12487, 'luvisbetter': 12488, 'attendent': 12489, 'mty': 12490, '7hours': 12491, 'surfer': 12492, 'noloveforsurfers': 12493, '😜✈️': 12494, 'fligt': 12495, '2321': 12496, 'escalate': 12497, 'adjustments': 12498, 'seemless': 12499, '15lb': 12500, 'surfboardbag': 12501, 'nomoaa': 12502, 'mait': 12503, 'formality': 12504, 'reader': 12505, 'nohotel': 12506, 'ahem': 12507, 'sees': 12508, 'hat': 12509, 'frowny': 12510, 'k13': 12511, 'rkprxtgvfl': 12512, \"brother's\": 12513, 'unsat': 12514, '3months': 12515, 'angelo': 12516, 'lucy': 12517, 'discussing': 12518, 'howdy': 12519, 'erroring': 12520, '20minute': 12521, 'skycaps': 12522, 'educate': 12523, 'thousandth': 12524, 'satisfaction': 12525, 'mistreated': 12526, \"'it's\": 12527, 'guru': 12528, 'ease': 12529, 'evidently': 12530, 'rides': 12531, 'circuit': 12532, 'breaker': 12533, '2hourwaitsucks': 12534, 'madhouse': 12535, 'yikes': 12536, 'skycap': 12537, 'montrose': 12538, 'allrepresentativesbusy': 12539, 'nooption': 12540, 'packermama1': 12541, '4333': 12542, 'bademployeeproblem': 12543, 'advisories': 12544, 'surgeryhelp': 12545, 'irrlcd': 12546, 'unamerican': 12547, 'cathaypacific': 12548, 'cathaypacificus': 12549, '😥😥': 12550, 'aa3230': 12551, \"sayin'\": 12552, 'airsouthwest': 12553, 'wny9tzsr8n': 12554, 'dehydrated': 12555, 'nwf2fka8fy': 12556, 'chaperone': 12557, 'rldelahunty': 12558, 'robinson': 12559, 'crazybitch': 12560, 'andyellwood': 12561, 'delk': 12562, 'aa2334': 12563, 'pie': 12564, 'meerikangas': 12565, 'hahahaha': 12566, '2224': 12567, 'hoagy10': 12568, 'pasting': 12569, 'bride': 12570, 'attending': 12571, 'brooklyn': 12572, 'jacqueline': 12573, 'amexserve': 12574, 'denise': 12575, 'rtn': 12576, 'bereavement': 12577, '22nd': 12578, 'rudestaff': 12579, 'incompetentmanagers': 12580, 'eleonora7': 12581, 'xhsuupheze': 12582, 'awfully': 12583, 'unclear': 12584, 'audio': 12585, 'pir': 12586, 'cud': 12587, '1230am': 12588, '230am': 12589, 'wong': 12590, 'marisol': 12591, 'pimentel': 12592, '1605': 12593, 'reasonably': 12594, 'mallowfairy': 12595, 'c2next': 12596, 'kthxbai': 12597, 'becomes': 12598, 'strict': 12599, 'lacks': 12600, '😋i': 12601, 'jaipur': 12602, 'dehli': 12603, 'abilities': 12604, '2plains': 12605, '2fails': 12606, 'murphyjulie': 12607, '1108': 12608, \"abc's\": 12609, 'basics': 12610, 'stiiiil': 12611, 'malhoit': 12612, 'hating': 12613, 'registration': 12614, 'cac': 12615, '129': 12616, '259': 12617, 'lmk': 12618, 'mwangbickler': 12619, 'michael': 12620, 'the15hours': 12621, \"there're\": 12622, 'infuriating': 12623, '7hrs': 12624, 'riedel': 12625, 'aly': 12626, 'usairwis': 12627, 'kaha58': 12628, 'aa3390': 12629, 'stmt': 12630, 'getyouracttogether': 12631, 'painandsuffering': 12632, 'emrey35': 12633, 'tjycqh': 12634, 'pu': 12635, 'unt': 12636, 'aft': 12637, 'remained': 12638, 'heated': 12639, 'painted': 12640, 'unreachable': 12641, '2516': 12642, '2244': 12643, 'revieving': 12644, '4275': 12645, 'rxmjwoo7qi': 12646, 'chkin': 12647, 'baggagedrama': 12648, 'cs1673hrqq': 12649, 'aa65': 12650, 'squawked': 12651, 'worstcustservice': 12652, 'nationalized': 12653, \"nation's\": 12654, 'aal65': 12655, 'declared': 12656, 'squawking': 12657, 'weather✈️': 12658, 'fligth': 12659, 'somthing': 12660, '2062': 12661, 'nickcunningham1': 12662, 'qqbmug': 12663, 'reticketed': 12664, 'loganex': 12665, 'epicfailure': 12666, '00a': 12667, 'unsettling': 12668, 'emeyerson': 12669, 'walmart': 12670, 'blameshiftoverload': 12671, 'graduate': 12672, 'urgent': 12673, 'visiting': 12674, 'languages': 12675, 'latinamerican': 12676, 'hs': 12677, 'ithaca': 12678, 'xld': 12679, 'rulesshouldbend': 12680, 'sheer': 12681, 'reigning': 12682, 'gd': 12683, 'sloooowresponses': 12684, '3hours': 12685, 'twenty': 12686, 'prank': 12687, 'plt': 12688, '1h08': 12689, '1418': 12690, 'champagne': 12691, 'aa153': 12692, 'tokyomarathon2015': 12693, 'ij4xl01tkx': 12694, 'mom’s': 12695, 'insure': 12696, 'fricken': 12697, 'dickheads': 12698, 'callings': 12699, 'finale': 12700, 'instance': 12701, 'unsuccessful': 12702, 'nonperformance': 12703, 'onholdfordays': 12704, 'plebes': 12705, 'youredoingitwrong': 12706, 'tree': 12707, '2390': 12708, 'foresight': 12709, 'tahiti': 12710, 'ncrmqibiwo': 12711, '2962': 12712, 'importantflight': 12713, 'chargers': 12714, 'lenses': 12715, '4606': 12716, 'scareair': 12717, 'whoooo': 12718, 'hooooo': 12719, '367': 12720, 'pace': 12721, '202': 12722, 'for40': 12723, 'for4': 12724, 'quitting': 12725, 'cars': 12726, '1610': 12727, 'sounding': 12728, 'slapped': 12729, 'juliasinton948': 12730, '2424': 12731, 'refers': 12732, 'aa1457': 12733, 'trial': 12734, 'relatives': 12735, 'crystal': 12736, 'toby': 12737, 'arminrosen': 12738, 'bmi': 12739, 'reciprocate': 12740, 'dogbuckeye': 12741, 'onholdforever': 12742, 'suboptimal': 12743, 'incompetency': 12744, '1261': 12745, '9hr': 12746, \"ep's\": 12747, 'oscar😄💝💝💝': 12748, 'willneverflywithyou': 12749, 'lesliewolfson': 12750, 'ltr': 12751, 'nlrphoto': 12752, 'espn': 12753, 'coachmack': 12754, 'became': 12755, 'conv': 12756, '1046': 12757, 'pigeon': 12758, 'warn': 12759, 'aa951': 12760, '409': 12761, '0671': 12762, '😡😤😖😲😩': 12763, 'aa111': 12764, 'mdbeei': 12765, 'mcmullen': 12766, 'whyareyouyelling': 12767, 'doll': 12768, '😘😑': 12769, 'virtual': 12770, 'upaz1ef3dl': 12771, 'ago…still': 12772, 'users': 12773, '2010': 12774, 'ratchet': 12775, 'watson': 12776, 'jennings': 12777, 'greyhoundbus': 12778, 'aa304': 12779, 'els': 12780, 'queuing': 12781, 'quickest': 12782, 'maps': 12783, 'electronics': 12784, 'aa215': 12785, 'hcnn0wxqqr': 12786, 'gratitude': 12787, '🇺🇸✈️': 12788, 'j6iclv8dts': 12789, 'ltaljx': 12790, 'goodthingscome': 12791, 'ti2469': 12792, 'shiz': 12793, 'barrier': 12794, 'racist': 12795, 'barcodes': 12796, 'whereisthelove': 12797, 'whybeaaff': 12798, 'duanenclark': 12799, 'apathetic': 12800, 'organized': 12801, 'uoaryq98pu': 12802, 'plse': 12803, 'csddccmvbd': 12804, 'equivalent': 12805, 'dirt': 12806, 'legacy': 12807, '6mbk79mdnw': 12808, 'programmers': 12809, 'instantly': 12810, 'avenue': 12811, '528': 12812, 'jal': 12813, 'cathay': 12814, '4828': 12815, 'marshall': 12816, 'tracker': 12817, 'americanairsucks': 12818, 'hiremorepoeple': 12819, 'hints': 12820, 'wtw': 12821, '1per': 12822, 'burden': 12823, 'kys': 12824, 'weve': 12825, 'oxgen': 12826, 'tank': 12827, 'informing': 12828, 'combative': 12829, 'hury': 12830, 'aa977': 12831, 'cur': 12832, '2350': 12833, 'paint': 12834, 'gt6umhbh43': 12835, 'nopq5xisbs': 12836, '90mins': 12837, 'texarkana': 12838, 'shouldhavedriven': 12839, 'psych': 12840, '2463': 12841, 'aa1401': 12842, '959': 12843, 'yourphonesystemsucks': 12844, 'blessed': 12845, 'vcp': 12846, 'banana': 12847, 'undies': 12848, 'vanessaannz': 12849, 'inclemental': 12850, 'strtd': 12851, 'arpt': 12852, 'aa2450': 12853, 'activated': 12854, 'nosecuritylines': 12855, 'poorest': 12856, 'sample': 12857, 'mf7rabgn8a': 12858, 'alabama': 12859, 'thickens': 12860, 'handy': 12861, 'dandy': 12862, 'fvlxirh1f1': 12863, 'lookforwardtoflywithaa': 12864, 'aa223': 12865, 'nbr1': 12866, 'helper': 12867, 'mo3tvida': 12868, 'preferably': 12869, '😢😕😦': 12870, 'profiting': 12871, 'hurting': 12872, 'covert': 12873, 'tactics': 12874, 'jeopardy': 12875, 'dai': 12876, 'cncdld': 12877, '390': 12878, 'snuck': 12879, 'cookie': 12880, 'cinedrones': 12881, '😳': 12882, 'o3cjsvssqf': 12883, 'carlw1980': 12884, 'retains': 12885, '2258': 12886, 'cstmr': 12887, 'ctr': 12888, 'ucveu2hurz': 12889, 'navy': 12890, 'cancld': 12891, 'discnct': 12892, 'aa3195': 12893, 'abi': 12894, 'aa1458': 12895, 'cheat': 12896, 'horribly': 12897, 'stray': 12898, 'praywinn': 12899, 'labor': 12900, 'slowdown': 12901, 'lhrdfw': 12902, 'priceline': 12903, 'troubleshot': 12904, 'paranoid': 12905, 'retrieved': 12906, 'na5g5eakpa': 12907, 'insisted': 12908, 'jameswester': 12909, 'james': 12910, 'cjdjpdx': 12911, 'multinational': 12912, 'kaps12': 12913, '28hrs': 12914, 'plane😡': 12915, 'freaks': 12916, 'surreal': 12917, 'watered': 12918, 'patrichruben': 12919, 'maximization': 12920, 'registers': 12921, 'dinosaurs': 12922, '745': 12923, '815': 12924, 'ezemanalyst': 12925, 'impersonal': 12926, 'impatient': 12927, 'skillful': 12928, 'flightness': 12929, 'snafu': 12930, 'ypvpvdltys': 12931, 'deiced': 12932, 'untrue': 12933, 'cncld': 12934, 'qkkjdfobos': 12935, 'brothaaaaaa': 12936, 'repaired': 12937, 'sarahzou': 12938, 'translation': 12939, 'reinvest': 12940, \"'cause\": 12941, 'colossal': 12942, 'infringement': 12943, 'jimdaytv': 12944, 'unannounced': 12945, 'slcairport': 12946, '1228': 12947, '640': 12948, 'fingerscrossed': 12949, 'pleasegod': 12950, 'missmykids': 12951, 'g8': 12952, 'c17': 12953, '1265': 12954, '2396': 12955, 'overflow': 12956, \"passengers'\": 12957, 'rem': 12958, 'ensued': 12959, 'marcos': 12960, 'concierge': 12961, 'gru': 12962, 'sorting': 12963, 'aa104': 12964, '2330': 12965, 'sleepless': 12966, 'worthy': 12967, 'useles': 12968, \"sis's\": 12969, 'aa362': 12970, 'tomorrows': 12971, '293': 12972, 'allll': 12973, 'convenience': 12974, 'joplin': 12975, 'jln': 12976, 'aa363': 12977, 'temper': 12978, 'sour': 12979, 'customer’s': 12980, 'us”': 12981, '24hours': 12982, 'flight919': 12983, 'saveus': 12984, 'aa1691': 12985, 'hassles': 12986, 'patheticcx': 12987, 'compares': 12988, 'shortstaffed': 12989, 'spontaneously': 12990, 'overtime': 12991, 'bershawnjackson': 12992, 'dean': 12993, '❤❤': 12994, 'deoderant': 12995, 'aa3181': 12996, 'french': 12997, 'reclameaqui': 12998, 'tripadvisor': 12999, 'augjscmolu': 13000, 'sabotaging': 13001, 'advan': 13002, '4491': 13003, 'unloads': 13004, 'badbusiness': 13005, 'supvrs': 13006, 'fruit': 13007, 'mistreatment': 13008, 'austic': 13009, '2oz': 13010, 'ege': 13011, '356': 13012, '2934': 13013, 'aa1344': 13014, '544': 13015, 'passengerbillofrights': 13016, 'gxvfumn3iz': 13017, 'aa1657': 13018, '1019': 13019, 'fw': 13020, 'usable': 13021, \"disrupted'\": 13022, 'sharon': 13023, 'saviour': 13024, 'rtw': 13025, 'planner': 13026, 'spec': 13027, 'demo': 13028, 'iceday': 13029, 'abcnews': 13030, '336': 13031, 'ooej4d4jop': 13032, 'hinted': 13033, 'abandonment': 13034, '13pm': 13035, 'platinums': 13036, 'stupidly': 13037, '1416': 13038, 'nothelpful': 13039, 'aggravated': 13040, 'davis': 13041, '😓😭': 13042, 'hospitals': 13043, 'partnerships': 13044, 'aa375': 13045, 'cncled': 13046, 'arrangement': 13047, 'aa1224': 13048, 'inop': 13049, '1702': 13050, 'dotnetnate': 13051, 'exps': 13052, 'seguinej': 13053, 'nevergettinghome': 13054, '2293': 13055, '1138': 13056, 'mk': 13057, 'warrants': 13058, 'yeseniahernandez': 13059, 'peculiar': 13060, 'fixyourstuff': 13061, 'complt': 13062, '295': 13063, 'lav': 13064, 'pln': 13065, 'lnded': 13066, 'orbitz': 13067, 'inedible': 13068, 'shrimp': 13069, 'sotl8xqsrp': 13070, 'theydontanswer': 13071, '1679': 13072, 'sentierimelinda': 13073, 'ypbkcirbxu': 13074, 'pasta': 13075, 'tastes': 13076, 'consumption': 13077, 'hateful': 13078, 'spell': 13079, 'trusted': 13080, 'gobankrupt': 13081, 'am9cuiewo4': 13082, 'niece': 13083, 'ordering': 13084, 'bttgmyn0a0': 13085, 'aa91': 13086, '3231dtw': 13087, 'skype…well': 13088, 'viracopos': 13089, '3fhes0lpmu': 13090, 'fuckoff': 13091, 'bonuses': 13092, 'd4': 13093, 'crowd': 13094, 'ua4753': 13095, 'inventory': 13096, '3a➡️8c': 13097, 'americanforlife': 13098, 'fiscal': 13099, '2440': 13100, 'aa2416': 13101, 'guc': 13102, 'gvn': 13103, 'nxqijcojnj': 13104, 'tcunningham10': 13105, 'jacquelyn': 13106, '2251': 13107, 'tomo': 13108, '245': 13109, 'stucked': 13110, 'aadelay': 13111, '2954': 13112, 'junction': 13113, 'amazingflightcrew': 13114, 'aftr': 13115, 'bng': 13116, 'hstg': 13117, 'med': 13118, 'fnd': 13119, 'cnceld': 13120, 'cop': 13121, 'fcuk': 13122, 'fans': 13123, '343': 13124, 'yokkhhqcmp': 13125, 'karabuxthomps': 13126, 'pe': 13127, 'thnkx': 13128, 'bt': 13129, 'sux': 13130, 'otty5rymzd': 13131, '2312': 13132, 'worlds': 13133, 'largest': 13134, 'macario2': 13135, 'golfwithwoody': 13136, 'woody': 13137, 'aa2227': 13138, 'miatoiah': 13139, 'russellswriting': 13140, 'russ': 13141, 'slammed': 13142, 'nail': 13143, 'coffin': 13144, '✈️✈️✈️✈️✈️✈️✈️': 13145, 'authoritative': 13146, 'stagnant': 13147, 'grk': 13148, 'metars': 13149, 'thenatek': 13150, 'dec': 13151, 'luz': 13152, 'calderon': 13153, 'struggle': 13154, 'hqdb5iruvg': 13155, '2488': 13156, 'wa': 13157, 'securing': 13158, 'cheerupdates': 13159, 'naomi': 13160, 'cooper': 13161, 'bdindallas': 13162, 'aa138': 13163, '✈️✌️': 13164, 'boofin': 13165, '7a': 13166, 'xpm98igqjn': 13167, 'emmaclifford': 13168, 'attackingbabymomma': 13169, 'crazinessintherockies': 13170, 'ejacqui': 13171, '340': 13172, 'russelneiss': 13173, 'guatemala': 13174, 'canadians': 13175, 'ringing': 13176, 'appleton': 13177, 'eliza': 13178, 'airtahitinui': 13179, 'p7fsluxegw': 13180, 'sweetmel': 13181, '1320': 13182, 'evidence': 13183, 'ils': 13184, 'caexhibitions': 13185, 'compounding': 13186, 'tennetexan': 13187, 'marxsterbcow': 13188, 'eh': 13189, 'aa3031so': 13190, 'actingoutmgmnt': 13191, 'brewcrewfan8': 13192, 'unavoidable': 13193, 'controllable': 13194, '5418': 13195, 'yvonneokaka': 13196, \"crew's\": 13197, 'twitterhug': 13198, 'shesaidrun': 13199, 'messes': 13200, 'nthin': 13201, 'evr': 13202, \"'priority\": 13203, \"seats'\": 13204, \"nat'l\": 13205, 'sdm2wvr3zr': 13206, 'disconnections': 13207, 'ear': 13208, 'chewey': 13209, 'oatmeal': 13210, 'aa504': 13211, 'aa200': 13212, 'cst': 13213, 'golden': 13214, 'tops': 13215, 'custy': 13216, 'pvr': 13217, 'shannonbloom': 13218, 'stone9956': 13219, 'duck': 13220, 'stuffy': 13221, '296': 13222, 'arbitrarily': 13223, 'ky': 13224, 'dump': 13225, '3078': 13226, 'amenities': 13227, 'function': 13228, 'nocharge': 13229, 'drw08djhai': 13230, 'aires': 13231, 'jlhalldc': 13232, 'delays👌': 13233}\n",
            "@VirginAmerica plus you've added commercials to the experience... tacky.\n",
            "[103, 575, 530, 1287, 2416, 1, 2, 177]\n"
          ]
        }
      ]
    },
    {
      "cell_type": "code",
      "source": [
        "print(padded_sequence[0])"
      ],
      "metadata": {
        "colab": {
          "base_uri": "https://localhost:8080/"
        },
        "id": "flTRr04uCdra",
        "outputId": "d7d4b8a2-fdaa-4844-e5c0-bb479462d66a"
      },
      "execution_count": null,
      "outputs": [
        {
          "output_type": "stream",
          "name": "stdout",
          "text": [
            "[   0    0    0    0    0    0    0    0    0    0    0    0    0    0\n",
            "    0    0    0    0    0    0    0    0    0    0    0    0    0    0\n",
            "    0    0    0    0    0    0    0    0    0    0    0    0    0    0\n",
            "    0    0    0    0    0    0    0    0    0    0    0    0    0    0\n",
            "    0    0    0    0    0    0    0    0    0    0    0    0    0    0\n",
            "    0    0    0    0    0    0    0    0    0    0    0    0    0    0\n",
            "    0    0    0    0    0    0    0    0    0    0    0    0    0    0\n",
            "    0    0    0    0    0    0    0    0    0    0    0    0    0    0\n",
            "    0    0    0    0    0    0    0    0    0    0    0    0    0    0\n",
            "    0    0    0    0    0    0    0    0    0    0    0    0    0    0\n",
            "    0    0    0    0    0    0    0    0    0    0    0    0    0    0\n",
            "    0    0    0    0    0    0    0    0    0    0    0    0    0    0\n",
            "    0    0    0    0    0    0    0    0    0    0    0    0    0    0\n",
            "    0    0    0    0    0    0    0    0    0    0  103  575  530 1287\n",
            " 2416    1    2  177]\n"
          ]
        }
      ]
    },
    {
      "cell_type": "markdown",
      "source": [
        "**3. Implement the Sentiment Analysis using RNN.**\n",
        "\n",
        "---\n",
        "\n"
      ],
      "metadata": {
        "id": "1Yb3gu8tD7gL"
      }
    },
    {
      "cell_type": "code",
      "source": [
        "embedding_vector_length = 32\n",
        "model1 = Sequential()\n",
        "model1.add(Embedding(vocab_size, embedding_vector_length, input_length=200) )\n",
        "model1.add(SpatialDropout1D(0.25))\n",
        "model1.add(SimpleRNN(50, dropout=0.5, recurrent_dropout=0.5))\n",
        "model1.add(Dropout(0.2))\n",
        "model1.add(Dense(1, activation='sigmoid'))\n",
        "model1.compile(loss='binary_crossentropy',optimizer='adam', metrics=['accuracy'])\n",
        "print(model1.summary())"
      ],
      "metadata": {
        "colab": {
          "base_uri": "https://localhost:8080/"
        },
        "id": "Fa8ra_ZgEyIG",
        "outputId": "47102a10-aaff-403f-9671-8b101cde4dbb"
      },
      "execution_count": null,
      "outputs": [
        {
          "output_type": "stream",
          "name": "stdout",
          "text": [
            "Model: \"sequential_1\"\n",
            "_________________________________________________________________\n",
            " Layer (type)                Output Shape              Param #   \n",
            "=================================================================\n",
            " embedding_1 (Embedding)     (None, 200, 32)           423488    \n",
            "                                                                 \n",
            " spatial_dropout1d_1 (Spati  (None, 200, 32)           0         \n",
            " alDropout1D)                                                    \n",
            "                                                                 \n",
            " simple_rnn (SimpleRNN)      (None, 50)                4150      \n",
            "                                                                 \n",
            " dropout_1 (Dropout)         (None, 50)                0         \n",
            "                                                                 \n",
            " dense_1 (Dense)             (None, 1)                 51        \n",
            "                                                                 \n",
            "=================================================================\n",
            "Total params: 427689 (1.63 MB)\n",
            "Trainable params: 427689 (1.63 MB)\n",
            "Non-trainable params: 0 (0.00 Byte)\n",
            "_________________________________________________________________\n",
            "None\n"
          ]
        }
      ]
    },
    {
      "cell_type": "code",
      "source": [
        "history1 = model1.fit(padded_sequence,sentiment_label[0],validation_split=0.2, epochs=10, batch_size=32)"
      ],
      "metadata": {
        "colab": {
          "base_uri": "https://localhost:8080/"
        },
        "id": "7wpfAfLNE4Ee",
        "outputId": "ebff09dd-6b0b-4c78-ca5f-0e2a30d7918a"
      },
      "execution_count": null,
      "outputs": [
        {
          "output_type": "stream",
          "name": "stdout",
          "text": [
            "Epoch 1/10\n",
            "289/289 [==============================] - 85s 286ms/step - loss: 0.7094 - accuracy: 0.5532 - val_loss: 0.5836 - val_accuracy: 0.8540\n",
            "Epoch 2/10\n",
            "289/289 [==============================] - 76s 262ms/step - loss: 0.6153 - accuracy: 0.6924 - val_loss: 0.5688 - val_accuracy: 0.8545\n",
            "Epoch 3/10\n",
            "289/289 [==============================] - 74s 256ms/step - loss: 0.5711 - accuracy: 0.7603 - val_loss: 0.5015 - val_accuracy: 0.8545\n",
            "Epoch 4/10\n",
            "289/289 [==============================] - 75s 258ms/step - loss: 0.5480 - accuracy: 0.7789 - val_loss: 0.4259 - val_accuracy: 0.8545\n",
            "Epoch 5/10\n",
            "289/289 [==============================] - 74s 257ms/step - loss: 0.5327 - accuracy: 0.7801 - val_loss: 0.4300 - val_accuracy: 0.8545\n",
            "Epoch 6/10\n",
            "289/289 [==============================] - 81s 281ms/step - loss: 0.5262 - accuracy: 0.7808 - val_loss: 0.4160 - val_accuracy: 0.8545\n",
            "Epoch 7/10\n",
            "289/289 [==============================] - 85s 294ms/step - loss: 0.5201 - accuracy: 0.7805 - val_loss: 0.4448 - val_accuracy: 0.8545\n",
            "Epoch 8/10\n",
            "289/289 [==============================] - 94s 324ms/step - loss: 0.5133 - accuracy: 0.7809 - val_loss: 0.3974 - val_accuracy: 0.8545\n",
            "Epoch 9/10\n",
            "289/289 [==============================] - 89s 309ms/step - loss: 0.5074 - accuracy: 0.7812 - val_loss: 0.4033 - val_accuracy: 0.8545\n",
            "Epoch 10/10\n",
            "289/289 [==============================] - 87s 301ms/step - loss: 0.4938 - accuracy: 0.7827 - val_loss: 0.3855 - val_accuracy: 0.8545\n"
          ]
        }
      ]
    },
    {
      "cell_type": "code",
      "source": [
        "plt.plot(history1.history['accuracy'], label='acc')\n",
        "plt.plot(history1.history['val_accuracy'], label='val_acc')\n",
        "plt.legend()\n",
        "plt.show()"
      ],
      "metadata": {
        "colab": {
          "base_uri": "https://localhost:8080/",
          "height": 430
        },
        "id": "YBVJYohSE7ol",
        "outputId": "51b97948-e0a0-40c9-81c9-54691c0432d3"
      },
      "execution_count": null,
      "outputs": [
        {
          "output_type": "display_data",
          "data": {
            "text/plain": [
              "<Figure size 640x480 with 1 Axes>"
            ],
            "image/png": "[encoded data removed]"
          },
          "metadata": {}
        }
      ]
    },
    {
      "cell_type": "code",
      "source": [
        "plt.plot(history1.history['accuracy'], label='acc')\n",
        "plt.plot(history1.history['val_accuracy'], label='val_acc')\n",
        "plt.legend()\n",
        "plt.show()"
      ],
      "metadata": {
        "colab": {
          "base_uri": "https://localhost:8080/",
          "height": 430
        },
        "id": "6FqJmgztFBNL",
        "outputId": "7fbd2ca7-e868-4f55-8b0f-7c0ee671f915"
      },
      "execution_count": null,
      "outputs": [
        {
          "output_type": "display_data",
          "data": {
            "text/plain": [
              "<Figure size 640x480 with 1 Axes>"
            ],
            "image/png": "[encoded data removed]"
          },
          "metadata": {}
        }
      ]
    },
    {
      "cell_type": "code",
      "source": [
        "def predict_sentiment(text):\n",
        "    tw = tokenizer.texts_to_sequences([text])\n",
        "    tw = pad_sequences(tw,maxlen=200)\n",
        "    prediction = int(model1.predict(tw).round().item())\n",
        "    print(\"Predicted label: \", sentiment_label[1][prediction])\n",
        "\n",
        "\n",
        "test_sentence1 = \"I enjoyed my journey on this flight.\"\n",
        "predict_sentiment(test_sentence1)\n",
        "\n",
        "test_sentence2 = \"This is the worst flight experience of my life!\"\n",
        "predict_sentiment(test_sentence2)"
      ],
      "metadata": {
        "colab": {
          "base_uri": "https://localhost:8080/"
        },
        "id": "obup3s27JMaH",
        "outputId": "640e2a24-2f6f-41a7-e172-c3a0b4c63f7f"
      },
      "execution_count": null,
      "outputs": [
        {
          "output_type": "stream",
          "name": "stdout",
          "text": [
            "1/1 [==============================] - 0s 245ms/step\n",
            "Predicted label:  negative\n",
            "1/1 [==============================] - 0s 52ms/step\n",
            "Predicted label:  negative\n"
          ]
        }
      ]
    },
    {
      "cell_type": "markdown",
      "source": [
        "**4. Implement the Sentiment Analysis using LSTM.**\n",
        "\n",
        "---\n",
        "\n"
      ],
      "metadata": {
        "id": "CzLGTySUD_-c"
      }
    },
    {
      "cell_type": "code",
      "source": [
        "embedding_vector_length = 32\n",
        "model = Sequential()\n",
        "model.add(Embedding(vocab_size, embedding_vector_length, input_length=200) )\n",
        "model.add(SpatialDropout1D(0.25))\n",
        "model.add(LSTM(50, dropout=0.5, recurrent_dropout=0.5))\n",
        "model.add(Dropout(0.2))\n",
        "model.add(Dense(1, activation='sigmoid'))\n",
        "model.compile(loss='binary_crossentropy',optimizer='adam', metrics=['accuracy'])\n",
        "print(model.summary())"
      ],
      "metadata": {
        "colab": {
          "base_uri": "https://localhost:8080/"
        },
        "id": "_MJNxvZ5CebT",
        "outputId": "499b80af-09df-4814-a3fd-2dc774230524"
      },
      "execution_count": null,
      "outputs": [
        {
          "output_type": "stream",
          "name": "stderr",
          "text": [
            "WARNING:tensorflow:Layer lstm will not use cuDNN kernels since it doesn't meet the criteria. It will use a generic GPU kernel as fallback when running on GPU.\n"
          ]
        },
        {
          "output_type": "stream",
          "name": "stdout",
          "text": [
            "Model: \"sequential\"\n",
            "_________________________________________________________________\n",
            " Layer (type)                Output Shape              Param #   \n",
            "=================================================================\n",
            " embedding (Embedding)       (None, 200, 32)           423488    \n",
            "                                                                 \n",
            " spatial_dropout1d (Spatial  (None, 200, 32)           0         \n",
            " Dropout1D)                                                      \n",
            "                                                                 \n",
            " lstm (LSTM)                 (None, 50)                16600     \n",
            "                                                                 \n",
            " dropout (Dropout)           (None, 50)                0         \n",
            "                                                                 \n",
            " dense (Dense)               (None, 1)                 51        \n",
            "                                                                 \n",
            "=================================================================\n",
            "Total params: 440139 (1.68 MB)\n",
            "Trainable params: 440139 (1.68 MB)\n",
            "Non-trainable params: 0 (0.00 Byte)\n",
            "_________________________________________________________________\n",
            "None\n"
          ]
        }
      ]
    },
    {
      "cell_type": "code",
      "source": [
        "history = model.fit(padded_sequence,sentiment_label[0],validation_split=0.2, epochs=10, batch_size=32)"
      ],
      "metadata": {
        "colab": {
          "base_uri": "https://localhost:8080/"
        },
        "id": "eQSYP-_NClxO",
        "outputId": "1e8f17fd-bdc1-4b9c-9af1-a747de740090"
      },
      "execution_count": null,
      "outputs": [
        {
          "output_type": "stream",
          "name": "stdout",
          "text": [
            "Epoch 1/10\n",
            "289/289 [==============================] - 245s 828ms/step - loss: 0.3931 - accuracy: 0.8351 - val_loss: 0.2085 - val_accuracy: 0.9186\n",
            "Epoch 2/10\n",
            "289/289 [==============================] - 253s 875ms/step - loss: 0.2196 - accuracy: 0.9153 - val_loss: 0.1757 - val_accuracy: 0.9350\n",
            "Epoch 3/10\n",
            "289/289 [==============================] - 266s 923ms/step - loss: 0.1640 - accuracy: 0.9383 - val_loss: 0.1747 - val_accuracy: 0.9307\n",
            "Epoch 4/10\n",
            "289/289 [==============================] - 239s 827ms/step - loss: 0.1322 - accuracy: 0.9516 - val_loss: 0.1765 - val_accuracy: 0.9342\n",
            "Epoch 5/10\n",
            "289/289 [==============================] - 235s 814ms/step - loss: 0.1114 - accuracy: 0.9587 - val_loss: 0.1863 - val_accuracy: 0.9320\n",
            "Epoch 6/10\n",
            "289/289 [==============================] - 206s 714ms/step - loss: 0.0995 - accuracy: 0.9639 - val_loss: 0.1790 - val_accuracy: 0.9381\n",
            "Epoch 7/10\n",
            "289/289 [==============================] - 191s 659ms/step - loss: 0.0874 - accuracy: 0.9669 - val_loss: 0.1861 - val_accuracy: 0.9381\n",
            "Epoch 8/10\n",
            "289/289 [==============================] - 184s 638ms/step - loss: 0.0786 - accuracy: 0.9717 - val_loss: 0.2085 - val_accuracy: 0.9355\n",
            "Epoch 9/10\n",
            "289/289 [==============================] - 181s 626ms/step - loss: 0.0708 - accuracy: 0.9737 - val_loss: 0.2220 - val_accuracy: 0.9376\n",
            "Epoch 10/10\n",
            "289/289 [==============================] - 184s 636ms/step - loss: 0.0626 - accuracy: 0.9764 - val_loss: 0.2446 - val_accuracy: 0.9303\n"
          ]
        }
      ]
    },
    {
      "cell_type": "code",
      "source": [
        "plt.plot(history.history['accuracy'], label='acc')\n",
        "plt.plot(history.history['val_accuracy'], label='val_acc')\n",
        "plt.legend()\n",
        "plt.show()"
      ],
      "metadata": {
        "colab": {
          "base_uri": "https://localhost:8080/",
          "height": 430
        },
        "id": "UAzxqigpDDtF",
        "outputId": "097d2785-7cb8-4b5b-edfd-50fd556eb503"
      },
      "execution_count": null,
      "outputs": [
        {
          "output_type": "display_data",
          "data": {
            "text/plain": [
              "<Figure size 640x480 with 1 Axes>"
            ],
            "image/png": "[encoded data removed]"
          },
          "metadata": {}
        }
      ]
    },
    {
      "cell_type": "code",
      "source": [
        "plt.plot(history.history['loss'], label='loss')\n",
        "plt.plot(history.history['val_loss'], label='val_loss')\n",
        "plt.legend()\n",
        "plt.show()"
      ],
      "metadata": {
        "colab": {
          "base_uri": "https://localhost:8080/",
          "height": 430
        },
        "id": "EmUO8SR4DEkQ",
        "outputId": "6d1d12bf-175e-4d7a-a386-55f52fc82506"
      },
      "execution_count": null,
      "outputs": [
        {
          "output_type": "display_data",
          "data": {
            "text/plain": [
              "<Figure size 640x480 with 1 Axes>"
            ],
            "image/png": "[encoded data removed]"
          },
          "metadata": {}
        }
      ]
    },
    {
      "cell_type": "code",
      "source": [
        "def predict_sentiment(text):\n",
        "    tw = tokenizer.texts_to_sequences([text])\n",
        "    tw = pad_sequences(tw,maxlen=200)\n",
        "    prediction = int(model.predict(tw).round().item())\n",
        "    print(\"Predicted label: \", sentiment_label[1][prediction])\n",
        "\n",
        "\n",
        "test_sentence1 = \"I enjoyed my journey on this flight.\"\n",
        "predict_sentiment(test_sentence1)\n",
        "\n",
        "test_sentence2 = \"This is the worst flight experience of my life!\"\n",
        "predict_sentiment(test_sentence2)"
      ],
      "metadata": {
        "colab": {
          "base_uri": "https://localhost:8080/"
        },
        "id": "kzliR3LjDIjW",
        "outputId": "35ec488c-7d8c-4685-cefd-4225182766f8"
      },
      "execution_count": null,
      "outputs": [
        {
          "output_type": "stream",
          "name": "stdout",
          "text": [
            "1/1 [==============================] - 0s 272ms/step\n",
            "Predicted label:  positive\n",
            "1/1 [==============================] - 0s 65ms/step\n",
            "Predicted label:  negative\n"
          ]
        }
      ]
    },
    {
      "cell_type": "markdown",
      "source": [
        "**Comparison Between Naive Bayes, RNN and LSTM**"
      ],
      "metadata": {
        "id": "HoVbheggOXQK"
      }
    },
    {
      "cell_type": "code",
      "source": [
        "accuracies = {u'Naive Bayes':89.8, u'RNN': 85, u'LSTM':93}\n",
        "plt.bar(*zip(*accuracies.items()))\n",
        "plt.title(\"Comparison Between Naive Bayes, RNN and LSTM\")\n",
        "plt.show()"
      ],
      "metadata": {
        "colab": {
          "base_uri": "https://localhost:8080/",
          "height": 452
        },
        "id": "wXSo2Wb7O7kD",
        "outputId": "415199f2-e915-4790-c60d-d23d574d464c"
      },
      "execution_count": null,
      "outputs": [
        {
          "output_type": "display_data",
          "data": {
            "text/plain": [
              "<Figure size 640x480 with 1 Axes>"
            ],
            "image/png": "[encoded data removed]"
          },
          "metadata": {}
        }
      ]
    }
  ]
}