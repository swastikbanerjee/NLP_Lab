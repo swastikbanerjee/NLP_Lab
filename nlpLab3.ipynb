{
  "nbformat": 4,
  "nbformat_minor": 0,
  "metadata": {
    "colab": {
      "provenance": [],
      "authorship_tag": "ABX9TyMtSR0gijvzoVfTUfYEkbD7",
      "include_colab_link": true
    },
    "kernelspec": {
      "name": "python3",
      "display_name": "Python 3"
    },
    "language_info": {
      "name": "python"
    }
  },
  "cells": [
    {
      "cell_type": "markdown",
      "metadata": {
        "id": "view-in-github",
        "colab_type": "text"
      },
      "source": [
        "<a href=\"https://colab.research.google.com/github/swastikbanerjee/NLP_Lab/blob/main/nlpLab3.ipynb\" target=\"_parent\"><img src=\"https://colab.research.google.com/assets/colab-badge.svg\" alt=\"Open In Colab\"/></a>"
      ]
    },
    {
      "cell_type": "code",
      "execution_count": 16,
      "metadata": {
        "id": "FFCmS0vGKZzF"
      },
      "outputs": [],
      "source": [
        "import spacy\n",
        "import nltk\n",
        "from nltk.tokenize import word_tokenize\n",
        "\n",
        "bangla_text = \"এই একলা ঘর আমার দেশ আমার একলা থাকার অভ্যেস, ভাবি কিছুতেই ভাববো না তোমার কথা বোবা টেলিফোনের পাশে বসে, তবু গভীর রাতের অগভীর সিনেমায় যদি প্রেম চায় নাটুকে বিদায়, আমি আচ্ছন্ন হয়ে পড়েছি আবার দেখি চোখ ভিজে যায় কান্নায় (x2) না না কাঁদছি না.. তোমায় ভাবছি না.. মনে পড়ছে না তোমাকেই.. তবু যাচ্ছি কি, ফিরে যাচ্ছি কি সেই ফেলে আসা অতীতেই সেই ক্ষতিতেই। বন্ধুদের ভিড়েও একলা একলা আমি খুঁজে ফিরি লক্ষ্য আমার, পাল্টাচ্ছে না এই অবস্থাটা যদিও পাল্টে যাওয়াই দরকার, তোমার বাড়ির পথে চলেছি আবার দেয় বৃষ্টিটা সঙ্গ আমায়, জানালার কাঁচে তুমি দেখতে পাবে কি নাকি ঝাপসা তা ঘোর বর্ষায় (x2) না না যাচ্ছি না.. কোথাও যাচ্ছি না.. খুঁজে পাচ্ছি না সে পথটাকেই তবু যাচ্ছি কি, ফিরে যাচ্ছি কি, সেই ভুলে যাওয়া তোমাকেই.. সেই তোমাকেই। না না কাঁদছি না তোমায় ভাবছি না, মনে পড়ছে না তোমাকেই তবু যাচ্ছি কি, ফিরে যাচ্ছি কি সেই ফেলে আসা অতীতেই। না না যাচ্ছি না কোথাও যাচ্ছি না, খুঁজে পাচ্ছি না সে পথটাকেই, তবু যাচ্ছি কি, ফিরে যাচ্ছি কি, সেই ভুলে যাওয়া তোমাকেই, সেই তোমাকেই, তোমাকেই সেই তোমাকেই ..\"\n",
        "\n",
        "italian_text = \"Fratelli d'Italia, l'Italia s'è desta, dell'elmo di Scipio s'è cinta la testa. Dov'è la Vittoria? Le porga la chioma, ché schiava di Roma Iddio la creò. [Chorus]: Stringiamci a coorte, siam pronti alla morte. Siam pronti alla morte, l'Italia chiamò. Stringiamci a coorte, siam pronti alla morte. Siam pronti alla morte, l'Italia chiamò! Noi fummo da secoli calpesti, derisi, perché non siam popolo, perché siam divisi. Raccolgaci un'unica bandiera, una speme: di fonderci insieme già l'ora suonò. (Chorus) Uniamoci, amiamoci, l'unione e l'amore rivelano ai popoli le vie del Signore. Giuriamo far libero il suolo natio: uniti, per Dio, chi vincer ci può? (Chorus) Dall'Alpi a Sicilia dovunque è Legnano, ogn'uom di Ferruccio ha il core, ha la mano, i bimbi d'Italia si chiaman Balilla, il suon d'ogni squilla i Vespri suonò. (Chorus) Son giunchi che piegano le spade vendute: già l'Aquila d'Austria le penne ha perdute. Il sangue d'Italia, il sangue Polacco, bevè, col cosacco, ma il cor le bruciò. (Chorus)\"\n",
        "\n",
        "malayalam_text = \"മലയാളം ഒരു ഇന്ത്യൻ ഭാഷയാണ്, സാന്നിദ്ധ്യപ്പെടുന്ന സ്ഥലത്ത് കേരളം എന്ന് വിളിക്കാം. ഇത് ഉയര്‍ന്ന സ്വഭാവത്തേക്കാൾ ദൈവം ഒരു സാദ്ധ്യതയാണ്, സത്യസന്ധമായ വായിക്കുന്നവര്‍ തങ്ങളുടെ ഭാഷയില്‍ മാത്രം മലയാളം എഴുതിയാല്‍ മനസ്സിലാകുന്ന നേരം അല്ലാതെയാകും. ഇത് നിങ്ങള്‍ക്കു അനുഭവപ്പെടാനും ആസ്വദിക്കാനും പോകുമെന്ന് ഞാന്‍ ആശിക്കുന്നു. മലയാളം ഭാഷയുടെ സൗന്ദര്യം, ഗഭീരത, സാഹിത്യ പരമ്പരയുടെ വലിയ സമ്പന്നത എന്നിവ ഒന്നിച്ച് ഇത് മലയാളം ഭാഷയുടെ അടുത്തേക്ക് വാരിക മാറ്റുന്നു. മലയാളം വിഭജനം എന്നത് മലയാളത്തിന്റെ പ്രതിഭാസത്തെപ്പറ്റി പ്രസക്തമായ അടിസ്ഥാന വെളിച്ചത്തിന്റെ ഭാഗമായി നിലനില്‍ക്കുന്നു. ഇത് എല്ലാ ഭാഷകളുടെയും പ്രധാന ലക്ഷ്യങ്ങളെ കാണിക്കുന്നുണ്ട് - പ്രതികളുടെ ആദിമാനവ സ്വാഭാവിക അവസ്ഥയെ പ്രകാശിപ്പിക്കാന്‍ എന്നതാണ് അവസാനമായി മലയാളം ഭാഷയിലേക്ക് അന്തരിച്ചത്. മലയാളം സാഹിത്യം, സംസ്കാരം, കലാകലാപങ്ങള്‍ എന്നിവയില്‍ പ്രത്യേക സ്ഥാനം പിടിച്ചിരിക്കുന്നു, അതുകൊണ്ട് ഇത് മലയാളം സാഹിത്യ സംസ്കാരത്തിന്റെ മഹാമാനത്തെക്കുറിച്ചാണ് പറയുന്നത്. ഇന്ത്യയുടെ വാര്‍ഷിക പു\"\n",
        "\n",
        "telugu_text = \"తెలుగు భాష భారత దేశంలో ఉన్న ముఖ్యమైన భాషలలో ఒకటి. ఈ భాష ఉన్న ప్రాంతాలు ఆంధ్రప్రదేశ్ మరియు తెలంగాణ. తెలుగు మాట్లాడేవారికి ఇది ఒక మధ్యనిర్ణయంగా ఉంటుంది, సత్యాన్ని వాయిస్ చేస్తే తెలుగులో రాయటం ఎక్కువ ఆనందంగా ఉంటుంది. అది మీకు అనుభవించడానికి మరియు ఆస్వాదించడానికి నేను ఆశిస్తున్నాను. తెలుగు భాషా ప్రపంచంలో సాహిత్య, కల, విజ్ఞానం, సంగీతం, సినిమా, నృత్యం మరియు మంచి ప్రకృతి అంశాలను కలిగి ఉంటుంది. ఇది అనేక వేరుల కల సంస్కృతులతో కలిసి వస్తుంది, అదేవిధంగా ఇతర వాతావరణాలు ఉన్నప్పుడు కూడా మీరు ఆ భాషను అనుభవించగలరు. తెలుగు భాష సంస్కృతి సంపూర్ణంగా విభిన్నమైన ఆకర్షణీయతను గుర్తించే అంశాలను కలిగి ఉంటుంది. తెలుగు భాష గరిష్ఠంగా, అనేక అంశాలను సంతసపరచేవాలి అంటున్నారు, అది నిజమైనదే. తెలుగు మాట్లాడే ప్రతి వ్యక్తి తన ఆదిమ పురాణిక భావనలు, సాంస్కృతిక ప్రవర్తనలు, పద్ధతులను, పనులను, మరియు అడిగే విషయాలను తెలుసుకునే మార్గంలో ఉంటాడు. తె\""
      ]
    },
    {
      "cell_type": "code",
      "source": [
        "nltk.download('punkt')\n",
        "tokens = word_tokenize(bangla_text)\n",
        "unique_tokens_count = len(set(tokens))\n",
        "print(\"Number of unique tokens:\", unique_tokens_count)\n",
        "print(tokens)"
      ],
      "metadata": {
        "colab": {
          "base_uri": "https://localhost:8080/"
        },
        "id": "M5dsnlBbQ-rf",
        "outputId": "f291ef8c-ff78-4fa5-87b4-d80e6cbb631d"
      },
      "execution_count": 17,
      "outputs": [
        {
          "output_type": "stream",
          "name": "stdout",
          "text": [
            "Number of unique tokens: 92\n",
            "['এই', 'একলা', 'ঘর', 'আমার', 'দেশ', 'আমার', 'একলা', 'থাকার', 'অভ্যেস', ',', 'ভাবি', 'কিছুতেই', 'ভাববো', 'না', 'তোমার', 'কথা', 'বোবা', 'টেলিফোনের', 'পাশে', 'বসে', ',', 'তবু', 'গভীর', 'রাতের', 'অগভীর', 'সিনেমায়', 'যদি', 'প্রেম', 'চায়', 'নাটুকে', 'বিদায়', ',', 'আমি', 'আচ্ছন্ন', 'হয়ে', 'পড়েছি', 'আবার', 'দেখি', 'চোখ', 'ভিজে', 'যায়', 'কান্নায়', '(', 'x2', ')', 'না', 'না', 'কাঁদছি', 'না', '..', 'তোমায়', 'ভাবছি', 'না', '..', 'মনে', 'পড়ছে', 'না', 'তোমাকেই', '..', 'তবু', 'যাচ্ছি', 'কি', ',', 'ফিরে', 'যাচ্ছি', 'কি', 'সেই', 'ফেলে', 'আসা', 'অতীতেই', 'সেই', 'ক্ষতিতেই।', 'বন্ধুদের', 'ভিড়েও', 'একলা', 'একলা', 'আমি', 'খুঁজে', 'ফিরি', 'লক্ষ্য', 'আমার', ',', 'পাল্টাচ্ছে', 'না', 'এই', 'অবস্থাটা', 'যদিও', 'পাল্টে', 'যাওয়াই', 'দরকার', ',', 'তোমার', 'বাড়ির', 'পথে', 'চলেছি', 'আবার', 'দেয়', 'বৃষ্টিটা', 'সঙ্গ', 'আমায়', ',', 'জানালার', 'কাঁচে', 'তুমি', 'দেখতে', 'পাবে', 'কি', 'নাকি', 'ঝাপসা', 'তা', 'ঘোর', 'বর্ষায়', '(', 'x2', ')', 'না', 'না', 'যাচ্ছি', 'না', '..', 'কোথাও', 'যাচ্ছি', 'না', '..', 'খুঁজে', 'পাচ্ছি', 'না', 'সে', 'পথটাকেই', 'তবু', 'যাচ্ছি', 'কি', ',', 'ফিরে', 'যাচ্ছি', 'কি', ',', 'সেই', 'ভুলে', 'যাওয়া', 'তোমাকেই', '..', 'সেই', 'তোমাকেই।', 'না', 'না', 'কাঁদছি', 'না', 'তোমায়', 'ভাবছি', 'না', ',', 'মনে', 'পড়ছে', 'না', 'তোমাকেই', 'তবু', 'যাচ্ছি', 'কি', ',', 'ফিরে', 'যাচ্ছি', 'কি', 'সেই', 'ফেলে', 'আসা', 'অতীতেই।', 'না', 'না', 'যাচ্ছি', 'না', 'কোথাও', 'যাচ্ছি', 'না', ',', 'খুঁজে', 'পাচ্ছি', 'না', 'সে', 'পথটাকেই', ',', 'তবু', 'যাচ্ছি', 'কি', ',', 'ফিরে', 'যাচ্ছি', 'কি', ',', 'সেই', 'ভুলে', 'যাওয়া', 'তোমাকেই', ',', 'সেই', 'তোমাকেই', ',', 'তোমাকেই', 'সেই', 'তোমাকেই', '..']\n"
          ]
        },
        {
          "output_type": "stream",
          "name": "stderr",
          "text": [
            "[nltk_data] Downloading package punkt to /root/nltk_data...\n",
            "[nltk_data]   Package punkt is already up-to-date!\n"
          ]
        }
      ]
    },
    {
      "cell_type": "code",
      "source": [
        "nltk.download('punkt')\n",
        "tokens = word_tokenize(italian_text)\n",
        "unique_tokens_count = len(set(tokens))\n",
        "print(\"Number of unique tokens:\", unique_tokens_count)\n",
        "print(tokens)"
      ],
      "metadata": {
        "colab": {
          "base_uri": "https://localhost:8080/"
        },
        "id": "PkSrmrY0Og9i",
        "outputId": "43399f50-e979-4627-f9ff-54b86e4d640e"
      },
      "execution_count": 18,
      "outputs": [
        {
          "output_type": "stream",
          "name": "stdout",
          "text": [
            "Number of unique tokens: 124\n",
            "['Fratelli', \"d'Italia\", ',', \"l'Italia\", 's', \"'\", 'è', 'desta', ',', \"dell'elmo\", 'di', 'Scipio', 's', \"'\", 'è', 'cinta', 'la', 'testa', '.', 'Dov', \"'\", 'è', 'la', 'Vittoria', '?', 'Le', 'porga', 'la', 'chioma', ',', 'ché', 'schiava', 'di', 'Roma', 'Iddio', 'la', 'creò', '.', '[', 'Chorus', ']', ':', 'Stringiamci', 'a', 'coorte', ',', 'siam', 'pronti', 'alla', 'morte', '.', 'Siam', 'pronti', 'alla', 'morte', ',', \"l'Italia\", 'chiamò', '.', 'Stringiamci', 'a', 'coorte', ',', 'siam', 'pronti', 'alla', 'morte', '.', 'Siam', 'pronti', 'alla', 'morte', ',', \"l'Italia\", 'chiamò', '!', 'Noi', 'fummo', 'da', 'secoli', 'calpesti', ',', 'derisi', ',', 'perché', 'non', 'siam', 'popolo', ',', 'perché', 'siam', 'divisi', '.', 'Raccolgaci', \"un'unica\", 'bandiera', ',', 'una', 'speme', ':', 'di', 'fonderci', 'insieme', 'già', \"l'ora\", 'suonò', '.', '(', 'Chorus', ')', 'Uniamoci', ',', 'amiamoci', ',', \"l'unione\", 'e', \"l'amore\", 'rivelano', 'ai', 'popoli', 'le', 'vie', 'del', 'Signore', '.', 'Giuriamo', 'far', 'libero', 'il', 'suolo', 'natio', ':', 'uniti', ',', 'per', 'Dio', ',', 'chi', 'vincer', 'ci', 'può', '?', '(', 'Chorus', ')', \"Dall'Alpi\", 'a', 'Sicilia', 'dovunque', 'è', 'Legnano', ',', \"ogn'uom\", 'di', 'Ferruccio', 'ha', 'il', 'core', ',', 'ha', 'la', 'mano', ',', 'i', 'bimbi', \"d'Italia\", 'si', 'chiaman', 'Balilla', ',', 'il', 'suon', \"d'ogni\", 'squilla', 'i', 'Vespri', 'suonò', '.', '(', 'Chorus', ')', 'Son', 'giunchi', 'che', 'piegano', 'le', 'spade', 'vendute', ':', 'già', \"l'Aquila\", \"d'Austria\", 'le', 'penne', 'ha', 'perdute', '.', 'Il', 'sangue', \"d'Italia\", ',', 'il', 'sangue', 'Polacco', ',', 'bevè', ',', 'col', 'cosacco', ',', 'ma', 'il', 'cor', 'le', 'bruciò', '.', '(', 'Chorus', ')']\n"
          ]
        },
        {
          "output_type": "stream",
          "name": "stderr",
          "text": [
            "[nltk_data] Downloading package punkt to /root/nltk_data...\n",
            "[nltk_data]   Package punkt is already up-to-date!\n"
          ]
        }
      ]
    },
    {
      "cell_type": "code",
      "source": [
        "nltk.download('punkt')\n",
        "tokens = word_tokenize(malayalam_text)\n",
        "unique_tokens_count = len(set(tokens))\n",
        "print(\"Number of unique tokens:\", unique_tokens_count)\n",
        "print(tokens)"
      ],
      "metadata": {
        "colab": {
          "base_uri": "https://localhost:8080/"
        },
        "id": "w3QOTcqlP9fJ",
        "outputId": "db2232c5-604f-4ea6-f27f-534ca9c06cb1"
      },
      "execution_count": 19,
      "outputs": [
        {
          "output_type": "stream",
          "name": "stdout",
          "text": [
            "Number of unique tokens: 81\n",
            "['മലയാളം', 'ഒരു', 'ഇന്ത്യൻ', 'ഭാഷയാണ്', ',', 'സാന്നിദ്ധ്യപ്പെടുന്ന', 'സ്ഥലത്ത്', 'കേരളം', 'എന്ന്', 'വിളിക്കാം', '.', 'ഇത്', 'ഉയര്\\u200dന്ന', 'സ്വഭാവത്തേക്കാൾ', 'ദൈവം', 'ഒരു', 'സാദ്ധ്യതയാണ്', ',', 'സത്യസന്ധമായ', 'വായിക്കുന്നവര്\\u200d', 'തങ്ങളുടെ', 'ഭാഷയില്\\u200d', 'മാത്രം', 'മലയാളം', 'എഴുതിയാല്\\u200d', 'മനസ്സിലാകുന്ന', 'നേരം', 'അല്ലാതെയാകും', '.', 'ഇത്', 'നിങ്ങള്\\u200dക്കു', 'അനുഭവപ്പെടാനും', 'ആസ്വദിക്കാനും', 'പോകുമെന്ന്', 'ഞാന്\\u200d', 'ആശിക്കുന്നു', '.', 'മലയാളം', 'ഭാഷയുടെ', 'സൗന്ദര്യം', ',', 'ഗഭീരത', ',', 'സാഹിത്യ', 'പരമ്പരയുടെ', 'വലിയ', 'സമ്പന്നത', 'എന്നിവ', 'ഒന്നിച്ച്', 'ഇത്', 'മലയാളം', 'ഭാഷയുടെ', 'അടുത്തേക്ക്', 'വാരിക', 'മാറ്റുന്നു', '.', 'മലയാളം', 'വിഭജനം', 'എന്നത്', 'മലയാളത്തിന്റെ', 'പ്രതിഭാസത്തെപ്പറ്റി', 'പ്രസക്തമായ', 'അടിസ്ഥാന', 'വെളിച്ചത്തിന്റെ', 'ഭാഗമായി', 'നിലനില്\\u200dക്കുന്നു', '.', 'ഇത്', 'എല്ലാ', 'ഭാഷകളുടെയും', 'പ്രധാന', 'ലക്ഷ്യങ്ങളെ', 'കാണിക്കുന്നുണ്ട്', '-', 'പ്രതികളുടെ', 'ആദിമാനവ', 'സ്വാഭാവിക', 'അവസ്ഥയെ', 'പ്രകാശിപ്പിക്കാന്\\u200d', 'എന്നതാണ്', 'അവസാനമായി', 'മലയാളം', 'ഭാഷയിലേക്ക്', 'അന്തരിച്ചത്', '.', 'മലയാളം', 'സാഹിത്യം', ',', 'സംസ്കാരം', ',', 'കലാകലാപങ്ങള്\\u200d', 'എന്നിവയില്\\u200d', 'പ്രത്യേക', 'സ്ഥാനം', 'പിടിച്ചിരിക്കുന്നു', ',', 'അതുകൊണ്ട്', 'ഇത്', 'മലയാളം', 'സാഹിത്യ', 'സംസ്കാരത്തിന്റെ', 'മഹാമാനത്തെക്കുറിച്ചാണ്', 'പറയുന്നത്', '.', 'ഇന്ത്യയുടെ', 'വാര്\\u200dഷിക', 'പു']\n"
          ]
        },
        {
          "output_type": "stream",
          "name": "stderr",
          "text": [
            "[nltk_data] Downloading package punkt to /root/nltk_data...\n",
            "[nltk_data]   Package punkt is already up-to-date!\n"
          ]
        }
      ]
    },
    {
      "cell_type": "code",
      "source": [
        "nltk.download('punkt')\n",
        "tokens = word_tokenize(telugu_text)\n",
        "unique_tokens_count = len(set(tokens))\n",
        "print(\"Number of unique tokens:\", unique_tokens_count)\n",
        "print(tokens)"
      ],
      "metadata": {
        "colab": {
          "base_uri": "https://localhost:8080/"
        },
        "id": "wkiB0jlSQGPZ",
        "outputId": "6fa6dd4f-57e0-491d-979d-477f44973c0e"
      },
      "execution_count": 20,
      "outputs": [
        {
          "output_type": "stream",
          "name": "stdout",
          "text": [
            "Number of unique tokens: 85\n",
            "['తెలుగు', 'భాష', 'భారత', 'దేశంలో', 'ఉన్న', 'ముఖ్యమైన', 'భాషలలో', 'ఒకటి', '.', 'ఈ', 'భాష', 'ఉన్న', 'ప్రాంతాలు', 'ఆంధ్రప్రదేశ్', 'మరియు', 'తెలంగాణ', '.', 'తెలుగు', 'మాట్లాడేవారికి', 'ఇది', 'ఒక', 'మధ్యనిర్ణయంగా', 'ఉంటుంది', ',', 'సత్యాన్ని', 'వాయిస్', 'చేస్తే', 'తెలుగులో', 'రాయటం', 'ఎక్కువ', 'ఆనందంగా', 'ఉంటుంది', '.', 'అది', 'మీకు', 'అనుభవించడానికి', 'మరియు', 'ఆస్వాదించడానికి', 'నేను', 'ఆశిస్తున్నాను', '.', 'తెలుగు', 'భాషా', 'ప్రపంచంలో', 'సాహిత్య', ',', 'కల', ',', 'విజ్ఞానం', ',', 'సంగీతం', ',', 'సినిమా', ',', 'నృత్యం', 'మరియు', 'మంచి', 'ప్రకృతి', 'అంశాలను', 'కలిగి', 'ఉంటుంది', '.', 'ఇది', 'అనేక', 'వేరుల', 'కల', 'సంస్కృతులతో', 'కలిసి', 'వస్తుంది', ',', 'అదేవిధంగా', 'ఇతర', 'వాతావరణాలు', 'ఉన్నప్పుడు', 'కూడా', 'మీరు', 'ఆ', 'భాషను', 'అనుభవించగలరు', '.', 'తెలుగు', 'భాష', 'సంస్కృతి', 'సంపూర్ణంగా', 'విభిన్నమైన', 'ఆకర్షణీయతను', 'గుర్తించే', 'అంశాలను', 'కలిగి', 'ఉంటుంది', '.', 'తెలుగు', 'భాష', 'గరిష్ఠంగా', ',', 'అనేక', 'అంశాలను', 'సంతసపరచేవాలి', 'అంటున్నారు', ',', 'అది', 'నిజమైనదే', '.', 'తెలుగు', 'మాట్లాడే', 'ప్రతి', 'వ్యక్తి', 'తన', 'ఆదిమ', 'పురాణిక', 'భావనలు', ',', 'సాంస్కృతిక', 'ప్రవర్తనలు', ',', 'పద్ధతులను', ',', 'పనులను', ',', 'మరియు', 'అడిగే', 'విషయాలను', 'తెలుసుకునే', 'మార్గంలో', 'ఉంటాడు', '.', 'తె']\n"
          ]
        },
        {
          "output_type": "stream",
          "name": "stderr",
          "text": [
            "[nltk_data] Downloading package punkt to /root/nltk_data...\n",
            "[nltk_data]   Package punkt is already up-to-date!\n"
          ]
        }
      ]
    }
  ]
}