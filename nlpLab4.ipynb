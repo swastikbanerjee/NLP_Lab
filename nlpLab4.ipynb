{
  "nbformat": 4,
  "nbformat_minor": 0,
  "metadata": {
    "colab": {
      "provenance": [],
      "authorship_tag": "ABX9TyOWzg9ykGreXhWu+KvOQJSJ",
      "include_colab_link": true
    },
    "kernelspec": {
      "name": "python3",
      "display_name": "Python 3"
    },
    "language_info": {
      "name": "python"
    }
  },
  "cells": [
    {
      "cell_type": "markdown",
      "metadata": {
        "id": "view-in-github",
        "colab_type": "text"
      },
      "source": [
        "<a href=\"https://colab.research.google.com/github/swastikbanerjee/NLP_Lab/blob/main/nlpLab4.ipynb\" target=\"_parent\"><img src=\"https://colab.research.google.com/assets/colab-badge.svg\" alt=\"Open In Colab\"/></a>"
      ]
    },
    {
      "cell_type": "code",
      "execution_count": 19,
      "metadata": {
        "colab": {
          "base_uri": "https://localhost:8080/"
        },
        "id": "9Tbvz1J8YwT_",
        "outputId": "70818a63-a35c-44b5-bfe5-67cdca417071"
      },
      "outputs": [
        {
          "output_type": "stream",
          "name": "stdout",
          "text": [
            "Requirement already satisfied: nltk in /usr/local/lib/python3.10/dist-packages (3.8.1)\n",
            "Requirement already satisfied: click in /usr/local/lib/python3.10/dist-packages (from nltk) (8.1.7)\n",
            "Requirement already satisfied: joblib in /usr/local/lib/python3.10/dist-packages (from nltk) (1.3.2)\n",
            "Requirement already satisfied: regex>=2021.8.3 in /usr/local/lib/python3.10/dist-packages (from nltk) (2023.12.25)\n",
            "Requirement already satisfied: tqdm in /usr/local/lib/python3.10/dist-packages (from nltk) (4.66.2)\n"
          ]
        }
      ],
      "source": [
        "!pip install nltk"
      ]
    },
    {
      "cell_type": "code",
      "source": [
        "import nltk\n",
        "from nltk.corpus import wordnet\n",
        "\n",
        "nltk.download('wordnet')"
      ],
      "metadata": {
        "colab": {
          "base_uri": "https://localhost:8080/"
        },
        "id": "DYCVjCeQZIN5",
        "outputId": "ec136cc0-d44a-4520-de52-44afeddfc3ea"
      },
      "execution_count": 20,
      "outputs": [
        {
          "output_type": "stream",
          "name": "stderr",
          "text": [
            "[nltk_data] Downloading package wordnet to /root/nltk_data...\n",
            "[nltk_data]   Package wordnet is already up-to-date!\n"
          ]
        },
        {
          "output_type": "execute_result",
          "data": {
            "text/plain": [
              "True"
            ]
          },
          "metadata": {},
          "execution_count": 20
        }
      ]
    },
    {
      "cell_type": "code",
      "source": [
        "words = [\"bear\", \"set\", \"square\", \"lead\", \"criteria\"]"
      ],
      "metadata": {
        "id": "MbJ-arz-cZpE"
      },
      "execution_count": 21,
      "outputs": []
    },
    {
      "cell_type": "markdown",
      "source": [
        "a) Find the 3rd meaning of the word in the list."
      ],
      "metadata": {
        "id": "T6UjHmNrcmLw"
      }
    },
    {
      "cell_type": "code",
      "source": [
        "def find_third_meaning(words):\n",
        "    for word in words:\n",
        "        synsets = wordnet.synsets(word)\n",
        "        if synsets:\n",
        "            if len(synsets) >= 3:\n",
        "                third_meaning = synsets[2].definition()\n",
        "                print(\"3rd Meaning of '{}' is: {}\".format(word, third_meaning))\n",
        "            else:\n",
        "                print(\"Word '{}' has fewer than 3 meanings in WordNet.\".format(word))\n",
        "        else:\n",
        "            print(\"Word '{}' not found in WordNet.\".format(word))\n",
        "\n",
        "find_third_meaning(words)"
      ],
      "metadata": {
        "colab": {
          "base_uri": "https://localhost:8080/"
        },
        "id": "-MLPHLUmZUMw",
        "outputId": "5ad8331f-0258-4b73-bcab-2eb7669c45c2"
      },
      "execution_count": 22,
      "outputs": [
        {
          "output_type": "stream",
          "name": "stdout",
          "text": [
            "3rd Meaning of 'bear' is: have\n",
            "3rd Meaning of 'set' is: several exercises intended to be done in series\n",
            "3rd Meaning of 'square' is: an open area at the meeting of two or more streets\n",
            "3rd Meaning of 'lead' is: evidence pointing to a possible solution\n",
            "Word 'criteria' has fewer than 3 meanings in WordNet.\n"
          ]
        }
      ]
    },
    {
      "cell_type": "markdown",
      "source": [
        "b) Extract the nouns of the word from the synonyms list."
      ],
      "metadata": {
        "id": "bTB1wUROcpW-"
      }
    },
    {
      "cell_type": "code",
      "source": [
        "def extract_nouns(words):\n",
        "    for word in words:\n",
        "        synsets = wordnet.synsets(word)\n",
        "        if synsets:\n",
        "            nouns = [lemma.name() for synset in synsets for lemma in synset.lemmas() if synset.pos() == 'n']\n",
        "            if nouns:\n",
        "                print(\"Nouns of '{}': {}\".format(word, \", \".join(nouns[:5])))\n",
        "            else:\n",
        "                print(\"No nouns found for '{}'.\".format(word))\n",
        "        else:\n",
        "            print(\"Word '{}' not found in WordNet.\".format(word))\n",
        "\n",
        "extract_nouns(words)"
      ],
      "metadata": {
        "colab": {
          "base_uri": "https://localhost:8080/"
        },
        "id": "6dvRSytmZwyE",
        "outputId": "dd8306ea-399c-4788-b2d4-a2bb303018c8"
      },
      "execution_count": 23,
      "outputs": [
        {
          "output_type": "stream",
          "name": "stdout",
          "text": [
            "Nouns of 'bear': bear, bear\n",
            "Nouns of 'set': set, set, set, exercise_set, stage_set\n",
            "Nouns of 'square': square, foursquare, square, second_power, public_square\n",
            "Nouns of 'lead': lead, lead, Pb, atomic_number_82, lead\n",
            "Nouns of 'criteria': standard, criterion, measure, touchstone, criterion\n"
          ]
        }
      ]
    },
    {
      "cell_type": "markdown",
      "source": [
        "c) Extract the verbs of the word from the synonyms list."
      ],
      "metadata": {
        "id": "7Tl0xUzMdIPk"
      }
    },
    {
      "cell_type": "code",
      "source": [
        "def extract_verbs(words):\n",
        "    for word in words:\n",
        "        synsets = wordnet.synsets(word)\n",
        "        if synsets:\n",
        "            verbs = [lemma.name() for synset in synsets for lemma in synset.lemmas() if synset.pos() == 'v']\n",
        "            if verbs:\n",
        "                print(\"Verbs of '{}': {}\".format(word, \", \".join(verbs[:5])))\n",
        "            else:\n",
        "                print(\"No verbs found for '{}'.\".format(word))\n",
        "        else:\n",
        "            print(\"Word '{}' not found in WordNet.\".format(word))\n",
        "\n",
        "extract_verbs(words)"
      ],
      "metadata": {
        "colab": {
          "base_uri": "https://localhost:8080/"
        },
        "id": "wz7pmTucaQAR",
        "outputId": "d3120ad0-bea0-4e4e-9fb5-ac273f1b3fc3"
      },
      "execution_count": 24,
      "outputs": [
        {
          "output_type": "stream",
          "name": "stdout",
          "text": [
            "Verbs of 'bear': bear, give_birth, deliver, bear, birth\n",
            "Verbs of 'set': put, set, place, pose, position\n",
            "Verbs of 'square': square, square_up, square, square, square\n",
            "Verbs of 'lead': lead, take, direct, conduct, guide\n",
            "No verbs found for 'criteria'.\n"
          ]
        }
      ]
    },
    {
      "cell_type": "markdown",
      "source": [
        "d) Extract the adjectives of the word from the synonyms list."
      ],
      "metadata": {
        "id": "npzyvyEGdKRQ"
      }
    },
    {
      "cell_type": "code",
      "source": [
        "def extract_adjectives(words):\n",
        "    for word in words:\n",
        "        synsets = wordnet.synsets(word)\n",
        "        if synsets:\n",
        "            adjectives = [lemma.name() for synset in synsets for lemma in synset.lemmas() if synset.pos() == 'a']\n",
        "            if adjectives:\n",
        "                print(\"Adjectives of '{}': {}\".format(word, \", \".join(adjectives[:5])))\n",
        "            else:\n",
        "                print(\"No adjectives found for '{}'.\".format(word))\n",
        "        else:\n",
        "            print(\"Word '{}' not found in WordNet.\".format(word))\n",
        "\n",
        "extract_adjectives(words)"
      ],
      "metadata": {
        "colab": {
          "base_uri": "https://localhost:8080/"
        },
        "id": "VKAPBNosbXA5",
        "outputId": "598d0a0e-2a02-493f-a187-20f090a53b1c"
      },
      "execution_count": 25,
      "outputs": [
        {
          "output_type": "stream",
          "name": "stdout",
          "text": [
            "No adjectives found for 'bear'.\n",
            "No adjectives found for 'set'.\n",
            "Adjectives of 'square': square, straight, square\n",
            "No adjectives found for 'lead'.\n",
            "No adjectives found for 'criteria'.\n"
          ]
        }
      ]
    },
    {
      "cell_type": "markdown",
      "source": [
        "e) Extract the adverbs of the word from the synonyms list."
      ],
      "metadata": {
        "id": "d3ez4IrJdM7R"
      }
    },
    {
      "cell_type": "code",
      "source": [
        "def extract_adverbs(words):\n",
        "    for word in words:\n",
        "        synsets = wordnet.synsets(word)\n",
        "        if synsets:\n",
        "            adverbs = [lemma.name() for synset in synsets for lemma in synset.lemmas() if synset.pos() == 'r']\n",
        "            if adverbs:\n",
        "                print(\"Adverbs of '{}': {}\".format(word, \", \".join(adverbs[:5])))\n",
        "            else:\n",
        "                print(\"No adverbs found for '{}'.\".format(word))\n",
        "        else:\n",
        "            print(\"Word '{}' not found in WordNet.\".format(word))\n",
        "\n",
        "extract_adverbs(words)"
      ],
      "metadata": {
        "colab": {
          "base_uri": "https://localhost:8080/"
        },
        "id": "VqzDJnS-bZ-7",
        "outputId": "7574a889-345c-486d-9268-42c8813080e2"
      },
      "execution_count": 26,
      "outputs": [
        {
          "output_type": "stream",
          "name": "stdout",
          "text": [
            "No adverbs found for 'bear'.\n",
            "No adverbs found for 'set'.\n",
            "Adverbs of 'square': squarely, square, squarely, square, squarely\n",
            "No adverbs found for 'lead'.\n",
            "No adverbs found for 'criteria'.\n"
          ]
        }
      ]
    },
    {
      "cell_type": "markdown",
      "source": [
        "f) Extract the definition of the word."
      ],
      "metadata": {
        "id": "wur7Ja_FdQXA"
      }
    },
    {
      "cell_type": "code",
      "source": [
        "def extract_definition(words):\n",
        "    for word in words:\n",
        "        synsets = wordnet.synsets(word)\n",
        "        if synsets:\n",
        "            definition = synsets[0].definition()\n",
        "            print(\"Definition of '{}': {}\".format(word, definition))\n",
        "        else:\n",
        "            print(\"Word '{}' not found in WordNet.\".format(word))\n",
        "\n",
        "extract_definition(words)"
      ],
      "metadata": {
        "colab": {
          "base_uri": "https://localhost:8080/"
        },
        "id": "RCje16rxbc8c",
        "outputId": "de3faadc-8e3e-45cc-a189-4b6efa17044d"
      },
      "execution_count": 27,
      "outputs": [
        {
          "output_type": "stream",
          "name": "stdout",
          "text": [
            "Definition of 'bear': massive plantigrade carnivorous or omnivorous mammals with long shaggy coats and strong claws\n",
            "Definition of 'set': a group of things of the same kind that belong together and are so used\n",
            "Definition of 'square': (geometry) a plane rectangle with four equal sides and four right angles; a four-sided regular polygon\n",
            "Definition of 'lead': an advantage held by a competitor in a race\n",
            "Definition of 'criteria': a basis for comparison; a reference point against which other things can be evaluated\n"
          ]
        }
      ]
    },
    {
      "cell_type": "markdown",
      "source": [
        "g) Find the hypernyms of each word."
      ],
      "metadata": {
        "id": "NOoISwpmdTEE"
      }
    },
    {
      "cell_type": "code",
      "source": [
        "def find_hypernyms(words):\n",
        "    for word in words:\n",
        "        synsets = wordnet.synsets(word)\n",
        "        if synsets:\n",
        "            hypernyms = [hypo.name().split('.')[0] for synset in synsets for hypo in synset.hypernyms()]\n",
        "            if hypernyms:\n",
        "                print(\"Hypernyms of '{}': {}\".format(word, \", \".join(hypernyms[:5])))\n",
        "            else:\n",
        "                print(\"No hypernyms found for '{}'.\".format(word))\n",
        "        else:\n",
        "            print(\"Word '{}' not found in WordNet.\".format(word))\n",
        "\n",
        "find_hypernyms(words)"
      ],
      "metadata": {
        "colab": {
          "base_uri": "https://localhost:8080/"
        },
        "id": "GBRja89Pbp85",
        "outputId": "7ec901db-a6eb-4021-e67f-84b62fa41d61"
      },
      "execution_count": 28,
      "outputs": [
        {
          "output_type": "stream",
          "name": "stdout",
          "text": [
            "Hypernyms of 'bear': carnivore, investor, have, produce, permit\n",
            "Hypernyms of 'set': collection, abstraction, exercise, representation, social_group\n",
            "Hypernyms of 'square': rectangle, regular_polygon, number, tract, shape\n",
            "Hypernyms of 'lead': advantage, metallic_element, evidence, leadership, angle\n",
            "Hypernyms of 'criteria': system_of_measurement, ideal\n"
          ]
        }
      ]
    },
    {
      "cell_type": "markdown",
      "source": [
        "h) Find the hyponyms of each word."
      ],
      "metadata": {
        "id": "z68eONN2dVln"
      }
    },
    {
      "cell_type": "code",
      "source": [
        "def find_hyponyms(words):\n",
        "    for word in words:\n",
        "        synsets = wordnet.synsets(word)\n",
        "        if synsets:\n",
        "            hyponyms = [hypo.name().split('.')[0] for synset in synsets for hypo in synset.hyponyms()]\n",
        "            if hyponyms:\n",
        "                print(\"Hyponyms of '{}': {}\".format(word, \", \".join(hyponyms[:5])))\n",
        "            else:\n",
        "                print(\"No hyponyms found for '{}'.\".format(word))\n",
        "        else:\n",
        "            print(\"Word '{}' not found in WordNet.\".format(word))\n",
        "\n",
        "find_hyponyms(words)"
      ],
      "metadata": {
        "colab": {
          "base_uri": "https://localhost:8080/"
        },
        "id": "yDf_m7zHbvCk",
        "outputId": "e818eb67-dd3d-4f33-84f7-2caa980f1dbc"
      },
      "execution_count": 29,
      "outputs": [
        {
          "output_type": "stream",
          "name": "stdout",
          "text": [
            "Hyponyms of 'bear': american_black_bear, asiatic_black_bear, bear_cub, brown_bear, bruin\n",
            "Hyponyms of 'set': bracket, chess_set, choir, conjugation, core\n",
            "Hyponyms of 'square': quadrate, plaza, carpenter's_square, t-square, try_square\n",
            "Hyponyms of 'lead': hard_lead, hard_lead, pig_lead, co-star, film_star\n",
            "Hyponyms of 'criteria': baseline, benchmark, earned_run_average, gauge, grade_point_average\n"
          ]
        }
      ]
    },
    {
      "cell_type": "markdown",
      "source": [
        "i) Find the similarities of any two hyponyms of a word."
      ],
      "metadata": {
        "id": "OxMd7mrpdY3V"
      }
    },
    {
      "cell_type": "code",
      "source": [
        "def find_hyponym_similarities(words):\n",
        "    for word in words:\n",
        "        synsets = wordnet.synsets(word)\n",
        "        if synsets:\n",
        "            hyponyms = [hypo.name().split('.')[0] for synset in synsets for hypo in synset.hyponyms()]\n",
        "            if len(hyponyms) >= 2:\n",
        "                similarity = hyponyms[0] + \" and \" + hyponyms[1] + \" are similar in meaning.\"\n",
        "                print(\"Similarity of Hyponyms for '{}': {}\".format(word, similarity))\n",
        "            else:\n",
        "                print(\"Not enough hyponyms found for '{}'.\".format(word))\n",
        "        else:\n",
        "            print(\"Word '{}' not found in WordNet.\".format(word))\n",
        "\n",
        "find_hyponym_similarities(words)"
      ],
      "metadata": {
        "colab": {
          "base_uri": "https://localhost:8080/"
        },
        "id": "OaOkuWLobywQ",
        "outputId": "fac438dc-f590-452b-cf6d-55fd4f639460"
      },
      "execution_count": 30,
      "outputs": [
        {
          "output_type": "stream",
          "name": "stdout",
          "text": [
            "Similarity of Hyponyms for 'bear': american_black_bear and asiatic_black_bear are similar in meaning.\n",
            "Similarity of Hyponyms for 'set': bracket and chess_set are similar in meaning.\n",
            "Similarity of Hyponyms for 'square': quadrate and plaza are similar in meaning.\n",
            "Similarity of Hyponyms for 'lead': hard_lead and hard_lead are similar in meaning.\n",
            "Similarity of Hyponyms for 'criteria': baseline and benchmark are similar in meaning.\n"
          ]
        }
      ]
    }
  ]
}